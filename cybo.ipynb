{
 "cells": [
  {
   "cell_type": "code",
   "execution_count": 1,
   "metadata": {},
   "outputs": [],
   "source": [
    "import pandas as pd\n",
    "import numpy as np\n",
    "import chromedriver_autoinstaller\n",
    "import re\n",
    "import time\n",
    "from bs4 import BeautifulSoup\n",
    "from selenium import webdriver\n",
    "from tqdm import tqdm\n",
    "from selenium.webdriver.common.by import By\n",
    "from selenium.webdriver.chrome.service import Service\n",
    "from selenium.common.exceptions import NoSuchElementException\n",
    "from selenium.webdriver import ActionChains\n",
    "from webdriver_manager.chrome import ChromeDriverManager\n",
    "from selenium.webdriver.support.ui import Select\n",
    "from selenium import webdriver\n",
    "from selenium.webdriver.support.ui import WebDriverWait\n",
    "from selenium.webdriver.support import expected_conditions as EC"
   ]
  },
  {
   "cell_type": "code",
   "execution_count": 14,
   "metadata": {},
   "outputs": [],
   "source": [
    "url = lambda x: f\"https://www.cybo.com/UA/kiev-kiev/hotels-&-travel/?p={x}\"\n",
    "            \n",
    "chrome_ver = chromedriver_autoinstaller.get_chrome_version().split('.')[0]  #크롬드라이버 버전 확인\n",
    "chrome_options = webdriver.ChromeOptions()\n",
    "chrome_options.add_argument(\"--incognito\") # 시크릿 모드\n",
    "chrome_options.add_argument(\"--no-sandbox\") # 리소스에 대한 엑서스 방지\n",
    "chrome_options.add_argument(\"--disable-setuid-sandbox\") # 크롬 충돌 방지\n",
    "chrome_options.add_argument(\"--disable-dev-shm-usage\") # 메모리 부족 에러 방지\n",
    "chrome_options.add_experimental_option('excludeSwitches', ['enable-logging'])\n",
    "try: # 크롬 드라이버\n",
    "    driver = webdriver.Chrome(service=Service(ChromeDriverManager().install()), options=chrome_options)   \n",
    "except:\n",
    "    chromedriver_autoinstaller.install(True)\n",
    "    driver = webdriver.Chrome(service=Service(ChromeDriverManager().install()), options=chrome_options)\n",
    "        # WebDruverException Error 방지 기존의 드라이버 버젼으로 지정\n",
    "        # driver = webdriver.Chrome(executable_path='/Users/cmblir/Python/Musinsa-Analysis/100/chromedriver')\n"
   ]
  },
  {
   "cell_type": "code",
   "execution_count": 32,
   "metadata": {},
   "outputs": [],
   "source": [
    "link_lst = []\n",
    "map_lst = []\n",
    "for idx in range(1, 11):\n",
    "    driver.get(url(idx))\n",
    "    div_lst = driver.find_element(By.XPATH, '//*[@id=\"bottom\"]')\n",
    "    href_lst = div_lst.find_elements(By.TAG_NAME, 'a')\n",
    "    for href in href_lst:\n",
    "        link = href.get_attribute(\"href\")\n",
    "        if \"UA-biz\" in link and link not in link_lst: link_lst.append(link)\n",
    "        elif \"r/biz\" in link and link not in map_lst: map_lst.append(link)"
   ]
  },
  {
   "cell_type": "code",
   "execution_count": 33,
   "metadata": {},
   "outputs": [
    {
     "data": {
      "text/plain": [
       "100"
      ]
     },
     "execution_count": 33,
     "metadata": {},
     "output_type": "execute_result"
    }
   ],
   "source": [
    "len(link_lst)"
   ]
  },
  {
   "cell_type": "code",
   "execution_count": null,
   "metadata": {},
   "outputs": [],
   "source": [
    "company_df = pd.DataFrame()\n",
    "for link in tqdm(link_lst):\n",
    "    driver.get(link)\n",
    "    company_name = driver.find_element(By.XPATH, '//*[@id=\"content\"]/div[2]/div[1]/div/div/div/h1').text\n",
    "    company_address = driver.find_element(By.XPATH, '//*[@id=\"content\"]/div[2]/div[1]/div/div/div/div[2]').text\n",
    "    left_content = driver.find_element(By.XPATH, '//*[@id=\"left-contact\"]').text\n",
    "    lst_split = left_content.split(\"\\n\")\n",
    "    for idx in range(len(lst_split)):\n",
    "        if lst_split[idx-1] == \"Phone\": phone_number = lst_split[idx]\n",
    "        elif lst_split[idx-1] == \"Website \": company_url = lst_split[idx]\n",
    "    about = driver.find_element(By.XPATH, '//*[@id=\"right_col\"]/div[2]/div/div/div[1]/div').text\n",
    "    ISIC_code = driver.find_element(By.XPATH, '//*[@id=\"right_col\"]/div[2]/div/div/div[2]/div[2]/span[2]/span').text\n",
    "    categories = driver.find_element(By.XPATH, '//*[@id=\"right_col\"]/div[2]/div/div/div[2]/div[1]').text\n",
    "    company_dict = {\"company_name\" : company_name,\n",
    "                \"company_address\" : company_address,\n",
    "                \"phone_number\" : phone_number,\n",
    "                \"company_url\" : company_url,\n",
    "                \"about\" : about,\n",
    "                \"ISIC_code\" : ISIC_code,\n",
    "                \"categories\" : categories}\n",
    "    if company_df.empty : company_df = pd.DataFrame(company_dict, index=[0])\n",
    "    else: company_df = company_df.append(company_dict, ignore_index=True)"
   ]
  },
  {
   "cell_type": "code",
   "execution_count": 36,
   "metadata": {},
   "outputs": [],
   "source": [
    "company_df.to_csv(\"우크라이나.csv\", index=False)"
   ]
  },
  {
   "cell_type": "code",
   "execution_count": null,
   "metadata": {},
   "outputs": [],
   "source": []
  }
 ],
 "metadata": {
  "kernelspec": {
   "display_name": "BDC",
   "language": "python",
   "name": "python3"
  },
  "language_info": {
   "codemirror_mode": {
    "name": "ipython",
    "version": 3
   },
   "file_extension": ".py",
   "mimetype": "text/x-python",
   "name": "python",
   "nbconvert_exporter": "python",
   "pygments_lexer": "ipython3",
   "version": "3.10.9"
  },
  "orig_nbformat": 4
 },
 "nbformat": 4,
 "nbformat_minor": 2
}
