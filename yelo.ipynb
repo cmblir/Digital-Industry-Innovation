{
 "cells": [
  {
   "cell_type": "code",
   "execution_count": 1,
   "metadata": {},
   "outputs": [],
   "source": [
    "import pandas as pd\n",
    "import numpy as np\n",
    "import chromedriver_autoinstaller\n",
    "import re\n",
    "import time\n",
    "from bs4 import BeautifulSoup\n",
    "from selenium import webdriver\n",
    "from tqdm import tqdm\n",
    "from selenium.webdriver.common.by import By\n",
    "from selenium.webdriver.chrome.service import Service\n",
    "from selenium.common.exceptions import NoSuchElementException\n",
    "from selenium.webdriver import ActionChains\n",
    "from webdriver_manager.chrome import ChromeDriverManager\n",
    "from selenium.webdriver.support.ui import Select\n",
    "from selenium import webdriver\n",
    "from selenium.webdriver.support.ui import WebDriverWait\n",
    "from selenium.webdriver.support import expected_conditions as EC"
   ]
  },
  {
   "cell_type": "code",
   "execution_count": 2,
   "metadata": {},
   "outputs": [],
   "source": [
    "url = f\"https://www.yelo.by/location/%D0%9C%D0%B8%D0%BD%D1%81%D0%BA\"\n",
    "            \n",
    "chrome_ver = chromedriver_autoinstaller.get_chrome_version().split('.')[0]  #크롬드라이버 버전 확인\n",
    "chrome_options = webdriver.ChromeOptions()\n",
    "chrome_options.add_argument(\"--incognito\") # 시크릿 모드\n",
    "chrome_options.add_argument(\"--no-sandbox\") # 리소스에 대한 엑서스 방지\n",
    "chrome_options.add_argument(\"--disable-setuid-sandbox\") # 크롬 충돌 방지\n",
    "chrome_options.add_argument(\"--disable-dev-shm-usage\") # 메모리 부족 에러 방지\n",
    "chrome_options.add_experimental_option('excludeSwitches', ['enable-logging'])\n",
    "try: # 크롬 드라이버\n",
    "    driver = webdriver.Chrome(service=Service(ChromeDriverManager().install()), options=chrome_options)   \n",
    "except:\n",
    "    chromedriver_autoinstaller.install(True)\n",
    "    driver = webdriver.Chrome(service=Service(ChromeDriverManager().install()), options=chrome_options)\n",
    "        # WebDruverException Error 방지 기존의 드라이버 버젼으로 지정\n",
    "        # driver = webdriver.Chrome(executable_path='/Users/cmblir/Python/Musinsa-Analysis/100/chromedriver')\n"
   ]
  },
  {
   "cell_type": "code",
   "execution_count": null,
   "metadata": {},
   "outputs": [],
   "source": [
    "df = pd.DataFrame()\n",
    "for idx in tqdm(range(1, 576)):\n",
    "    try:\n",
    "        if idx == 1:\n",
    "            driver.get(url)\n",
    "        else: driver.get(url + f\"/{idx}\")\n",
    "        href_lst = driver.find_element(By.XPATH, '//*[@id=\"listings\"]')\n",
    "        company_link_lst = []\n",
    "        for hrefs in href_lst.find_elements(By.TAG_NAME, \"a\"):\n",
    "            href = hrefs.get_attribute(\"href\")\n",
    "            if \"company\" in href and \"reviews\" not in href and href not in company_link_lst:\n",
    "                company_link_lst.append(href)\n",
    "        for company_link in company_link_lst:\n",
    "            driver.get(company_link)\n",
    "            div_lst = driver.find_elements(By.TAG_NAME, \"div\")\n",
    "            lst = []\n",
    "            for div in div_lst:\n",
    "                if div.get_attribute('class') == 'info': lst.append(div.text)\n",
    "            company_name = lst[0].split(\"\\n\")[1]\n",
    "            append_df = pd.DataFrame({company_name : lst[1:]})\n",
    "            df = pd.concat([df, append_df], axis=1)\n",
    "            print(f\"appended {company_name}\")\n",
    "    except:\n",
    "        print(\"Nahh\")"
   ]
  },
  {
   "cell_type": "code",
   "execution_count": 4,
   "metadata": {},
   "outputs": [],
   "source": [
    "df.to_csv(\"벨라루스.csv\", index=False)"
   ]
  },
  {
   "cell_type": "code",
   "execution_count": null,
   "metadata": {},
   "outputs": [],
   "source": [
    "company_lst = list(df.columns)\n",
    "new_df = pd.DataFrame()\n",
    "fail_lst = []\n",
    "for row in company_lst:\n",
    "    column_dict = {}\n",
    "    for idx in range(len(df[row])):\n",
    "        column_dict[\"COMPANY NAME\"] = row\n",
    "        try:\n",
    "            if \"ADDRESS\\n\" in df[row][idx]: column_dict[\"ADDRESS\"] = df[row][idx].replace(\"ADDRESS\\n\", \"\")\n",
    "            elif \"PHONE NUMBER\\n\" in df[row][idx]: column_dict[\"PHONE NUMBER\"] = df[row][idx].replace(\"PHONE NUMBER\\n\", \"\")\n",
    "            elif \"MOBILE PHONE\\n\" in df[row][idx]: column_dict[\"MOBILE PHONE\"] = df[row][idx].replace(\"MOBILE PHONE\\n\", \"\")\n",
    "            elif \"WEBSITE\\n\" in df[row][idx]: column_dict[\"WEBSITE\"] = df[row][idx].replace(\"WEBSITE\\n\", \"\")\n",
    "            elif \"ESTABLISHMENT YEAR\" in df[row][idx]: column_dict[\"ESTABLISHMENT YEAR\"] = df[row][idx].split()[-1]\n",
    "            elif \"EMPLOYEES\" in df[row][idx]: column_dict[\"EMPLOYEES\"] = df[row][idx].split()[-1]\n",
    "            elif \"COMPANY MANAGER\" in df[row][idx]: column_dict[\"COMPANY MANAGER\"] = \"\".join(df[row][idx].split()[2:])\n",
    "            elif \"EMAIL\" in df[row][idx]: column_dict[\"EMAIL\"] = df[row][idx].replace(\"EMAIL\\n\", \"\")\n",
    "            elif \"DESCRIPTION\\n\" in df[row][idx]: column_dict[\"DESCRIPTION\"] = df[row][idx].replace(\"DESCRIPTION\\n\", \"\")\n",
    "            elif \"WORKING HOURS\\n\" in df[row][idx]: column_dict[\"WORKING HOURS\"] = df[row][idx].replace(\"WORKING HOURS\\n\", \"\")\n",
    "            elif \"PRODUCTS & SERVICES\\n\" in df[row][idx]: column_dict[\"PRODUCTS & SERVICES\"] = df[row][idx].replace(\"PRODUCTS & SERVICES\\n\", \"\")\n",
    "            elif \"LISTED IN CATEGORIES\\n\" in df[row][idx]: column_dict[\"LISTED IN CATEGORIES\"] = df[row][idx].replace(\"LISTED IN CATEGORIES\\n\", \"\")\n",
    "            elif \"KEYWORDS\\n\" in df[row][idx]: column_dict[\"KEYWORDS\"] = df[row][idx].replace(\"KEYWORDS\\n\", \"\")\n",
    "            elif \"Related Companies to\" in df[row][idx]: column_dict[\"Related Companies\"] = df[row][idx].split()[2:]\n",
    "            elif \"CONTACT PERSON\\n\" in df[row][idx]: column_dict[\"CONTACT PERSON\"] = df[row][idx].replace(\"CONTACT PERSON\\n\", \"\")\n",
    "            elif \"FAX\\n\" in df[row][idx]: column_dict[\"FAX\"] = df[row][idx].replace(\"FAX\\n\", \"\")\n",
    "            elif \"REGISTRATION CODE\" in df[row][idx]: column_dict[\"REGISTRATION CODE\"] = df[row][idx].split()[-1]\n",
    "            elif \"VAT REGISTRATION\" in df[row][idx]: column_dict[\"VAT REGISTRATION\"] = df[row][idx].split()[-1]\n",
    "            else: \n",
    "                if \"nan\" not in df[row][idx]:\n",
    "                    print(df[row][idx])\n",
    "        except:\n",
    "            pass\n",
    "    new_df = new_df.append(column_dict, ignore_index=True)"
   ]
  },
  {
   "cell_type": "code",
   "execution_count": null,
   "metadata": {},
   "outputs": [],
   "source": [
    "new_df.to_csv(\"3차년도\")"
   ]
  }
 ],
 "metadata": {
  "kernelspec": {
   "display_name": "BDC",
   "language": "python",
   "name": "python3"
  },
  "language_info": {
   "codemirror_mode": {
    "name": "ipython",
    "version": 3
   },
   "file_extension": ".py",
   "mimetype": "text/x-python",
   "name": "python",
   "nbconvert_exporter": "python",
   "pygments_lexer": "ipython3",
   "version": "3.10.9"
  },
  "orig_nbformat": 4
 },
 "nbformat": 4,
 "nbformat_minor": 2
}
