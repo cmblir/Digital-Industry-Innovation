{
 "cells": [
  {
   "attachments": {},
   "cell_type": "markdown",
   "metadata": {},
   "source": [
    "# DATABASE TABLE MAKE"
   ]
  },
  {
   "cell_type": "code",
   "execution_count": 1,
   "metadata": {},
   "outputs": [],
   "source": [
    "import pandas as pd"
   ]
  },
  {
   "cell_type": "code",
   "execution_count": 2,
   "metadata": {},
   "outputs": [],
   "source": [
    "import pandas as pd\n",
    "\n",
    "df_list = []\n",
    "for sheet_num in range(5):\n",
    "    df_dict = {}\n",
    "    df = pd.read_excel('2023_BDC_3차년도 테이블정의서_Nick.xlsx', sheet_name=sheet_num)\n",
    "    for key, value in zip(df[\"표준컬럼 영문명\"], df[\"표준 데이터타입\"]):\n",
    "        df_dict[key] = value\n",
    "    df_list.append([sheet_num, df_dict])"
   ]
  },
  {
   "cell_type": "code",
   "execution_count": 1,
   "metadata": {},
   "outputs": [],
   "source": [
    "import os\n",
    "import sys\n",
    "import pandas as pd\n",
    "sys.path.append(os.path.dirname(os.path.abspath(os.path.dirname(\"ETL\"))))"
   ]
  },
  {
   "cell_type": "code",
   "execution_count": 4,
   "metadata": {},
   "outputs": [
    {
     "ename": "ModuleNotFoundError",
     "evalue": "No module named 'ETL'",
     "output_type": "error",
     "traceback": [
      "\u001b[1;31m---------------------------------------------------------------------------\u001b[0m",
      "\u001b[1;31mModuleNotFoundError\u001b[0m                       Traceback (most recent call last)",
      "Cell \u001b[1;32mIn[4], line 1\u001b[0m\n\u001b[1;32m----> 1\u001b[0m \u001b[39mfrom\u001b[39;00m \u001b[39mETL\u001b[39;00m \u001b[39mimport\u001b[39;00m EL\n",
      "\u001b[1;31mModuleNotFoundError\u001b[0m: No module named 'ETL'"
     ]
    }
   ],
   "source": [
    "from ETL import EL"
   ]
  },
  {
   "cell_type": "code",
   "execution_count": 22,
   "metadata": {},
   "outputs": [],
   "source": [
    "load = EL.DataLoad()"
   ]
  },
  {
   "cell_type": "code",
   "execution_count": 23,
   "metadata": {},
   "outputs": [],
   "source": [
    "load.Login(\"postgres\", \"1234\", \"211.245.172.58\", \"5432\", \"nia_test\")"
   ]
  },
  {
   "cell_type": "code",
   "execution_count": 24,
   "metadata": {},
   "outputs": [],
   "source": [
    "import psycopg2\n",
    "conn = psycopg2.connect(load.url)"
   ]
  },
  {
   "cell_type": "code",
   "execution_count": 25,
   "metadata": {},
   "outputs": [],
   "source": [
    "cur = conn.cursor()\n",
    "for idx in range(len(df_list)):\n",
    "    table_name = f\"tb_hb_kor_test_{idx}\"\n",
    "    column_data_types = df_list[idx][1]\n",
    "    columns = ', '.join([f'{column} {data_type}' for column, data_type in column_data_types.items()])\n",
    "    create_table_query = f\"CREATE TABLE {table_name} ({columns})\"\n",
    "    cur.execute(create_table_query)\n",
    "\n",
    "    # 커밋\n",
    "    conn.commit()"
   ]
  },
  {
   "attachments": {},
   "cell_type": "markdown",
   "metadata": {},
   "source": [
    "# DATABASE TABLE DELETE"
   ]
  },
  {
   "cell_type": "code",
   "execution_count": 26,
   "metadata": {},
   "outputs": [],
   "source": [
    "for idx in range(len(df_list)):\n",
    "    table_name = f\"tb_hb_kor_test_{idx}\"\n",
    "    drop_table_query = f\"DROP TABLE IF EXISTS {table_name}\"\n",
    "\n",
    "    # 테이블 삭제\n",
    "    cur.execute(drop_table_query)\n",
    "\n",
    "    # 커밋\n",
    "    conn.commit()"
   ]
  },
  {
   "attachments": {},
   "cell_type": "markdown",
   "metadata": {},
   "source": [
    "# DATA HANDLING"
   ]
  },
  {
   "cell_type": "code",
   "execution_count": 29,
   "metadata": {},
   "outputs": [],
   "source": [
    "import pandas as pd\n",
    "from tqdm import tqdm\n",
    "import re"
   ]
  },
  {
   "cell_type": "code",
   "execution_count": 30,
   "metadata": {},
   "outputs": [],
   "source": [
    "df = pd.read_excel('2023_BDC_3차년도 테이블정의서_Nick.xlsx', sheet_name=1)"
   ]
  },
  {
   "cell_type": "code",
   "execution_count": 31,
   "metadata": {},
   "outputs": [],
   "source": [
    "def make_ev_dict(df) -> pd.DataFrame:\n",
    "    ev_dict = {}\n",
    "    for key, value in zip(df[\"표준컬럼 영문명\"], df[\"표준 데이터타입\"]):\n",
    "        ev_dict[key] = value\n",
    "    columns = [x.lower() for x in df[\"표준컬럼 영문명\"]]\n",
    "    return ev_dict, pd.DataFrame(columns=columns)"
   ]
  },
  {
   "cell_type": "code",
   "execution_count": 32,
   "metadata": {},
   "outputs": [],
   "source": [
    "korea_ev_info = make_ev_dict(pd.read_excel('2023_BDC_3차년도 테이블정의서_Nick.xlsx', sheet_name=1))[0]\n",
    "korea_ev_info_df = make_ev_dict(pd.read_excel('2023_BDC_3차년도 테이블정의서_Nick.xlsx', sheet_name=1))[1]\n",
    "korea_ev_finan = make_ev_dict(pd.read_excel('2023_BDC_3차년도 테이블정의서_Nick.xlsx', sheet_name=0))[0]\n",
    "korea_ev_finan_df = make_ev_dict(pd.read_excel('2023_BDC_3차년도 테이블정의서_Nick.xlsx', sheet_name=0))[1]\n",
    "global_ev_info = make_ev_dict(pd.read_excel('2023_BDC_3차년도 테이블정의서_Nick.xlsx', sheet_name=3))[0]\n",
    "global_ev_info_df = make_ev_dict(pd.read_excel('2023_BDC_3차년도 테이블정의서_Nick.xlsx', sheet_name=3))[1]\n",
    "global_ev_finan = make_ev_dict(pd.read_excel('2023_BDC_3차년도 테이블정의서_Nick.xlsx', sheet_name=2))[0]\n",
    "global_ev_finan_df = make_ev_dict(pd.read_excel('2023_BDC_3차년도 테이블정의서_Nick.xlsx', sheet_name=2))[1]\n",
    "third_info = make_ev_dict(pd.read_excel('2023_BDC_3차년도 테이블정의서_Nick.xlsx', sheet_name=4))[0]\n",
    "third_info_df = make_ev_dict(pd.read_excel('2023_BDC_3차년도 테이블정의서_Nick.xlsx', sheet_name=4))[1]"
   ]
  },
  {
   "cell_type": "code",
   "execution_count": 33,
   "metadata": {},
   "outputs": [],
   "source": [
    "respond_df = pd.read_excel(\"3차년도_대응표.xlsx\")"
   ]
  },
  {
   "cell_type": "code",
   "execution_count": 34,
   "metadata": {},
   "outputs": [],
   "source": [
    "import os\n",
    "second_finan_lst = \"C:/Users/user/Desktop/유신영 업무폴더/BDC/1_BDC 데이터 정리/13_2023년 3분기/131_2023년 3분기 3차년도/2023년 3분기 3차년도 재무정보/데이터베이스 적재/\"\n",
    "finan_lst = os.listdir(second_finan_lst)"
   ]
  },
  {
   "cell_type": "code",
   "execution_count": 35,
   "metadata": {},
   "outputs": [],
   "source": [
    "append_base_df = pd.read_excel(second_finan_lst + \"tb_hb_kor_plcfi_d.xlsx\")"
   ]
  },
  {
   "cell_type": "code",
   "execution_count": 36,
   "metadata": {},
   "outputs": [],
   "source": [
    "filtered_df = respond_df[[\"2차년도_한국_재무_영문\", \"3차년도_한국_재무_영문\"]].dropna()\n",
    "append_df = append_base_df[filtered_df[\"2차년도_한국_재무_영문\"]]\n",
    "filtered_dict = {}\n",
    "for key, value in zip(filtered_df[\"2차년도_한국_재무_영문\"], filtered_df[\"3차년도_한국_재무_영문\"]):\n",
    "    filtered_dict[key] = value.lower()\n",
    "append_base_df = append_df.rename(columns= filtered_dict)\n",
    "# korea_ev_finan_df = korea_ev_finan_df.append(append_df)\n",
    "# korea_ev_finan_df = korea_ev_finan_df.reset_index(drop=True)"
   ]
  },
  {
   "attachments": {},
   "cell_type": "markdown",
   "metadata": {},
   "source": [
    "# INFORMATION DF TRANSFORM"
   ]
  },
  {
   "cell_type": "code",
   "execution_count": 10,
   "metadata": {},
   "outputs": [
    {
     "name": "stderr",
     "output_type": "stream",
     "text": [
      "C:\\Users\\user\\AppData\\Local\\Temp\\ipykernel_31920\\2205498205.py:11: SettingWithCopyWarning: \n",
      "A value is trying to be set on a copy of a slice from a DataFrame\n",
      "\n",
      "See the caveats in the documentation: https://pandas.pydata.org/pandas-docs/stable/user_guide/indexing.html#returning-a-view-versus-a-copy\n",
      "  info_korea[\"lstng_cd\"][idx] = int(info_korea[\"lstng_cd\"][idx])\n"
     ]
    }
   ],
   "source": [
    "info_korea = pd.read_excel(\"한국_3차년도_재무정보_일반.xlsx\")\n",
    "info_korea = info_korea[info_korea[\"status\"] == 0]\n",
    "respond_df_info = respond_df[[\"DART_한국_일반정보\", \"DART_한국_대응정보\"]].dropna()\n",
    "info_korea = info_korea[respond_df_info[\"DART_한국_일반정보\"]]\n",
    "info_korea_dict = {}\n",
    "for key, value in zip(respond_df_info[\"DART_한국_일반정보\"], respond_df_info[\"DART_한국_대응정보\"]):\n",
    "    info_korea_dict[key] = value.lower()\n",
    "info_korea = info_korea.rename(columns=info_korea_dict)\n",
    "info_korea = info_korea.reset_index(drop=True)\n",
    "for idx in range(len(info_korea[\"lstng_cd\"])):\n",
    "    info_korea[\"lstng_cd\"][idx] = int(info_korea[\"lstng_cd\"][idx])"
   ]
  },
  {
   "cell_type": "code",
   "execution_count": 11,
   "metadata": {},
   "outputs": [],
   "source": [
    "for idx in range(len(korea_ev_finan_df)):\n",
    "    symbol = korea_ev_finan_df[\"lstng_cd\"][idx]\n",
    "    append_df = info_korea[info_korea[\"lstng_cd\"] == symbol]\n",
    "    if not append_df.empty:\n",
    "        korea_ev_finan_df.loc[idx, list(append_df.columns)] = append_df.values[0]"
   ]
  },
  {
   "cell_type": "code",
   "execution_count": 12,
   "metadata": {},
   "outputs": [],
   "source": [
    "korea_ev_finan_df.to_excel(\"test.xlsx\", index=False)"
   ]
  },
  {
   "cell_type": "code",
   "execution_count": 38,
   "metadata": {},
   "outputs": [],
   "source": [
    "korea_stock = pd.read_csv(\"C:/Users/user/Desktop/유신영 업무폴더/BDC/1_BDC 데이터 정리/13_2023년 3분기/131_2023년 3분기 3차년도/2023년 3분기 3차년도 시가총액정보/가공후/korea/korea.csv\")"
   ]
  },
  {
   "cell_type": "code",
   "execution_count": 39,
   "metadata": {},
   "outputs": [],
   "source": [
    "korea_stock_dict = {\"Date\":\"stndd_dt\",\n",
    "                    \"Code\":\"lstng_cd\",\n",
    "                    \"Open\":\"stock_start\",\n",
    "                    \"Close\":\"stock_end\",\n",
    "                    \"High\":\"stock_high\",\n",
    "                    \"Low\":\"stock_low\",\n",
    "                    \"Marcap\":\"mrprc_ttamt\"}"
   ]
  },
  {
   "cell_type": "code",
   "execution_count": 40,
   "metadata": {},
   "outputs": [],
   "source": [
    "korea_stock = korea_stock.rename(columns= korea_stock_dict)"
   ]
  },
  {
   "cell_type": "code",
   "execution_count": 41,
   "metadata": {},
   "outputs": [],
   "source": [
    "korea_stock[\"stock_avg\"] = (korea_stock[\"stock_high\"] + korea_stock[\"stock_low\"]) // 2"
   ]
  },
  {
   "cell_type": "code",
   "execution_count": 17,
   "metadata": {},
   "outputs": [],
   "source": [
    "korea_stock = korea_stock[[\"stndd_dt\", \"lstng_cd\", \"stock_start\", \"stock_high\", \"stock_low\", \"stock_end\", \"stock_avg\", \"mrprc_ttamt\"]]"
   ]
  },
  {
   "cell_type": "code",
   "execution_count": 44,
   "metadata": {},
   "outputs": [],
   "source": [
    "symbol_lst = [int(x) for x in set(korea_stock[\"lstng_cd\"]) if not re.search(r\"[a-zA-Z]\", x)]"
   ]
  },
  {
   "cell_type": "code",
   "execution_count": 45,
   "metadata": {},
   "outputs": [],
   "source": [
    "duplicated_symbol = set(list(symbol_lst)) & set(list(info_korea[\"lstng_cd\"]))"
   ]
  },
  {
   "cell_type": "code",
   "execution_count": 46,
   "metadata": {},
   "outputs": [
    {
     "data": {
      "text/plain": [
       "{100090.0,\n",
       " 100120.0,\n",
       " 100130.0,\n",
       " 100220.0,\n",
       " 100250.0,\n",
       " 100700.0,\n",
       " 100840.0,\n",
       " 101000.0,\n",
       " 101160.0,\n",
       " 101170.0,\n",
       " 101360.0,\n",
       " 101400.0,\n",
       " 101490.0,\n",
       " 101530.0,\n",
       " 101670.0,\n",
       " 101730.0,\n",
       " 101930.0,\n",
       " 102120.0,\n",
       " 102260.0,\n",
       " 102280.0,\n",
       " 102370.0,\n",
       " 102460.0,\n",
       " 102710.0,\n",
       " 102940.0,\n",
       " 103140.0,\n",
       " 103590.0,\n",
       " 104460.0,\n",
       " 104540.0,\n",
       " 104620.0,\n",
       " 104830.0,\n",
       " 105330.0,\n",
       " 105630.0,\n",
       " 105740.0,\n",
       " 106080.0,\n",
       " 106240.0,\n",
       " 106520.0,\n",
       " 107590.0,\n",
       " 108230.0,\n",
       " 108320.0,\n",
       " 108380.0,\n",
       " 108490.0,\n",
       " 108670.0,\n",
       " 108860.0,\n",
       " 109070.0,\n",
       " 109860.0,\n",
       " 109960.0,\n",
       " 110790.0,\n",
       " 110990.0,\n",
       " 111110.0,\n",
       " 111770.0,\n",
       " 111870.0,\n",
       " 112040.0,\n",
       " 112610.0,\n",
       " 113810.0,\n",
       " 114090.0,\n",
       " 114120.0,\n",
       " 114190.0,\n",
       " 114630.0,\n",
       " 114810.0,\n",
       " 115180.0,\n",
       " 115310.0,\n",
       " 115390.0,\n",
       " 115450.0,\n",
       " 115480.0,\n",
       " 115530.0,\n",
       " 115570.0,\n",
       " 117580.0,\n",
       " 117670.0,\n",
       " 117730.0,\n",
       " 118000.0,\n",
       " 118990.0,\n",
       " 119610.0,\n",
       " 119650.0,\n",
       " 119850.0,\n",
       " 119860.0,\n",
       " 120110.0,\n",
       " 121440.0,\n",
       " 121600.0,\n",
       " 121800.0,\n",
       " 121850.0,\n",
       " 122310.0,\n",
       " 122350.0,\n",
       " 122450.0,\n",
       " 122640.0,\n",
       " 122870.0,\n",
       " 122900.0,\n",
       " 122990.0,\n",
       " 123040.0,\n",
       " 123330.0,\n",
       " 123420.0,\n",
       " 123570.0,\n",
       " 123690.0,\n",
       " 123840.0,\n",
       " 124500.0,\n",
       " 124560.0,\n",
       " 126340.0,\n",
       " 126560.0,\n",
       " 126600.0,\n",
       " 126720.0,\n",
       " 126880.0,\n",
       " 127120.0,\n",
       " 127710.0,\n",
       " 128540.0,\n",
       " 128940.0,\n",
       " 129260.0,\n",
       " 129890.0,\n",
       " 130500.0,\n",
       " 130580.0,\n",
       " 130660.0,\n",
       " 130740.0,\n",
       " 131090.0,\n",
       " 131100.0,\n",
       " 131180.0,\n",
       " 131220.0,\n",
       " 131400.0,\n",
       " 133750.0,\n",
       " 134580.0,\n",
       " 134790.0,\n",
       " 136410.0,\n",
       " 136480.0,\n",
       " 136510.0,\n",
       " 137080.0,\n",
       " 137310.0,\n",
       " 137940.0,\n",
       " 137950.0,\n",
       " 138070.0,\n",
       " 138080.0,\n",
       " 138490.0,\n",
       " 138580.0,\n",
       " 138690.0,\n",
       " 139050.0,\n",
       " 139480.0,\n",
       " 139670.0,\n",
       " 139990.0,\n",
       " 140070.0,\n",
       " 140410.0,\n",
       " 140670.0,\n",
       " 140860.0,\n",
       " 141000.0,\n",
       " 141020.0,\n",
       " 141080.0,\n",
       " 142210.0,\n",
       " 142280.0,\n",
       " 143210.0,\n",
       " 143240.0,\n",
       " 143540.0,\n",
       " 144510.0,\n",
       " 144960.0,\n",
       " 145210.0,\n",
       " 145270.0,\n",
       " 145720.0,\n",
       " 146320.0,\n",
       " 148140.0,\n",
       " 148150.0,\n",
       " 148250.0,\n",
       " 148780.0,\n",
       " 148930.0,\n",
       " 149980.0,\n",
       " 150840.0,\n",
       " 150900.0,\n",
       " 151860.0,\n",
       " 151910.0,\n",
       " 153490.0,\n",
       " 154030.0,\n",
       " 154040.0,\n",
       " 155650.0,\n",
       " 155660.0,\n",
       " 155900.0,\n",
       " 156100.0,\n",
       " 158430.0,\n",
       " 159010.0,\n",
       " 159580.0,\n",
       " 159910.0,\n",
       " 160550.0,\n",
       " 160600.0,\n",
       " 160980.0,\n",
       " 161000.0,\n",
       " 161390.0,\n",
       " 161570.0,\n",
       " 161580.0,\n",
       " 161890.0,\n",
       " 163560.0,\n",
       " 163730.0,\n",
       " 166480.0,\n",
       " 168330.0,\n",
       " 170030.0,\n",
       " 170900.0,\n",
       " 171010.0,\n",
       " 171090.0,\n",
       " 173130.0,\n",
       " 173940.0,\n",
       " 174880.0,\n",
       " 175140.0,\n",
       " 175250.0,\n",
       " 177830.0,\n",
       " 178320.0,\n",
       " 178780.0,\n",
       " 179530.0,\n",
       " 179900.0,\n",
       " 180400.0,\n",
       " 180640.0,\n",
       " 181340.0,\n",
       " 182360.0,\n",
       " 183190.0,\n",
       " 183300.0,\n",
       " 183490.0,\n",
       " 184230.0,\n",
       " 185490.0,\n",
       " 185750.0,\n",
       " 186230.0,\n",
       " 187220.0,\n",
       " 187270.0,\n",
       " 187420.0,\n",
       " 187660.0,\n",
       " 187870.0,\n",
       " 189300.0,\n",
       " 189690.0,\n",
       " 190510.0,\n",
       " 191410.0,\n",
       " 191420.0,\n",
       " 192080.0,\n",
       " 192390.0,\n",
       " 192400.0,\n",
       " 192410.0,\n",
       " 192440.0,\n",
       " 192820.0,\n",
       " 193250.0,\n",
       " 194370.0,\n",
       " 194480.0,\n",
       " 194700.0,\n",
       " 195870.0,\n",
       " 195940.0,\n",
       " 195990.0,\n",
       " 196170.0,\n",
       " 196490.0,\n",
       " 196700.0,\n",
       " 197140.0,\n",
       " 199800.0,\n",
       " 200230.0,\n",
       " 200350.0,\n",
       " 200710.0,\n",
       " 200780.0,\n",
       " 200880.0,\n",
       " 201490.0,\n",
       " 203400.0,\n",
       " 203450.0,\n",
       " 204020.0,\n",
       " 204270.0,\n",
       " 204320.0,\n",
       " 204630.0,\n",
       " 206400.0,\n",
       " 206560.0,\n",
       " 206650.0,\n",
       " 207940.0,\n",
       " 208340.0,\n",
       " 208370.0,\n",
       " 208710.0,\n",
       " 210540.0,\n",
       " 210980.0,\n",
       " 211050.0,\n",
       " 213420.0,\n",
       " 213500.0,\n",
       " 214180.0,\n",
       " 214260.0,\n",
       " 214270.0,\n",
       " 214310.0,\n",
       " 214320.0,\n",
       " 214330.0,\n",
       " 214370.0,\n",
       " 214420.0,\n",
       " 214450.0,\n",
       " 214870.0,\n",
       " 215000.0,\n",
       " 215200.0,\n",
       " 215600.0,\n",
       " 215790.0,\n",
       " 216050.0,\n",
       " 217190.0,\n",
       " 217330.0,\n",
       " 217480.0,\n",
       " 217620.0,\n",
       " 217730.0,\n",
       " 217820.0,\n",
       " 218150.0,\n",
       " 218410.0,\n",
       " 219420.0,\n",
       " 219550.0,\n",
       " 219750.0,\n",
       " 220100.0,\n",
       " 221840.0,\n",
       " 222040.0,\n",
       " 222160.0,\n",
       " 222800.0,\n",
       " 222810.0,\n",
       " 222980.0,\n",
       " 223250.0,\n",
       " 223310.0,\n",
       " 224060.0,\n",
       " 224110.0,\n",
       " 225190.0,\n",
       " 225570.0,\n",
       " 226320.0,\n",
       " 226330.0,\n",
       " 226360.0,\n",
       " 226400.0,\n",
       " 227100.0,\n",
       " 227610.0,\n",
       " 227840.0,\n",
       " 227950.0,\n",
       " 228670.0,\n",
       " 228760.0,\n",
       " 228850.0,\n",
       " 229000.0,\n",
       " 229640.0,\n",
       " 230360.0,\n",
       " 230980.0,\n",
       " 234080.0,\n",
       " 234100.0,\n",
       " 234300.0,\n",
       " 234340.0,\n",
       " 235980.0,\n",
       " 236200.0,\n",
       " 236810.0,\n",
       " 237690.0,\n",
       " 237880.0,\n",
       " 238090.0,\n",
       " 238120.0,\n",
       " 238200.0,\n",
       " 239610.0,\n",
       " 240810.0,\n",
       " 241560.0,\n",
       " 241590.0,\n",
       " 241690.0,\n",
       " 241710.0,\n",
       " 241770.0,\n",
       " 241790.0,\n",
       " 241820.0,\n",
       " 241840.0,\n",
       " 243840.0,\n",
       " 244460.0,\n",
       " 244920.0,\n",
       " 245620.0,\n",
       " 246720.0,\n",
       " 246960.0,\n",
       " 247540.0,\n",
       " 248070.0,\n",
       " 248170.0,\n",
       " 249420.0,\n",
       " 250000.0,\n",
       " 251370.0,\n",
       " 251630.0,\n",
       " 251970.0,\n",
       " 253450.0,\n",
       " 253840.0,\n",
       " 255220.0,\n",
       " 255440.0,\n",
       " 257720.0,\n",
       " 258610.0,\n",
       " 258830.0,\n",
       " 259960.0,\n",
       " 262840.0,\n",
       " 263020.0,\n",
       " 263050.0,\n",
       " 263600.0,\n",
       " 263690.0,\n",
       " 263700.0,\n",
       " 263720.0,\n",
       " 263750.0,\n",
       " 263810.0,\n",
       " 263860.0,\n",
       " 264450.0,\n",
       " 264660.0,\n",
       " 265520.0,\n",
       " 265560.0,\n",
       " 265740.0,\n",
       " 267250.0,\n",
       " 267260.0,\n",
       " 267270.0,\n",
       " 267290.0,\n",
       " 267790.0,\n",
       " 267980.0,\n",
       " 268280.0,\n",
       " 268600.0,\n",
       " 269620.0,\n",
       " 270870.0,\n",
       " 271980.0,\n",
       " 272110.0,\n",
       " 272210.0,\n",
       " 272290.0,\n",
       " 274090.0,\n",
       " 276040.0,\n",
       " 276730.0,\n",
       " 277070.0,\n",
       " 277810.0,\n",
       " 278650.0,\n",
       " 280360.0,\n",
       " 282330.0,\n",
       " 282690.0,\n",
       " 282880.0,\n",
       " 285130.0,\n",
       " 285490.0,\n",
       " 286750.0,\n",
       " 286940.0,\n",
       " 288620.0,\n",
       " 288980.0,\n",
       " 289220.0,\n",
       " 290090.0,\n",
       " 290120.0,\n",
       " 290270.0,\n",
       " 290520.0,\n",
       " 290650.0,\n",
       " 290660.0,\n",
       " 290720.0,\n",
       " 290740.0,\n",
       " 293490.0,\n",
       " 293940.0,\n",
       " 294090.0,\n",
       " 294570.0,\n",
       " 294870.0,\n",
       " 296640.0,\n",
       " 297090.0,\n",
       " 297890.0,\n",
       " 298000.0,\n",
       " 298020.0,\n",
       " 298040.0,\n",
       " 298050.0,\n",
       " 298380.0,\n",
       " 298540.0,\n",
       " 299900.0,\n",
       " 299910.0,\n",
       " 300080.0,\n",
       " 300120.0,\n",
       " 300720.0,\n",
       " 301300.0,\n",
       " 302430.0,\n",
       " 302550.0,\n",
       " 304100.0,\n",
       " 304840.0,\n",
       " 306040.0,\n",
       " 307950.0,\n",
       " 308080.0,\n",
       " 308100.0,\n",
       " 308170.0,\n",
       " 310210.0,\n",
       " 311390.0,\n",
       " 311690.0,\n",
       " 314130.0,\n",
       " 317120.0,\n",
       " 317240.0,\n",
       " 317330.0,\n",
       " 317400.0,\n",
       " 317530.0,\n",
       " 317690.0,\n",
       " 317770.0,\n",
       " 317830.0,\n",
       " 317850.0,\n",
       " 317870.0,\n",
       " 318010.0,\n",
       " 318020.0,\n",
       " 318410.0,\n",
       " 319660.0,\n",
       " 321550.0,\n",
       " 321820.0,\n",
       " 322000.0,\n",
       " 322180.0,\n",
       " 322310.0,\n",
       " 322510.0,\n",
       " 327260.0,\n",
       " 328130.0,\n",
       " 329180.0,\n",
       " 332370.0,\n",
       " 332570.0,\n",
       " 333620.0,\n",
       " 335810.0,\n",
       " 336370.0,\n",
       " 337930.0,\n",
       " 338220.0,\n",
       " 339770.0,\n",
       " 340570.0,\n",
       " 340930.0,\n",
       " 347000.0,\n",
       " 347770.0,\n",
       " 347860.0,\n",
       " 348030.0,\n",
       " 348150.0,\n",
       " 348210.0,\n",
       " 348370.0,\n",
       " 348950.0,\n",
       " 350520.0,\n",
       " 351320.0,\n",
       " 351330.0,\n",
       " 352480.0,\n",
       " 352700.0,\n",
       " 352770.0,\n",
       " 352910.0,\n",
       " 353200.0,\n",
       " 353590.0,\n",
       " 353810.0,\n",
       " 354200.0,\n",
       " 356860.0,\n",
       " 357230.0,\n",
       " 357430.0,\n",
       " 357550.0,\n",
       " 357780.0,\n",
       " 357880.0,\n",
       " 361570.0,\n",
       " 361610.0,\n",
       " 362320.0,\n",
       " 363280.0,\n",
       " 365340.0,\n",
       " 365550.0,\n",
       " 365900.0,\n",
       " 368600.0,\n",
       " 371950.0,\n",
       " 372800.0,\n",
       " 372910.0,\n",
       " 373220.0,\n",
       " 375500.0,\n",
       " 376180.0,\n",
       " 376290.0,\n",
       " 376930.0,\n",
       " 376980.0,\n",
       " 377030.0,\n",
       " 377190.0,\n",
       " 377220.0,\n",
       " 377300.0,\n",
       " 377450.0,\n",
       " 377460.0,\n",
       " 377480.0,\n",
       " 378850.0,\n",
       " 382840.0,\n",
       " 383220.0,\n",
       " 383310.0,\n",
       " 388720.0,\n",
       " 389140.0,\n",
       " 389260.0,\n",
       " 393890.0,\n",
       " 394280.0,\n",
       " 396690.0,\n",
       " 399720.0,\n",
       " 400760.0,\n",
       " 403550.0,\n",
       " 404990.0,\n",
       " 412350.0,\n",
       " 417970.0,\n",
       " 432320.0,\n",
       " 441270.0,\n",
       " 900070.0,\n",
       " 900100.0,\n",
       " 900110.0,\n",
       " 900120.0,\n",
       " 900250.0,\n",
       " 900260.0,\n",
       " 900270.0,\n",
       " 900280.0,\n",
       " 900290.0,\n",
       " 900300.0,\n",
       " 900310.0,\n",
       " 900340.0,\n",
       " 950110.0,\n",
       " 950130.0,\n",
       " 950140.0,\n",
       " 950170.0,\n",
       " 950190.0,\n",
       " 950210.0,\n",
       " 950220.0}"
      ]
     },
     "execution_count": 46,
     "metadata": {},
     "output_type": "execute_result"
    }
   ],
   "source": [
    "duplicated_symbol"
   ]
  },
  {
   "cell_type": "code",
   "execution_count": 47,
   "metadata": {},
   "outputs": [],
   "source": [
    "symbols_ = [str(int(i)) for i in duplicated_symbol]"
   ]
  },
  {
   "cell_type": "code",
   "execution_count": 49,
   "metadata": {},
   "outputs": [],
   "source": [
    "df_A = korea_stock[korea_stock['lstng_cd'].isin(symbols_)]"
   ]
  },
  {
   "cell_type": "code",
   "execution_count": 51,
   "metadata": {},
   "outputs": [
    {
     "name": "stderr",
     "output_type": "stream",
     "text": [
      "C:\\Users\\user\\AppData\\Local\\Temp\\ipykernel_31920\\3751442669.py:1: SettingWithCopyWarning: \n",
      "A value is trying to be set on a copy of a slice from a DataFrame.\n",
      "Try using .loc[row_indexer,col_indexer] = value instead\n",
      "\n",
      "See the caveats in the documentation: https://pandas.pydata.org/pandas-docs/stable/user_guide/indexing.html#returning-a-view-versus-a-copy\n",
      "  df_A[\"lstng_cd\"] = df_A[\"lstng_cd\"].astype(int)\n"
     ]
    }
   ],
   "source": [
    "df_A[\"lstng_cd\"] = df_A[\"lstng_cd\"].astype(int)"
   ]
  },
  {
   "cell_type": "code",
   "execution_count": 52,
   "metadata": {},
   "outputs": [
    {
     "data": {
      "text/html": [
       "<div>\n",
       "<style scoped>\n",
       "    .dataframe tbody tr th:only-of-type {\n",
       "        vertical-align: middle;\n",
       "    }\n",
       "\n",
       "    .dataframe tbody tr th {\n",
       "        vertical-align: top;\n",
       "    }\n",
       "\n",
       "    .dataframe thead th {\n",
       "        text-align: right;\n",
       "    }\n",
       "</style>\n",
       "<table border=\"1\" class=\"dataframe\">\n",
       "  <thead>\n",
       "    <tr style=\"text-align: right;\">\n",
       "      <th></th>\n",
       "      <th>stndd_dt</th>\n",
       "      <th>lstng_cd</th>\n",
       "      <th>Name</th>\n",
       "      <th>stock_start</th>\n",
       "      <th>stock_high</th>\n",
       "      <th>stock_low</th>\n",
       "      <th>stock_end</th>\n",
       "      <th>Stocks</th>\n",
       "      <th>mrprc_ttamt</th>\n",
       "      <th>stock_avg</th>\n",
       "    </tr>\n",
       "  </thead>\n",
       "  <tbody>\n",
       "    <tr>\n",
       "      <th>9</th>\n",
       "      <td>2018-01-02</td>\n",
       "      <td>207940</td>\n",
       "      <td>삼성바이오로직스</td>\n",
       "      <td>367000</td>\n",
       "      <td>391000</td>\n",
       "      <td>367000</td>\n",
       "      <td>389500</td>\n",
       "      <td>66165000</td>\n",
       "      <td>25771267500000</td>\n",
       "      <td>379000</td>\n",
       "    </tr>\n",
       "    <tr>\n",
       "      <th>43</th>\n",
       "      <td>2018-01-02</td>\n",
       "      <td>139480</td>\n",
       "      <td>이마트</td>\n",
       "      <td>272000</td>\n",
       "      <td>273000</td>\n",
       "      <td>260500</td>\n",
       "      <td>262000</td>\n",
       "      <td>27875819</td>\n",
       "      <td>7303464578000</td>\n",
       "      <td>266750</td>\n",
       "    </tr>\n",
       "    <tr>\n",
       "      <th>46</th>\n",
       "      <td>2018-01-02</td>\n",
       "      <td>215600</td>\n",
       "      <td>신라젠</td>\n",
       "      <td>95900</td>\n",
       "      <td>104000</td>\n",
       "      <td>93300</td>\n",
       "      <td>102500</td>\n",
       "      <td>68001447</td>\n",
       "      <td>6970148317500</td>\n",
       "      <td>98650</td>\n",
       "    </tr>\n",
       "    <tr>\n",
       "      <th>48</th>\n",
       "      <td>2018-01-02</td>\n",
       "      <td>161390</td>\n",
       "      <td>한국타이어</td>\n",
       "      <td>54600</td>\n",
       "      <td>55400</td>\n",
       "      <td>54600</td>\n",
       "      <td>55000</td>\n",
       "      <td>123875069</td>\n",
       "      <td>6813128795000</td>\n",
       "      <td>55000</td>\n",
       "    </tr>\n",
       "    <tr>\n",
       "      <th>49</th>\n",
       "      <td>2018-01-02</td>\n",
       "      <td>267250</td>\n",
       "      <td>현대로보틱스</td>\n",
       "      <td>387500</td>\n",
       "      <td>414500</td>\n",
       "      <td>387000</td>\n",
       "      <td>414500</td>\n",
       "      <td>16286617</td>\n",
       "      <td>6750802746500</td>\n",
       "      <td>400750</td>\n",
       "    </tr>\n",
       "    <tr>\n",
       "      <th>...</th>\n",
       "      <td>...</td>\n",
       "      <td>...</td>\n",
       "      <td>...</td>\n",
       "      <td>...</td>\n",
       "      <td>...</td>\n",
       "      <td>...</td>\n",
       "      <td>...</td>\n",
       "      <td>...</td>\n",
       "      <td>...</td>\n",
       "      <td>...</td>\n",
       "    </tr>\n",
       "    <tr>\n",
       "      <th>2931984</th>\n",
       "      <td>2022-12-29</td>\n",
       "      <td>286750</td>\n",
       "      <td>나노브릭</td>\n",
       "      <td>1330</td>\n",
       "      <td>1340</td>\n",
       "      <td>1295</td>\n",
       "      <td>1325</td>\n",
       "      <td>20464549</td>\n",
       "      <td>27115527425</td>\n",
       "      <td>1317</td>\n",
       "    </tr>\n",
       "    <tr>\n",
       "      <th>2931986</th>\n",
       "      <td>2022-12-29</td>\n",
       "      <td>290660</td>\n",
       "      <td>네오펙트</td>\n",
       "      <td>1435</td>\n",
       "      <td>1475</td>\n",
       "      <td>1335</td>\n",
       "      <td>1395</td>\n",
       "      <td>19240617</td>\n",
       "      <td>26840660715</td>\n",
       "      <td>1405</td>\n",
       "    </tr>\n",
       "    <tr>\n",
       "      <th>2932026</th>\n",
       "      <td>2022-12-29</td>\n",
       "      <td>174880</td>\n",
       "      <td>장원테크</td>\n",
       "      <td>928</td>\n",
       "      <td>931</td>\n",
       "      <td>836</td>\n",
       "      <td>878</td>\n",
       "      <td>21906325</td>\n",
       "      <td>19233753350</td>\n",
       "      <td>883</td>\n",
       "    </tr>\n",
       "    <tr>\n",
       "      <th>2932037</th>\n",
       "      <td>2022-12-29</td>\n",
       "      <td>204630</td>\n",
       "      <td>스튜디오산타클로스</td>\n",
       "      <td>1820</td>\n",
       "      <td>1820</td>\n",
       "      <td>1645</td>\n",
       "      <td>1680</td>\n",
       "      <td>10850308</td>\n",
       "      <td>18228517440</td>\n",
       "      <td>1732</td>\n",
       "    </tr>\n",
       "    <tr>\n",
       "      <th>2932045</th>\n",
       "      <td>2022-12-29</td>\n",
       "      <td>161570</td>\n",
       "      <td>THE MIDONG</td>\n",
       "      <td>1025</td>\n",
       "      <td>1065</td>\n",
       "      <td>1000</td>\n",
       "      <td>1055</td>\n",
       "      <td>15582830</td>\n",
       "      <td>16439885650</td>\n",
       "      <td>1032</td>\n",
       "    </tr>\n",
       "  </tbody>\n",
       "</table>\n",
       "<p>545466 rows × 10 columns</p>\n",
       "</div>"
      ],
      "text/plain": [
       "           stndd_dt  lstng_cd        Name  stock_start  stock_high  stock_low  \\\n",
       "9        2018-01-02    207940    삼성바이오로직스       367000      391000     367000   \n",
       "43       2018-01-02    139480         이마트       272000      273000     260500   \n",
       "46       2018-01-02    215600         신라젠        95900      104000      93300   \n",
       "48       2018-01-02    161390       한국타이어        54600       55400      54600   \n",
       "49       2018-01-02    267250      현대로보틱스       387500      414500     387000   \n",
       "...             ...       ...         ...          ...         ...        ...   \n",
       "2931984  2022-12-29    286750        나노브릭         1330        1340       1295   \n",
       "2931986  2022-12-29    290660        네오펙트         1435        1475       1335   \n",
       "2932026  2022-12-29    174880        장원테크          928         931        836   \n",
       "2932037  2022-12-29    204630   스튜디오산타클로스         1820        1820       1645   \n",
       "2932045  2022-12-29    161570  THE MIDONG         1025        1065       1000   \n",
       "\n",
       "         stock_end     Stocks     mrprc_ttamt  stock_avg  \n",
       "9           389500   66165000  25771267500000     379000  \n",
       "43          262000   27875819   7303464578000     266750  \n",
       "46          102500   68001447   6970148317500      98650  \n",
       "48           55000  123875069   6813128795000      55000  \n",
       "49          414500   16286617   6750802746500     400750  \n",
       "...            ...        ...             ...        ...  \n",
       "2931984       1325   20464549     27115527425       1317  \n",
       "2931986       1395   19240617     26840660715       1405  \n",
       "2932026        878   21906325     19233753350        883  \n",
       "2932037       1680   10850308     18228517440       1732  \n",
       "2932045       1055   15582830     16439885650       1032  \n",
       "\n",
       "[545466 rows x 10 columns]"
      ]
     },
     "execution_count": 52,
     "metadata": {},
     "output_type": "execute_result"
    }
   ],
   "source": [
    "df_A"
   ]
  },
  {
   "cell_type": "code",
   "execution_count": 54,
   "metadata": {},
   "outputs": [
    {
     "name": "stderr",
     "output_type": "stream",
     "text": [
      "C:\\Users\\user\\AppData\\Local\\Temp\\ipykernel_31920\\73722823.py:1: FutureWarning: The frame.append method is deprecated and will be removed from pandas in a future version. Use pandas.concat instead.\n",
      "  korea_ev_finan_df = korea_ev_finan_df.append(df_A)\n"
     ]
    }
   ],
   "source": [
    "korea_ev_finan_df = korea_ev_finan_df.append(df_A)"
   ]
  },
  {
   "cell_type": "code",
   "execution_count": 55,
   "metadata": {},
   "outputs": [],
   "source": [
    "korea_ev_finan_df.reset_index(inplace=True)"
   ]
  },
  {
   "cell_type": "code",
   "execution_count": 57,
   "metadata": {},
   "outputs": [
    {
     "name": "stderr",
     "output_type": "stream",
     "text": [
      "  0%|          | 0/545466 [00:00<?, ?it/s]"
     ]
    },
    {
     "name": "stderr",
     "output_type": "stream",
     "text": [
      "100%|██████████| 545466/545466 [3:16:56<00:00, 46.16it/s]   \n"
     ]
    }
   ],
   "source": [
    "for idx in tqdm(range(len(korea_ev_finan_df))):\n",
    "    symbol = korea_ev_finan_df[\"lstng_cd\"][idx]\n",
    "    append_df = info_korea[info_korea[\"lstng_cd\"] == symbol]\n",
    "    if not append_df.empty:\n",
    "        korea_ev_finan_df.loc[idx, list(append_df.columns)] = append_df.values[0]"
   ]
  },
  {
   "cell_type": "code",
   "execution_count": 60,
   "metadata": {},
   "outputs": [],
   "source": [
    "korea_ev_finan_df.reset_index(inplace=True)"
   ]
  },
  {
   "cell_type": "code",
   "execution_count": 62,
   "metadata": {},
   "outputs": [
    {
     "name": "stderr",
     "output_type": "stream",
     "text": [
      "100%|██████████| 545466/545466 [26:41:11<00:00,  5.68it/s]    \n"
     ]
    }
   ],
   "source": [
    "for idx in tqdm(range(len(korea_ev_finan_df))):\n",
    "    symbol = korea_ev_finan_df[\"lstng_cd\"][idx]\n",
    "    append_df = append_base_df[append_base_df[\"lstng_cd\"] == symbol]\n",
    "    if not append_df.empty:\n",
    "        korea_ev_finan_df.loc[idx, list(append_df.columns)] = append_df.values[0]"
   ]
  },
  {
   "cell_type": "code",
   "execution_count": 66,
   "metadata": {},
   "outputs": [],
   "source": [
    "korea_ev_finan_df = korea_ev_finan_df.drop([\"level_0\", \"index\"], axis=1)"
   ]
  },
  {
   "cell_type": "code",
   "execution_count": 72,
   "metadata": {},
   "outputs": [],
   "source": [
    "korea_ev_finan_df[\"hb_ntn_cd\"] = \"KOR\"\n",
    "korea_ev_finan_df[\"kr_ntn_nm\"] = \"한국\"\n",
    "korea_ev_finan_df[\"engls_ntn_nm\"] = \"KOREA\"\n",
    "korea_ev_finan_df[\"ntn_lngg_cd_val\"] = \"KOR\"\n",
    "korea_ev_finan_df[\"kr_lngg_nm\"] = \"한국어\"\n",
    "korea_ev_finan_df[\"engls_lngg_nm\"] = \"KOREAN\""
   ]
  },
  {
   "cell_type": "code",
   "execution_count": 74,
   "metadata": {},
   "outputs": [],
   "source": [
    "korea_ev_finan_df = korea_ev_finan_df.drop([\"Name\", \"Stocks\"], axis=1)"
   ]
  },
  {
   "cell_type": "code",
   "execution_count": 79,
   "metadata": {},
   "outputs": [],
   "source": [
    "korea_ev_finan_df.to_parquet(\"대한민국_3차_재무.parquet\", index=False)"
   ]
  },
  {
   "cell_type": "code",
   "execution_count": 117,
   "metadata": {},
   "outputs": [],
   "source": [
    "korea_ev_finan_df[\"lstng_cd\"] = korea_ev_finan_df[\"lstng_cd\"].astype(int)"
   ]
  },
  {
   "cell_type": "code",
   "execution_count": 125,
   "metadata": {},
   "outputs": [
    {
     "data": {
      "text/plain": [
       "161570"
      ]
     },
     "execution_count": 125,
     "metadata": {},
     "output_type": "execute_result"
    }
   ],
   "source": [
    "korea_ev_finan_df[\"lstng_cd\"][idx]"
   ]
  },
  {
   "cell_type": "code",
   "execution_count": 126,
   "metadata": {},
   "outputs": [
    {
     "data": {
      "text/html": [
       "<div>\n",
       "<style scoped>\n",
       "    .dataframe tbody tr th:only-of-type {\n",
       "        vertical-align: middle;\n",
       "    }\n",
       "\n",
       "    .dataframe tbody tr th {\n",
       "        vertical-align: top;\n",
       "    }\n",
       "\n",
       "    .dataframe thead th {\n",
       "        text-align: right;\n",
       "    }\n",
       "</style>\n",
       "<table border=\"1\" class=\"dataframe\">\n",
       "  <thead>\n",
       "    <tr style=\"text-align: right;\">\n",
       "      <th></th>\n",
       "      <th>keyval</th>\n",
       "      <th>hb_ntn_cd</th>\n",
       "      <th>acplc_lngg_entrp_nm</th>\n",
       "      <th>engls_entrp_nm</th>\n",
       "      <th>crprt_rgno</th>\n",
       "      <th>bsnsm_rgno</th>\n",
       "      <th>fndtn_dt</th>\n",
       "      <th>stock_mrkt_cd</th>\n",
       "      <th>engls_stock_mrkt_nm</th>\n",
       "      <th>lstng_dt</th>\n",
       "      <th>...</th>\n",
       "      <th>nncrrnt_debt_amt</th>\n",
       "      <th>debt_summ</th>\n",
       "      <th>captl_summ</th>\n",
       "      <th>debt_captl_summ_amt</th>\n",
       "      <th>bsn_acti_csflw</th>\n",
       "      <th>invsm_acti_cash_infl_amt</th>\n",
       "      <th>fnnr_acti_cash_infl_amt</th>\n",
       "      <th>cash_incre_amt</th>\n",
       "      <th>bsis_cash_amt</th>\n",
       "      <th>entrm_cash_amt</th>\n",
       "    </tr>\n",
       "  </thead>\n",
       "  <tbody>\n",
       "  </tbody>\n",
       "</table>\n",
       "<p>0 rows × 37 columns</p>\n",
       "</div>"
      ],
      "text/plain": [
       "Empty DataFrame\n",
       "Columns: [keyval, hb_ntn_cd, acplc_lngg_entrp_nm, engls_entrp_nm, crprt_rgno, bsnsm_rgno, fndtn_dt, stock_mrkt_cd, engls_stock_mrkt_nm, lstng_dt, lstng_cd, engls_indstrsctrs_nm_1, crrnc_sctin_cd, accnn_yr, reprt_kind_cd, stacnt_dt, prsls, entrp_sllng_prmpc, bsn_cost_amt, bsn_prft, bsn_else_ernng_amt, ctax_cost_amt, thtrm_ntpf, cuass_amt, nncrrnt_assts_amt, assts_summ, fltng_debt_amt, nncrrnt_debt_amt, debt_summ, captl_summ, debt_captl_summ_amt, bsn_acti_csflw, invsm_acti_cash_infl_amt, fnnr_acti_cash_infl_amt, cash_incre_amt, bsis_cash_amt, entrm_cash_amt]\n",
       "Index: []\n",
       "\n",
       "[0 rows x 37 columns]"
      ]
     },
     "execution_count": 126,
     "metadata": {},
     "output_type": "execute_result"
    }
   ],
   "source": [
    "append_df[append_df[\"lstng_cd\"] == symbol]"
   ]
  },
  {
   "cell_type": "code",
   "execution_count": 91,
   "metadata": {},
   "outputs": [],
   "source": [
    "korea_ev_finan_df = korea_ev_finan_df.drop(['level_0', 'index'], axis=1)"
   ]
  },
  {
   "cell_type": "code",
   "execution_count": 93,
   "metadata": {},
   "outputs": [],
   "source": [
    "korea_ev_finan_df.to_excel(\"korea.xlsx\", index=False)"
   ]
  },
  {
   "cell_type": "code",
   "execution_count": 109,
   "metadata": {},
   "outputs": [
    {
     "data": {
      "text/plain": [
       "False    4525\n",
       "True       15\n",
       "Name: debt_summ, dtype: int64"
      ]
     },
     "execution_count": 109,
     "metadata": {},
     "output_type": "execute_result"
    }
   ],
   "source": [
    "append_df[\"debt_summ\"].isnull().value_counts()"
   ]
  },
  {
   "cell_type": "code",
   "execution_count": 122,
   "metadata": {},
   "outputs": [
    {
     "data": {
      "text/plain": [
       "True     545465\n",
       "False         1\n",
       "Name: debt_summ, dtype: int64"
      ]
     },
     "execution_count": 122,
     "metadata": {},
     "output_type": "execute_result"
    }
   ],
   "source": [
    "korea_ev_finan_df[\"debt_summ\"].isnull().value_counts()"
   ]
  },
  {
   "cell_type": "code",
   "execution_count": null,
   "metadata": {},
   "outputs": [],
   "source": []
  }
 ],
 "metadata": {
  "kernelspec": {
   "display_name": "BDC",
   "language": "python",
   "name": "python3"
  },
  "language_info": {
   "codemirror_mode": {
    "name": "ipython",
    "version": 3
   },
   "file_extension": ".py",
   "mimetype": "text/x-python",
   "name": "python",
   "nbconvert_exporter": "python",
   "pygments_lexer": "ipython3",
   "version": "3.10.9"
  },
  "orig_nbformat": 4
 },
 "nbformat": 4,
 "nbformat_minor": 2
}
