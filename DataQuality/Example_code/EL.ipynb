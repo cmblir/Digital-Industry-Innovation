{
 "cells": [
  {
   "cell_type": "code",
   "execution_count": 1,
   "metadata": {},
   "outputs": [],
   "source": [
    "import os\n",
    "import sys\n",
    "sys.path.append(os.path.dirname(os.path.abspath(os.path.dirname(\"ETL\"))))"
   ]
  },
  {
   "cell_type": "code",
   "execution_count": 2,
   "metadata": {},
   "outputs": [],
   "source": [
    "from ETL import EL"
   ]
  },
  {
   "cell_type": "code",
   "execution_count": 3,
   "metadata": {},
   "outputs": [],
   "source": [
    "load = EL.DataLoad(many=True)"
   ]
  },
  {
   "cell_type": "code",
   "execution_count": 4,
   "metadata": {},
   "outputs": [
    {
     "name": "stdout",
     "output_type": "stream",
     "text": [
      "\n",
      "        함수 설명은 아래와 같습니다. \n",
      "\n",
      "        DataLoading : 데이터를 일괄로 불러오는 함수 \n",
      "\n",
      "        CheckLength : 데이터내의 값의 최대 길이까지 제한을 두는 함수 \n",
      "\n",
      "        Load : 데이터를 배치프로세스를 진행하여 적재하는 함수 \n",
      "\n",
      "        Login : 데이터베이스에 로그인하는 함수 \n",
      "\n",
      "        Connect_DB : 데이터베이스에 적재하기 위해 기본값을 설정하는 함수 \n",
      "\n",
      "        \n"
     ]
    }
   ],
   "source": [
    "load.information()"
   ]
  },
  {
   "cell_type": "code",
   "execution_count": 5,
   "metadata": {},
   "outputs": [],
   "source": [
    "load.Login(user=\"postgres\", password=\"1234\", host=\"218.39.214.98\", port=\"5432\", dbname=\"nia_test\")"
   ]
  },
  {
   "cell_type": "code",
   "execution_count": 6,
   "metadata": {},
   "outputs": [
    {
     "name": "stderr",
     "output_type": "stream",
     "text": [
      "100%|██████████| 9/9 [00:21<00:00,  2.36s/it]\n"
     ]
    }
   ],
   "source": [
    "load.DataLoading(\"fn/fmp_finished/\")"
   ]
  },
  {
   "cell_type": "code",
   "execution_count": 7,
   "metadata": {},
   "outputs": [
    {
     "name": "stderr",
     "output_type": "stream",
     "text": [
      "  0%|          | 0/9 [00:00<?, ?it/s]\n"
     ]
    },
    {
     "ename": "UnboundLocalError",
     "evalue": "local variable 'definition' referenced before assignment",
     "output_type": "error",
     "traceback": [
      "\u001b[1;31m---------------------------------------------------------------------------\u001b[0m",
      "\u001b[1;31mUnboundLocalError\u001b[0m                         Traceback (most recent call last)",
      "Cell \u001b[1;32mIn[7], line 1\u001b[0m\n\u001b[1;32m----> 1\u001b[0m load\u001b[39m.\u001b[39;49mCheckLength()\n",
      "File \u001b[1;32mc:\\Users\\user\\Desktop\\yoo\\개발관련\\BDC\\Digital-Industry-Innovation\\DataQuality\\ETL\\EL.py:379\u001b[0m, in \u001b[0;36mDataLoad.CheckLength\u001b[1;34m(self)\u001b[0m\n\u001b[0;32m    377\u001b[0m \u001b[39melif\u001b[39;00m \u001b[39mself\u001b[39m\u001b[39m.\u001b[39mtable_nameList[length]\u001b[39m.\u001b[39msplit(\u001b[39m\"\u001b[39m\u001b[39m_\u001b[39m\u001b[39m\"\u001b[39m)[\u001b[39m-\u001b[39m\u001b[39m1\u001b[39m] \u001b[39m==\u001b[39m \u001b[39m\"\u001b[39m\u001b[39md\u001b[39m\u001b[39m\"\u001b[39m:\n\u001b[0;32m    378\u001b[0m     definition \u001b[39m=\u001b[39m \u001b[39mself\u001b[39m\u001b[39m.\u001b[39mdefinition_finan \n\u001b[1;32m--> 379\u001b[0m \u001b[39mfor\u001b[39;00m key, value \u001b[39min\u001b[39;00m tqdm(definition\u001b[39m.\u001b[39mitems()):\n\u001b[0;32m    380\u001b[0m     \u001b[39mfor\u001b[39;00m Length \u001b[39min\u001b[39;00m \u001b[39mrange\u001b[39m(\u001b[39mlen\u001b[39m(\u001b[39mself\u001b[39m\u001b[39m.\u001b[39mDataFrameList[length])):\n\u001b[0;32m    381\u001b[0m         check \u001b[39m=\u001b[39m \u001b[39mstr\u001b[39m(\u001b[39mself\u001b[39m\u001b[39m.\u001b[39mDataFrameList[length][key\u001b[39m.\u001b[39mlower()][Length])\n",
      "\u001b[1;31mUnboundLocalError\u001b[0m: local variable 'definition' referenced before assignment"
     ]
    }
   ],
   "source": [
    "load.CheckLength()"
   ]
  },
  {
   "cell_type": "code",
   "execution_count": null,
   "metadata": {},
   "outputs": [],
   "source": []
  }
 ],
 "metadata": {
  "kernelspec": {
   "display_name": "BDC",
   "language": "python",
   "name": "python3"
  },
  "language_info": {
   "codemirror_mode": {
    "name": "ipython",
    "version": 3
   },
   "file_extension": ".py",
   "mimetype": "text/x-python",
   "name": "python",
   "nbconvert_exporter": "python",
   "pygments_lexer": "ipython3",
   "version": "3.10.9"
  },
  "orig_nbformat": 4
 },
 "nbformat": 4,
 "nbformat_minor": 2
}
