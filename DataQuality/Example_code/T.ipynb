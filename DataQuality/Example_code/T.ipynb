{
 "cells": [
  {
   "cell_type": "code",
   "execution_count": 1,
   "metadata": {},
   "outputs": [],
   "source": [
    "import os\n",
    "import sys\n",
    "import pandas as pd\n",
    "sys.path.append(os.path.dirname(os.path.abspath(os.path.dirname(\"ETL\"))))"
   ]
  },
  {
   "cell_type": "code",
   "execution_count": 2,
   "metadata": {},
   "outputs": [],
   "source": [
    "from ETL import T"
   ]
  },
  {
   "attachments": {},
   "cell_type": "markdown",
   "metadata": {},
   "source": [
    "\n",
    "함수에 대한 설명은 아래와 같습니다. \n",
    "\n",
    "라이브러리는 ETL과정중 T(Transform)을 포함하고 있습니다. \n",
    "\n",
    "데이터베이스에서 데이터를 확인하는 클래스는 Checker 입니다. \n",
    "\n",
    "클래스 지정시 데이터베이스(postgresql)의 id, pw, ip, db, 추출하고자 하는 테이블명을 입력해주세요. \n",
    "\n",
    "read_excel() 함수는 xlsx을 불러와 데이터프레임으로 저장합니다. \n",
    "\n",
    "read_csv() 함수는 csv를 불러와 데이터프레임으로 저장합니다. \n",
    "\n",
    "data_update() 함수는 신규 데이터의 업데이트시 I 또는 U를 입력합니다. \n",
    "\n",
    "date_update() 함수는 신규 데이터의 업데이트시 날짜를 입력합니다. \n",
    "\n",
    "CheckDate() 함수는 인베스팅 닷컴의 일반 데이터 날짜를 표준화하는 함수 \n",
    "\n",
    "CheckLength() 함수는 데이터의 크기를 확인하여 크기만큼 자르는 함수 \n",
    "\n",
    "CheckVarchar() 함수는 재무 데이터 크기를 확인하여 클 경우 새로 삽입하는 함수 \n",
    "\n",
    "CheckNumeric() 함수는 재무 데이터 숫자를 확인하는 함수 \n",
    "\n",
    "-------------------------------------------------------------------\n",
    "\n"
   ]
  },
  {
   "attachments": {},
   "cell_type": "markdown",
   "metadata": {},
   "source": [
    "# Data Transform"
   ]
  },
  {
   "cell_type": "code",
   "execution_count": 3,
   "metadata": {},
   "outputs": [],
   "source": [
    "info_path = \"C:/Users/user/Desktop/유신영 업무폴더/BDC/1_BDC 데이터 정리/13_2023년 3분기/131_2023년 3분기 3차년도/2023년 3분기 3차년도 일반정보/적재전(가공전)/1차년도/\"\n",
    "fn_info_path = \"C:/Users/user/Desktop/유신영 업무폴더/BDC/1_BDC 데이터 정리/13_2023년 3분기/131_2023년 3분기 3차년도/2023년 3분기 3차년도 일반정보/적재전(가공후)/1차년도/\"\n",
    "fmp_path = \"C:/Users/user/Desktop/유신영 업무폴더/BDC/1_BDC 데이터 정리/13_2023년 3분기/131_2023년 3분기 3차년도/2023년 3분기 3차년도 재무정보/가공후/FMP/\"\n",
    "fn_fmp_path = \"C:/Users/user/Desktop/유신영 업무폴더/BDC/1_BDC 데이터 정리/13_2023년 3분기/131_2023년 3분기 3차년도/2023년 3분기 3차년도 재무정보/적재전/FMP/\"\n",
    "dart_path = \"C:/Users/user/Desktop/유신영 업무폴더/BDC/1_BDC 데이터 정리/13_2023년 3분기/131_2023년 3분기 3차년도/2023년 3분기 3차년도 재무정보/가공후/DART/\"\n",
    "fn_dart_path = \"C:/Users/user/Desktop/유신영 업무폴더/BDC/1_BDC 데이터 정리/13_2023년 3분기/131_2023년 3분기 3차년도/2023년 3분기 3차년도 재무정보/적재전/FMP/\""
   ]
  },
  {
   "cell_type": "code",
   "execution_count": 4,
   "metadata": {},
   "outputs": [],
   "source": [
    "ta = T.Analysis()"
   ]
  },
  {
   "cell_type": "code",
   "execution_count": 5,
   "metadata": {},
   "outputs": [],
   "source": [
    "from tqdm import tqdm"
   ]
  },
  {
   "cell_type": "code",
   "execution_count": 27,
   "metadata": {},
   "outputs": [
    {
     "name": "stderr",
     "output_type": "stream",
     "text": [
      "100%|██████████| 11/11 [00:41<00:00,  3.73s/it]\n"
     ]
    }
   ],
   "source": [
    "for idx in tqdm(fmp_filepath):\n",
    "    df = pd.read_excel(fmp_path + idx)\n",
    "    df = df[df[\"accnn_yr\"] >= 2022]\n",
    "    df.to_excel(fmp_path + idx, index=False)"
   ]
  },
  {
   "cell_type": "code",
   "execution_count": 29,
   "metadata": {},
   "outputs": [],
   "source": [
    "def info_transform(path, fn_path):\n",
    "    for idx in tqdm(os.listdir(path)):\n",
    "        t = T.Checker()\n",
    "        t.read_excel(path + idx)\n",
    "        limited_columns = t.df.columns[:58]\n",
    "        t.df = t.df[limited_columns]\n",
    "        try: t.df = ta.change_columns(t.df, info=True)\n",
    "        except: print(idx)\n",
    "        try: t.CheckDate()\n",
    "        except: pass\n",
    "        t.data_update(True)\n",
    "        t.date_update()\n",
    "        t.fndtn_dt()        \n",
    "        t.df.to_excel(fn_path + idx, index=False)"
   ]
  },
  {
   "cell_type": "code",
   "execution_count": 30,
   "metadata": {},
   "outputs": [],
   "source": [
    "def finan_transform(path, fn_path):\n",
    "    for idx in tqdm(os.listdir(path)):\n",
    "        try:\n",
    "            t = T.Checker()\n",
    "            t.read_excel(path + idx)\n",
    "            t.df = ta.change_columns(t.df)\n",
    "            t.CheckLength()\n",
    "            t.CheckNumeric()\n",
    "            t.CheckVarchar()\n",
    "            try: t.CheckDate()\n",
    "            except: pass\n",
    "            t.data_update(True)\n",
    "            t.date_update()\n",
    "            t.fndtn_dt()\n",
    "            t.df.to_excel(f\"{fn_path}{idx}\", index=False)\n",
    "        except:\n",
    "            t = T.Checker()\n",
    "            t.read_excel(path + idx)\n",
    "            t.CheckLength()\n",
    "            t.CheckNumeric()\n",
    "            t.CheckVarchar()\n",
    "            t.data_update(True)\n",
    "            t.date_update()\n",
    "            t.fndtn_dt()\n",
    "            t.df.to_excel(f\"{fn_path}{idx}\", index=False)"
   ]
  },
  {
   "cell_type": "code",
   "execution_count": 53,
   "metadata": {},
   "outputs": [
    {
     "name": "stderr",
     "output_type": "stream",
     "text": [
      "c:\\Users\\user\\Desktop\\유신영 업무폴더\\BDC\\수정 후 BDC 개발모듈로 이동\\Digital-Industry-Innovation\\DataQuality\\ETL\\T.py:138: RuntimeWarning: invalid value encountered in cast\n",
      "  if value.astype(int) > 21000000 or value.astype(int) < 18000000:\n"
     ]
    }
   ],
   "source": [
    "t = T.Checker()\n",
    "idx = \"네덜란드.xlsx\"\n",
    "t.read_excel(info_path + idx)\n",
    "limited_columns = t.df.columns[:58]\n",
    "t.df = t.df[limited_columns]\n",
    "try: t.df = ta.change_columns(t.df, info=True)\n",
    "except: print(idx)\n",
    "try: t.CheckDate()\n",
    "except: pass\n",
    "t.data_update(True)\n",
    "t.date_update()\n",
    "t.fndtn_dt()        \n",
    "t.df.to_excel(fn_info_path + idx, index=False)"
   ]
  },
  {
   "cell_type": "code",
   "execution_count": 6,
   "metadata": {},
   "outputs": [],
   "source": [
    "t = T.Checker()\n",
    "t.read_excel(dart_path + os.listdir(dart_path)[0])"
   ]
  },
  {
   "cell_type": "code",
   "execution_count": 7,
   "metadata": {},
   "outputs": [],
   "source": [
    "t.df = ta.change_columns(t.df, korea=True)"
   ]
  },
  {
   "cell_type": "code",
   "execution_count": 9,
   "metadata": {},
   "outputs": [],
   "source": [
    "t.CheckLength()\n",
    "t.CheckNumeric()\n",
    "t.CheckVarchar()\n",
    "try: t.CheckDate()\n",
    "except: pass\n",
    "t.data_update(True)\n",
    "t.date_update()\n",
    "t.fndtn_dt()"
   ]
  },
  {
   "cell_type": "code",
   "execution_count": 12,
   "metadata": {},
   "outputs": [],
   "source": [
    "t.df.to_excel(fn_dart_path + os.listdir(dart_path)[0], index=False)"
   ]
  },
  {
   "cell_type": "code",
   "execution_count": 15,
   "metadata": {},
   "outputs": [],
   "source": [
    "tt = EL.DataLoad()"
   ]
  },
  {
   "cell_type": "code",
   "execution_count": 16,
   "metadata": {},
   "outputs": [],
   "source": [
    "cnt = 0\n",
    "for idx in filepath:\n",
    "    try:\n",
    "        os.rename(path+idx, \"fn/unload/\" + tt.change_name(idx))\n",
    "    except FileExistsError:\n",
    "        cnt += 1\n",
    "        os.rename(path + idx, \"fn/unload/\" + str(cnt) + tt.change_name(idx))"
   ]
  },
  {
   "cell_type": "code",
   "execution_count": 17,
   "metadata": {},
   "outputs": [],
   "source": [
    "import pandas as pd\n",
    "df = pd.read_excel(\"fn/fn_unfinished/Original_미국_2000.xlsx\")"
   ]
  },
  {
   "cell_type": "code",
   "execution_count": 19,
   "metadata": {},
   "outputs": [],
   "source": [
    "t.read_excel(\"fn/fn_unfinished/Original_미국_2000.xlsx\")"
   ]
  },
  {
   "cell_type": "code",
   "execution_count": 25,
   "metadata": {},
   "outputs": [
    {
     "name": "stderr",
     "output_type": "stream",
     "text": [
      "100%|██████████| 15/15 [03:27<00:00, 13.84s/it]\n"
     ]
    }
   ],
   "source": [
    "for idx in tqdm(invest_fn):\n",
    "    df = pd.read_excel(invest_fn_path + idx)\n",
    "    df[df[\"accnn_yr\"] >= 2022]\n",
    "    df.to_excel(invest_fn_path + idx, index=False)"
   ]
  },
  {
   "attachments": {},
   "cell_type": "markdown",
   "metadata": {},
   "source": [
    "# Data Analysis"
   ]
  },
  {
   "attachments": {},
   "cell_type": "markdown",
   "metadata": {},
   "source": [
    "데이터베이스에서 데이터를 확인하는 클래스는 Analysis 입니다. \n",
    "\n",
    "read_excel() 함수는 xlsx을 불러와 데이터프레임으로 저장합니다. \n",
    "\n",
    "read_csv() 함수는 csv를 불러와 데이터프레임으로 저장합니다. \n",
    "\n",
    "Fail() 함수는 오류가 난 데이터를 데이터프레임에 넣기 위해 딕셔너리화 시키는 함수 \n",
    "\n",
    "CheckDate_Duplicate() 함수는 날짜체크, 중복체크를 확인하는 함수 \n",
    "\n",
    "CheckNumber() 함수는 전화번호가 유효한지 확인하는 함수 "
   ]
  },
  {
   "cell_type": "code",
   "execution_count": 1,
   "metadata": {},
   "outputs": [],
   "source": [
    "import os\n",
    "import sys\n",
    "from tqdm import tqdm\n",
    "sys.path.append(os.path.dirname(os.path.abspath(os.path.dirname(\"ETL\"))))\n",
    "from ETL import T"
   ]
  },
  {
   "cell_type": "code",
   "execution_count": 13,
   "metadata": {},
   "outputs": [],
   "source": [
    "info_path = \"C:/Users/user/Desktop/유신영 업무폴더/BDC/1_BDC 데이터 정리/13_2023년 3분기/131_2023년 3분기 3차년도/2023년 3분기 3차년도 일반정보/적재전(가공후)/1차년도/\"\n",
    "finan_path = \"C:/Users/user/Desktop/유신영 업무폴더/BDC/1_BDC 데이터 정리/13_2023년 3분기/131_2023년 3분기 3차년도/2023년 3분기 3차년도 재무정보/적재전/INVESTING/\"\n",
    "filepath = os.listdir(finan_path)"
   ]
  },
  {
   "cell_type": "code",
   "execution_count": 14,
   "metadata": {},
   "outputs": [],
   "source": [
    "ana = T.Analysis()"
   ]
  },
  {
   "cell_type": "code",
   "execution_count": 15,
   "metadata": {},
   "outputs": [
    {
     "name": "stderr",
     "output_type": "stream",
     "text": [
      "  0%|          | 0/15 [00:00<?, ?it/s]\n"
     ]
    },
    {
     "ename": "IndexError",
     "evalue": "list index out of range",
     "output_type": "error",
     "traceback": [
      "\u001b[1;31m---------------------------------------------------------------------------\u001b[0m",
      "\u001b[1;31mIndexError\u001b[0m                                Traceback (most recent call last)",
      "Cell \u001b[1;32mIn[15], line 2\u001b[0m\n\u001b[0;32m      1\u001b[0m \u001b[39mfor\u001b[39;00m idx \u001b[39min\u001b[39;00m tqdm(filepath):\n\u001b[1;32m----> 2\u001b[0m     ana\u001b[39m.\u001b[39;49mread_excel(finan_path \u001b[39m+\u001b[39;49m idx)\n\u001b[0;32m      3\u001b[0m     ana\u001b[39m.\u001b[39mCheckDate_Duplicate(info\u001b[39m=\u001b[39m\u001b[39mFalse\u001b[39;00m)\n",
      "File \u001b[1;32mc:\\Users\\user\\Desktop\\유신영 업무폴더\\BDC\\수정 후 BDC 개발모듈로 이동\\Digital-Industry-Innovation\\DataQuality\\ETL\\T.py:832\u001b[0m, in \u001b[0;36mAnalysis.read_excel\u001b[1;34m(self, path)\u001b[0m\n\u001b[0;32m    830\u001b[0m \u001b[39mif\u001b[39;00m \u001b[39m\"\u001b[39m\u001b[39m/\u001b[39m\u001b[39m\"\u001b[39m \u001b[39min\u001b[39;00m path: Table \u001b[39m=\u001b[39m path\u001b[39m.\u001b[39msplit(\u001b[39m\"\u001b[39m\u001b[39m/\u001b[39m\u001b[39m\"\u001b[39m)[\u001b[39m-\u001b[39m\u001b[39m1\u001b[39m]\u001b[39m.\u001b[39msplit(\u001b[39m\"\u001b[39m\u001b[39m.\u001b[39m\u001b[39m\"\u001b[39m)[\u001b[39m0\u001b[39m]\n\u001b[0;32m    831\u001b[0m \u001b[39melse\u001b[39;00m: Table \u001b[39m=\u001b[39m path\u001b[39m.\u001b[39msplit(\u001b[39m\"\u001b[39m\u001b[39m.\u001b[39m\u001b[39m\"\u001b[39m)[\u001b[39m0\u001b[39m]\n\u001b[1;32m--> 832\u001b[0m \u001b[39mself\u001b[39m\u001b[39m.\u001b[39mTableName \u001b[39m=\u001b[39m \u001b[39mlist\u001b[39;49m(\u001b[39mself\u001b[39;49m\u001b[39m.\u001b[39;49mDefaultTables[\u001b[39mself\u001b[39;49m\u001b[39m.\u001b[39;49mDefaultTables[\u001b[39m\"\u001b[39;49m\u001b[39m영문 테이블명\u001b[39;49m\u001b[39m\"\u001b[39;49m] \u001b[39m==\u001b[39;49m Table][\u001b[39m\"\u001b[39;49m\u001b[39m한국 테이블명\u001b[39;49m\u001b[39m\"\u001b[39;49m])[\u001b[39m0\u001b[39;49m]\n\u001b[0;32m    833\u001b[0m \u001b[39mself\u001b[39m\u001b[39m.\u001b[39mTableID \u001b[39m=\u001b[39m \u001b[39mstr\u001b[39m(Table)\n",
      "\u001b[1;31mIndexError\u001b[0m: list index out of range"
     ]
    }
   ],
   "source": [
    "for idx in tqdm(filepath):\n",
    "    ana.read_excel(finan_path + idx)\n",
    "    ana.CheckDate_Duplicate(info=False)"
   ]
  },
  {
   "cell_type": "code",
   "execution_count": 7,
   "metadata": {},
   "outputs": [],
   "source": [
    "ana.CheckDF.to_csv(\"2023-07-23_3분기 일반정보_데이터품질.csv\", index=False)"
   ]
  },
  {
   "cell_type": "code",
   "execution_count": 6,
   "metadata": {},
   "outputs": [],
   "source": [
    "ana.CheckDF.to_excel(\"오류율 검사.xlsx\", index=False)"
   ]
  },
  {
   "cell_type": "code",
   "execution_count": 36,
   "metadata": {},
   "outputs": [],
   "source": [
    "egnin_dict = {\n",
    "    \"일본\": \"tb_hb_jpn_egnin_m\",\n",
    "    \"홍콩\": \"tb_hb_hkg_egnin_m\",\n",
    "    \"말레이시아\": \"tb_hb_mys_egnin_m\",\n",
    "    \"싱가포르\": \"tb_hb_sgp_egnin_m\",\n",
    "    \"태국\": \"tb_hb_tha_egnin_m\",\n",
    "    \"베트남\": \"tb_hb_vnm_egnin_m\",\n",
    "    \"인도네시아\": \"tb_hb_idn_egnin_m\",\n",
    "    \"인도\": \"tb_hb_ind_egnin_m\",\n",
    "    \"미국\": \"tb_hb_usa_egnin_m\",\n",
    "    \"캐나다\": \"tb_hb_can_egnin_m\",\n",
    "    \"콜롬비아\": \"tb_hb_col_egnin_m\",\n",
    "    \"멕시코\": \"tb_hb_mex_egnin_m\",\n",
    "    \"네덜란드\": \"tb_hb_nld_egnin_m\",\n",
    "    \"독일\": \"tb_hb_deu_egnin_m\",\n",
    "    \"이탈리아\": \"tb_hb_ita_egnin_m\",\n",
    "    \"프랑스\": \"tb_hb_fra_egnin_m\",\n",
    "    \"영국\": \"tb_hb_gbr_egnin_m\",\n",
    "    \"호주\": \"tb_hb_aus_egnin_m\",\n",
    "    \"스위스\": \"tb_hb_che_egnin_m\",\n",
    "    \"스페인\": \"tb_hb_esp_egnin_m\"}\n",
    "plcfi_dict = {\n",
    "    \"한국\": \"tb_hb_kor_plcfi_d\",\n",
    "    \"베트남\": \"tb_hb_vnm_plcfi_d\",\n",
    "    \"인도네시아\": \"tb_hb_idn_plcfi_d\",\n",
    "    \"미국\": \"tb_hb_usa_plcfi_d\",\n",
    "    \"일본\": \"tb_hb_jpn_plcfi_d\",\n",
    "    \"홍콩\": \"tb_hb_hkg_plcfi_d\",\n",
    "    \"말레이시아\": \"tb_hb_mys_plcfi_d\",\n",
    "    \"싱가포르\": \"tb_hb_sgp_plcfi_d\",\n",
    "    \"태국\": \"tb_hb_tha_plcfi_d\",\n",
    "    \"인도\": \"tb_hb_ind_plcfi_d\",\n",
    "    \"캐나다\": \"tb_hb_can_plcfi_d\",\n",
    "    \"콜롬비아\": \"tb_hb_col_plcfi_d\",\n",
    "    \"멕시코\": \"tb_hb_mex_plcfi_d\",\n",
    "    \"네덜란드\": \"tb_hb_nld_plcfi_d\",\n",
    "    \"독일\": \"tb_hb_deu_plcfi_d\",\n",
    "    \"이탈리아\": \"tb_hb_ita_plcfi_d\",\n",
    "    \"프랑스\": \"tb_hb_fra_plcfi_d\",\n",
    "    \"영국\": \"tb_hb_gbr_plcfi_d\",\n",
    "    \"호주\": \"tb_hb_aus_plcfi_d\",\n",
    "    \"스위스\": \"tb_hb_che_plcfi_d\",\n",
    "    \"스페인\": \"tb_hb_esp_plcfi_d\"\n",
    "}\n",
    "plcfi_dict_en = {\n",
    "    \"korea\": \"tb_hb_kor_plcfi_d\",\n",
    "    \"vietnam\": \"tb_hb_vnm_plcfi_d\",\n",
    "    \"indonesia\": \"tb_hb_idn_plcfi_d\",\n",
    "    \"usa\": \"tb_hb_usa_plcfi_d\",\n",
    "    \"japan\": \"tb_hb_jpn_plcfi_d\",\n",
    "    \"hongkong\": \"tb_hb_hkg_plcfi_d\",\n",
    "    \"mylaysia\": \"tb_hb_mys_plcfi_d\",\n",
    "    \"singapore\": \"tb_hb_sgp_plcfi_d\",\n",
    "    \"thai\": \"tb_hb_tha_plcfi_d\",\n",
    "    \"india\": \"tb_hb_ind_plcfi_d\",\n",
    "    \"canada\": \"tb_hb_can_plcfi_d\",\n",
    "    \"colombia\": \"tb_hb_col_plcfi_d\",\n",
    "    \"mexico\": \"tb_hb_mex_plcfi_d\",\n",
    "    \"netherland\": \"tb_hb_nld_plcfi_d\",\n",
    "    \"germany\": \"tb_hb_deu_plcfi_d\",\n",
    "    \"italy\": \"tb_hb_ita_plcfi_d\",\n",
    "    \"france\": \"tb_hb_fra_plcfi_d\",\n",
    "    \"uk\": \"tb_hb_gbr_plcfi_d\",\n",
    "    \"australia\": \"tb_hb_aus_plcfi_d\",\n",
    "    \"switzerland\": \"tb_hb_che_plcfi_d\",\n",
    "    \"spain\": \"tb_hb_esp_plcfi_d\"\n",
    "}"
   ]
  },
  {
   "cell_type": "code",
   "execution_count": 58,
   "metadata": {},
   "outputs": [],
   "source": [
    "def find_key_with_value(text, dictionary):\n",
    "    for key, value in dictionary.items():\n",
    "        if key in text:\n",
    "            return value"
   ]
  },
  {
   "cell_type": "code",
   "execution_count": 66,
   "metadata": {},
   "outputs": [],
   "source": [
    "def translate_file_name(path):\n",
    "    for name in os.listdir(path):\n",
    "        try:\n",
    "            nm = name.split(\".\")[0]\n",
    "            if \"일반\" in path: nm = egnin_dict[nm]\n",
    "            elif \"재무\" in path: \n",
    "                try: nm = plcfi_dict[nm]\n",
    "                except: nm = find_key_with_value(nm, plcfi_dict_en)\n",
    "            os.rename(path + name, path + nm + \".xlsx\")\n",
    "        except:\n",
    "            print(name)"
   ]
  },
  {
   "cell_type": "code",
   "execution_count": 67,
   "metadata": {},
   "outputs": [],
   "source": [
    "plcfi_d = \"C:/Users/user/Desktop/유신영 업무폴더/BDC/1_BDC 데이터 정리/13_2023년 3분기/131_2023년 3분기 3차년도/2023년 3분기 3차년도 재무정보/데이터베이스 적재/\""
   ]
  },
  {
   "cell_type": "code",
   "execution_count": 68,
   "metadata": {},
   "outputs": [
    {
     "name": "stdout",
     "output_type": "stream",
     "text": [
      "finished_malaysia.xlsx\n",
      "tb_hb_col_plcfi_d.xlsx\n",
      "tb_hb_deu_plcfi_d.xlsx\n",
      "tb_hb_fra_plcfi_d.xlsx\n",
      "tb_hb_hkg_plcfi_d.xlsx\n",
      "tb_hb_idn_plcfi_d.xlsx\n",
      "tb_hb_ind_plcfi_d.xlsx\n",
      "tb_hb_ita_plcfi_d.xlsx\n",
      "tb_hb_jpn_plcfi_d.xlsx\n"
     ]
    }
   ],
   "source": [
    "translate_file_name(plcfi_d)"
   ]
  },
  {
   "cell_type": "code",
   "execution_count": 36,
   "metadata": {},
   "outputs": [
    {
     "ename": "KeyError",
     "evalue": "'tb_hb_deu_egnin_m'",
     "output_type": "error",
     "traceback": [
      "\u001b[1;31m---------------------------------------------------------------------------\u001b[0m",
      "\u001b[1;31mKeyError\u001b[0m                                  Traceback (most recent call last)",
      "Cell \u001b[1;32mIn[36], line 1\u001b[0m\n\u001b[1;32m----> 1\u001b[0m translate_file_name(path)\n",
      "Cell \u001b[1;32mIn[34], line 4\u001b[0m, in \u001b[0;36mtranslate_file_name\u001b[1;34m(path)\u001b[0m\n\u001b[0;32m      2\u001b[0m \u001b[39mfor\u001b[39;00m name \u001b[39min\u001b[39;00m os\u001b[39m.\u001b[39mlistdir(path):\n\u001b[0;32m      3\u001b[0m     nm \u001b[39m=\u001b[39m name\u001b[39m.\u001b[39msplit(\u001b[39m\"\u001b[39m\u001b[39m.\u001b[39m\u001b[39m\"\u001b[39m)[\u001b[39m0\u001b[39m]\n\u001b[1;32m----> 4\u001b[0m     \u001b[39mif\u001b[39;00m \u001b[39m\"\u001b[39m\u001b[39m일반\u001b[39m\u001b[39m\"\u001b[39m \u001b[39min\u001b[39;00m path: nm \u001b[39m=\u001b[39m egnin_dict[nm]\n\u001b[0;32m      5\u001b[0m     \u001b[39melif\u001b[39;00m \u001b[39m\"\u001b[39m\u001b[39m재무\u001b[39m\u001b[39m\"\u001b[39m \u001b[39min\u001b[39;00m path: nm \u001b[39m=\u001b[39m egnin_dict[nm]\n\u001b[0;32m      6\u001b[0m     os\u001b[39m.\u001b[39mrename(path \u001b[39m+\u001b[39m name, path \u001b[39m+\u001b[39m nm)\n",
      "\u001b[1;31mKeyError\u001b[0m: 'tb_hb_deu_egnin_m'"
     ]
    }
   ],
   "source": [
    "translate_file_name(path)"
   ]
  },
  {
   "attachments": {},
   "cell_type": "markdown",
   "metadata": {},
   "source": [
    "# FMP DATA MERGE"
   ]
  },
  {
   "cell_type": "code",
   "execution_count": 22,
   "metadata": {},
   "outputs": [],
   "source": [
    "import pandas as pd\n",
    "import os\n",
    "import re"
   ]
  },
  {
   "cell_type": "code",
   "execution_count": 24,
   "metadata": {},
   "outputs": [],
   "source": [
    "fmp_merge_path = \"C:/Users/user/Desktop/유신영 업무폴더/BDC/1_BDC 데이터 정리/13_2023년 3분기/131_2023년 3분기 3차년도/2023년 3분기 3차년도 재무정보/적재전/FMP/\""
   ]
  },
  {
   "cell_type": "code",
   "execution_count": 35,
   "metadata": {},
   "outputs": [
    {
     "name": "stderr",
     "output_type": "stream",
     "text": [
      "  9%|▉         | 1/11 [00:01<00:12,  1.26s/it]"
     ]
    },
    {
     "name": "stdout",
     "output_type": "stream",
     "text": [
      "start is 미국_10000.xlsx\n"
     ]
    },
    {
     "name": "stderr",
     "output_type": "stream",
     "text": [
      " 18%|█▊        | 2/11 [00:02<00:12,  1.35s/it]"
     ]
    },
    {
     "name": "stdout",
     "output_type": "stream",
     "text": [
      "미국_12000.xlsx merging...\n"
     ]
    },
    {
     "name": "stderr",
     "output_type": "stream",
     "text": [
      " 27%|██▋       | 3/11 [00:04<00:11,  1.40s/it]"
     ]
    },
    {
     "name": "stdout",
     "output_type": "stream",
     "text": [
      "미국_2000.xlsx merging...\n"
     ]
    },
    {
     "name": "stderr",
     "output_type": "stream",
     "text": [
      " 36%|███▋      | 4/11 [00:05<00:09,  1.39s/it]"
     ]
    },
    {
     "name": "stdout",
     "output_type": "stream",
     "text": [
      "미국_4000.xlsx merging...\n"
     ]
    },
    {
     "name": "stderr",
     "output_type": "stream",
     "text": [
      " 45%|████▌     | 5/11 [00:06<00:08,  1.36s/it]"
     ]
    },
    {
     "name": "stdout",
     "output_type": "stream",
     "text": [
      "미국_6000.xlsx merging...\n"
     ]
    },
    {
     "name": "stderr",
     "output_type": "stream",
     "text": [
      " 55%|█████▍    | 6/11 [00:08<00:06,  1.31s/it]"
     ]
    },
    {
     "name": "stdout",
     "output_type": "stream",
     "text": [
      "미국_8000.xlsx merging...\n"
     ]
    },
    {
     "name": "stderr",
     "output_type": "stream",
     "text": [
      " 64%|██████▎   | 7/11 [00:22<00:22,  5.52s/it]"
     ]
    },
    {
     "name": "stdout",
     "output_type": "stream",
     "text": [
      "base is 스위스.xlsx\n"
     ]
    },
    {
     "name": "stderr",
     "output_type": "stream",
     "text": [
      " 73%|███████▎  | 8/11 [00:23<00:12,  4.22s/it]"
     ]
    },
    {
     "name": "stdout",
     "output_type": "stream",
     "text": [
      "base is 영국_2000.xlsx\n"
     ]
    },
    {
     "name": "stderr",
     "output_type": "stream",
     "text": [
      " 82%|████████▏ | 9/11 [00:23<00:06,  3.00s/it]"
     ]
    },
    {
     "name": "stdout",
     "output_type": "stream",
     "text": [
      "영국_2642.xlsx merging...\n"
     ]
    },
    {
     "name": "stderr",
     "output_type": "stream",
     "text": [
      " 91%|█████████ | 10/11 [00:28<00:03,  3.33s/it]"
     ]
    },
    {
     "name": "stdout",
     "output_type": "stream",
     "text": [
      "base is 캐나다_1858.xlsx\n"
     ]
    },
    {
     "name": "stderr",
     "output_type": "stream",
     "text": [
      "100%|██████████| 11/11 [00:31<00:00,  2.88s/it]"
     ]
    },
    {
     "name": "stdout",
     "output_type": "stream",
     "text": [
      "base is 호주_2000.xlsx\n"
     ]
    },
    {
     "name": "stderr",
     "output_type": "stream",
     "text": [
      "\n"
     ]
    }
   ],
   "source": [
    "temp = None\n",
    "hangul = re.compile(\"[ㄱ-ㅎㅏ-ㅣ가-힣]+\")\n",
    "for idx in tqdm(os.listdir(fmp_merge_path)):\n",
    "    nm = idx.split(\".\")[0]\n",
    "    nm = str(hangul.findall(nm)[0])\n",
    "    if temp == None:\n",
    "        temp = nm\n",
    "        df = pd.read_excel(fmp_merge_path + idx)\n",
    "        print(\"start is \" + idx)\n",
    "        continue\n",
    "    else:\n",
    "        if temp == nm:\n",
    "            append_df = pd.read_excel(fmp_merge_path + idx)\n",
    "            df = df.append(append_df)\n",
    "            print(idx + \" merging...\")\n",
    "            continue\n",
    "        else:\n",
    "            df.to_excel(f\"merged_{temp}.xlsx\", index=False)\n",
    "            temp = nm\n",
    "            df = pd.read_excel(fmp_merge_path + idx)\n",
    "            print(\"base is \" + idx)\n",
    "            continue\n",
    "df.to_excel(f\"merged_{str(temp)}.xlsx\", index=False)"
   ]
  },
  {
   "cell_type": "code",
   "execution_count": null,
   "metadata": {},
   "outputs": [],
   "source": []
  }
 ],
 "metadata": {
  "kernelspec": {
   "display_name": "BDC",
   "language": "python",
   "name": "python3"
  },
  "language_info": {
   "codemirror_mode": {
    "name": "ipython",
    "version": 3
   },
   "file_extension": ".py",
   "mimetype": "text/x-python",
   "name": "python",
   "nbconvert_exporter": "python",
   "pygments_lexer": "ipython3",
   "version": "3.10.9"
  },
  "orig_nbformat": 4
 },
 "nbformat": 4,
 "nbformat_minor": 2
}
