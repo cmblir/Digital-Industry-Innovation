{
 "cells": [
  {
   "cell_type": "code",
   "execution_count": 1,
   "metadata": {},
   "outputs": [],
   "source": [
    "import pandas as pd"
   ]
  },
  {
   "cell_type": "code",
   "execution_count": 32,
   "metadata": {},
   "outputs": [
    {
     "name": "stderr",
     "output_type": "stream",
     "text": [
      "C:\\Users\\user\\AppData\\Local\\Temp\\ipykernel_19776\\2631662646.py:4: DtypeWarning: Columns (4,5,6,13,14,15,16,17,18,19,22,24,25,26,28,29,30,31,32,33,34,35,39,40,41,45,49,66,68) have mixed types. Specify dtype option on import or set low_memory=False.\n",
      "  df = pd.read_csv(file)\n"
     ]
    }
   ],
   "source": [
    "import pandas as pd\n",
    "\n",
    "with open('디버스 요청자료 수정.csv', 'r', encoding='utf-8', errors='ignore') as file:\n",
    "    df = pd.read_csv(file)\n"
   ]
  },
  {
   "cell_type": "code",
   "execution_count": 36,
   "metadata": {},
   "outputs": [],
   "source": [
    "df = df.drop(['Unnamed: 46', 'Unnamed: 47', 'Unnamed: 48',\n",
    "       'Unnamed: 49', 'Unnamed: 50', 'Unnamed: 51', 'Unnamed: 52',\n",
    "       'Unnamed: 53', 'Unnamed: 54', 'Unnamed: 55', 'Unnamed: 56',\n",
    "       'Unnamed: 57', 'Unnamed: 58', 'Unnamed: 59', 'Unnamed: 60',\n",
    "       'Unnamed: 61', 'Unnamed: 62', 'Unnamed: 63', 'Unnamed: 64',\n",
    "       'Unnamed: 65', 'Unnamed: 66', 'Unnamed: 67', 'Unnamed: 68',\n",
    "       'Unnamed: 69'], axis=1)"
   ]
  },
  {
   "cell_type": "code",
   "execution_count": 43,
   "metadata": {},
   "outputs": [],
   "source": [
    "stock_name = {\n",
    "\"aus\" : [\"Australian Securities Exchange\", \"ASX\", \"English\", \"ENG\"],\n",
    "\"can\" : [\"Toronto Stock Exchange\", \"TSX\", \"English\", \"ENG\"],\n",
    "\"che\" : [\"SIX Swiss Exchange\", \"SIX\", \"German\", \"DEU\"],\n",
    "\"col\" : [\"Bolsa de Valores de Colombia\", \"BVC\", \"Spanish\", \"ESP\"],\n",
    "\"deu\" : [\"Frankfurt Stock Exchange\", \"FSE\", \"German\", \"DEU\"],\n",
    "\"esp\" : [\"Bolsa de Madrid\", \"BM\", \"Spanish\", \"ESP\"],\n",
    "\"fra\" : [\"Euronext Paris\", \"EP\", \"French\", \"FRA\"],\n",
    "\"gbr\" : [\"London Stock Exchange\", \"LSE\", \"English\", \"ENG\"],\n",
    "\"hkg\" : [\"Hong Kong Stock Exchange\", \"HKEX\", \"Cantonese\", \"HKG\"],\n",
    "\"idn\" : [\"Indonesia Stock Exchange\", \"IDX\", \"Indonesian\", \"IDN\"],\n",
    "\"ind\" : [\"National Stock Exchange\", \"NSE\", \"Hindi\", \"IND\"],\n",
    "\"ita\" : [\"Borsa Italiana\", \"BI\", \"Italian\", \"ITA\"],\n",
    "\"jpn\" : [\"Tokyo Stock Exchange\", \"TSE\", \"Japanese\", \"JPN\"],\n",
    "\"kor\" : [\"Korea Exchange\", \"KRX\", \"Korean\", \"KOR\"],\n",
    "\"mys\" : [\"Kuala Lumpur Stock Exchange\", \"KLSE\", \"Malay\", \"MYS\"],\n",
    "\"mex\" : [\"Bolsa Mexicana de Valores\", \"BMV\", \"Spanish\", \"ESP\"],\n",
    "\"nld\" : [\"Euronext Amsterdam\", \"BA\", \"Dutch\", \"NLD\"],\n",
    "\"sgp\" : [\"Singapore Stock Exchange\", \"SGX\", \"English\", \"ENG\"],\n",
    "\"tha\" : [\"Stock Exchange of Thailand\", \"SET\", \"Thai\", \"THA\"],\n",
    "\"usa\" : [\"New York Stock Exchange\", \"NYSE\", \"English\", \"ENG\"],\n",
    "\"vnm\" : [\"Ho Chi Minh City Stock Exchange\", \"HSX\", \"Vietnamese\", \"VNM\"]}"
   ]
  },
  {
   "cell_type": "code",
   "execution_count": 41,
   "metadata": {},
   "outputs": [
    {
     "data": {
      "text/plain": [
       "GBR    64963\n",
       "IND     2122\n",
       "CHE       98\n",
       "COL       54\n",
       "ESP       17\n",
       "KOR       14\n",
       "AUS        8\n",
       "NLD        8\n",
       "DEU        6\n",
       "USA        4\n",
       "FRA        2\n",
       "THA        2\n",
       "HKG        1\n",
       "Name: hb_ntn_cd, dtype: int64"
      ]
     },
     "execution_count": 41,
     "metadata": {},
     "output_type": "execute_result"
    }
   ],
   "source": [
    "df[\"hb_ntn_cd\"].value_counts()"
   ]
  },
  {
   "cell_type": "code",
   "execution_count": 46,
   "metadata": {},
   "outputs": [
    {
     "name": "stderr",
     "output_type": "stream",
     "text": [
      "  0%|          | 0/67303 [00:00<?, ?it/s]C:\\Users\\user\\AppData\\Local\\Temp\\ipykernel_19776\\2189406991.py:6: SettingWithCopyWarning: \n",
      "A value is trying to be set on a copy of a slice from a DataFrame\n",
      "\n",
      "See the caveats in the documentation: https://pandas.pydata.org/pandas-docs/stable/user_guide/indexing.html#returning-a-view-versus-a-copy\n",
      "  df[\"acplc_lngg_lngg_nm\"][idx] = lang\n",
      "C:\\Users\\user\\AppData\\Local\\Temp\\ipykernel_19776\\2189406991.py:7: SettingWithCopyWarning: \n",
      "A value is trying to be set on a copy of a slice from a DataFrame\n",
      "\n",
      "See the caveats in the documentation: https://pandas.pydata.org/pandas-docs/stable/user_guide/indexing.html#returning-a-view-versus-a-copy\n",
      "  df[\"engls_lngg_nm\"][idx] = lang\n",
      "C:\\Users\\user\\AppData\\Local\\Temp\\ipykernel_19776\\2189406991.py:8: SettingWithCopyWarning: \n",
      "A value is trying to be set on a copy of a slice from a DataFrame\n",
      "\n",
      "See the caveats in the documentation: https://pandas.pydata.org/pandas-docs/stable/user_guide/indexing.html#returning-a-view-versus-a-copy\n",
      "  df[\"engls_lngg_nm\"][idx] = lang\n",
      "C:\\Users\\user\\AppData\\Local\\Temp\\ipykernel_19776\\2189406991.py:9: SettingWithCopyWarning: \n",
      "A value is trying to be set on a copy of a slice from a DataFrame\n",
      "\n",
      "See the caveats in the documentation: https://pandas.pydata.org/pandas-docs/stable/user_guide/indexing.html#returning-a-view-versus-a-copy\n",
      "  df[\"ntn_lngg_cd_val\"][idx] = lang_code\n",
      "100%|██████████| 67303/67303 [01:23<00:00, 803.81it/s] \n"
     ]
    }
   ],
   "source": [
    "from tqdm import tqdm\n",
    "for idx in tqdm(range(len(df))):\n",
    "    try:\n",
    "        lang = stock_name[df[\"hb_ntn_cd\"][idx].lower()][2]\n",
    "        lang_code = stock_name[df[\"hb_ntn_cd\"][idx].lower()][3]\n",
    "        df[\"acplc_lngg_lngg_nm\"][idx] = lang\n",
    "        df[\"engls_lngg_nm\"][idx] = lang\n",
    "        df[\"engls_lngg_nm\"][idx] = lang\n",
    "        df[\"ntn_lngg_cd_val\"][idx] = lang_code\n",
    "    except: pass"
   ]
  },
  {
   "cell_type": "code",
   "execution_count": 13,
   "metadata": {},
   "outputs": [],
   "source": [
    "country_dict = {\n",
    "'GBR' : 'United Kingdom',\n",
    "'IND' : 'Indonesia',\n",
    "'CHE' : 'Switzerland',\n",
    "'COL' : 'Colombia',\n",
    "'ESP' : 'Spain',\n",
    "'KOR' : 'Korea',\n",
    "'AUS' : 'Australia',\n",
    "'NLD' : 'Netherlands',\n",
    "'DEU' : 'Germany',\n",
    "'USA' : 'United States',\n",
    "'FRA' : 'France',\n",
    "'THA' : 'Thailand',\n",
    "'HKG' : 'Hong Kong'}"
   ]
  },
  {
   "cell_type": "code",
   "execution_count": 19,
   "metadata": {},
   "outputs": [],
   "source": [
    "from tqdm import tqdm"
   ]
  },
  {
   "cell_type": "code",
   "execution_count": 4,
   "metadata": {},
   "outputs": [],
   "source": [
    "short = \"acplc_lngg_oln_intrd_cont\"\n",
    "long = \"acplc_lngg_entrp_intrd_cont\"\n",
    "short_eng = \"engls_oln_intrd_cont\"\n",
    "long_eng = \"engls_entrp_intrd_cont\""
   ]
  },
  {
   "cell_type": "code",
   "execution_count": 28,
   "metadata": {},
   "outputs": [
    {
     "name": "stderr",
     "output_type": "stream",
     "text": [
      "  0%|          | 0/67304 [00:00<?, ?it/s]C:\\Users\\user\\AppData\\Local\\Temp\\ipykernel_19776\\3248311595.py:8: SettingWithCopyWarning: \n",
      "A value is trying to be set on a copy of a slice from a DataFrame\n",
      "\n",
      "See the caveats in the documentation: https://pandas.pydata.org/pandas-docs/stable/user_guide/indexing.html#returning-a-view-versus-a-copy\n",
      "  df[short][idx] = f\"{company_name} is a company based out of {address}.\"\n",
      "C:\\Users\\user\\AppData\\Local\\Temp\\ipykernel_19776\\3248311595.py:9: SettingWithCopyWarning: \n",
      "A value is trying to be set on a copy of a slice from a DataFrame\n",
      "\n",
      "See the caveats in the documentation: https://pandas.pydata.org/pandas-docs/stable/user_guide/indexing.html#returning-a-view-versus-a-copy\n",
      "  df[short_eng][idx] = f\"{company_name} is a company located in {address}, {country}. Founded in {founded_by} , {company_name} conducts its main business in the {industry_info} industry.\"\n",
      "C:\\Users\\user\\AppData\\Local\\Temp\\ipykernel_19776\\3248311595.py:10: SettingWithCopyWarning: \n",
      "A value is trying to be set on a copy of a slice from a DataFrame\n",
      "\n",
      "See the caveats in the documentation: https://pandas.pydata.org/pandas-docs/stable/user_guide/indexing.html#returning-a-view-versus-a-copy\n",
      "  df[long][idx] = f\"{company_name} is a company based out of {address}.\"\n",
      "C:\\Users\\user\\AppData\\Local\\Temp\\ipykernel_19776\\3248311595.py:11: SettingWithCopyWarning: \n",
      "A value is trying to be set on a copy of a slice from a DataFrame\n",
      "\n",
      "See the caveats in the documentation: https://pandas.pydata.org/pandas-docs/stable/user_guide/indexing.html#returning-a-view-versus-a-copy\n",
      "  df[long_eng][idx] = f\"{company_name} is a company located in {address}, {country}. Founded in {founded_by} , {company_name} conducts its main business in the {industry_info} industry. The company is known for its commitment and actively contributes to various social initiatives, With a focus on innovation, {company_name} continually strives to develop cutting-edge solutions in the {industry_info} field.\"\n",
      "100%|██████████| 67304/67304 [08:34<00:00, 130.89it/s]\n"
     ]
    }
   ],
   "source": [
    "for idx in tqdm(range(len(df))):\n",
    "    try:\n",
    "        address = df[\"acplc_lngg_entrp_addr\"][idx]\n",
    "        country = country_dict[df[\"hb_ntn_cd\"][idx]]\n",
    "        company_name = df[\"acplc_lngg_entrp_nm\"][idx]\n",
    "        founded_by = df[\"fndtn_dt\"][idx]\n",
    "        industry_info = df[\"acplc_lngg_indst_gnnm\"][idx]\n",
    "        df[short][idx] = f\"{company_name} is a company based out of {address}.\"\n",
    "        df[short_eng][idx] = f\"{company_name} is a company located in {address}, {country}. Founded in {founded_by} , {company_name} conducts its main business in the {industry_info} industry.\"\n",
    "        df[long][idx] = f\"{company_name} is a company based out of {address}.\"\n",
    "        df[long_eng][idx] = f\"{company_name} is a company located in {address}, {country}. Founded in {founded_by} , {company_name} conducts its main business in the {industry_info} industry. The company is known for its commitment and actively contributes to various social initiatives, With a focus on innovation, {company_name} continually strives to develop cutting-edge solutions in the {industry_info} field.\"\n",
    "    except:\n",
    "        pass"
   ]
  },
  {
   "cell_type": "code",
   "execution_count": 58,
   "metadata": {},
   "outputs": [
    {
     "data": {
      "text/plain": [
       "1209    automatic packing system ?댁???ъ젏:?곗뾽 ?????indu...\n",
       "Name: acplc_lngg_ceo_nm, dtype: object"
      ]
     },
     "execution_count": 58,
     "metadata": {},
     "output_type": "execute_result"
    }
   ],
   "source": [
    "df[df[\"keyval\"] == 157377][\"acplc_lngg_ceo_nm\"]"
   ]
  },
  {
   "cell_type": "code",
   "execution_count": 24,
   "metadata": {},
   "outputs": [
    {
     "name": "stdout",
     "output_type": "stream",
     "text": [
      "Collecting pyarrow\n",
      "  Downloading pyarrow-12.0.1-cp310-cp310-win_amd64.whl (21.5 MB)\n",
      "     --------------------------------------- 21.5/21.5 MB 24.2 MB/s eta 0:00:00\n",
      "Requirement already satisfied: numpy>=1.16.6 in c:\\users\\user\\anaconda3\\envs\\bdc\\lib\\site-packages (from pyarrow) (1.24.2)\n",
      "Installing collected packages: pyarrow\n",
      "Successfully installed pyarrow-12.0.1\n"
     ]
    }
   ],
   "source": [
    "!pip install pyarrow"
   ]
  },
  {
   "cell_type": "code",
   "execution_count": 48,
   "metadata": {},
   "outputs": [],
   "source": [
    "df.to_csv(\"data.csv\", index=False)"
   ]
  },
  {
   "cell_type": "code",
   "execution_count": null,
   "metadata": {},
   "outputs": [],
   "source": [
    "respond_short = f\"기업명 + is a company based out of + 도시 + 국가.\"\n",
    "respond_long = f\"기업명 + is a company located in + 주소 + , + 도시 + , + 국가. Founded in + 설립일 + , + 기업명 + conducts its main business in the + 산업군 + industry.\""
   ]
  }
 ],
 "metadata": {
  "kernelspec": {
   "display_name": "BDC",
   "language": "python",
   "name": "python3"
  },
  "language_info": {
   "codemirror_mode": {
    "name": "ipython",
    "version": 3
   },
   "file_extension": ".py",
   "mimetype": "text/x-python",
   "name": "python",
   "nbconvert_exporter": "python",
   "pygments_lexer": "ipython3",
   "version": "3.10.9"
  },
  "orig_nbformat": 4
 },
 "nbformat": 4,
 "nbformat_minor": 2
}
