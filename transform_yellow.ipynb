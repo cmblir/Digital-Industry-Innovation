{
 "cells": [
  {
   "cell_type": "code",
   "execution_count": 10,
   "metadata": {},
   "outputs": [],
   "source": [
    "import pandas as pd\n",
    "from tqdm import tqdm\n",
    "import pandas as pd\n",
    "import re\n",
    "import warnings\n",
    "warnings.filterwarnings(\"ignore\", category=FutureWarning)"
   ]
  },
  {
   "cell_type": "code",
   "execution_count": 15,
   "metadata": {},
   "outputs": [],
   "source": [
    "df = pd.read_csv(\"우간다.csv\")\n",
    "company_lst = list(df.columns)"
   ]
  },
  {
   "cell_type": "code",
   "execution_count": 16,
   "metadata": {},
   "outputs": [
    {
     "name": "stderr",
     "output_type": "stream",
     "text": [
      "100%|██████████| 19184/19184 [01:40<00:00, 191.58it/s]\n"
     ]
    }
   ],
   "source": [
    "new_df = pd.DataFrame()\n",
    "fail_lst = []\n",
    "for row in tqdm(company_lst):\n",
    "    column_dict = {}\n",
    "    for idx in range(len(df[row])):\n",
    "        column_dict[\"COMPANY NAME\"] = row\n",
    "        try:\n",
    "            if \"ADDRESS\\n\" in df[row][idx]: column_dict[\"ADDRESS\"] = df[row][idx].replace(\"ADDRESS\\n\", \"\")\n",
    "            elif \"PHONE NUMBER\\n\" in df[row][idx]: column_dict[\"PHONE NUMBER\"] = df[row][idx].replace(\"PHONE NUMBER\\n\", \"\")\n",
    "            elif \"MOBILE PHONE\\n\" in df[row][idx]: column_dict[\"MOBILE PHONE\"] = df[row][idx].replace(\"MOBILE PHONE\\n\", \"\")\n",
    "            elif \"WEBSITE\\n\" in df[row][idx]: column_dict[\"WEBSITE\"] = df[row][idx].replace(\"WEBSITE\\n\", \"\")\n",
    "            elif \"ESTABLISHMENT YEAR\" in df[row][idx]: column_dict[\"ESTABLISHMENT YEAR\"] = df[row][idx].split()[-1]\n",
    "            elif \"EMPLOYEES\" in df[row][idx]: column_dict[\"EMPLOYEES\"] = df[row][idx].split()[-1]\n",
    "            elif \"COMPANY MANAGER\" in df[row][idx]: column_dict[\"COMPANY MANAGER\"] = \"\".join(df[row][idx].split()[2:])\n",
    "            elif \"EMAIL\" in df[row][idx]: column_dict[\"EMAIL\"] = df[row][idx].replace(\"EMAIL\\n\", \"\")\n",
    "            elif \"DESCRIPTION\\n\" in df[row][idx]: column_dict[\"DESCRIPTION\"] = df[row][idx].replace(\"DESCRIPTION\\n\", \"\")\n",
    "            elif \"WORKING HOURS\\n\" in df[row][idx]: column_dict[\"WORKING HOURS\"] = df[row][idx].replace(\"WORKING HOURS\\n\", \"\")\n",
    "            elif \"PRODUCTS & SERVICES\\n\" in df[row][idx]: column_dict[\"PRODUCTS & SERVICES\"] = df[row][idx].replace(\"PRODUCTS & SERVICES\\n\", \"\")\n",
    "            elif \"LISTED IN CATEGORIES\\n\" in df[row][idx]: column_dict[\"LISTED IN CATEGORIES\"] = df[row][idx].replace(\"LISTED IN CATEGORIES\\n\", \"\")\n",
    "            elif \"KEYWORDS\\n\" in df[row][idx]: column_dict[\"KEYWORDS\"] = df[row][idx].replace(\"KEYWORDS\\n\", \"\")\n",
    "            elif \"Related Companies to\" in df[row][idx]: column_dict[\"Related Companies\"] = df[row][idx].split()[2:]\n",
    "            elif \"CONTACT PERSON\\n\" in df[row][idx]: column_dict[\"CONTACT PERSON\"] = df[row][idx].replace(\"CONTACT PERSON\\n\", \"\")\n",
    "            elif \"FAX\\n\" in df[row][idx]: column_dict[\"FAX\"] = df[row][idx].replace(\"FAX\\n\", \"\")\n",
    "            elif \"REGISTRATION CODE\" in df[row][idx]: column_dict[\"REGISTRATION CODE\"] = df[row][idx].split()[-1]\n",
    "            elif \"VAT REGISTRATION\" in df[row][idx]: column_dict[\"VAT REGISTRATION\"] = df[row][idx].split()[-1]\n",
    "            else: \n",
    "                if \"nan\" not in df[row][idx] and df[row][idx] not in fail_lst:\n",
    "                    fail_lst.append(df[row][idx])\n",
    "        except:\n",
    "            pass\n",
    "    new_df = new_df.append(column_dict, ignore_index=True)"
   ]
  },
  {
   "cell_type": "code",
   "execution_count": 17,
   "metadata": {},
   "outputs": [],
   "source": [
    "new_df.to_csv(\"3차년도일반정보/우간다.csv\",index=False)"
   ]
  },
  {
   "cell_type": "code",
   "execution_count": null,
   "metadata": {},
   "outputs": [],
   "source": []
  }
 ],
 "metadata": {
  "kernelspec": {
   "display_name": "BDC",
   "language": "python",
   "name": "python3"
  },
  "language_info": {
   "codemirror_mode": {
    "name": "ipython",
    "version": 3
   },
   "file_extension": ".py",
   "mimetype": "text/x-python",
   "name": "python",
   "nbconvert_exporter": "python",
   "pygments_lexer": "ipython3",
   "version": "3.10.9"
  },
  "orig_nbformat": 4
 },
 "nbformat": 4,
 "nbformat_minor": 2
}
