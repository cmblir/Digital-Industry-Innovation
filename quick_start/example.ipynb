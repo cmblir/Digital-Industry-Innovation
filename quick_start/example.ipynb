{
 "cells": [
  {
   "cell_type": "markdown",
   "metadata": {},
   "source": [
    "# install module"
   ]
  },
  {
   "cell_type": "code",
   "execution_count": 1,
   "metadata": {},
   "outputs": [
    {
     "name": "stdout",
     "output_type": "stream",
     "text": [
      "Requirement already satisfied: dinnovation in c:\\users\\user\\anaconda3\\envs\\sample\\lib\\site-packages (0.1.0.12)\n",
      "Requirement already satisfied: pandas==1.5.3 in c:\\users\\user\\anaconda3\\envs\\sample\\lib\\site-packages (from dinnovation) (1.5.3)\n",
      "Requirement already satisfied: numpy==1.24.2 in c:\\users\\user\\anaconda3\\envs\\sample\\lib\\site-packages (from dinnovation) (1.24.2)\n",
      "Requirement already satisfied: tqdm==4.64.1 in c:\\users\\user\\anaconda3\\envs\\sample\\lib\\site-packages (from dinnovation) (4.64.1)\n",
      "Requirement already satisfied: OpenDartReader==0.2.1 in c:\\users\\user\\anaconda3\\envs\\sample\\lib\\site-packages (from dinnovation) (0.2.1)\n",
      "Requirement already satisfied: beautifulsoup4==4.11.2 in c:\\users\\user\\anaconda3\\envs\\sample\\lib\\site-packages (from dinnovation) (4.11.2)\n",
      "Requirement already satisfied: urllib3==1.26.14 in c:\\users\\user\\anaconda3\\envs\\sample\\lib\\site-packages (from dinnovation) (1.26.14)\n",
      "Requirement already satisfied: selenium==4.8.2 in c:\\users\\user\\anaconda3\\envs\\sample\\lib\\site-packages (from dinnovation) (4.8.2)\n",
      "Requirement already satisfied: webdriver-manager==3.8.5 in c:\\users\\user\\anaconda3\\envs\\sample\\lib\\site-packages (from dinnovation) (3.8.5)\n",
      "Requirement already satisfied: chromedriver-autoinstaller==0.4.0 in c:\\users\\user\\anaconda3\\envs\\sample\\lib\\site-packages (from dinnovation) (0.4.0)\n",
      "Requirement already satisfied: psycopg2==2.9.5 in c:\\users\\user\\anaconda3\\envs\\sample\\lib\\site-packages (from dinnovation) (2.9.5)\n",
      "Requirement already satisfied: sqlalchemy==2.0.4 in c:\\users\\user\\anaconda3\\envs\\sample\\lib\\site-packages (from dinnovation) (2.0.4)\n",
      "Requirement already satisfied: cryptography==41.0.3 in c:\\users\\user\\anaconda3\\envs\\sample\\lib\\site-packages (from dinnovation) (41.0.3)\n",
      "Requirement already satisfied: soupsieve>1.2 in c:\\users\\user\\anaconda3\\envs\\sample\\lib\\site-packages (from beautifulsoup4==4.11.2->dinnovation) (2.4.1)\n",
      "Requirement already satisfied: cffi>=1.12 in c:\\users\\user\\anaconda3\\envs\\sample\\lib\\site-packages (from cryptography==41.0.3->dinnovation) (1.15.1)\n",
      "Requirement already satisfied: requests>=2.3.0 in c:\\users\\user\\anaconda3\\envs\\sample\\lib\\site-packages (from OpenDartReader==0.2.1->dinnovation) (2.31.0)\n",
      "Requirement already satisfied: requests-file in c:\\users\\user\\anaconda3\\envs\\sample\\lib\\site-packages (from OpenDartReader==0.2.1->dinnovation) (1.5.1)\n",
      "Requirement already satisfied: lxml in c:\\users\\user\\anaconda3\\envs\\sample\\lib\\site-packages (from OpenDartReader==0.2.1->dinnovation) (4.9.3)\n",
      "Requirement already satisfied: python-dateutil>=2.8.1 in c:\\users\\user\\anaconda3\\envs\\sample\\lib\\site-packages (from pandas==1.5.3->dinnovation) (2.8.2)\n",
      "Requirement already satisfied: pytz>=2020.1 in c:\\users\\user\\anaconda3\\envs\\sample\\lib\\site-packages (from pandas==1.5.3->dinnovation) (2023.3)\n",
      "Requirement already satisfied: trio~=0.17 in c:\\users\\user\\anaconda3\\envs\\sample\\lib\\site-packages (from selenium==4.8.2->dinnovation) (0.22.2)\n",
      "Requirement already satisfied: trio-websocket~=0.9 in c:\\users\\user\\anaconda3\\envs\\sample\\lib\\site-packages (from selenium==4.8.2->dinnovation) (0.10.3)\n",
      "Requirement already satisfied: certifi>=2021.10.8 in c:\\users\\user\\anaconda3\\envs\\sample\\lib\\site-packages (from selenium==4.8.2->dinnovation) (2023.7.22)\n",
      "Requirement already satisfied: typing-extensions>=4.2.0 in c:\\users\\user\\anaconda3\\envs\\sample\\lib\\site-packages (from sqlalchemy==2.0.4->dinnovation) (4.7.1)\n",
      "Requirement already satisfied: greenlet!=0.4.17 in c:\\users\\user\\anaconda3\\envs\\sample\\lib\\site-packages (from sqlalchemy==2.0.4->dinnovation) (2.0.2)\n",
      "Requirement already satisfied: colorama in c:\\users\\user\\anaconda3\\envs\\sample\\lib\\site-packages (from tqdm==4.64.1->dinnovation) (0.4.6)\n",
      "Requirement already satisfied: python-dotenv in c:\\users\\user\\anaconda3\\envs\\sample\\lib\\site-packages (from webdriver-manager==3.8.5->dinnovation) (1.0.0)\n",
      "Requirement already satisfied: packaging in c:\\users\\user\\anaconda3\\envs\\sample\\lib\\site-packages (from webdriver-manager==3.8.5->dinnovation) (23.1)\n",
      "Requirement already satisfied: pycparser in c:\\users\\user\\anaconda3\\envs\\sample\\lib\\site-packages (from cffi>=1.12->cryptography==41.0.3->dinnovation) (2.21)\n",
      "Requirement already satisfied: six>=1.5 in c:\\users\\user\\anaconda3\\envs\\sample\\lib\\site-packages (from python-dateutil>=2.8.1->pandas==1.5.3->dinnovation) (1.16.0)\n",
      "Requirement already satisfied: charset-normalizer<4,>=2 in c:\\users\\user\\anaconda3\\envs\\sample\\lib\\site-packages (from requests>=2.3.0->OpenDartReader==0.2.1->dinnovation) (3.2.0)\n",
      "Requirement already satisfied: idna<4,>=2.5 in c:\\users\\user\\anaconda3\\envs\\sample\\lib\\site-packages (from requests>=2.3.0->OpenDartReader==0.2.1->dinnovation) (3.4)\n",
      "Requirement already satisfied: attrs>=20.1.0 in c:\\users\\user\\anaconda3\\envs\\sample\\lib\\site-packages (from trio~=0.17->selenium==4.8.2->dinnovation) (23.1.0)\n",
      "Requirement already satisfied: sortedcontainers in c:\\users\\user\\anaconda3\\envs\\sample\\lib\\site-packages (from trio~=0.17->selenium==4.8.2->dinnovation) (2.4.0)\n",
      "Requirement already satisfied: outcome in c:\\users\\user\\anaconda3\\envs\\sample\\lib\\site-packages (from trio~=0.17->selenium==4.8.2->dinnovation) (1.2.0)\n",
      "Requirement already satisfied: sniffio in c:\\users\\user\\anaconda3\\envs\\sample\\lib\\site-packages (from trio~=0.17->selenium==4.8.2->dinnovation) (1.3.0)\n",
      "Requirement already satisfied: exceptiongroup>=1.0.0rc9 in c:\\users\\user\\anaconda3\\envs\\sample\\lib\\site-packages (from trio~=0.17->selenium==4.8.2->dinnovation) (1.1.2)\n",
      "Requirement already satisfied: wsproto>=0.14 in c:\\users\\user\\anaconda3\\envs\\sample\\lib\\site-packages (from trio-websocket~=0.9->selenium==4.8.2->dinnovation) (1.2.0)\n",
      "Requirement already satisfied: PySocks!=1.5.7,<2.0,>=1.5.6 in c:\\users\\user\\anaconda3\\envs\\sample\\lib\\site-packages (from urllib3==1.26.14->dinnovation) (1.7.1)\n",
      "Requirement already satisfied: h11<1,>=0.9.0 in c:\\users\\user\\anaconda3\\envs\\sample\\lib\\site-packages (from wsproto>=0.14->trio-websocket~=0.9->selenium==4.8.2->dinnovation) (0.14.0)\n"
     ]
    }
   ],
   "source": [
    "!pip install dinnovation"
   ]
  },
  {
   "cell_type": "code",
   "execution_count": 3,
   "metadata": {},
   "outputs": [
    {
     "name": "stdout",
     "output_type": "stream",
     "text": [
      "Requirement already satisfied: dinnovation in c:\\users\\user\\anaconda3\\envs\\sample\\lib\\site-packages (0.1.0.13)\n",
      "Requirement already satisfied: pandas==1.5.3 in c:\\users\\user\\anaconda3\\envs\\sample\\lib\\site-packages (from dinnovation) (1.5.3)\n",
      "Requirement already satisfied: numpy==1.24.2 in c:\\users\\user\\anaconda3\\envs\\sample\\lib\\site-packages (from dinnovation) (1.24.2)\n",
      "Requirement already satisfied: tqdm==4.64.1 in c:\\users\\user\\anaconda3\\envs\\sample\\lib\\site-packages (from dinnovation) (4.64.1)\n",
      "Requirement already satisfied: OpenDartReader==0.2.1 in c:\\users\\user\\anaconda3\\envs\\sample\\lib\\site-packages (from dinnovation) (0.2.1)\n",
      "Requirement already satisfied: beautifulsoup4==4.11.2 in c:\\users\\user\\anaconda3\\envs\\sample\\lib\\site-packages (from dinnovation) (4.11.2)\n",
      "Requirement already satisfied: urllib3==1.26.14 in c:\\users\\user\\anaconda3\\envs\\sample\\lib\\site-packages (from dinnovation) (1.26.14)\n",
      "Requirement already satisfied: selenium==4.8.2 in c:\\users\\user\\anaconda3\\envs\\sample\\lib\\site-packages (from dinnovation) (4.8.2)\n",
      "Requirement already satisfied: webdriver-manager==3.8.5 in c:\\users\\user\\anaconda3\\envs\\sample\\lib\\site-packages (from dinnovation) (3.8.5)\n",
      "Requirement already satisfied: chromedriver-autoinstaller==0.4.0 in c:\\users\\user\\anaconda3\\envs\\sample\\lib\\site-packages (from dinnovation) (0.4.0)\n",
      "Requirement already satisfied: psycopg2==2.9.5 in c:\\users\\user\\anaconda3\\envs\\sample\\lib\\site-packages (from dinnovation) (2.9.5)\n",
      "Requirement already satisfied: sqlalchemy==2.0.4 in c:\\users\\user\\anaconda3\\envs\\sample\\lib\\site-packages (from dinnovation) (2.0.4)\n",
      "Requirement already satisfied: cryptography==41.0.3 in c:\\users\\user\\anaconda3\\envs\\sample\\lib\\site-packages (from dinnovation) (41.0.3)\n",
      "Requirement already satisfied: soupsieve>1.2 in c:\\users\\user\\anaconda3\\envs\\sample\\lib\\site-packages (from beautifulsoup4==4.11.2->dinnovation) (2.4.1)\n",
      "Requirement already satisfied: cffi>=1.12 in c:\\users\\user\\anaconda3\\envs\\sample\\lib\\site-packages (from cryptography==41.0.3->dinnovation) (1.15.1)\n",
      "Requirement already satisfied: requests>=2.3.0 in c:\\users\\user\\anaconda3\\envs\\sample\\lib\\site-packages (from OpenDartReader==0.2.1->dinnovation) (2.31.0)\n",
      "Requirement already satisfied: requests-file in c:\\users\\user\\anaconda3\\envs\\sample\\lib\\site-packages (from OpenDartReader==0.2.1->dinnovation) (1.5.1)\n",
      "Requirement already satisfied: lxml in c:\\users\\user\\anaconda3\\envs\\sample\\lib\\site-packages (from OpenDartReader==0.2.1->dinnovation) (4.9.3)\n",
      "Requirement already satisfied: python-dateutil>=2.8.1 in c:\\users\\user\\anaconda3\\envs\\sample\\lib\\site-packages (from pandas==1.5.3->dinnovation) (2.8.2)\n",
      "Requirement already satisfied: pytz>=2020.1 in c:\\users\\user\\anaconda3\\envs\\sample\\lib\\site-packages (from pandas==1.5.3->dinnovation) (2023.3)\n",
      "Requirement already satisfied: trio~=0.17 in c:\\users\\user\\anaconda3\\envs\\sample\\lib\\site-packages (from selenium==4.8.2->dinnovation) (0.22.2)\n",
      "Requirement already satisfied: trio-websocket~=0.9 in c:\\users\\user\\anaconda3\\envs\\sample\\lib\\site-packages (from selenium==4.8.2->dinnovation) (0.10.3)\n",
      "Requirement already satisfied: certifi>=2021.10.8 in c:\\users\\user\\anaconda3\\envs\\sample\\lib\\site-packages (from selenium==4.8.2->dinnovation) (2023.7.22)\n",
      "Requirement already satisfied: typing-extensions>=4.2.0 in c:\\users\\user\\anaconda3\\envs\\sample\\lib\\site-packages (from sqlalchemy==2.0.4->dinnovation) (4.7.1)\n",
      "Requirement already satisfied: greenlet!=0.4.17 in c:\\users\\user\\anaconda3\\envs\\sample\\lib\\site-packages (from sqlalchemy==2.0.4->dinnovation) (2.0.2)\n",
      "Requirement already satisfied: colorama in c:\\users\\user\\anaconda3\\envs\\sample\\lib\\site-packages (from tqdm==4.64.1->dinnovation) (0.4.6)\n",
      "Requirement already satisfied: python-dotenv in c:\\users\\user\\anaconda3\\envs\\sample\\lib\\site-packages (from webdriver-manager==3.8.5->dinnovation) (1.0.0)\n",
      "Requirement already satisfied: packaging in c:\\users\\user\\anaconda3\\envs\\sample\\lib\\site-packages (from webdriver-manager==3.8.5->dinnovation) (23.1)\n",
      "Requirement already satisfied: pycparser in c:\\users\\user\\anaconda3\\envs\\sample\\lib\\site-packages (from cffi>=1.12->cryptography==41.0.3->dinnovation) (2.21)\n",
      "Requirement already satisfied: six>=1.5 in c:\\users\\user\\anaconda3\\envs\\sample\\lib\\site-packages (from python-dateutil>=2.8.1->pandas==1.5.3->dinnovation) (1.16.0)\n",
      "Requirement already satisfied: charset-normalizer<4,>=2 in c:\\users\\user\\anaconda3\\envs\\sample\\lib\\site-packages (from requests>=2.3.0->OpenDartReader==0.2.1->dinnovation) (3.2.0)\n",
      "Requirement already satisfied: idna<4,>=2.5 in c:\\users\\user\\anaconda3\\envs\\sample\\lib\\site-packages (from requests>=2.3.0->OpenDartReader==0.2.1->dinnovation) (3.4)\n",
      "Requirement already satisfied: attrs>=20.1.0 in c:\\users\\user\\anaconda3\\envs\\sample\\lib\\site-packages (from trio~=0.17->selenium==4.8.2->dinnovation) (23.1.0)\n",
      "Requirement already satisfied: sortedcontainers in c:\\users\\user\\anaconda3\\envs\\sample\\lib\\site-packages (from trio~=0.17->selenium==4.8.2->dinnovation) (2.4.0)\n",
      "Requirement already satisfied: outcome in c:\\users\\user\\anaconda3\\envs\\sample\\lib\\site-packages (from trio~=0.17->selenium==4.8.2->dinnovation) (1.2.0)\n",
      "Requirement already satisfied: sniffio in c:\\users\\user\\anaconda3\\envs\\sample\\lib\\site-packages (from trio~=0.17->selenium==4.8.2->dinnovation) (1.3.0)\n",
      "Requirement already satisfied: exceptiongroup>=1.0.0rc9 in c:\\users\\user\\anaconda3\\envs\\sample\\lib\\site-packages (from trio~=0.17->selenium==4.8.2->dinnovation) (1.1.2)\n",
      "Requirement already satisfied: wsproto>=0.14 in c:\\users\\user\\anaconda3\\envs\\sample\\lib\\site-packages (from trio-websocket~=0.9->selenium==4.8.2->dinnovation) (1.2.0)\n",
      "Requirement already satisfied: PySocks!=1.5.7,<2.0,>=1.5.6 in c:\\users\\user\\anaconda3\\envs\\sample\\lib\\site-packages (from urllib3==1.26.14->dinnovation) (1.7.1)\n",
      "Requirement already satisfied: h11<1,>=0.9.0 in c:\\users\\user\\anaconda3\\envs\\sample\\lib\\site-packages (from wsproto>=0.14->trio-websocket~=0.9->selenium==4.8.2->dinnovation) (0.14.0)\n"
     ]
    }
   ],
   "source": [
    "!pip install --upgrade dinnovation"
   ]
  },
  {
   "cell_type": "markdown",
   "metadata": {},
   "source": [
    "# import library"
   ]
  },
  {
   "cell_type": "code",
   "execution_count": 4,
   "metadata": {},
   "outputs": [],
   "source": [
    "import dinnovation as dn"
   ]
  },
  {
   "cell_type": "code",
   "execution_count": 5,
   "metadata": {},
   "outputs": [
    {
     "data": {
      "text/plain": [
       "'0.1.0.13'"
      ]
     },
     "execution_count": 5,
     "metadata": {},
     "output_type": "execute_result"
    }
   ],
   "source": [
    "dn.__version__"
   ]
  },
  {
   "cell_type": "code",
   "execution_count": 6,
   "metadata": {},
   "outputs": [
    {
     "data": {
      "text/plain": [
       "'cmblir'"
      ]
     },
     "execution_count": 6,
     "metadata": {},
     "output_type": "execute_result"
    }
   ],
   "source": [
    "dn.__author__"
   ]
  },
  {
   "cell_type": "markdown",
   "metadata": {},
   "source": [
    "# Quick Start\n",
    "\n",
    "## DART"
   ]
  },
  {
   "cell_type": "code",
   "execution_count": 1,
   "metadata": {},
   "outputs": [
    {
     "ename": "ModuleNotFoundError",
     "evalue": "No module named 'constants'",
     "output_type": "error",
     "traceback": [
      "\u001b[1;31m---------------------------------------------------------------------------\u001b[0m",
      "\u001b[1;31mModuleNotFoundError\u001b[0m                       Traceback (most recent call last)",
      "Cell \u001b[1;32mIn[1], line 1\u001b[0m\n\u001b[1;32m----> 1\u001b[0m \u001b[39mfrom\u001b[39;00m \u001b[39mdinnovation\u001b[39;00m\u001b[39m.\u001b[39;00m\u001b[39mcollection\u001b[39;00m\u001b[39m.\u001b[39;00m\u001b[39mfinancial\u001b[39;00m \u001b[39mimport\u001b[39;00m dart\n",
      "File \u001b[1;32mc:\\Users\\user\\anaconda3\\envs\\sample\\lib\\site-packages\\dinnovation\\collection\\financial\\dart.py:2\u001b[0m\n\u001b[0;32m      1\u001b[0m \u001b[39mimport\u001b[39;00m \u001b[39mpandas\u001b[39;00m \u001b[39mas\u001b[39;00m \u001b[39mpd\u001b[39;00m\n\u001b[1;32m----> 2\u001b[0m \u001b[39mfrom\u001b[39;00m \u001b[39mconstants\u001b[39;00m \u001b[39mimport\u001b[39;00m const\n\u001b[0;32m      3\u001b[0m \u001b[39mfrom\u001b[39;00m \u001b[39mtqdm\u001b[39;00m \u001b[39mimport\u001b[39;00m tqdm\n\u001b[0;32m      4\u001b[0m \u001b[39mimport\u001b[39;00m \u001b[39mOpenDartReader\u001b[39;00m\n",
      "\u001b[1;31mModuleNotFoundError\u001b[0m: No module named 'constants'"
     ]
    }
   ],
   "source": [
    "from dinnovation.collection.financial import dart"
   ]
  },
  {
   "cell_type": "code",
   "execution_count": 2,
   "metadata": {},
   "outputs": [
    {
     "ename": "FileNotFoundError",
     "evalue": "[Errno 2] No such file or directory: 'financial_constants.enc'",
     "output_type": "error",
     "traceback": [
      "\u001b[1;31m---------------------------------------------------------------------------\u001b[0m",
      "\u001b[1;31mFileNotFoundError\u001b[0m                         Traceback (most recent call last)",
      "Cell \u001b[1;32mIn[2], line 1\u001b[0m\n\u001b[1;32m----> 1\u001b[0m \u001b[39mfrom\u001b[39;00m \u001b[39mdinnovation\u001b[39;00m\u001b[39m.\u001b[39;00m\u001b[39mcollection\u001b[39;00m\u001b[39m.\u001b[39;00m\u001b[39mfinancial\u001b[39;00m\u001b[39m.\u001b[39;00m\u001b[39mconstants\u001b[39;00m \u001b[39mimport\u001b[39;00m const\n",
      "File \u001b[1;32mc:\\Users\\user\\anaconda3\\envs\\sample\\lib\\site-packages\\dinnovation\\collection\\financial\\constants\\const.py:17\u001b[0m\n\u001b[0;32m      9\u001b[0m     kdf \u001b[39m=\u001b[39m PBKDF2HMAC(\n\u001b[0;32m     10\u001b[0m         algorithm\u001b[39m=\u001b[39mhashes\u001b[39m.\u001b[39mSHA256(),\n\u001b[0;32m     11\u001b[0m         length\u001b[39m=\u001b[39m\u001b[39m32\u001b[39m,\n\u001b[0;32m     12\u001b[0m         salt\u001b[39m=\u001b[39msalt,\n\u001b[0;32m     13\u001b[0m         iterations\u001b[39m=\u001b[39m\u001b[39m100000\u001b[39m,\n\u001b[0;32m     14\u001b[0m     )\n\u001b[0;32m     15\u001b[0m     \u001b[39mreturn\u001b[39;00m base64\u001b[39m.\u001b[39murlsafe_b64encode(kdf\u001b[39m.\u001b[39mderive(password))\n\u001b[1;32m---> 17\u001b[0m \u001b[39mwith\u001b[39;00m \u001b[39mopen\u001b[39;49m(\u001b[39m'\u001b[39;49m\u001b[39mfinancial_constants.enc\u001b[39;49m\u001b[39m'\u001b[39;49m, \u001b[39m'\u001b[39;49m\u001b[39mrb\u001b[39;49m\u001b[39m'\u001b[39;49m) \u001b[39mas\u001b[39;00m file:\n\u001b[0;32m     18\u001b[0m     salt \u001b[39m=\u001b[39m file\u001b[39m.\u001b[39mread(\u001b[39m16\u001b[39m) \n\u001b[0;32m     19\u001b[0m     encrypted_data \u001b[39m=\u001b[39m file\u001b[39m.\u001b[39mread()\n",
      "\u001b[1;31mFileNotFoundError\u001b[0m: [Errno 2] No such file or directory: 'financial_constants.enc'"
     ]
    }
   ],
   "source": [
    "from dinnovation.collection.financial.constants import const"
   ]
  },
  {
   "cell_type": "code",
   "execution_count": null,
   "metadata": {},
   "outputs": [],
   "source": []
  }
 ],
 "metadata": {
  "kernelspec": {
   "display_name": "BDC",
   "language": "python",
   "name": "python3"
  },
  "language_info": {
   "codemirror_mode": {
    "name": "ipython",
    "version": 3
   },
   "file_extension": ".py",
   "mimetype": "text/x-python",
   "name": "python",
   "nbconvert_exporter": "python",
   "pygments_lexer": "ipython3",
   "version": "3.9.0"
  },
  "orig_nbformat": 4
 },
 "nbformat": 4,
 "nbformat_minor": 2
}
