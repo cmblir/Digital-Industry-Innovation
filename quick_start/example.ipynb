{
 "cells": [
  {
   "cell_type": "markdown",
   "metadata": {},
   "source": [
    "# install module"
   ]
  },
  {
   "cell_type": "code",
   "execution_count": 7,
   "metadata": {},
   "outputs": [
    {
     "name": "stdout",
     "output_type": "stream",
     "text": [
      "Requirement already satisfied: dinnovation in c:\\users\\user\\anaconda3\\envs\\sample\\lib\\site-packages (0.1.0.17)\n",
      "Requirement already satisfied: pandas==1.5.3 in c:\\users\\user\\anaconda3\\envs\\sample\\lib\\site-packages (from dinnovation) (1.5.3)\n",
      "Requirement already satisfied: numpy==1.24.2 in c:\\users\\user\\anaconda3\\envs\\sample\\lib\\site-packages (from dinnovation) (1.24.2)\n",
      "Requirement already satisfied: tqdm==4.64.1 in c:\\users\\user\\anaconda3\\envs\\sample\\lib\\site-packages (from dinnovation) (4.64.1)\n",
      "Requirement already satisfied: OpenDartReader==0.2.1 in c:\\users\\user\\anaconda3\\envs\\sample\\lib\\site-packages (from dinnovation) (0.2.1)\n",
      "Requirement already satisfied: beautifulsoup4==4.11.2 in c:\\users\\user\\anaconda3\\envs\\sample\\lib\\site-packages (from dinnovation) (4.11.2)\n",
      "Requirement already satisfied: urllib3==1.26.14 in c:\\users\\user\\anaconda3\\envs\\sample\\lib\\site-packages (from dinnovation) (1.26.14)\n",
      "Requirement already satisfied: selenium==4.8.2 in c:\\users\\user\\anaconda3\\envs\\sample\\lib\\site-packages (from dinnovation) (4.8.2)\n",
      "Requirement already satisfied: webdriver-manager==3.8.5 in c:\\users\\user\\anaconda3\\envs\\sample\\lib\\site-packages (from dinnovation) (3.8.5)\n",
      "Requirement already satisfied: chromedriver-autoinstaller==0.4.0 in c:\\users\\user\\anaconda3\\envs\\sample\\lib\\site-packages (from dinnovation) (0.4.0)\n",
      "Requirement already satisfied: psycopg2==2.9.5 in c:\\users\\user\\anaconda3\\envs\\sample\\lib\\site-packages (from dinnovation) (2.9.5)\n",
      "Requirement already satisfied: sqlalchemy==2.0.4 in c:\\users\\user\\anaconda3\\envs\\sample\\lib\\site-packages (from dinnovation) (2.0.4)\n",
      "Requirement already satisfied: cryptography==41.0.3 in c:\\users\\user\\anaconda3\\envs\\sample\\lib\\site-packages (from dinnovation) (41.0.3)\n",
      "Requirement already satisfied: soupsieve>1.2 in c:\\users\\user\\anaconda3\\envs\\sample\\lib\\site-packages (from beautifulsoup4==4.11.2->dinnovation) (2.4.1)\n",
      "Requirement already satisfied: cffi>=1.12 in c:\\users\\user\\anaconda3\\envs\\sample\\lib\\site-packages (from cryptography==41.0.3->dinnovation) (1.15.1)\n",
      "Requirement already satisfied: requests>=2.3.0 in c:\\users\\user\\anaconda3\\envs\\sample\\lib\\site-packages (from OpenDartReader==0.2.1->dinnovation) (2.31.0)\n",
      "Requirement already satisfied: requests-file in c:\\users\\user\\anaconda3\\envs\\sample\\lib\\site-packages (from OpenDartReader==0.2.1->dinnovation) (1.5.1)\n",
      "Requirement already satisfied: lxml in c:\\users\\user\\anaconda3\\envs\\sample\\lib\\site-packages (from OpenDartReader==0.2.1->dinnovation) (4.9.3)\n",
      "Requirement already satisfied: python-dateutil>=2.8.1 in c:\\users\\user\\anaconda3\\envs\\sample\\lib\\site-packages (from pandas==1.5.3->dinnovation) (2.8.2)\n",
      "Requirement already satisfied: pytz>=2020.1 in c:\\users\\user\\anaconda3\\envs\\sample\\lib\\site-packages (from pandas==1.5.3->dinnovation) (2023.3)\n",
      "Requirement already satisfied: trio~=0.17 in c:\\users\\user\\anaconda3\\envs\\sample\\lib\\site-packages (from selenium==4.8.2->dinnovation) (0.22.2)\n",
      "Requirement already satisfied: trio-websocket~=0.9 in c:\\users\\user\\anaconda3\\envs\\sample\\lib\\site-packages (from selenium==4.8.2->dinnovation) (0.10.3)\n",
      "Requirement already satisfied: certifi>=2021.10.8 in c:\\users\\user\\anaconda3\\envs\\sample\\lib\\site-packages (from selenium==4.8.2->dinnovation) (2023.7.22)\n",
      "Requirement already satisfied: typing-extensions>=4.2.0 in c:\\users\\user\\anaconda3\\envs\\sample\\lib\\site-packages (from sqlalchemy==2.0.4->dinnovation) (4.7.1)\n",
      "Requirement already satisfied: greenlet!=0.4.17 in c:\\users\\user\\anaconda3\\envs\\sample\\lib\\site-packages (from sqlalchemy==2.0.4->dinnovation) (2.0.2)\n",
      "Requirement already satisfied: colorama in c:\\users\\user\\anaconda3\\envs\\sample\\lib\\site-packages (from tqdm==4.64.1->dinnovation) (0.4.6)\n",
      "Requirement already satisfied: python-dotenv in c:\\users\\user\\anaconda3\\envs\\sample\\lib\\site-packages (from webdriver-manager==3.8.5->dinnovation) (1.0.0)\n",
      "Requirement already satisfied: packaging in c:\\users\\user\\anaconda3\\envs\\sample\\lib\\site-packages (from webdriver-manager==3.8.5->dinnovation) (23.1)\n",
      "Requirement already satisfied: pycparser in c:\\users\\user\\anaconda3\\envs\\sample\\lib\\site-packages (from cffi>=1.12->cryptography==41.0.3->dinnovation) (2.21)\n",
      "Requirement already satisfied: six>=1.5 in c:\\users\\user\\anaconda3\\envs\\sample\\lib\\site-packages (from python-dateutil>=2.8.1->pandas==1.5.3->dinnovation) (1.16.0)\n",
      "Requirement already satisfied: charset-normalizer<4,>=2 in c:\\users\\user\\anaconda3\\envs\\sample\\lib\\site-packages (from requests>=2.3.0->OpenDartReader==0.2.1->dinnovation) (3.2.0)\n",
      "Requirement already satisfied: idna<4,>=2.5 in c:\\users\\user\\anaconda3\\envs\\sample\\lib\\site-packages (from requests>=2.3.0->OpenDartReader==0.2.1->dinnovation) (3.4)\n",
      "Requirement already satisfied: attrs>=20.1.0 in c:\\users\\user\\anaconda3\\envs\\sample\\lib\\site-packages (from trio~=0.17->selenium==4.8.2->dinnovation) (23.1.0)\n",
      "Requirement already satisfied: sortedcontainers in c:\\users\\user\\anaconda3\\envs\\sample\\lib\\site-packages (from trio~=0.17->selenium==4.8.2->dinnovation) (2.4.0)\n",
      "Requirement already satisfied: outcome in c:\\users\\user\\anaconda3\\envs\\sample\\lib\\site-packages (from trio~=0.17->selenium==4.8.2->dinnovation) (1.2.0)\n",
      "Requirement already satisfied: sniffio in c:\\users\\user\\anaconda3\\envs\\sample\\lib\\site-packages (from trio~=0.17->selenium==4.8.2->dinnovation) (1.3.0)\n",
      "Requirement already satisfied: exceptiongroup>=1.0.0rc9 in c:\\users\\user\\anaconda3\\envs\\sample\\lib\\site-packages (from trio~=0.17->selenium==4.8.2->dinnovation) (1.1.2)\n",
      "Requirement already satisfied: wsproto>=0.14 in c:\\users\\user\\anaconda3\\envs\\sample\\lib\\site-packages (from trio-websocket~=0.9->selenium==4.8.2->dinnovation) (1.2.0)\n",
      "Requirement already satisfied: PySocks!=1.5.7,<2.0,>=1.5.6 in c:\\users\\user\\anaconda3\\envs\\sample\\lib\\site-packages (from urllib3==1.26.14->dinnovation) (1.7.1)\n",
      "Requirement already satisfied: h11<1,>=0.9.0 in c:\\users\\user\\anaconda3\\envs\\sample\\lib\\site-packages (from wsproto>=0.14->trio-websocket~=0.9->selenium==4.8.2->dinnovation) (0.14.0)\n"
     ]
    }
   ],
   "source": [
    "!pip install dinnovation"
   ]
  },
  {
   "cell_type": "code",
   "execution_count": 8,
   "metadata": {},
   "outputs": [
    {
     "name": "stdout",
     "output_type": "stream",
     "text": [
      "Requirement already satisfied: dinnovation in c:\\users\\user\\anaconda3\\envs\\sample\\lib\\site-packages (0.1.0.17)\n",
      "Requirement already satisfied: pandas==1.5.3 in c:\\users\\user\\anaconda3\\envs\\sample\\lib\\site-packages (from dinnovation) (1.5.3)\n",
      "Requirement already satisfied: numpy==1.24.2 in c:\\users\\user\\anaconda3\\envs\\sample\\lib\\site-packages (from dinnovation) (1.24.2)\n",
      "Requirement already satisfied: tqdm==4.64.1 in c:\\users\\user\\anaconda3\\envs\\sample\\lib\\site-packages (from dinnovation) (4.64.1)\n",
      "Requirement already satisfied: OpenDartReader==0.2.1 in c:\\users\\user\\anaconda3\\envs\\sample\\lib\\site-packages (from dinnovation) (0.2.1)\n",
      "Requirement already satisfied: beautifulsoup4==4.11.2 in c:\\users\\user\\anaconda3\\envs\\sample\\lib\\site-packages (from dinnovation) (4.11.2)\n",
      "Requirement already satisfied: urllib3==1.26.14 in c:\\users\\user\\anaconda3\\envs\\sample\\lib\\site-packages (from dinnovation) (1.26.14)\n",
      "Requirement already satisfied: selenium==4.8.2 in c:\\users\\user\\anaconda3\\envs\\sample\\lib\\site-packages (from dinnovation) (4.8.2)\n",
      "Requirement already satisfied: webdriver-manager==3.8.5 in c:\\users\\user\\anaconda3\\envs\\sample\\lib\\site-packages (from dinnovation) (3.8.5)\n",
      "Requirement already satisfied: chromedriver-autoinstaller==0.4.0 in c:\\users\\user\\anaconda3\\envs\\sample\\lib\\site-packages (from dinnovation) (0.4.0)\n",
      "Requirement already satisfied: psycopg2==2.9.5 in c:\\users\\user\\anaconda3\\envs\\sample\\lib\\site-packages (from dinnovation) (2.9.5)\n",
      "Requirement already satisfied: sqlalchemy==2.0.4 in c:\\users\\user\\anaconda3\\envs\\sample\\lib\\site-packages (from dinnovation) (2.0.4)\n",
      "Requirement already satisfied: cryptography==41.0.3 in c:\\users\\user\\anaconda3\\envs\\sample\\lib\\site-packages (from dinnovation) (41.0.3)\n",
      "Requirement already satisfied: soupsieve>1.2 in c:\\users\\user\\anaconda3\\envs\\sample\\lib\\site-packages (from beautifulsoup4==4.11.2->dinnovation) (2.4.1)\n",
      "Requirement already satisfied: cffi>=1.12 in c:\\users\\user\\anaconda3\\envs\\sample\\lib\\site-packages (from cryptography==41.0.3->dinnovation) (1.15.1)\n",
      "Requirement already satisfied: requests>=2.3.0 in c:\\users\\user\\anaconda3\\envs\\sample\\lib\\site-packages (from OpenDartReader==0.2.1->dinnovation) (2.31.0)\n",
      "Requirement already satisfied: requests-file in c:\\users\\user\\anaconda3\\envs\\sample\\lib\\site-packages (from OpenDartReader==0.2.1->dinnovation) (1.5.1)\n",
      "Requirement already satisfied: lxml in c:\\users\\user\\anaconda3\\envs\\sample\\lib\\site-packages (from OpenDartReader==0.2.1->dinnovation) (4.9.3)\n",
      "Requirement already satisfied: python-dateutil>=2.8.1 in c:\\users\\user\\anaconda3\\envs\\sample\\lib\\site-packages (from pandas==1.5.3->dinnovation) (2.8.2)\n",
      "Requirement already satisfied: pytz>=2020.1 in c:\\users\\user\\anaconda3\\envs\\sample\\lib\\site-packages (from pandas==1.5.3->dinnovation) (2023.3)\n",
      "Requirement already satisfied: trio~=0.17 in c:\\users\\user\\anaconda3\\envs\\sample\\lib\\site-packages (from selenium==4.8.2->dinnovation) (0.22.2)\n",
      "Requirement already satisfied: trio-websocket~=0.9 in c:\\users\\user\\anaconda3\\envs\\sample\\lib\\site-packages (from selenium==4.8.2->dinnovation) (0.10.3)\n",
      "Requirement already satisfied: certifi>=2021.10.8 in c:\\users\\user\\anaconda3\\envs\\sample\\lib\\site-packages (from selenium==4.8.2->dinnovation) (2023.7.22)\n",
      "Requirement already satisfied: typing-extensions>=4.2.0 in c:\\users\\user\\anaconda3\\envs\\sample\\lib\\site-packages (from sqlalchemy==2.0.4->dinnovation) (4.7.1)\n",
      "Requirement already satisfied: greenlet!=0.4.17 in c:\\users\\user\\anaconda3\\envs\\sample\\lib\\site-packages (from sqlalchemy==2.0.4->dinnovation) (2.0.2)\n",
      "Requirement already satisfied: colorama in c:\\users\\user\\anaconda3\\envs\\sample\\lib\\site-packages (from tqdm==4.64.1->dinnovation) (0.4.6)\n",
      "Requirement already satisfied: python-dotenv in c:\\users\\user\\anaconda3\\envs\\sample\\lib\\site-packages (from webdriver-manager==3.8.5->dinnovation) (1.0.0)\n",
      "Requirement already satisfied: packaging in c:\\users\\user\\anaconda3\\envs\\sample\\lib\\site-packages (from webdriver-manager==3.8.5->dinnovation) (23.1)\n",
      "Requirement already satisfied: pycparser in c:\\users\\user\\anaconda3\\envs\\sample\\lib\\site-packages (from cffi>=1.12->cryptography==41.0.3->dinnovation) (2.21)\n",
      "Requirement already satisfied: six>=1.5 in c:\\users\\user\\anaconda3\\envs\\sample\\lib\\site-packages (from python-dateutil>=2.8.1->pandas==1.5.3->dinnovation) (1.16.0)\n",
      "Requirement already satisfied: charset-normalizer<4,>=2 in c:\\users\\user\\anaconda3\\envs\\sample\\lib\\site-packages (from requests>=2.3.0->OpenDartReader==0.2.1->dinnovation) (3.2.0)\n",
      "Requirement already satisfied: idna<4,>=2.5 in c:\\users\\user\\anaconda3\\envs\\sample\\lib\\site-packages (from requests>=2.3.0->OpenDartReader==0.2.1->dinnovation) (3.4)\n",
      "Requirement already satisfied: attrs>=20.1.0 in c:\\users\\user\\anaconda3\\envs\\sample\\lib\\site-packages (from trio~=0.17->selenium==4.8.2->dinnovation) (23.1.0)\n",
      "Requirement already satisfied: sortedcontainers in c:\\users\\user\\anaconda3\\envs\\sample\\lib\\site-packages (from trio~=0.17->selenium==4.8.2->dinnovation) (2.4.0)\n",
      "Requirement already satisfied: outcome in c:\\users\\user\\anaconda3\\envs\\sample\\lib\\site-packages (from trio~=0.17->selenium==4.8.2->dinnovation) (1.2.0)\n",
      "Requirement already satisfied: sniffio in c:\\users\\user\\anaconda3\\envs\\sample\\lib\\site-packages (from trio~=0.17->selenium==4.8.2->dinnovation) (1.3.0)\n",
      "Requirement already satisfied: exceptiongroup>=1.0.0rc9 in c:\\users\\user\\anaconda3\\envs\\sample\\lib\\site-packages (from trio~=0.17->selenium==4.8.2->dinnovation) (1.1.2)\n",
      "Requirement already satisfied: wsproto>=0.14 in c:\\users\\user\\anaconda3\\envs\\sample\\lib\\site-packages (from trio-websocket~=0.9->selenium==4.8.2->dinnovation) (1.2.0)\n",
      "Requirement already satisfied: PySocks!=1.5.7,<2.0,>=1.5.6 in c:\\users\\user\\anaconda3\\envs\\sample\\lib\\site-packages (from urllib3==1.26.14->dinnovation) (1.7.1)\n",
      "Requirement already satisfied: h11<1,>=0.9.0 in c:\\users\\user\\anaconda3\\envs\\sample\\lib\\site-packages (from wsproto>=0.14->trio-websocket~=0.9->selenium==4.8.2->dinnovation) (0.14.0)\n"
     ]
    }
   ],
   "source": [
    "!pip install --upgrade dinnovation"
   ]
  },
  {
   "cell_type": "markdown",
   "metadata": {},
   "source": [
    "# import library"
   ]
  },
  {
   "cell_type": "code",
   "execution_count": 9,
   "metadata": {},
   "outputs": [],
   "source": [
    "import dinnovation as dn"
   ]
  },
  {
   "cell_type": "code",
   "execution_count": 10,
   "metadata": {},
   "outputs": [
    {
     "data": {
      "text/plain": [
       "'0.1.0.17'"
      ]
     },
     "execution_count": 10,
     "metadata": {},
     "output_type": "execute_result"
    }
   ],
   "source": [
    "dn.__version__"
   ]
  },
  {
   "cell_type": "code",
   "execution_count": 11,
   "metadata": {},
   "outputs": [
    {
     "data": {
      "text/plain": [
       "'cmblir'"
      ]
     },
     "execution_count": 11,
     "metadata": {},
     "output_type": "execute_result"
    }
   ],
   "source": [
    "dn.__author__"
   ]
  },
  {
   "cell_type": "markdown",
   "metadata": {},
   "source": [
    "# Quick Start\n",
    "\n",
    "## DART"
   ]
  },
  {
   "cell_type": "code",
   "execution_count": 16,
   "metadata": {},
   "outputs": [],
   "source": [
    "from dinnovation.collection.financial import dart"
   ]
  },
  {
   "cell_type": "code",
   "execution_count": 17,
   "metadata": {},
   "outputs": [
    {
     "name": "stdout",
     "output_type": "stream",
     "text": [
      "\n",
      "        A description of the function is given below. \n",
      "\n",
      "        The main class within the library is dart_extract. \n",
      "\n",
      "        api_key() is a function that informs the api key. \n",
      "\n",
      "        extract_finstate() is a function that extracts data. \n",
      "\n",
      "        load_finstate() is a function that saves data.\n",
      "        \n"
     ]
    },
    {
     "data": {
      "text/plain": [
       "<dinnovation.collection.financial.dart.information at 0x2922e302bb0>"
      ]
     },
     "execution_count": 17,
     "metadata": {},
     "output_type": "execute_result"
    }
   ],
   "source": [
    "dart.information()"
   ]
  },
  {
   "cell_type": "code",
   "execution_count": 18,
   "metadata": {},
   "outputs": [
    {
     "ename": "AttributeError",
     "evalue": "module 'dinnovation.collection.financial.dart' has no attribute 'load_finstats'",
     "output_type": "error",
     "traceback": [
      "\u001b[1;31m---------------------------------------------------------------------------\u001b[0m",
      "\u001b[1;31mAttributeError\u001b[0m                            Traceback (most recent call last)",
      "Cell \u001b[1;32mIn[18], line 1\u001b[0m\n\u001b[1;32m----> 1\u001b[0m dart\u001b[39m.\u001b[39;49mload_finstats(\u001b[39m\"\u001b[39m\u001b[39mapi_key\u001b[39m\u001b[39m\"\u001b[39m)\n",
      "\u001b[1;31mAttributeError\u001b[0m: module 'dinnovation.collection.financial.dart' has no attribute 'load_finstats'"
     ]
    }
   ],
   "source": [
    "dart.load_finstats(\"api_key\")"
   ]
  },
  {
   "cell_type": "code",
   "execution_count": null,
   "metadata": {},
   "outputs": [],
   "source": []
  }
 ],
 "metadata": {
  "kernelspec": {
   "display_name": "BDC",
   "language": "python",
   "name": "python3"
  },
  "language_info": {
   "codemirror_mode": {
    "name": "ipython",
    "version": 3
   },
   "file_extension": ".py",
   "mimetype": "text/x-python",
   "name": "python",
   "nbconvert_exporter": "python",
   "pygments_lexer": "ipython3",
   "version": "3.9.0"
  },
  "orig_nbformat": 4
 },
 "nbformat": 4,
 "nbformat_minor": 2
}
