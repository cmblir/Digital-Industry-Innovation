{
 "cells": [
  {
   "cell_type": "markdown",
   "metadata": {},
   "source": [
    "# import library"
   ]
  },
  {
   "cell_type": "code",
   "execution_count": 1,
   "metadata": {},
   "outputs": [
    {
     "name": "stderr",
     "output_type": "stream",
     "text": [
      "ERROR: Ignored the following versions that require a different python version: 0.1.0.0 Requires-Python >=3.9; 0.1.0.4 Requires-Python >=3.9; 0.1.0.5 Requires-Python >=3.9; 0.1.0.6 Requires-Python >=3.9; 0.1.0.7 Requires-Python >=3.9\n",
      "ERROR: Could not find a version that satisfies the requirement dinnovation (from versions: none)\n",
      "ERROR: No matching distribution found for dinnovation\n"
     ]
    }
   ],
   "source": [
    "!pip install dinnovation"
   ]
  },
  {
   "cell_type": "code",
   "execution_count": null,
   "metadata": {},
   "outputs": [],
   "source": []
  }
 ],
 "metadata": {
  "kernelspec": {
   "display_name": "BDC",
   "language": "python",
   "name": "python3"
  },
  "language_info": {
   "codemirror_mode": {
    "name": "ipython",
    "version": 3
   },
   "file_extension": ".py",
   "mimetype": "text/x-python",
   "name": "python",
   "nbconvert_exporter": "python",
   "pygments_lexer": "ipython3",
   "version": "3.8.17"
  },
  "orig_nbformat": 4
 },
 "nbformat": 4,
 "nbformat_minor": 2
}
