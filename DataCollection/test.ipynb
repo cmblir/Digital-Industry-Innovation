{
 "cells": [
  {
   "cell_type": "code",
   "execution_count": 1,
   "metadata": {},
   "outputs": [],
   "source": [
    "from Collection.Financial import INVESTING as iv\n",
    "import psycopg2 \n",
    "import yfinance as yf\n",
    "import pandas as pd\n",
    "from tqdm import tqdm"
   ]
  },
  {
   "cell_type": "code",
   "execution_count": 2,
   "metadata": {},
   "outputs": [
    {
     "name": "stdout",
     "output_type": "stream",
     "text": [
      "\n",
      "        라이브러리는 2개로 나누어집니다. \n",
      "\n",
      "        데이터를 수집하는 라이브러리인 Investing_Crawler, 데이터를 가공하는 라이브러리인 Investing_Cleanse \n",
      "\n",
      "        ------------------------------------------------------------------------------------------\n",
      "\n",
      "        Investing_Crawler의 함수는 아래와 같습니다. \n",
      "\n",
      "        DriverSettings()은 셀레니움 크롬 드라이버 세팅 함수입니다. \n",
      "\n",
      "        download_historial()은 과거 주종가 데이터를 수집하는 함수입니다. \n",
      "\n",
      "        invesingDotcom_crawler()은 인베스팅 닷컴에서 데이터를 수집하는 함수입니다. \n",
      "\n",
      "        ------------------------------------------------------------------------------------------\n",
      "\n",
      "        Investing_Cleanse는 클래스를 실행시키면 바로 진행이 됩니다. \n",
      "\n",
      "        \n"
     ]
    },
    {
     "data": {
      "text/plain": [
       "<Collection.Financial.INVESTING.information at 0x1dcad046530>"
      ]
     },
     "execution_count": 2,
     "metadata": {},
     "output_type": "execute_result"
    }
   ],
   "source": [
    "iv.information()"
   ]
  },
  {
   "cell_type": "code",
   "execution_count": 3,
   "metadata": {},
   "outputs": [],
   "source": [
    "crawler = iv.Investing_Crawler(\"investingDotcomColumns.xlsx\")"
   ]
  },
  {
   "cell_type": "code",
   "execution_count": 4,
   "metadata": {},
   "outputs": [],
   "source": [
    "crawler.DriverSettings()"
   ]
  },
  {
   "cell_type": "code",
   "execution_count": 5,
   "metadata": {},
   "outputs": [
    {
     "ename": "AttributeError",
     "evalue": "'NoneType' object has no attribute 'find_all'",
     "output_type": "error",
     "traceback": [
      "\u001b[1;31m---------------------------------------------------------------------------\u001b[0m",
      "\u001b[1;31mAttributeError\u001b[0m                            Traceback (most recent call last)",
      "Cell \u001b[1;32mIn[5], line 1\u001b[0m\n\u001b[1;32m----> 1\u001b[0m crawler\u001b[39m.\u001b[39;49minvestingDotcom_crawler(\u001b[39m\"\u001b[39;49m\u001b[39mmexico\u001b[39;49m\u001b[39m\"\u001b[39;49m, \u001b[39m\"\u001b[39;49m\u001b[39mmexico\u001b[39;49m\u001b[39m\"\u001b[39;49m, \u001b[39m\"\u001b[39;49m\u001b[39m/\u001b[39;49m\u001b[39m\"\u001b[39;49m)\n",
      "File \u001b[1;32mc:\\Users\\user\\Desktop\\yoo\\개발관련\\BDC\\Digital-Industry-Innovation\\DataCollection\\Collection\\Financial\\INVESTING.py:175\u001b[0m, in \u001b[0;36mInvesting_Crawler.investingDotcom_crawler\u001b[1;34m(self, country, official_countryName, save_dir, isSingapore)\u001b[0m\n\u001b[0;32m    172\u001b[0m maintable \u001b[39m=\u001b[39m soup\u001b[39m.\u001b[39mfind(\u001b[39m'\u001b[39m\u001b[39mtable\u001b[39m\u001b[39m'\u001b[39m, \u001b[39mid\u001b[39m\u001b[39m=\u001b[39m\u001b[39m'\u001b[39m\u001b[39mcross_rate_markets_stocks_1\u001b[39m\u001b[39m'\u001b[39m)\n\u001b[0;32m    174\u001b[0m \u001b[39m# 메인 주식 테이블에서 회사 페이지로\u001b[39;00m\n\u001b[1;32m--> 175\u001b[0m all_atag_maintable \u001b[39m=\u001b[39m maintable\u001b[39m.\u001b[39;49mfind_all(\u001b[39m'\u001b[39m\u001b[39ma\u001b[39m\u001b[39m'\u001b[39m)\n\u001b[0;32m    177\u001b[0m \u001b[39m# soup의 find 메서드를 이용해서 갖고 오게 되면, 링크 뿐 아니라 다른 정보들도 같이 갖고 오게 됩니다. \u001b[39;00m\n\u001b[0;32m    178\u001b[0m \u001b[39m# 따라서 아래 for문으로 순수한 href 링크만을 추출하여, company_links에 저장합니다. \u001b[39;00m\n\u001b[0;32m    179\u001b[0m company_links \u001b[39m=\u001b[39m []\n",
      "\u001b[1;31mAttributeError\u001b[0m: 'NoneType' object has no attribute 'find_all'"
     ]
    }
   ],
   "source": [
    "crawler.investingDotcom_crawler(\"mexico\", \"mexico\", \"/\")"
   ]
  },
  {
   "cell_type": "code",
   "execution_count": null,
   "metadata": {},
   "outputs": [],
   "source": []
  }
 ],
 "metadata": {
  "kernelspec": {
   "display_name": "BDC",
   "language": "python",
   "name": "python3"
  },
  "language_info": {
   "codemirror_mode": {
    "name": "ipython",
    "version": 3
   },
   "file_extension": ".py",
   "mimetype": "text/x-python",
   "name": "python",
   "nbconvert_exporter": "python",
   "pygments_lexer": "ipython3",
   "version": "3.10.9"
  },
  "orig_nbformat": 4
 },
 "nbformat": 4,
 "nbformat_minor": 2
}
