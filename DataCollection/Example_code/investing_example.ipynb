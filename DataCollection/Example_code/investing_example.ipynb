{
 "cells": [
  {
   "cell_type": "code",
   "execution_count": 1,
   "metadata": {},
   "outputs": [],
   "source": [
    "import os\n",
    "import sys\n",
    "sys.path.append(os.path.dirname(os.path.abspath(os.path.dirname(\"Financial\"))))\n",
    "from Collection.Financial import INVESTING as iv"
   ]
  },
  {
   "attachments": {},
   "cell_type": "markdown",
   "metadata": {},
   "source": [
    "# Data Collect"
   ]
  },
  {
   "cell_type": "code",
   "execution_count": 2,
   "metadata": {},
   "outputs": [],
   "source": [
    "ivs = iv.Investing_Crawler(\"investingcolumns/investingDotcomColumns.xlsx\")"
   ]
  },
  {
   "cell_type": "code",
   "execution_count": 3,
   "metadata": {},
   "outputs": [
    {
     "name": "stdout",
     "output_type": "stream",
     "text": [
      "\n",
      "        The library is divided into two parts. \n",
      "\n",
      "        Investing_Crawler, a library that collects data, Investing_Cleanse, a library that processes data \n",
      "\n",
      "        -------------------------------------------------- ----------------------------------------\n",
      "\n",
      "        The function of Investing_Crawler is shown below. \n",
      "\n",
      "        DriverSettings() is a Selenium Chrome driver settings function. \n",
      "\n",
      "        download_historial() is a function that collects past stock price data. \n",
      "\n",
      "        collect() is a function that collects data from investing.com. \n",
      "\n",
      "        -------------------------------------------------- ----------------------------------------\n",
      "\n",
      "        Investing_Cleanse will proceed as soon as you run the class. \n",
      "\n",
      "        \n",
      "\n",
      "        japan, hong-kong, malaysia, south-korea\n",
      "        singapore, thailand, vietnam, indonesia\n",
      "        india ,united-states, spain, switzerland\n",
      "        australia, united-kingdom, france, italy\n",
      "        germany, netherlands, mexico, colombia, canada\n",
      "        \n"
     ]
    }
   ],
   "source": [
    "iv.information().country()"
   ]
  },
  {
   "cell_type": "code",
   "execution_count": null,
   "metadata": {},
   "outputs": [],
   "source": [
    "for country in [\"mexico\", \"\"]:\n",
    "    ivs.DriverSettings()\n",
    "    ivs.collect(country, country, f\"{country}.xlsx\")"
   ]
  },
  {
   "attachments": {},
   "cell_type": "markdown",
   "metadata": {},
   "source": [
    "# Data Transform"
   ]
  },
  {
   "cell_type": "code",
   "execution_count": 1,
   "metadata": {},
   "outputs": [],
   "source": [
    "import os\n",
    "import sys\n",
    "from tqdm import tqdm\n",
    "sys.path.append(os.path.dirname(os.path.abspath(os.path.dirname(\"Financial\"))))\n",
    "from Collection.Financial import INVESTING as iv"
   ]
  },
  {
   "cell_type": "code",
   "execution_count": 2,
   "metadata": {},
   "outputs": [],
   "source": [
    "import os\n",
    "path = \"invest/og/\"\n",
    "filepath = os.listdir(path)"
   ]
  },
  {
   "cell_type": "code",
   "execution_count": 18,
   "metadata": {},
   "outputs": [
    {
     "name": "stderr",
     "output_type": "stream",
     "text": [
      "  0%|          | 0/15 [00:00<?, ?it/s]c:\\Users\\user\\Desktop\\yoo\\개발관련\\BDC\\Digital-Industry-Innovation\\DataCollection\\Collection\\Financial\\INVESTING.py:539: PerformanceWarning: DataFrame is highly fragmented.  This is usually the result of calling `frame.insert` many times, which has poor performance.  Consider joining all columns at once using pd.concat(axis=1) instead. To get a de-fragmented frame, use `newframe = frame.copy()`\n",
      "  self.data['stock_code'] = self.data['company_name'].apply(lambda x : self.ticker_extract(x))\n",
      "c:\\Users\\user\\Desktop\\yoo\\개발관련\\BDC\\Digital-Industry-Innovation\\DataCollection\\Collection\\Financial\\INVESTING.py:544: PerformanceWarning: DataFrame is highly fragmented.  This is usually the result of calling `frame.insert` many times, which has poor performance.  Consider joining all columns at once using pd.concat(axis=1) instead. To get a de-fragmented frame, use `newframe = frame.copy()`\n",
      "  self.data['ending_period'] = self.data['bs_time'].apply(lambda x : self.ending_period_extract(x))\n"
     ]
    },
    {
     "name": "stdout",
     "output_type": "stream",
     "text": [
      "The original data collected from Investing.com was cleansed to extract financial statements for a total of 51 companies.\n"
     ]
    },
    {
     "name": "stderr",
     "output_type": "stream",
     "text": [
      "  7%|▋         | 1/15 [00:01<00:16,  1.17s/it]c:\\Users\\user\\Desktop\\yoo\\개발관련\\BDC\\Digital-Industry-Innovation\\DataCollection\\Collection\\Financial\\INVESTING.py:539: PerformanceWarning: DataFrame is highly fragmented.  This is usually the result of calling `frame.insert` many times, which has poor performance.  Consider joining all columns at once using pd.concat(axis=1) instead. To get a de-fragmented frame, use `newframe = frame.copy()`\n",
      "  self.data['stock_code'] = self.data['company_name'].apply(lambda x : self.ticker_extract(x))\n",
      "c:\\Users\\user\\Desktop\\yoo\\개발관련\\BDC\\Digital-Industry-Innovation\\DataCollection\\Collection\\Financial\\INVESTING.py:544: PerformanceWarning: DataFrame is highly fragmented.  This is usually the result of calling `frame.insert` many times, which has poor performance.  Consider joining all columns at once using pd.concat(axis=1) instead. To get a de-fragmented frame, use `newframe = frame.copy()`\n",
      "  self.data['ending_period'] = self.data['bs_time'].apply(lambda x : self.ending_period_extract(x))\n"
     ]
    },
    {
     "name": "stdout",
     "output_type": "stream",
     "text": [
      "The original data collected from Investing.com was cleansed to extract financial statements for a total of 2660 companies.\n"
     ]
    },
    {
     "name": "stderr",
     "output_type": "stream",
     "text": [
      " 13%|█▎        | 2/15 [00:46<05:51, 27.02s/it]c:\\Users\\user\\Desktop\\yoo\\개발관련\\BDC\\Digital-Industry-Innovation\\DataCollection\\Collection\\Financial\\INVESTING.py:539: PerformanceWarning: DataFrame is highly fragmented.  This is usually the result of calling `frame.insert` many times, which has poor performance.  Consider joining all columns at once using pd.concat(axis=1) instead. To get a de-fragmented frame, use `newframe = frame.copy()`\n",
      "  self.data['stock_code'] = self.data['company_name'].apply(lambda x : self.ticker_extract(x))\n",
      "c:\\Users\\user\\Desktop\\yoo\\개발관련\\BDC\\Digital-Industry-Innovation\\DataCollection\\Collection\\Financial\\INVESTING.py:544: PerformanceWarning: DataFrame is highly fragmented.  This is usually the result of calling `frame.insert` many times, which has poor performance.  Consider joining all columns at once using pd.concat(axis=1) instead. To get a de-fragmented frame, use `newframe = frame.copy()`\n",
      "  self.data['ending_period'] = self.data['bs_time'].apply(lambda x : self.ending_period_extract(x))\n"
     ]
    },
    {
     "name": "stdout",
     "output_type": "stream",
     "text": [
      "You entered the wrong country name. Please enter standardized country names.\n",
      "ex) korea -> South Korea , hongkong -> Hong Kong, China\n",
      "The original data collected from Investing.com was cleansed to extract financial statements for a total of 4502 companies.\n"
     ]
    },
    {
     "name": "stderr",
     "output_type": "stream",
     "text": [
      " 20%|██        | 3/15 [02:23<11:50, 59.19s/it]c:\\Users\\user\\Desktop\\yoo\\개발관련\\BDC\\Digital-Industry-Innovation\\DataCollection\\Collection\\Financial\\INVESTING.py:539: PerformanceWarning: DataFrame is highly fragmented.  This is usually the result of calling `frame.insert` many times, which has poor performance.  Consider joining all columns at once using pd.concat(axis=1) instead. To get a de-fragmented frame, use `newframe = frame.copy()`\n",
      "  self.data['stock_code'] = self.data['company_name'].apply(lambda x : self.ticker_extract(x))\n",
      "c:\\Users\\user\\Desktop\\yoo\\개발관련\\BDC\\Digital-Industry-Innovation\\DataCollection\\Collection\\Financial\\INVESTING.py:544: PerformanceWarning: DataFrame is highly fragmented.  This is usually the result of calling `frame.insert` many times, which has poor performance.  Consider joining all columns at once using pd.concat(axis=1) instead. To get a de-fragmented frame, use `newframe = frame.copy()`\n",
      "  self.data['ending_period'] = self.data['bs_time'].apply(lambda x : self.ending_period_extract(x))\n"
     ]
    },
    {
     "name": "stdout",
     "output_type": "stream",
     "text": [
      "The original data collected from Investing.com was cleansed to extract financial statements for a total of 998 companies.\n"
     ]
    },
    {
     "name": "stderr",
     "output_type": "stream",
     "text": [
      " 27%|██▋       | 4/15 [02:42<07:53, 43.09s/it]c:\\Users\\user\\Desktop\\yoo\\개발관련\\BDC\\Digital-Industry-Innovation\\DataCollection\\Collection\\Financial\\INVESTING.py:539: PerformanceWarning: DataFrame is highly fragmented.  This is usually the result of calling `frame.insert` many times, which has poor performance.  Consider joining all columns at once using pd.concat(axis=1) instead. To get a de-fragmented frame, use `newframe = frame.copy()`\n",
      "  self.data['stock_code'] = self.data['company_name'].apply(lambda x : self.ticker_extract(x))\n",
      "c:\\Users\\user\\Desktop\\yoo\\개발관련\\BDC\\Digital-Industry-Innovation\\DataCollection\\Collection\\Financial\\INVESTING.py:544: PerformanceWarning: DataFrame is highly fragmented.  This is usually the result of calling `frame.insert` many times, which has poor performance.  Consider joining all columns at once using pd.concat(axis=1) instead. To get a de-fragmented frame, use `newframe = frame.copy()`\n",
      "  self.data['ending_period'] = self.data['bs_time'].apply(lambda x : self.ending_period_extract(x))\n"
     ]
    },
    {
     "name": "stdout",
     "output_type": "stream",
     "text": [
      "You entered the wrong country name. Please enter standardized country names.\n",
      "ex) korea -> South Korea , hongkong -> Hong Kong, China\n",
      "The original data collected from Investing.com was cleansed to extract financial statements for a total of 4888 companies.\n"
     ]
    },
    {
     "name": "stderr",
     "output_type": "stream",
     "text": [
      " 33%|███▎      | 5/15 [04:28<10:59, 65.98s/it]c:\\Users\\user\\Desktop\\yoo\\개발관련\\BDC\\Digital-Industry-Innovation\\DataCollection\\Collection\\Financial\\INVESTING.py:539: PerformanceWarning: DataFrame is highly fragmented.  This is usually the result of calling `frame.insert` many times, which has poor performance.  Consider joining all columns at once using pd.concat(axis=1) instead. To get a de-fragmented frame, use `newframe = frame.copy()`\n",
      "  self.data['stock_code'] = self.data['company_name'].apply(lambda x : self.ticker_extract(x))\n",
      "c:\\Users\\user\\Desktop\\yoo\\개발관련\\BDC\\Digital-Industry-Innovation\\DataCollection\\Collection\\Financial\\INVESTING.py:544: PerformanceWarning: DataFrame is highly fragmented.  This is usually the result of calling `frame.insert` many times, which has poor performance.  Consider joining all columns at once using pd.concat(axis=1) instead. To get a de-fragmented frame, use `newframe = frame.copy()`\n",
      "  self.data['ending_period'] = self.data['bs_time'].apply(lambda x : self.ending_period_extract(x))\n"
     ]
    },
    {
     "name": "stdout",
     "output_type": "stream",
     "text": [
      "The original data collected from Investing.com was cleansed to extract financial statements for a total of 833 companies.\n"
     ]
    },
    {
     "name": "stderr",
     "output_type": "stream",
     "text": [
      " 40%|████      | 6/15 [04:45<07:23, 49.28s/it]c:\\Users\\user\\Desktop\\yoo\\개발관련\\BDC\\Digital-Industry-Innovation\\DataCollection\\Collection\\Financial\\INVESTING.py:539: PerformanceWarning: DataFrame is highly fragmented.  This is usually the result of calling `frame.insert` many times, which has poor performance.  Consider joining all columns at once using pd.concat(axis=1) instead. To get a de-fragmented frame, use `newframe = frame.copy()`\n",
      "  self.data['stock_code'] = self.data['company_name'].apply(lambda x : self.ticker_extract(x))\n",
      "c:\\Users\\user\\Desktop\\yoo\\개발관련\\BDC\\Digital-Industry-Innovation\\DataCollection\\Collection\\Financial\\INVESTING.py:544: PerformanceWarning: DataFrame is highly fragmented.  This is usually the result of calling `frame.insert` many times, which has poor performance.  Consider joining all columns at once using pd.concat(axis=1) instead. To get a de-fragmented frame, use `newframe = frame.copy()`\n",
      "  self.data['ending_period'] = self.data['bs_time'].apply(lambda x : self.ending_period_extract(x))\n"
     ]
    },
    {
     "name": "stdout",
     "output_type": "stream",
     "text": [
      "The original data collected from Investing.com was cleansed to extract financial statements for a total of 2033 companies.\n"
     ]
    },
    {
     "name": "stderr",
     "output_type": "stream",
     "text": [
      " 47%|████▋     | 7/15 [05:20<05:55, 44.42s/it]c:\\Users\\user\\Desktop\\yoo\\개발관련\\BDC\\Digital-Industry-Innovation\\DataCollection\\Collection\\Financial\\INVESTING.py:539: PerformanceWarning: DataFrame is highly fragmented.  This is usually the result of calling `frame.insert` many times, which has poor performance.  Consider joining all columns at once using pd.concat(axis=1) instead. To get a de-fragmented frame, use `newframe = frame.copy()`\n",
      "  self.data['stock_code'] = self.data['company_name'].apply(lambda x : self.ticker_extract(x))\n",
      "c:\\Users\\user\\Desktop\\yoo\\개발관련\\BDC\\Digital-Industry-Innovation\\DataCollection\\Collection\\Financial\\INVESTING.py:544: PerformanceWarning: DataFrame is highly fragmented.  This is usually the result of calling `frame.insert` many times, which has poor performance.  Consider joining all columns at once using pd.concat(axis=1) instead. To get a de-fragmented frame, use `newframe = frame.copy()`\n",
      "  self.data['ending_period'] = self.data['bs_time'].apply(lambda x : self.ending_period_extract(x))\n"
     ]
    },
    {
     "name": "stdout",
     "output_type": "stream",
     "text": [
      "The original data collected from Investing.com was cleansed to extract financial statements for a total of 3817 companies.\n"
     ]
    },
    {
     "name": "stderr",
     "output_type": "stream",
     "text": [
      " 53%|█████▎    | 8/15 [06:25<05:58, 51.17s/it]c:\\Users\\user\\Desktop\\yoo\\개발관련\\BDC\\Digital-Industry-Innovation\\DataCollection\\Collection\\Financial\\INVESTING.py:539: PerformanceWarning: DataFrame is highly fragmented.  This is usually the result of calling `frame.insert` many times, which has poor performance.  Consider joining all columns at once using pd.concat(axis=1) instead. To get a de-fragmented frame, use `newframe = frame.copy()`\n",
      "  self.data['stock_code'] = self.data['company_name'].apply(lambda x : self.ticker_extract(x))\n",
      "c:\\Users\\user\\Desktop\\yoo\\개발관련\\BDC\\Digital-Industry-Innovation\\DataCollection\\Collection\\Financial\\INVESTING.py:544: PerformanceWarning: DataFrame is highly fragmented.  This is usually the result of calling `frame.insert` many times, which has poor performance.  Consider joining all columns at once using pd.concat(axis=1) instead. To get a de-fragmented frame, use `newframe = frame.copy()`\n",
      "  self.data['ending_period'] = self.data['bs_time'].apply(lambda x : self.ending_period_extract(x))\n"
     ]
    },
    {
     "name": "stdout",
     "output_type": "stream",
     "text": [
      "The original data collected from Investing.com was cleansed to extract financial statements for a total of 972 companies.\n"
     ]
    },
    {
     "name": "stderr",
     "output_type": "stream",
     "text": [
      " 60%|██████    | 9/15 [06:41<04:01, 40.27s/it]c:\\Users\\user\\Desktop\\yoo\\개발관련\\BDC\\Digital-Industry-Innovation\\DataCollection\\Collection\\Financial\\INVESTING.py:539: PerformanceWarning: DataFrame is highly fragmented.  This is usually the result of calling `frame.insert` many times, which has poor performance.  Consider joining all columns at once using pd.concat(axis=1) instead. To get a de-fragmented frame, use `newframe = frame.copy()`\n",
      "  self.data['stock_code'] = self.data['company_name'].apply(lambda x : self.ticker_extract(x))\n",
      "c:\\Users\\user\\Desktop\\yoo\\개발관련\\BDC\\Digital-Industry-Innovation\\DataCollection\\Collection\\Financial\\INVESTING.py:544: PerformanceWarning: DataFrame is highly fragmented.  This is usually the result of calling `frame.insert` many times, which has poor performance.  Consider joining all columns at once using pd.concat(axis=1) instead. To get a de-fragmented frame, use `newframe = frame.copy()`\n",
      "  self.data['ending_period'] = self.data['bs_time'].apply(lambda x : self.ending_period_extract(x))\n"
     ]
    },
    {
     "name": "stdout",
     "output_type": "stream",
     "text": [
      "The original data collected from Investing.com was cleansed to extract financial statements for a total of 1463 companies.\n"
     ]
    },
    {
     "name": "stderr",
     "output_type": "stream",
     "text": [
      " 67%|██████▋   | 10/15 [07:08<03:00, 36.18s/it]c:\\Users\\user\\Desktop\\yoo\\개발관련\\BDC\\Digital-Industry-Innovation\\DataCollection\\Collection\\Financial\\INVESTING.py:539: PerformanceWarning: DataFrame is highly fragmented.  This is usually the result of calling `frame.insert` many times, which has poor performance.  Consider joining all columns at once using pd.concat(axis=1) instead. To get a de-fragmented frame, use `newframe = frame.copy()`\n",
      "  self.data['stock_code'] = self.data['company_name'].apply(lambda x : self.ticker_extract(x))\n",
      "c:\\Users\\user\\Desktop\\yoo\\개발관련\\BDC\\Digital-Industry-Innovation\\DataCollection\\Collection\\Financial\\INVESTING.py:544: PerformanceWarning: DataFrame is highly fragmented.  This is usually the result of calling `frame.insert` many times, which has poor performance.  Consider joining all columns at once using pd.concat(axis=1) instead. To get a de-fragmented frame, use `newframe = frame.copy()`\n",
      "  self.data['ending_period'] = self.data['bs_time'].apply(lambda x : self.ending_period_extract(x))\n"
     ]
    },
    {
     "name": "stdout",
     "output_type": "stream",
     "text": [
      "The original data collected from Investing.com was cleansed to extract financial statements for a total of 2034 companies.\n"
     ]
    },
    {
     "name": "stderr",
     "output_type": "stream",
     "text": [
      " 73%|███████▎  | 11/15 [07:50<02:30, 37.73s/it]c:\\Users\\user\\Desktop\\yoo\\개발관련\\BDC\\Digital-Industry-Innovation\\DataCollection\\Collection\\Financial\\INVESTING.py:539: PerformanceWarning: DataFrame is highly fragmented.  This is usually the result of calling `frame.insert` many times, which has poor performance.  Consider joining all columns at once using pd.concat(axis=1) instead. To get a de-fragmented frame, use `newframe = frame.copy()`\n",
      "  self.data['stock_code'] = self.data['company_name'].apply(lambda x : self.ticker_extract(x))\n",
      "c:\\Users\\user\\Desktop\\yoo\\개발관련\\BDC\\Digital-Industry-Innovation\\DataCollection\\Collection\\Financial\\INVESTING.py:544: PerformanceWarning: DataFrame is highly fragmented.  This is usually the result of calling `frame.insert` many times, which has poor performance.  Consider joining all columns at once using pd.concat(axis=1) instead. To get a de-fragmented frame, use `newframe = frame.copy()`\n",
      "  self.data['ending_period'] = self.data['bs_time'].apply(lambda x : self.ending_period_extract(x))\n"
     ]
    },
    {
     "name": "stdout",
     "output_type": "stream",
     "text": [
      "The original data collected from Investing.com was cleansed to extract financial statements for a total of 1561 companies.\n"
     ]
    },
    {
     "name": "stderr",
     "output_type": "stream",
     "text": [
      " 80%|████████  | 12/15 [08:16<01:42, 34.14s/it]c:\\Users\\user\\Desktop\\yoo\\개발관련\\BDC\\Digital-Industry-Innovation\\DataCollection\\Collection\\Financial\\INVESTING.py:539: PerformanceWarning: DataFrame is highly fragmented.  This is usually the result of calling `frame.insert` many times, which has poor performance.  Consider joining all columns at once using pd.concat(axis=1) instead. To get a de-fragmented frame, use `newframe = frame.copy()`\n",
      "  self.data['stock_code'] = self.data['company_name'].apply(lambda x : self.ticker_extract(x))\n",
      "c:\\Users\\user\\Desktop\\yoo\\개발관련\\BDC\\Digital-Industry-Innovation\\DataCollection\\Collection\\Financial\\INVESTING.py:544: PerformanceWarning: DataFrame is highly fragmented.  This is usually the result of calling `frame.insert` many times, which has poor performance.  Consider joining all columns at once using pd.concat(axis=1) instead. To get a de-fragmented frame, use `newframe = frame.copy()`\n",
      "  self.data['ending_period'] = self.data['bs_time'].apply(lambda x : self.ending_period_extract(x))\n"
     ]
    },
    {
     "name": "stdout",
     "output_type": "stream",
     "text": [
      "The original data collected from Investing.com was cleansed to extract financial statements for a total of 1085 companies.\n"
     ]
    },
    {
     "name": "stderr",
     "output_type": "stream",
     "text": [
      " 87%|████████▋ | 13/15 [08:36<00:59, 29.87s/it]c:\\Users\\user\\Desktop\\yoo\\개발관련\\BDC\\Digital-Industry-Innovation\\DataCollection\\Collection\\Financial\\INVESTING.py:539: PerformanceWarning: DataFrame is highly fragmented.  This is usually the result of calling `frame.insert` many times, which has poor performance.  Consider joining all columns at once using pd.concat(axis=1) instead. To get a de-fragmented frame, use `newframe = frame.copy()`\n",
      "  self.data['stock_code'] = self.data['company_name'].apply(lambda x : self.ticker_extract(x))\n",
      "c:\\Users\\user\\Desktop\\yoo\\개발관련\\BDC\\Digital-Industry-Innovation\\DataCollection\\Collection\\Financial\\INVESTING.py:544: PerformanceWarning: DataFrame is highly fragmented.  This is usually the result of calling `frame.insert` many times, which has poor performance.  Consider joining all columns at once using pd.concat(axis=1) instead. To get a de-fragmented frame, use `newframe = frame.copy()`\n",
      "  self.data['ending_period'] = self.data['bs_time'].apply(lambda x : self.ending_period_extract(x))\n"
     ]
    },
    {
     "name": "stdout",
     "output_type": "stream",
     "text": [
      "The original data collected from Investing.com was cleansed to extract financial statements for a total of 943 companies.\n"
     ]
    },
    {
     "name": "stderr",
     "output_type": "stream",
     "text": [
      " 93%|█████████▎| 14/15 [08:53<00:26, 26.01s/it]c:\\Users\\user\\Desktop\\yoo\\개발관련\\BDC\\Digital-Industry-Innovation\\DataCollection\\Collection\\Financial\\INVESTING.py:539: PerformanceWarning: DataFrame is highly fragmented.  This is usually the result of calling `frame.insert` many times, which has poor performance.  Consider joining all columns at once using pd.concat(axis=1) instead. To get a de-fragmented frame, use `newframe = frame.copy()`\n",
      "  self.data['stock_code'] = self.data['company_name'].apply(lambda x : self.ticker_extract(x))\n",
      "c:\\Users\\user\\Desktop\\yoo\\개발관련\\BDC\\Digital-Industry-Innovation\\DataCollection\\Collection\\Financial\\INVESTING.py:544: PerformanceWarning: DataFrame is highly fragmented.  This is usually the result of calling `frame.insert` many times, which has poor performance.  Consider joining all columns at once using pd.concat(axis=1) instead. To get a de-fragmented frame, use `newframe = frame.copy()`\n",
      "  self.data['ending_period'] = self.data['bs_time'].apply(lambda x : self.ending_period_extract(x))\n"
     ]
    },
    {
     "name": "stdout",
     "output_type": "stream",
     "text": [
      "The original data collected from Investing.com was cleansed to extract financial statements for a total of 1910 companies.\n"
     ]
    },
    {
     "name": "stderr",
     "output_type": "stream",
     "text": [
      "100%|██████████| 15/15 [09:35<00:00, 38.36s/it]\n"
     ]
    }
   ],
   "source": [
    "for idx in tqdm(filepath):\n",
    "    ivd = iv.Investing_Cleanse(path + idx, \"C:/Users/user/Desktop/yoo/개발관련/BDC/Digital-Industry-Innovation/DataCollection/Collection/Investingcolumns/investingDotcomMapping.xlsx\")\n",
    "    ivd.matching_process().to_excel(f\"invest/fn/finished_{idx}\", index=False)"
   ]
  },
  {
   "cell_type": "code",
   "execution_count": 10,
   "metadata": {},
   "outputs": [],
   "source": [
    "ivd.processed.loc[:,\"헤브론스타국가코드\"] = ivd.data.loc[:,ivd.mapping_dic[\"헤브론스타국가코드\"]]"
   ]
  },
  {
   "cell_type": "code",
   "execution_count": 15,
   "metadata": {},
   "outputs": [
    {
     "data": {
      "text/html": [
       "<div>\n",
       "<style scoped>\n",
       "    .dataframe tbody tr th:only-of-type {\n",
       "        vertical-align: middle;\n",
       "    }\n",
       "\n",
       "    .dataframe tbody tr th {\n",
       "        vertical-align: top;\n",
       "    }\n",
       "\n",
       "    .dataframe thead th {\n",
       "        text-align: right;\n",
       "    }\n",
       "</style>\n",
       "<table border=\"1\" class=\"dataframe\">\n",
       "  <thead>\n",
       "    <tr style=\"text-align: right;\">\n",
       "      <th></th>\n",
       "      <th>2022 field name</th>\n",
       "      <th>corresponding field name 1</th>\n",
       "      <th>corresponding field name 2</th>\n",
       "    </tr>\n",
       "  </thead>\n",
       "  <tbody>\n",
       "    <tr>\n",
       "      <th>0</th>\n",
       "      <td>키값</td>\n",
       "      <td>NaN</td>\n",
       "      <td>NaN</td>\n",
       "    </tr>\n",
       "    <tr>\n",
       "      <th>1</th>\n",
       "      <td>주식시장코드</td>\n",
       "      <td>NaN</td>\n",
       "      <td>NaN</td>\n",
       "    </tr>\n",
       "    <tr>\n",
       "      <th>2</th>\n",
       "      <td>현지언어주식시장명</td>\n",
       "      <td>NaN</td>\n",
       "      <td>NaN</td>\n",
       "    </tr>\n",
       "    <tr>\n",
       "      <th>3</th>\n",
       "      <td>영문주식시장명</td>\n",
       "      <td>NaN</td>\n",
       "      <td>NaN</td>\n",
       "    </tr>\n",
       "    <tr>\n",
       "      <th>4</th>\n",
       "      <td>헤브론스타국가코드</td>\n",
       "      <td>Country</td>\n",
       "      <td>NaN</td>\n",
       "    </tr>\n",
       "    <tr>\n",
       "      <th>...</th>\n",
       "      <td>...</td>\n",
       "      <td>...</td>\n",
       "      <td>...</td>\n",
       "    </tr>\n",
       "    <tr>\n",
       "      <th>76</th>\n",
       "      <td>대체재관련정보</td>\n",
       "      <td>NaN</td>\n",
       "      <td>NaN</td>\n",
       "    </tr>\n",
       "    <tr>\n",
       "      <th>77</th>\n",
       "      <td>작업구분코드</td>\n",
       "      <td>NaN</td>\n",
       "      <td>NaN</td>\n",
       "    </tr>\n",
       "    <tr>\n",
       "      <th>78</th>\n",
       "      <td>데이터생성일자</td>\n",
       "      <td>NaN</td>\n",
       "      <td>NaN</td>\n",
       "    </tr>\n",
       "    <tr>\n",
       "      <th>79</th>\n",
       "      <td>연계처리상태코드</td>\n",
       "      <td>NaN</td>\n",
       "      <td>NaN</td>\n",
       "    </tr>\n",
       "    <tr>\n",
       "      <th>80</th>\n",
       "      <td>연계처리일자</td>\n",
       "      <td>NaN</td>\n",
       "      <td>NaN</td>\n",
       "    </tr>\n",
       "  </tbody>\n",
       "</table>\n",
       "<p>81 rows × 3 columns</p>\n",
       "</div>"
      ],
      "text/plain": [
       "   2022 field name corresponding field name 1 corresponding field name 2\n",
       "0               키값                        NaN                        NaN\n",
       "1           주식시장코드                        NaN                        NaN\n",
       "2        현지언어주식시장명                        NaN                        NaN\n",
       "3          영문주식시장명                        NaN                        NaN\n",
       "4        헤브론스타국가코드                    Country                        NaN\n",
       "..             ...                        ...                        ...\n",
       "76         대체재관련정보                        NaN                        NaN\n",
       "77          작업구분코드                        NaN                        NaN\n",
       "78         데이터생성일자                        NaN                        NaN\n",
       "79        연계처리상태코드                        NaN                        NaN\n",
       "80          연계처리일자                        NaN                        NaN\n",
       "\n",
       "[81 rows x 3 columns]"
      ]
     },
     "execution_count": 15,
     "metadata": {},
     "output_type": "execute_result"
    }
   ],
   "source": [
    "ivd.mapping_sheet"
   ]
  },
  {
   "cell_type": "code",
   "execution_count": 7,
   "metadata": {},
   "outputs": [
    {
     "data": {
      "text/plain": [
       "0        VNM\n",
       "1        VNM\n",
       "2        VNM\n",
       "3        VNM\n",
       "4        VNM\n",
       "        ... \n",
       "15857    VNM\n",
       "15858    VNM\n",
       "15859    VNM\n",
       "15860    VNM\n",
       "15861    VNM\n",
       "Name: hb_nation_code, Length: 15632, dtype: object"
      ]
     },
     "execution_count": 7,
     "metadata": {},
     "output_type": "execute_result"
    }
   ],
   "source": [
    "ivd.data[\"hb_nation_code\"]"
   ]
  },
  {
   "cell_type": "code",
   "execution_count": 4,
   "metadata": {},
   "outputs": [],
   "source": [
    "def hb_nation_code(x) : \n",
    "    hebronstar_code = {'japan':'JPN', 'hong-kong' : 'HKG','malaysia' : 'MYS','south-korea' : 'KOR',\n",
    "                    'singapore':'SGP','thailand':'THA','vietnam':'VNM','indonesia':'IDN',\n",
    "                    'india':'IND','united-states':'USA','spain':'ESP','switzerland':'CHE',\n",
    "                    'australia':'AUS','united-kingdom':'GBR', 'france':'FRA','italy':'ITA',\n",
    "                    'germany':'DEU','netherlands':'NLD','mexico':'MEX','colombia':'COL','canada':'CAN'}         \n",
    "    try :\n",
    "        result = hebronstar_code[x]\n",
    "        return result\n",
    "    except : \n",
    "        print(\"You entered the wrong country name. Please enter standardized country names.\")\n",
    "        print(\"ex) korea -> South Korea , hongkong -> Hong Kong, China\")\n",
    "        return"
   ]
  },
  {
   "cell_type": "code",
   "execution_count": 5,
   "metadata": {},
   "outputs": [],
   "source": [
    "import pandas as pd\n",
    "originalfile_dir = \"colombia.xlsx\"\n",
    "data = pd.read_excel(path + filepath[0])"
   ]
  },
  {
   "cell_type": "code",
   "execution_count": 6,
   "metadata": {},
   "outputs": [],
   "source": [
    "try: data['hb_nation_code'] = data['Country'].apply(lambda x : hb_nation_code(x))\n",
    "except KeyError:\n",
    "    country_name = originalfile_dir.split(\".xlsx\")[-1]\n",
    "    data['hb_nation_code'] = data['Country'].apply(lambda x : hb_nation_code(x))"
   ]
  },
  {
   "cell_type": "code",
   "execution_count": 7,
   "metadata": {},
   "outputs": [
    {
     "data": {
      "text/plain": [
       "0      COL\n",
       "1      COL\n",
       "2      COL\n",
       "3      COL\n",
       "4      COL\n",
       "      ... \n",
       "419    COL\n",
       "420    COL\n",
       "421    COL\n",
       "422    COL\n",
       "423    COL\n",
       "Name: hb_nation_code, Length: 424, dtype: object"
      ]
     },
     "execution_count": 7,
     "metadata": {},
     "output_type": "execute_result"
    }
   ],
   "source": [
    "data['hb_nation_code']"
   ]
  },
  {
   "cell_type": "code",
   "execution_count": 7,
   "metadata": {},
   "outputs": [],
   "source": [
    "df = pd.read_excel(path + filepath[2])"
   ]
  },
  {
   "cell_type": "code",
   "execution_count": 10,
   "metadata": {},
   "outputs": [
    {
     "data": {
      "text/plain": [
       "0        Nicholas\n",
       "1        Nicholas\n",
       "2        Nicholas\n",
       "3        Nicholas\n",
       "4        Nicholas\n",
       "           ...   \n",
       "47969    Nicholas\n",
       "47970    Nicholas\n",
       "47971    Nicholas\n",
       "47972    Nicholas\n",
       "47973    Nicholas\n",
       "Name: PIC, Length: 47974, dtype: object"
      ]
     },
     "execution_count": 10,
     "metadata": {},
     "output_type": "execute_result"
    }
   ],
   "source": [
    "df[\"PIC\"]"
   ]
  },
  {
   "cell_type": "code",
   "execution_count": 16,
   "metadata": {},
   "outputs": [
    {
     "data": {
      "text/html": [
       "<div>\n",
       "<style scoped>\n",
       "    .dataframe tbody tr th:only-of-type {\n",
       "        vertical-align: middle;\n",
       "    }\n",
       "\n",
       "    .dataframe tbody tr th {\n",
       "        vertical-align: top;\n",
       "    }\n",
       "\n",
       "    .dataframe thead th {\n",
       "        text-align: right;\n",
       "    }\n",
       "</style>\n",
       "<table border=\"1\" class=\"dataframe\">\n",
       "  <thead>\n",
       "    <tr style=\"text-align: right;\">\n",
       "      <th></th>\n",
       "      <th>키값</th>\n",
       "      <th>주식시장코드</th>\n",
       "      <th>현지언어주식시장명</th>\n",
       "      <th>영문주식시장명</th>\n",
       "      <th>헤브론스타국가코드</th>\n",
       "      <th>상장코드</th>\n",
       "      <th>현지언어기업명</th>\n",
       "      <th>영문기업명</th>\n",
       "      <th>해외기업법인등록번호</th>\n",
       "      <th>해외기업사업자등록번호</th>\n",
       "      <th>...</th>\n",
       "      <th>기업관련소식URL</th>\n",
       "      <th>사내관련정보</th>\n",
       "      <th>고객관련정보</th>\n",
       "      <th>공급관련정보</th>\n",
       "      <th>경쟁관련정보</th>\n",
       "      <th>대체재관련정보</th>\n",
       "      <th>작업구분코드</th>\n",
       "      <th>데이터생성일자</th>\n",
       "      <th>연계처리상태코드</th>\n",
       "      <th>연계처리일자</th>\n",
       "    </tr>\n",
       "  </thead>\n",
       "  <tbody>\n",
       "    <tr>\n",
       "      <th>0</th>\n",
       "      <td>NaN</td>\n",
       "      <td>NaN</td>\n",
       "      <td>NaN</td>\n",
       "      <td>NaN</td>\n",
       "      <td>australia</td>\n",
       "      <td>BHP</td>\n",
       "      <td>BHP Group Ltd</td>\n",
       "      <td>BHP Group Ltd</td>\n",
       "      <td>NaN</td>\n",
       "      <td>NaN</td>\n",
       "      <td>...</td>\n",
       "      <td>NaN</td>\n",
       "      <td>NaN</td>\n",
       "      <td>NaN</td>\n",
       "      <td>NaN</td>\n",
       "      <td>NaN</td>\n",
       "      <td>NaN</td>\n",
       "      <td>NaN</td>\n",
       "      <td>NaN</td>\n",
       "      <td>NaN</td>\n",
       "      <td>NaN</td>\n",
       "    </tr>\n",
       "    <tr>\n",
       "      <th>4</th>\n",
       "      <td>NaN</td>\n",
       "      <td>NaN</td>\n",
       "      <td>NaN</td>\n",
       "      <td>NaN</td>\n",
       "      <td>australia</td>\n",
       "      <td>BHP</td>\n",
       "      <td>BHP Group Ltd</td>\n",
       "      <td>BHP Group Ltd</td>\n",
       "      <td>NaN</td>\n",
       "      <td>NaN</td>\n",
       "      <td>...</td>\n",
       "      <td>NaN</td>\n",
       "      <td>NaN</td>\n",
       "      <td>NaN</td>\n",
       "      <td>NaN</td>\n",
       "      <td>NaN</td>\n",
       "      <td>NaN</td>\n",
       "      <td>NaN</td>\n",
       "      <td>NaN</td>\n",
       "      <td>NaN</td>\n",
       "      <td>NaN</td>\n",
       "    </tr>\n",
       "    <tr>\n",
       "      <th>5</th>\n",
       "      <td>NaN</td>\n",
       "      <td>NaN</td>\n",
       "      <td>NaN</td>\n",
       "      <td>NaN</td>\n",
       "      <td>australia</td>\n",
       "      <td>BHP</td>\n",
       "      <td>BHP Group Ltd</td>\n",
       "      <td>BHP Group Ltd</td>\n",
       "      <td>NaN</td>\n",
       "      <td>NaN</td>\n",
       "      <td>...</td>\n",
       "      <td>NaN</td>\n",
       "      <td>NaN</td>\n",
       "      <td>NaN</td>\n",
       "      <td>NaN</td>\n",
       "      <td>NaN</td>\n",
       "      <td>NaN</td>\n",
       "      <td>NaN</td>\n",
       "      <td>NaN</td>\n",
       "      <td>NaN</td>\n",
       "      <td>NaN</td>\n",
       "    </tr>\n",
       "    <tr>\n",
       "      <th>6</th>\n",
       "      <td>NaN</td>\n",
       "      <td>NaN</td>\n",
       "      <td>NaN</td>\n",
       "      <td>NaN</td>\n",
       "      <td>australia</td>\n",
       "      <td>BHP</td>\n",
       "      <td>BHP Group Ltd</td>\n",
       "      <td>BHP Group Ltd</td>\n",
       "      <td>NaN</td>\n",
       "      <td>NaN</td>\n",
       "      <td>...</td>\n",
       "      <td>NaN</td>\n",
       "      <td>NaN</td>\n",
       "      <td>NaN</td>\n",
       "      <td>NaN</td>\n",
       "      <td>NaN</td>\n",
       "      <td>NaN</td>\n",
       "      <td>NaN</td>\n",
       "      <td>NaN</td>\n",
       "      <td>NaN</td>\n",
       "      <td>NaN</td>\n",
       "    </tr>\n",
       "    <tr>\n",
       "      <th>7</th>\n",
       "      <td>NaN</td>\n",
       "      <td>NaN</td>\n",
       "      <td>NaN</td>\n",
       "      <td>NaN</td>\n",
       "      <td>australia</td>\n",
       "      <td>BHP</td>\n",
       "      <td>BHP Group Ltd</td>\n",
       "      <td>BHP Group Ltd</td>\n",
       "      <td>NaN</td>\n",
       "      <td>NaN</td>\n",
       "      <td>...</td>\n",
       "      <td>NaN</td>\n",
       "      <td>NaN</td>\n",
       "      <td>NaN</td>\n",
       "      <td>NaN</td>\n",
       "      <td>NaN</td>\n",
       "      <td>NaN</td>\n",
       "      <td>NaN</td>\n",
       "      <td>NaN</td>\n",
       "      <td>NaN</td>\n",
       "      <td>NaN</td>\n",
       "    </tr>\n",
       "    <tr>\n",
       "      <th>...</th>\n",
       "      <td>...</td>\n",
       "      <td>...</td>\n",
       "      <td>...</td>\n",
       "      <td>...</td>\n",
       "      <td>...</td>\n",
       "      <td>...</td>\n",
       "      <td>...</td>\n",
       "      <td>...</td>\n",
       "      <td>...</td>\n",
       "      <td>...</td>\n",
       "      <td>...</td>\n",
       "      <td>...</td>\n",
       "      <td>...</td>\n",
       "      <td>...</td>\n",
       "      <td>...</td>\n",
       "      <td>...</td>\n",
       "      <td>...</td>\n",
       "      <td>...</td>\n",
       "      <td>...</td>\n",
       "      <td>...</td>\n",
       "      <td>...</td>\n",
       "    </tr>\n",
       "    <tr>\n",
       "      <th>788</th>\n",
       "      <td>NaN</td>\n",
       "      <td>NaN</td>\n",
       "      <td>NaN</td>\n",
       "      <td>NaN</td>\n",
       "      <td>australia</td>\n",
       "      <td>CDD</td>\n",
       "      <td>Cardno Ltd</td>\n",
       "      <td>Cardno Ltd</td>\n",
       "      <td>NaN</td>\n",
       "      <td>NaN</td>\n",
       "      <td>...</td>\n",
       "      <td>NaN</td>\n",
       "      <td>NaN</td>\n",
       "      <td>NaN</td>\n",
       "      <td>NaN</td>\n",
       "      <td>NaN</td>\n",
       "      <td>NaN</td>\n",
       "      <td>NaN</td>\n",
       "      <td>NaN</td>\n",
       "      <td>NaN</td>\n",
       "      <td>NaN</td>\n",
       "    </tr>\n",
       "    <tr>\n",
       "      <th>792</th>\n",
       "      <td>NaN</td>\n",
       "      <td>NaN</td>\n",
       "      <td>NaN</td>\n",
       "      <td>NaN</td>\n",
       "      <td>australia</td>\n",
       "      <td>CDD</td>\n",
       "      <td>Cardno Ltd</td>\n",
       "      <td>Cardno Ltd</td>\n",
       "      <td>NaN</td>\n",
       "      <td>NaN</td>\n",
       "      <td>...</td>\n",
       "      <td>NaN</td>\n",
       "      <td>NaN</td>\n",
       "      <td>NaN</td>\n",
       "      <td>NaN</td>\n",
       "      <td>NaN</td>\n",
       "      <td>NaN</td>\n",
       "      <td>NaN</td>\n",
       "      <td>NaN</td>\n",
       "      <td>NaN</td>\n",
       "      <td>NaN</td>\n",
       "    </tr>\n",
       "    <tr>\n",
       "      <th>793</th>\n",
       "      <td>NaN</td>\n",
       "      <td>NaN</td>\n",
       "      <td>NaN</td>\n",
       "      <td>NaN</td>\n",
       "      <td>australia</td>\n",
       "      <td>CDD</td>\n",
       "      <td>Cardno Ltd</td>\n",
       "      <td>Cardno Ltd</td>\n",
       "      <td>NaN</td>\n",
       "      <td>NaN</td>\n",
       "      <td>...</td>\n",
       "      <td>NaN</td>\n",
       "      <td>NaN</td>\n",
       "      <td>NaN</td>\n",
       "      <td>NaN</td>\n",
       "      <td>NaN</td>\n",
       "      <td>NaN</td>\n",
       "      <td>NaN</td>\n",
       "      <td>NaN</td>\n",
       "      <td>NaN</td>\n",
       "      <td>NaN</td>\n",
       "    </tr>\n",
       "    <tr>\n",
       "      <th>794</th>\n",
       "      <td>NaN</td>\n",
       "      <td>NaN</td>\n",
       "      <td>NaN</td>\n",
       "      <td>NaN</td>\n",
       "      <td>australia</td>\n",
       "      <td>CDD</td>\n",
       "      <td>Cardno Ltd</td>\n",
       "      <td>Cardno Ltd</td>\n",
       "      <td>NaN</td>\n",
       "      <td>NaN</td>\n",
       "      <td>...</td>\n",
       "      <td>NaN</td>\n",
       "      <td>NaN</td>\n",
       "      <td>NaN</td>\n",
       "      <td>NaN</td>\n",
       "      <td>NaN</td>\n",
       "      <td>NaN</td>\n",
       "      <td>NaN</td>\n",
       "      <td>NaN</td>\n",
       "      <td>NaN</td>\n",
       "      <td>NaN</td>\n",
       "    </tr>\n",
       "    <tr>\n",
       "      <th>795</th>\n",
       "      <td>NaN</td>\n",
       "      <td>NaN</td>\n",
       "      <td>NaN</td>\n",
       "      <td>NaN</td>\n",
       "      <td>australia</td>\n",
       "      <td>CDD</td>\n",
       "      <td>Cardno Ltd</td>\n",
       "      <td>Cardno Ltd</td>\n",
       "      <td>NaN</td>\n",
       "      <td>NaN</td>\n",
       "      <td>...</td>\n",
       "      <td>NaN</td>\n",
       "      <td>NaN</td>\n",
       "      <td>NaN</td>\n",
       "      <td>NaN</td>\n",
       "      <td>NaN</td>\n",
       "      <td>NaN</td>\n",
       "      <td>NaN</td>\n",
       "      <td>NaN</td>\n",
       "      <td>NaN</td>\n",
       "      <td>NaN</td>\n",
       "    </tr>\n",
       "  </tbody>\n",
       "</table>\n",
       "<p>475 rows × 81 columns</p>\n",
       "</div>"
      ],
      "text/plain": [
       "     키값  주식시장코드  현지언어주식시장명  영문주식시장명  헤브론스타국가코드 상장코드         현지언어기업명  \\\n",
       "0   NaN     NaN        NaN      NaN  australia  BHP  BHP Group Ltd    \n",
       "4   NaN     NaN        NaN      NaN  australia  BHP  BHP Group Ltd    \n",
       "5   NaN     NaN        NaN      NaN  australia  BHP  BHP Group Ltd    \n",
       "6   NaN     NaN        NaN      NaN  australia  BHP  BHP Group Ltd    \n",
       "7   NaN     NaN        NaN      NaN  australia  BHP  BHP Group Ltd    \n",
       "..   ..     ...        ...      ...        ...  ...             ...   \n",
       "788 NaN     NaN        NaN      NaN  australia  CDD     Cardno Ltd    \n",
       "792 NaN     NaN        NaN      NaN  australia  CDD     Cardno Ltd    \n",
       "793 NaN     NaN        NaN      NaN  australia  CDD     Cardno Ltd    \n",
       "794 NaN     NaN        NaN      NaN  australia  CDD     Cardno Ltd    \n",
       "795 NaN     NaN        NaN      NaN  australia  CDD     Cardno Ltd    \n",
       "\n",
       "              영문기업명  해외기업법인등록번호  해외기업사업자등록번호  ...  기업관련소식URL  사내관련정보 고객관련정보  \\\n",
       "0    BHP Group Ltd          NaN          NaN  ...        NaN     NaN    NaN   \n",
       "4    BHP Group Ltd          NaN          NaN  ...        NaN     NaN    NaN   \n",
       "5    BHP Group Ltd          NaN          NaN  ...        NaN     NaN    NaN   \n",
       "6    BHP Group Ltd          NaN          NaN  ...        NaN     NaN    NaN   \n",
       "7    BHP Group Ltd          NaN          NaN  ...        NaN     NaN    NaN   \n",
       "..              ...         ...          ...  ...        ...     ...    ...   \n",
       "788     Cardno Ltd          NaN          NaN  ...        NaN     NaN    NaN   \n",
       "792     Cardno Ltd          NaN          NaN  ...        NaN     NaN    NaN   \n",
       "793     Cardno Ltd          NaN          NaN  ...        NaN     NaN    NaN   \n",
       "794     Cardno Ltd          NaN          NaN  ...        NaN     NaN    NaN   \n",
       "795     Cardno Ltd          NaN          NaN  ...        NaN     NaN    NaN   \n",
       "\n",
       "    공급관련정보 경쟁관련정보  대체재관련정보 작업구분코드  데이터생성일자  연계처리상태코드  연계처리일자  \n",
       "0      NaN    NaN      NaN    NaN      NaN       NaN     NaN  \n",
       "4      NaN    NaN      NaN    NaN      NaN       NaN     NaN  \n",
       "5      NaN    NaN      NaN    NaN      NaN       NaN     NaN  \n",
       "6      NaN    NaN      NaN    NaN      NaN       NaN     NaN  \n",
       "7      NaN    NaN      NaN    NaN      NaN       NaN     NaN  \n",
       "..     ...    ...      ...    ...      ...       ...     ...  \n",
       "788    NaN    NaN      NaN    NaN      NaN       NaN     NaN  \n",
       "792    NaN    NaN      NaN    NaN      NaN       NaN     NaN  \n",
       "793    NaN    NaN      NaN    NaN      NaN       NaN     NaN  \n",
       "794    NaN    NaN      NaN    NaN      NaN       NaN     NaN  \n",
       "795    NaN    NaN      NaN    NaN      NaN       NaN     NaN  \n",
       "\n",
       "[475 rows x 81 columns]"
      ]
     },
     "execution_count": 16,
     "metadata": {},
     "output_type": "execute_result"
    }
   ],
   "source": [
    "df[df[\"회계연도\"] == 2022]"
   ]
  },
  {
   "cell_type": "code",
   "execution_count": null,
   "metadata": {},
   "outputs": [],
   "source": []
  }
 ],
 "metadata": {
  "kernelspec": {
   "display_name": "BDC",
   "language": "python",
   "name": "python3"
  },
  "language_info": {
   "codemirror_mode": {
    "name": "ipython",
    "version": 3
   },
   "file_extension": ".py",
   "mimetype": "text/x-python",
   "name": "python",
   "nbconvert_exporter": "python",
   "pygments_lexer": "ipython3",
   "version": "3.10.9"
  },
  "orig_nbformat": 4
 },
 "nbformat": 4,
 "nbformat_minor": 2
}
