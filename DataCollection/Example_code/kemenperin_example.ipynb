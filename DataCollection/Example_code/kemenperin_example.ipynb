{
 "cells": [
  {
   "cell_type": "code",
   "execution_count": 1,
   "metadata": {},
   "outputs": [],
   "source": [
    "from DataCollection.Collection.General import KEMENPERIN as kp"
   ]
  },
  {
   "cell_type": "code",
   "execution_count": 2,
   "metadata": {},
   "outputs": [
    {
     "name": "stdout",
     "output_type": "stream",
     "text": [
      "\n",
      "        함수에 대한 설명은 아래와 같습니다. \n",
      "\n",
      "        라이브러리 내 주요 클래스는 datos_extact입니다. \n",
      "\n",
      "        DriverSettings()는 크롬 드라이버를 실행하는 함수입니다. \n",
      "\n",
      "        get_data()는 데이터를 추출하여 가공하는 함수입니다. \n",
      "\n",
      "        load()은 데이터를 저장하는 함수입니다.\n",
      "        \n"
     ]
    },
    {
     "data": {
      "text/plain": [
       "<DataCollection.Collection.General.KEMENPERIN.information at 0x1db77466650>"
      ]
     },
     "execution_count": 2,
     "metadata": {},
     "output_type": "execute_result"
    }
   ],
   "source": [
    "kp.information()"
   ]
  },
  {
   "cell_type": "code",
   "execution_count": 3,
   "metadata": {},
   "outputs": [],
   "source": [
    "kps = kp.kemenperin_extract(\"TableDefaultColumns.xlsx\")"
   ]
  },
  {
   "cell_type": "code",
   "execution_count": 4,
   "metadata": {},
   "outputs": [],
   "source": [
    "kps.DriverSettings()"
   ]
  },
  {
   "cell_type": "code",
   "execution_count": null,
   "metadata": {},
   "outputs": [],
   "source": [
    "kps.get_data()"
   ]
  }
 ],
 "metadata": {
  "kernelspec": {
   "display_name": "BDC",
   "language": "python",
   "name": "python3"
  },
  "language_info": {
   "codemirror_mode": {
    "name": "ipython",
    "version": 3
   },
   "file_extension": ".py",
   "mimetype": "text/x-python",
   "name": "python",
   "nbconvert_exporter": "python",
   "pygments_lexer": "ipython3",
   "version": "3.10.9"
  },
  "orig_nbformat": 4
 },
 "nbformat": 4,
 "nbformat_minor": 2
}
