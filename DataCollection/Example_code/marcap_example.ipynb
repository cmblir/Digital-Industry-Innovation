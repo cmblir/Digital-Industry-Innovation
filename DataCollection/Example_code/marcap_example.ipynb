{
 "cells": [
  {
   "cell_type": "code",
   "execution_count": 1,
   "metadata": {},
   "outputs": [],
   "source": [
    "import os\n",
    "import sys\n",
    "import pandas as pd\n",
    "sys.path.append(os.path.dirname(os.path.abspath(os.path.dirname(\"General\"))))\n",
    "from Collection.Stock import MARCAP"
   ]
  },
  {
   "cell_type": "code",
   "execution_count": 2,
   "metadata": {},
   "outputs": [
    {
     "name": "stderr",
     "output_type": "stream",
     "text": [
      "Cloning into 'marcap'...\n",
      "Updating files:  64% (24/37)\n",
      "Updating files:  67% (25/37)\n",
      "Updating files:  70% (26/37)\n",
      "Updating files:  72% (27/37)\n",
      "Updating files:  75% (28/37)\n",
      "Updating files:  78% (29/37)\n",
      "Updating files:  81% (30/37)\n",
      "Updating files:  83% (31/37)\n",
      "Updating files:  86% (32/37)\n",
      "Updating files:  89% (33/37)\n",
      "Updating files:  91% (34/37)\n",
      "Updating files:  94% (35/37)\n",
      "Updating files:  97% (36/37)\n",
      "Updating files: 100% (37/37)\n",
      "Updating files: 100% (37/37), done.\n"
     ]
    }
   ],
   "source": [
    "!git clone \"https://github.com/FinanceData/marcap.git\" marcap"
   ]
  },
  {
   "cell_type": "code",
   "execution_count": 3,
   "metadata": {},
   "outputs": [],
   "source": [
    "from marcap import marcap_data"
   ]
  },
  {
   "cell_type": "code",
   "execution_count": 10,
   "metadata": {},
   "outputs": [],
   "source": [
    "df = marcap_data(\"2018-01-01\", \"2023-01-01\")"
   ]
  },
  {
   "cell_type": "code",
   "execution_count": 12,
   "metadata": {},
   "outputs": [],
   "source": [
    "df = df.reset_index()"
   ]
  },
  {
   "cell_type": "code",
   "execution_count": 14,
   "metadata": {},
   "outputs": [],
   "source": [
    "df[\"Date\"] = df[\"Date\"].astype(str)"
   ]
  },
  {
   "cell_type": "code",
   "execution_count": 16,
   "metadata": {},
   "outputs": [],
   "source": [
    "df.to_csv(\"marcap_2018-2023.csv\", index=False, encoding='utf-8-sig')"
   ]
  },
  {
   "cell_type": "code",
   "execution_count": null,
   "metadata": {},
   "outputs": [],
   "source": []
  }
 ],
 "metadata": {
  "kernelspec": {
   "display_name": "BDC",
   "language": "python",
   "name": "python3"
  },
  "language_info": {
   "codemirror_mode": {
    "name": "ipython",
    "version": 3
   },
   "file_extension": ".py",
   "mimetype": "text/x-python",
   "name": "python",
   "nbconvert_exporter": "python",
   "pygments_lexer": "ipython3",
   "version": "3.10.9"
  },
  "orig_nbformat": 4
 },
 "nbformat": 4,
 "nbformat_minor": 2
}
