{
 "cells": [
  {
   "cell_type": "code",
   "execution_count": 1,
   "metadata": {},
   "outputs": [],
   "source": [
    "import pandas as pd\n",
    "import os"
   ]
  },
  {
   "cell_type": "code",
   "execution_count": 17,
   "metadata": {},
   "outputs": [],
   "source": [
    "# indonesia_info = pd.read_excel(\"C:/Users/user/Desktop/유신영 업무폴더/BDC/1_BDC 데이터 정리/13_2023년 3분기/131_2023년 3분기 3차년도/2023년 3분기 3차년도 재무정보/가공전/INVESTING/indonesia.xlsx\")\n",
    "vietnam_info = pd.read_excel(\"C:/Users/user/Desktop/유신영 업무폴더/BDC/1_BDC 데이터 정리/13_2023년 3분기/131_2023년 3분기 3차년도/2023년 3분기 3차년도 재무정보/가공전/INVESTING/vietnam.xlsx\")"
   ]
  },
  {
   "cell_type": "code",
   "execution_count": 18,
   "metadata": {},
   "outputs": [],
   "source": [
    "vietnam_info = vietnam_info[~vietnam_info['address_info'].str.contains('Indonesia')]"
   ]
  },
  {
   "cell_type": "code",
   "execution_count": 16,
   "metadata": {},
   "outputs": [
    {
     "data": {
      "text/plain": [
       "Series([], Name: address_info, dtype: object)"
      ]
     },
     "execution_count": 16,
     "metadata": {},
     "output_type": "execute_result"
    }
   ],
   "source": [
    "vietnam_info[\"address_info\"]"
   ]
  },
  {
   "cell_type": "code",
   "execution_count": 19,
   "metadata": {},
   "outputs": [],
   "source": [
    "export_columns = ['company_name','industry_info','sector_info','address_info','phone_info','fax_info',\n",
    "'webpage_info','source','gathering_time','Country']"
   ]
  },
  {
   "cell_type": "code",
   "execution_count": 20,
   "metadata": {},
   "outputs": [],
   "source": [
    "# indonesia_info = indonesia_info[export_columns]\n",
    "vietnam_info = vietnam_info[export_columns]"
   ]
  },
  {
   "cell_type": "code",
   "execution_count": 21,
   "metadata": {},
   "outputs": [],
   "source": [
    "# indonesia_info = indonesia_info.drop_duplicates(subset='company_name')\n",
    "vietnam_info = vietnam_info.drop_duplicates(subset='company_name')"
   ]
  },
  {
   "cell_type": "code",
   "execution_count": 22,
   "metadata": {},
   "outputs": [],
   "source": [
    "# indonesia_info.to_excel(\"인도네시아_3차년도_재무정보_일반.xlsx\", index=False)\n",
    "vietnam_info.to_excel(\"베트남_3차년도_재무정보_일반.xlsx\", index=False)"
   ]
  },
  {
   "cell_type": "code",
   "execution_count": null,
   "metadata": {},
   "outputs": [],
   "source": []
  }
 ],
 "metadata": {
  "kernelspec": {
   "display_name": "BDC",
   "language": "python",
   "name": "python3"
  },
  "language_info": {
   "codemirror_mode": {
    "name": "ipython",
    "version": 3
   },
   "file_extension": ".py",
   "mimetype": "text/x-python",
   "name": "python",
   "nbconvert_exporter": "python",
   "pygments_lexer": "ipython3",
   "version": "3.10.9"
  },
  "orig_nbformat": 4
 },
 "nbformat": 4,
 "nbformat_minor": 2
}
