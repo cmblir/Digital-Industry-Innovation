{
 "cells": [
  {
   "cell_type": "code",
   "execution_count": 1,
   "metadata": {},
   "outputs": [],
   "source": [
    "from Collection.General import OPENCORPORATES as ot"
   ]
  },
  {
   "cell_type": "code",
   "execution_count": 2,
   "metadata": {},
   "outputs": [
    {
     "name": "stdout",
     "output_type": "stream",
     "text": [
      "\n",
      "        함수에 대한 설명은 아래와 같습니다. \n",
      "\n",
      "        라이브러리 내 주요 클래스는 opencorporates_extract입니다. \n",
      "\n",
      "        DriverSettings()는 드라이버 세팅을 하는 함수입니다. \n",
      "\n",
      "        Login()은 opencorporates에 로그인하는 함수입니다. \n",
      "\n",
      "        ReCounty()는 국가를 선택하는 함수입니다. \n",
      "\n",
      "        SearchCompanies()는 기업을 찾는 함수입니다. \n",
      "\n",
      "        GetInformation()은 데이터를 추출하는 함수입니다. \n",
      "\n",
      "        GetExcel()은 추출한 데이터를 저장하는 함수입니다. \n",
      "\n",
      "        \n"
     ]
    },
    {
     "data": {
      "text/plain": [
       "<Collection.General.OPENCORPORATES.information at 0x21e87ca5c90>"
      ]
     },
     "execution_count": 2,
     "metadata": {},
     "output_type": "execute_result"
    }
   ],
   "source": [
    "ot.information()"
   ]
  },
  {
   "cell_type": "code",
   "execution_count": 3,
   "metadata": {},
   "outputs": [
    {
     "name": "stdout",
     "output_type": "stream",
     "text": [
      "\n",
      "        Hong Kong, Malaysia, Singapore, Thailand \n",
      "\n",
      "        Viet Nam, India, United States, Canada \n",
      "\n",
      "        Mexico, Netherlands, Germany, Italy, France \n",
      "\n",
      "        United Kingdom, Australia, Switzerland, Spain\n",
      "        \n"
     ]
    },
    {
     "data": {
      "text/plain": [
       "<Collection.General.OPENCORPORATES.country_name at 0x21e87ca6290>"
      ]
     },
     "execution_count": 3,
     "metadata": {},
     "output_type": "execute_result"
    }
   ],
   "source": [
    "ot.country_name()"
   ]
  },
  {
   "cell_type": "code",
   "execution_count": 4,
   "metadata": {},
   "outputs": [],
   "source": [
    "ops = ot.opencorporates_extract()"
   ]
  },
  {
   "cell_type": "code",
   "execution_count": 5,
   "metadata": {},
   "outputs": [],
   "source": [
    "ops.DriverSettings()"
   ]
  },
  {
   "cell_type": "code",
   "execution_count": 6,
   "metadata": {},
   "outputs": [],
   "source": [
    "ops.Login(\"syyoo@hebronstar.com\", \"tlsdud12!!\")"
   ]
  },
  {
   "cell_type": "code",
   "execution_count": 7,
   "metadata": {},
   "outputs": [],
   "source": [
    "lst = ['Hong Kong', 'Malaysia', 'Singapore', 'Thailand',\n",
    "        'Viet Nam', 'India', 'United States', 'Canada',\n",
    "        'Mexico', 'Netherlands', 'Germany', 'Italy', 'France',\n",
    "     \n",
    "        'United Kingdom', 'Australia', 'Switzerland', 'Spain']"
   ]
  },
  {
   "cell_type": "code",
   "execution_count": 8,
   "metadata": {},
   "outputs": [
    {
     "name": "stdout",
     "output_type": "stream",
     "text": [
      "Requirement already satisfied: xlsxwriter in c:\\users\\user\\anaconda3\\envs\\bdc\\lib\\site-packages (3.1.0)\n"
     ]
    }
   ],
   "source": [
    "!pip install xlsxwriter"
   ]
  },
  {
   "cell_type": "code",
   "execution_count": 9,
   "metadata": {},
   "outputs": [
    {
     "name": "stdout",
     "output_type": "stream",
     "text": [
      "Done\n",
      "Done\n",
      "Done\n",
      "Done\n",
      "Done\n",
      "Done\n",
      "Done\n",
      "Done\n",
      "Done\n",
      "Done\n",
      "Done\n",
      "Done\n",
      "Done\n",
      "Done\n",
      "Done\n",
      "Done\n",
      "Done\n"
     ]
    }
   ],
   "source": [
    "for idx in lst:\n",
    "    try:\n",
    "        ops.ReCountry(idx)\n",
    "        ops.SearchCompanies(idx)\n",
    "    except:\n",
    "        print(\"Done\")"
   ]
  },
  {
   "cell_type": "code",
   "execution_count": 11,
   "metadata": {},
   "outputs": [],
   "source": [
    "ops.CompaniesInformationUrl.to_excel(\"finished_url_opencorporates.xlsx\", index=False)"
   ]
  },
  {
   "cell_type": "code",
   "execution_count": 12,
   "metadata": {},
   "outputs": [],
   "source": [
    "import pandas as pd\n",
    "df = pd.read_excel(\"finished_url_opencorporates.xlsx\")"
   ]
  },
  {
   "cell_type": "code",
   "execution_count": 18,
   "metadata": {},
   "outputs": [],
   "source": [
    "for country, url in zip(df[\"country\"], df[\"url\"]):\n",
    "    try:\n",
    "        ops.GetInformation(url, country)\n",
    "    except:\n",
    "        pass"
   ]
  },
  {
   "cell_type": "code",
   "execution_count": 21,
   "metadata": {},
   "outputs": [],
   "source": [
    "ops.CompaniesInformation.to_excel(\"opencorporates_finish.xlsx\", index=False)"
   ]
  },
  {
   "cell_type": "code",
   "execution_count": 20,
   "metadata": {},
   "outputs": [
    {
     "data": {
      "text/html": [
       "<div>\n",
       "<style scoped>\n",
       "    .dataframe tbody tr th:only-of-type {\n",
       "        vertical-align: middle;\n",
       "    }\n",
       "\n",
       "    .dataframe tbody tr th {\n",
       "        vertical-align: top;\n",
       "    }\n",
       "\n",
       "    .dataframe thead th {\n",
       "        text-align: right;\n",
       "    }\n",
       "</style>\n",
       "<table border=\"1\" class=\"dataframe\">\n",
       "  <thead>\n",
       "    <tr style=\"text-align: right;\">\n",
       "      <th></th>\n",
       "      <th>country</th>\n",
       "      <th>company name</th>\n",
       "      <th>url</th>\n",
       "    </tr>\n",
       "  </thead>\n",
       "  <tbody>\n",
       "    <tr>\n",
       "      <th>0</th>\n",
       "      <td>Hong Kong</td>\n",
       "      <td>\" WOW ! \" PARTNERS LIMITED -THE-</td>\n",
       "      <td>https://opencorporates.com/companies/hk/1179533</td>\n",
       "    </tr>\n",
       "    <tr>\n",
       "      <th>1</th>\n",
       "      <td>Hong Kong</td>\n",
       "      <td>\"1ST DRAGON CORPORATION\" LIMITED -THE-</td>\n",
       "      <td>https://opencorporates.com/companies/hk/0761380</td>\n",
       "    </tr>\n",
       "    <tr>\n",
       "      <th>2</th>\n",
       "      <td>Hong Kong</td>\n",
       "      <td>\"2ND SKIN CORPORATION\" LIMITED -THE-</td>\n",
       "      <td>https://opencorporates.com/companies/hk/0553396</td>\n",
       "    </tr>\n",
       "    <tr>\n",
       "      <th>3</th>\n",
       "      <td>Hong Kong</td>\n",
       "      <td>\"A BETTER WAY\" (HONG KONG) LIMITED</td>\n",
       "      <td>https://opencorporates.com/companies/hk/1373429</td>\n",
       "    </tr>\n",
       "    <tr>\n",
       "      <th>4</th>\n",
       "      <td>Hong Kong</td>\n",
       "      <td>\"A BRILLIANT WAY\" INTERNATIONAL LIMITED</td>\n",
       "      <td>https://opencorporates.com/companies/hk/1607931</td>\n",
       "    </tr>\n",
       "    <tr>\n",
       "      <th>...</th>\n",
       "      <td>...</td>\n",
       "      <td>...</td>\n",
       "      <td>...</td>\n",
       "    </tr>\n",
       "    <tr>\n",
       "      <th>13495</th>\n",
       "      <td>Spain</td>\n",
       "      <td>151090 AN SL</td>\n",
       "      <td>https://opencorporates.com/companies/es/60543204</td>\n",
       "    </tr>\n",
       "    <tr>\n",
       "      <th>13496</th>\n",
       "      <td>Spain</td>\n",
       "      <td>1515 CDT INTERNACIONAL SL</td>\n",
       "      <td>https://opencorporates.com/companies/es/13286414</td>\n",
       "    </tr>\n",
       "    <tr>\n",
       "      <th>13497</th>\n",
       "      <td>Spain</td>\n",
       "      <td>1516 CONSULTING SL</td>\n",
       "      <td>https://opencorporates.com/companies/es/31930126</td>\n",
       "    </tr>\n",
       "    <tr>\n",
       "      <th>13498</th>\n",
       "      <td>Spain</td>\n",
       "      <td>151INNOVA24H SL</td>\n",
       "      <td>https://opencorporates.com/companies/es/21472410</td>\n",
       "    </tr>\n",
       "    <tr>\n",
       "      <th>13499</th>\n",
       "      <td>Spain</td>\n",
       "      <td>1520 NUEVA TECNOLOGIA APLICADA SIGLO XXI SL</td>\n",
       "      <td>https://opencorporates.com/companies/es/82803347</td>\n",
       "    </tr>\n",
       "  </tbody>\n",
       "</table>\n",
       "<p>13500 rows × 3 columns</p>\n",
       "</div>"
      ],
      "text/plain": [
       "         country                                 company name  \\\n",
       "0      Hong Kong             \" WOW ! \" PARTNERS LIMITED -THE-   \n",
       "1      Hong Kong       \"1ST DRAGON CORPORATION\" LIMITED -THE-   \n",
       "2      Hong Kong         \"2ND SKIN CORPORATION\" LIMITED -THE-   \n",
       "3      Hong Kong           \"A BETTER WAY\" (HONG KONG) LIMITED   \n",
       "4      Hong Kong      \"A BRILLIANT WAY\" INTERNATIONAL LIMITED   \n",
       "...          ...                                          ...   \n",
       "13495      Spain                                 151090 AN SL   \n",
       "13496      Spain                    1515 CDT INTERNACIONAL SL   \n",
       "13497      Spain                           1516 CONSULTING SL   \n",
       "13498      Spain                              151INNOVA24H SL   \n",
       "13499      Spain  1520 NUEVA TECNOLOGIA APLICADA SIGLO XXI SL   \n",
       "\n",
       "                                                    url  \n",
       "0       https://opencorporates.com/companies/hk/1179533  \n",
       "1       https://opencorporates.com/companies/hk/0761380  \n",
       "2       https://opencorporates.com/companies/hk/0553396  \n",
       "3       https://opencorporates.com/companies/hk/1373429  \n",
       "4       https://opencorporates.com/companies/hk/1607931  \n",
       "...                                                 ...  \n",
       "13495  https://opencorporates.com/companies/es/60543204  \n",
       "13496  https://opencorporates.com/companies/es/13286414  \n",
       "13497  https://opencorporates.com/companies/es/31930126  \n",
       "13498  https://opencorporates.com/companies/es/21472410  \n",
       "13499  https://opencorporates.com/companies/es/82803347  \n",
       "\n",
       "[13500 rows x 3 columns]"
      ]
     },
     "execution_count": 20,
     "metadata": {},
     "output_type": "execute_result"
    }
   ],
   "source": [
    "ops.CompaniesInformationUrl"
   ]
  },
  {
   "cell_type": "code",
   "execution_count": null,
   "metadata": {},
   "outputs": [],
   "source": []
  }
 ],
 "metadata": {
  "kernelspec": {
   "display_name": "BDC",
   "language": "python",
   "name": "python3"
  },
  "language_info": {
   "codemirror_mode": {
    "name": "ipython",
    "version": 3
   },
   "file_extension": ".py",
   "mimetype": "text/x-python",
   "name": "python",
   "nbconvert_exporter": "python",
   "pygments_lexer": "ipython3",
   "version": "3.10.9"
  },
  "orig_nbformat": 4
 },
 "nbformat": 4,
 "nbformat_minor": 2
}
