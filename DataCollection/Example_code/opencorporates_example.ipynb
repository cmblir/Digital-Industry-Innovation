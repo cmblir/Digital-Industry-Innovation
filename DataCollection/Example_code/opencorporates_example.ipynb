{
 "cells": [
  {
   "cell_type": "code",
   "execution_count": 5,
   "metadata": {},
   "outputs": [],
   "source": [
    "import os\n",
    "import sys\n",
    "import pandas as pd\n",
    "sys.path.append(os.path.dirname(os.path.abspath(os.path.dirname(\"General\"))))\n",
    "from Collection.General import OPENCORPORATES as ot"
   ]
  },
  {
   "cell_type": "code",
   "execution_count": 6,
   "metadata": {},
   "outputs": [
    {
     "name": "stdout",
     "output_type": "stream",
     "text": [
      "\n",
      "        함수에 대한 설명은 아래와 같습니다. \n",
      "\n",
      "        라이브러리 내 주요 클래스는 opencorporates_extract입니다. \n",
      "\n",
      "        DriverSettings()는 드라이버 세팅을 하는 함수입니다. \n",
      "\n",
      "        Login()은 opencorporates에 로그인하는 함수입니다. \n",
      "\n",
      "        ReCounty()는 국가를 선택하는 함수입니다. \n",
      "\n",
      "        SearchCompanies()는 기업을 찾는 함수입니다. \n",
      "\n",
      "        GetInformation()은 데이터를 추출하는 함수입니다. \n",
      "\n",
      "        GetExcel()은 추출한 데이터를 저장하는 함수입니다. \n",
      "\n",
      "        \n"
     ]
    },
    {
     "data": {
      "text/plain": [
       "<Collection.General.OPENCORPORATES.information at 0x1be6d01c220>"
      ]
     },
     "execution_count": 6,
     "metadata": {},
     "output_type": "execute_result"
    }
   ],
   "source": [
    "ot.information()"
   ]
  },
  {
   "cell_type": "code",
   "execution_count": 36,
   "metadata": {},
   "outputs": [],
   "source": [
    "country = {\n",
    "    \"Australia\" : \"aus\",\n",
    "    \"Cabada\" : \"can\",\n",
    "    \"United Kingdom\" : \"gbr\",\n",
    "    \"France\" : \"fra\",\n",
    "    \"Switzerland\" : \"che\",\n",
    "    \"Hong Kong\" : \"hkg\",\n",
    "    \"Malaysia\" : \"mys\",\n",
    "    \"Singapore\" : \"sgp\",\n",
    "    \"Spain\" : \"esp\",\n",
    "    \"Thailand\" : \"tha\",\n",
    "    \"Japan\" : \"jpn\",\n",
    "    \"Viet Nam\" : \"vnm\",\n",
    "    \"India\" : \"ind\",\n",
    "    \"United States\" : \"usa\",\n",
    "    \"Canada\" : \"can\",\n",
    "    \"Mexico\" : \"mex\",\n",
    "    \"Netherlands\" : \"nld\",\n",
    "    \"Germany\" : \"deu\"\n",
    "}\n",
    "stock_name = {\n",
    "\"aus\" : [\"Australian Securities Exchange\", \"ASX\", \"English\"],\n",
    "\"can\" : [\"Toronto Stock Exchange\", \"TSX\", \"English\"],\n",
    "\"che\" : [\"SIX Swiss Exchange\", \"SIX\", \"German\"],\n",
    "\"col\" : [\"Bolsa de Valores de Colombia\", \"BVC\", \"Spanish\"],\n",
    "\"deu\" : [\"Frankfurt Stock Exchange\", \"FSE\", \"German\"],\n",
    "\"esp\" : [\"Bolsa de Madrid\", \"BM\", \"Spanish\"],\n",
    "\"fra\" : [\"Euronext Paris\", \"EP\", \"French\"],\n",
    "\"gbr\" : [\"London Stock Exchange\", \"LSE\", \"English\"],\n",
    "\"hkg\" : [\"Hong Kong Stock Exchange\", \"HKEX\", \"Cantonese\"],\n",
    "\"idn\" : [\"Indonesia Stock Exchange\", \"IDX\", \"Indonesian\"],\n",
    "\"ind\" : [\"National Stock Exchange\", \"NSE\", \"Hindi\"],\n",
    "\"ita\" : [\"Borsa Italiana\", \"BI\", \"Italian\"],\n",
    "\"jpn\" : [\"Tokyo Stock Exchange\", \"TSE\", \"Japanese\"],\n",
    "\"kor\" : [\"Korea Exchange\", \"KRX\", \"Korean\"],\n",
    "\"mys\" : [\"Kuala Lumpur Stock Exchange\", \"KLSE\", \"Malay\"],\n",
    "\"mex\" : [\"Bolsa Mexicana de Valores\", \"BMV\", \"Spanish\"],\n",
    "\"nld\" : [\"Euronext Amsterdam\", \"BA\", \"Dutch\"],\n",
    "\"sgp\" : [\"Singapore Stock Exchange\", \"SGX\", \"English\"],\n",
    "\"tha\" : [\"Stock Exchange of Thailand\", \"SET\", \"Thai\"],\n",
    "\"usa\" : [\"New York Stock Exchange\", \"NYSE\", \"English\"],\n",
    "\"vnm\" : [\"Ho Chi Minh City Stock Exchange\", \"HSX\", \"Vietnamese\"]}"
   ]
  },
  {
   "cell_type": "code",
   "execution_count": 37,
   "metadata": {},
   "outputs": [],
   "source": [
    "opencorporates_field = {\n",
    "        '채워야할 테이블 필드명':\n",
    "        ['keyval','hb_ntn_cd','acplc_lngg_ntn_nm','engls_ntn_nm','ntn_lngg_cd_val','acplc_lngg_lngg_nm','engls_lngg_nm','acplc_lngg_entrp_nm','engls_entrp_nm','acplc_lngg_oln_intrd_cont','acplc_lngg_entrp_intrd_cont','engls_oln_intrd_cont','engls_entrp_intrd_cont',\n",
    "         'acplc_lngg_ceo_nm','engls_ceo_nm','entrp_rprsn_tlno','rprsn_fxno','rprsn_email','entrp_hmpg_url','facebook_url','instgrm_url','ytb_url','lnkdn_url','acplc_lngg_pinch_nm','engls_pinch_nm','acplc_lngg_ofpst_nm','engls_ofpst_nm','pinch_sub_sgnng','entrp_pinch_tlno',\n",
    "         'pinch_email','pinch_fxno','entrp_pinch_mtlno','acplc_lngg_entrp_addr','acplc_lngg_entrp_dtadd','engls_entrp_addr','engls_entrp_dtadd','entrp_post_no','acplc_lngg_indst_gnnm','engls_indstrsctrs_nm','acplc_lngg_main_prduc_cont','engls_main_prduc_cont',\n",
    "         'fndtn_dt','entrp_emply_val','extnladt_sctin_val','accnn_yr','prsls_val','crrnc_sctin_cd','currn_unit_nm','stock_mrkt_cd','acplc_lngg_stock_mrkt_nm','engls_stock_mrkt_nm','lstng_cd','lstng_dt','entrp_addtn_info_val','opert_sctin_cd','data_crtin_dt','cntct_prces_stts_cd','cntct_prces_dt']}\n"
   ]
  },
  {
   "cell_type": "code",
   "execution_count": 38,
   "metadata": {},
   "outputs": [],
   "source": [
    "mapping_sheet = pd.DataFrame(columns=opencorporates_field[\"채워야할 테이블 필드명\"])"
   ]
  },
  {
   "cell_type": "code",
   "execution_count": 39,
   "metadata": {},
   "outputs": [],
   "source": [
    "from tqdm import tqdm"
   ]
  },
  {
   "cell_type": "code",
   "execution_count": 46,
   "metadata": {},
   "outputs": [],
   "source": [
    "import pandas as pd\n",
    "df = pd.read_excel(\"malay.xlsx\")"
   ]
  },
  {
   "cell_type": "code",
   "execution_count": 47,
   "metadata": {},
   "outputs": [
    {
     "data": {
      "text/plain": [
       "array(['Malaysia', 'France', 'United Kingdom', 'Australia', 'Switzerland',\n",
       "       'Spain', 'Japan'], dtype=object)"
      ]
     },
     "execution_count": 47,
     "metadata": {},
     "output_type": "execute_result"
    }
   ],
   "source": [
    "df.Country.unique()"
   ]
  },
  {
   "cell_type": "code",
   "execution_count": 48,
   "metadata": {},
   "outputs": [
    {
     "name": "stderr",
     "output_type": "stream",
     "text": [
      "100%|██████████| 8260/8260 [00:13<00:00, 612.28it/s] \n"
     ]
    }
   ],
   "source": [
    "mapping_sheet = pd.DataFrame(columns=opencorporates_field[\"채워야할 테이블 필드명\"])\n",
    "for idx in tqdm(range(len(df))):\n",
    "    country_name_3 = country[df[\"Country\"][idx]]\n",
    "    exchange_name = stock_name[country_name_3][0]\n",
    "    exchange_name_3 = stock_name[country_name_3][1]\n",
    "    language = stock_name[country_name_3][2]\n",
    "    opencorporates_dict = {\"columns\" : ['keyval','hb_ntn_cd','acplc_lngg_ntn_nm','engls_ntn_nm','ntn_lngg_cd_val','acplc_lngg_lngg_nm','engls_lngg_nm','acplc_lngg_entrp_nm','engls_entrp_nm','acplc_lngg_oln_intrd_cont','acplc_lngg_entrp_intrd_cont','engls_oln_intrd_cont','engls_entrp_intrd_cont',\n",
    "         'acplc_lngg_ceo_nm','engls_ceo_nm','entrp_rprsn_tlno','rprsn_fxno','rprsn_email','entrp_hmpg_url','facebook_url','instgrm_url','ytb_url','lnkdn_url','acplc_lngg_pinch_nm','engls_pinch_nm','acplc_lngg_ofpst_nm','engls_ofpst_nm','pinch_sub_sgnng','entrp_pinch_tlno',\n",
    "         'pinch_email','pinch_fxno','entrp_pinch_mtlno','acplc_lngg_entrp_addr','acplc_lngg_entrp_dtadd','engls_entrp_addr','engls_entrp_dtadd','entrp_post_no','acplc_lngg_indst_gnnm','engls_indstrsctrs_nm','acplc_lngg_main_prduc_cont','engls_main_prduc_cont',\n",
    "         'fndtn_dt','entrp_emply_val','extnladt_sctin_val','accnn_yr','prsls_val','crrnc_sctin_cd','currn_unit_nm','stock_mrkt_cd','acplc_lngg_stock_mrkt_nm','engls_stock_mrkt_nm','lstng_cd','lstng_dt','entrp_addtn_info_val','opert_sctin_cd','data_crtin_dt','cntct_prces_stts_cd','cntct_prces_dt'],\n",
    "         \"index\" :[\"\",country_name_3.upper(),df[\"Country\"][idx],df[\"Country\"][idx],country_name_3.upper(),language,language,df['Company Name'][idx].replace('\"', \"\"),df['Company Name'][idx].replace('\"', \"\"),\"\",\"\",\"\",\"\",\"\",\"\",\"\",\"\",\"\",df['Registry Page'][idx],\"\",\"\",\"\",\"\",df['Directors / Officers'][idx],\n",
    "                   \"\",\"\",\"\",\"\",\"\",\"\",\"\",\"\",df['Registered Address'][idx],df['Registered Address'][idx],\"\",\"\",\"\",\"\",\"\",\"\",\"\",df['Incorporation Date'][idx],\n",
    "                   df['Number Of Employees'][idx],\"\",\"\",\"\",\"\",\"\",exchange_name_3,exchange_name,exchange_name,\"\",\"\",\"\",\"\",\"\",\"\",\"\"]}\n",
    "    append_df = pd.DataFrame(opencorporates_dict)\n",
    "    append_df = append_df.set_index(\"columns\").T\n",
    "    mapping_sheet = mapping_sheet.append(append_df, ignore_index=True)"
   ]
  },
  {
   "cell_type": "code",
   "execution_count": 49,
   "metadata": {},
   "outputs": [],
   "source": [
    "for idx in list(mapping_sheet[\"hb_ntn_cd\"].unique()):\n",
    "    exported_df = mapping_sheet[mapping_sheet[\"hb_ntn_cd\"] == idx]\n",
    "    exported_df.to_excel(f\"egnin_fn/opencorporates_finished/tb_hb_{idx.lower()}_egnin_m.xlsx\", index=False)"
   ]
  },
  {
   "cell_type": "code",
   "execution_count": 52,
   "metadata": {},
   "outputs": [
    {
     "data": {
      "text/plain": [
       "58"
      ]
     },
     "execution_count": 52,
     "metadata": {},
     "output_type": "execute_result"
    }
   ],
   "source": [
    "len(exported_df.columns)"
   ]
  },
  {
   "cell_type": "code",
   "execution_count": 54,
   "metadata": {},
   "outputs": [],
   "source": [
    "import numpy as np\n",
    "months = {\n",
    "    \"January\" : \"01\",\n",
    "    \"February\" : \"02\",\n",
    "    \"March\" : \"03\",\n",
    "    \"April\" : \"04\",\n",
    "    \"May\" : \"05\",\n",
    "    \"June\" : \"06\",\n",
    "    \"July\" : \"07\",\n",
    "    \"August\" : \"08\",\n",
    "    \"September\" : \"09\",\n",
    "    \"October\" : \"10\",\n",
    "    \"November\" : \"11\",\n",
    "    \"December\" : \"12\"\n",
    "}\n",
    "\n",
    "FilePath = \"egnin_fn/opencorporates_finished/\"\n",
    "Path = os.listdir(FilePath)\n",
    "\n",
    "for name in Path:\n",
    "    temp = pd.read_excel(FilePath + name)\n",
    "    if not list(temp[\"fndtn_dt\"].dropna()):\n",
    "        continue\n",
    "    try:\n",
    "        for dt in range(len(temp[\"fndtn_dt\"])):\n",
    "            tmp = temp[\"fndtn_dt\"][dt]\n",
    "            if tmp is np.nan:\n",
    "                continue\n",
    "            else:\n",
    "                demp = tmp.split()\n",
    "                yearz = str(demp[2])\n",
    "                monthz = str(months[demp[1]])\n",
    "                dayz = str(demp[0])\n",
    "                a = \"\".join([yearz, monthz, dayz.rjust(2, \"0\")])\n",
    "                temp.loc[dt, \"fndtn_dt\"] = a\n",
    "        temp.to_excel(FilePath + name, index= False)\n",
    "    except:\n",
    "        name"
   ]
  },
  {
   "cell_type": "code",
   "execution_count": null,
   "metadata": {},
   "outputs": [],
   "source": []
  }
 ],
 "metadata": {
  "kernelspec": {
   "display_name": "BDC",
   "language": "python",
   "name": "python3"
  },
  "language_info": {
   "codemirror_mode": {
    "name": "ipython",
    "version": 3
   },
   "file_extension": ".py",
   "mimetype": "text/x-python",
   "name": "python",
   "nbconvert_exporter": "python",
   "pygments_lexer": "ipython3",
   "version": "3.10.9"
  },
  "orig_nbformat": 4
 },
 "nbformat": 4,
 "nbformat_minor": 2
}
