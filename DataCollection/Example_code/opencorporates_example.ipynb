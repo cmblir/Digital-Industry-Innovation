{
 "cells": [
  {
   "cell_type": "code",
   "execution_count": 7,
   "metadata": {},
   "outputs": [],
   "source": [
    "from Collection.General import OPENCORPORATES as ot"
   ]
  },
  {
   "cell_type": "code",
   "execution_count": 8,
   "metadata": {},
   "outputs": [
    {
     "name": "stdout",
     "output_type": "stream",
     "text": [
      "\n",
      "        함수에 대한 설명은 아래와 같습니다. \n",
      "\n",
      "        라이브러리 내 주요 클래스는 opencorporates_extract입니다. \n",
      "\n",
      "        DriverSettings()는 드라이버 세팅을 하는 함수입니다. \n",
      "\n",
      "        Login()은 opencorporates에 로그인하는 함수입니다. \n",
      "\n",
      "        ReCounty()는 국가를 선택하는 함수입니다. \n",
      "\n",
      "        SearchCompanies()는 기업을 찾는 함수입니다. \n",
      "\n",
      "        GetInformation()은 데이터를 추출하는 함수입니다. \n",
      "\n",
      "        GetExcel()은 추출한 데이터를 저장하는 함수입니다. \n",
      "\n",
      "        \n"
     ]
    },
    {
     "data": {
      "text/plain": [
       "<Collection.General.OPENCORPORATES.information at 0x272f0401450>"
      ]
     },
     "execution_count": 8,
     "metadata": {},
     "output_type": "execute_result"
    }
   ],
   "source": [
    "ot.information()"
   ]
  },
  {
   "cell_type": "code",
   "execution_count": 9,
   "metadata": {},
   "outputs": [
    {
     "name": "stdout",
     "output_type": "stream",
     "text": [
      "\n",
      "        Hong Kong, Malaysia, Singapore, Thailand \n",
      "\n",
      "        Viet Nam, India, United States, Canada \n",
      "\n",
      "        Mexico, Netherlands, Germany, Italy, France \n",
      "\n",
      "        United Kingdom, Australia, Switzerland, Spain\n",
      "        \n"
     ]
    },
    {
     "data": {
      "text/plain": [
       "<Collection.General.OPENCORPORATES.country_name at 0x27290ef02b0>"
      ]
     },
     "execution_count": 9,
     "metadata": {},
     "output_type": "execute_result"
    }
   ],
   "source": [
    "ot.country_name()"
   ]
  },
  {
   "cell_type": "code",
   "execution_count": 10,
   "metadata": {},
   "outputs": [],
   "source": [
    "ops = ot.opencorporates_extract()"
   ]
  },
  {
   "cell_type": "code",
   "execution_count": 11,
   "metadata": {},
   "outputs": [],
   "source": [
    "ops.DriverSettings()"
   ]
  },
  {
   "cell_type": "code",
   "execution_count": 12,
   "metadata": {},
   "outputs": [],
   "source": [
    "ops.Login(\"syyoo@hebronstar.com\", \"tlsdud12!!\")"
   ]
  },
  {
   "cell_type": "code",
   "execution_count": 13,
   "metadata": {},
   "outputs": [],
   "source": [
    "lst = ['Hong Kong', 'Malaysia', 'Singapore', 'Thailand',\n",
    "        'Viet Nam', 'India', 'United States', 'Canada',\n",
    "        'Mexico', 'Netherlands', 'Germany', 'Italy', 'France',\n",
    "     \n",
    "        'United Kingdom', 'Australia', 'Switzerland', 'Spain']"
   ]
  },
  {
   "cell_type": "code",
   "execution_count": 8,
   "metadata": {},
   "outputs": [
    {
     "name": "stdout",
     "output_type": "stream",
     "text": [
      "Requirement already satisfied: xlsxwriter in c:\\users\\user\\anaconda3\\envs\\bdc\\lib\\site-packages (3.1.0)\n"
     ]
    }
   ],
   "source": [
    "!pip install xlsxwriter"
   ]
  },
  {
   "cell_type": "code",
   "execution_count": 14,
   "metadata": {},
   "outputs": [
    {
     "name": "stdout",
     "output_type": "stream",
     "text": [
      "Done\n",
      "Done\n",
      "Done\n",
      "Done\n",
      "Done\n",
      "Done\n",
      "Done\n",
      "Done\n",
      "Done\n",
      "Done\n",
      "Done\n",
      "Done\n",
      "Done\n",
      "Done\n",
      "Done\n",
      "Done\n",
      "Done\n"
     ]
    }
   ],
   "source": [
    "for idx in lst:\n",
    "    try:\n",
    "        ops.ReCountry(idx)\n",
    "        ops.SearchCompanies(idx)\n",
    "    except:\n",
    "        print(\"Done\")"
   ]
  },
  {
   "cell_type": "code",
   "execution_count": null,
   "metadata": {},
   "outputs": [],
   "source": []
  }
 ],
 "metadata": {
  "kernelspec": {
   "display_name": "BDC",
   "language": "python",
   "name": "python3"
  },
  "language_info": {
   "codemirror_mode": {
    "name": "ipython",
    "version": 3
   },
   "file_extension": ".py",
   "mimetype": "text/x-python",
   "name": "python",
   "nbconvert_exporter": "python",
   "pygments_lexer": "ipython3",
   "version": "3.10.9"
  },
  "orig_nbformat": 4
 },
 "nbformat": 4,
 "nbformat_minor": 2
}
