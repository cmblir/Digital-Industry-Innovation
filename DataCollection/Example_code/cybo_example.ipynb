{
 "cells": [
  {
   "cell_type": "code",
   "execution_count": 27,
   "metadata": {},
   "outputs": [],
   "source": [
    "import os\n",
    "import pandas as pd\n",
    "\n",
    "path = \"C:/Users/user/Desktop/폴더정리/BDC/1_BDC 데이터 정리/13_2023년 3분기/131_2023년 3분기 3차년도/1311_가공전/2023년 3분기 3차년도 일반정보/가공전/\"\n",
    "filepath = os.listdir(path)\n",
    "cybo_lst = []\n",
    "for idx in filepath:\n",
    "    if \"cybo\" in idx:\n",
    "        cybo_lst.append(idx)"
   ]
  },
  {
   "cell_type": "code",
   "execution_count": 28,
   "metadata": {},
   "outputs": [],
   "source": [
    "df = pd.read_csv(path + cybo_lst[0])\n",
    "TableDefaultColumns = pd.read_excel(\"TableDefaultColumns.xlsx\", sheet_name=2)"
   ]
  },
  {
   "cell_type": "code",
   "execution_count": 29,
   "metadata": {},
   "outputs": [
    {
     "data": {
      "text/plain": [
       "['company_name',\n",
       " 'company_address',\n",
       " 'phone_number',\n",
       " 'company_url',\n",
       " 'about',\n",
       " 'ISIC_code',\n",
       " 'categories']"
      ]
     },
     "execution_count": 29,
     "metadata": {},
     "output_type": "execute_result"
    }
   ],
   "source": [
    "list(df.columns)"
   ]
  },
  {
   "cell_type": "code",
   "execution_count": 30,
   "metadata": {},
   "outputs": [],
   "source": [
    "finished_df = pd.DataFrame(columns=list(TableDefaultColumns[\"표준_한글컬럼명\"]))"
   ]
  },
  {
   "cell_type": "code",
   "execution_count": 31,
   "metadata": {},
   "outputs": [],
   "source": [
    "hi = {\n",
    "    'company_name': ['현지언어기업명', '영문기업명'],\n",
    "    'company_address': ['현지언어기업주소', '현지언어기업상세주소', '영문기업주소', '영문기업상세주소'],\n",
    "    'phone_number': ['기업대표전화번호', '기업담당자전화번호', '기업담당자이동전화번호'],\n",
    "    'company_url': ['기업홈페이지URL'],\n",
    "    'about': ['현지언어한줄소개내용', '현지언어기업소개내용', '영문한줄소개내용', '영문기업소개내용', '현지언어주요제품내용', '영문주요제품내용'],\n",
    "    'categories': ['현지언어산업군명', '영문산업군명']\n",
    "}"
   ]
  },
  {
   "cell_type": "code",
   "execution_count": 32,
   "metadata": {},
   "outputs": [
    {
     "data": {
      "text/html": [
       "<div>\n",
       "<style scoped>\n",
       "    .dataframe tbody tr th:only-of-type {\n",
       "        vertical-align: middle;\n",
       "    }\n",
       "\n",
       "    .dataframe tbody tr th {\n",
       "        vertical-align: top;\n",
       "    }\n",
       "\n",
       "    .dataframe thead th {\n",
       "        text-align: right;\n",
       "    }\n",
       "</style>\n",
       "<table border=\"1\" class=\"dataframe\">\n",
       "  <thead>\n",
       "    <tr style=\"text-align: right;\">\n",
       "      <th></th>\n",
       "      <th>키값</th>\n",
       "      <th>헤브론스타국가코드</th>\n",
       "      <th>현지언어국가명</th>\n",
       "      <th>영문국가명</th>\n",
       "      <th>국가언어코드값</th>\n",
       "      <th>현지언어언어명</th>\n",
       "      <th>영문언어명</th>\n",
       "      <th>현지언어기업명</th>\n",
       "      <th>영문기업명</th>\n",
       "      <th>현지언어한줄소개내용</th>\n",
       "      <th>...</th>\n",
       "      <th>주식시장코드</th>\n",
       "      <th>현지언어주식시장명</th>\n",
       "      <th>영문주식시장명</th>\n",
       "      <th>상장코드</th>\n",
       "      <th>상장일자</th>\n",
       "      <th>기업추가정보값</th>\n",
       "      <th>작업구분코드</th>\n",
       "      <th>데이터생성일자</th>\n",
       "      <th>연계처리상태코드</th>\n",
       "      <th>연계처리일자</th>\n",
       "    </tr>\n",
       "  </thead>\n",
       "  <tbody>\n",
       "  </tbody>\n",
       "</table>\n",
       "<p>0 rows × 58 columns</p>\n",
       "</div>"
      ],
      "text/plain": [
       "Empty DataFrame\n",
       "Columns: [키값, 헤브론스타국가코드, 현지언어국가명, 영문국가명, 국가언어코드값, 현지언어언어명, 영문언어명, 현지언어기업명, 영문기업명, 현지언어한줄소개내용, 현지언어기업소개내용, 영문한줄소개내용, 영문기업소개내용, 현지언어대표이사명, 영문대표이사명, 기업대표전화번호, 대표팩스번호, 대표이메일, 기업홈페이지URL, 페이스북URL, 인스타그램URL, 유튜브URL, 링크드인URL, 현지언어담당자명, 영문담당자명, 현지언어직위명, 영문직위명, 담당자부서명, 기업담당자전화번호, 담당자이메일, 담당자팩스번호, 기업담당자이동전화번호, 현지언어기업주소, 현지언어기업상세주소, 영문기업주소, 영문기업상세주소, 기업우편번호, 현지언어산업군명, 영문산업군명, 현지언어주요제품내용, 영문주요제품내용, 설립일자, 기업종업원값, 외감법인구분값, 회계연도, 매출액값, 통화구분코드, 화폐단위명, 주식시장코드, 현지언어주식시장명, 영문주식시장명, 상장코드, 상장일자, 기업추가정보값, 작업구분코드, 데이터생성일자, 연계처리상태코드, 연계처리일자]\n",
       "Index: []\n",
       "\n",
       "[0 rows x 58 columns]"
      ]
     },
     "execution_count": 32,
     "metadata": {},
     "output_type": "execute_result"
    }
   ],
   "source": [
    "finished_df"
   ]
  },
  {
   "cell_type": "code",
   "execution_count": 33,
   "metadata": {},
   "outputs": [],
   "source": [
    "for key, value_list in hi.items():\n",
    "    # 각 값에 대해 새로운 컬럼을 생성하고, 그 컬럼의 값은 기존 key에 해당하는 컬럼의 값으로 설정합니다.\n",
    "    for value in value_list:\n",
    "        df[value] = df[key]\n",
    "\n",
    "    # 마지막으로, 원래 key에 해당하는 컬럼을 삭제합니다.\n",
    "    df.drop(columns=[key], inplace=True)"
   ]
  },
  {
   "cell_type": "code",
   "execution_count": 37,
   "metadata": {},
   "outputs": [],
   "source": [
    "df = df.drop(columns=\"ISIC_code\", inplace=False)"
   ]
  },
  {
   "cell_type": "code",
   "execution_count": 39,
   "metadata": {},
   "outputs": [
    {
     "name": "stderr",
     "output_type": "stream",
     "text": [
      "C:\\Users\\user\\AppData\\Local\\Temp\\ipykernel_27904\\4183064357.py:1: FutureWarning: The frame.append method is deprecated and will be removed from pandas in a future version. Use pandas.concat instead.\n",
      "  finished_df = finished_df.append(df, ignore_index=True)\n"
     ]
    }
   ],
   "source": [
    "finished_df = finished_df.append(df, ignore_index=True)"
   ]
  },
  {
   "cell_type": "code",
   "execution_count": 41,
   "metadata": {},
   "outputs": [],
   "source": [
    "finished_df[\"헤브론스타국가코드\"] = \"UKR\"\n",
    "finished_df[\"영문국가명\"] = \"UKR\"\n",
    "finished_df[\"현지언어국가명\"] = \"UKR\"\n",
    "finished_df[\"현지언어언어명\"] = \"Ukrainian\"\n",
    "finished_df[\"국가언어코드값\"] = \"Ukrainian\"\n",
    "finished_df[\"영문언어명\"] = \"Ukrainian\""
   ]
  },
  {
   "cell_type": "code",
   "execution_count": 43,
   "metadata": {},
   "outputs": [],
   "source": [
    "finished_df.to_excel(\"C:/Users/user/Desktop/폴더정리/BDC/1_BDC 데이터 정리/13_2023년 3분기/131_2023년 3분기 3차년도/1311_가공전/2023년 3분기 3차년도 일반정보/적재전/우크라니아(cybo).xlsx\", index=False)"
   ]
  },
  {
   "cell_type": "code",
   "execution_count": null,
   "metadata": {},
   "outputs": [],
   "source": []
  }
 ],
 "metadata": {
  "kernelspec": {
   "display_name": "BDC",
   "language": "python",
   "name": "python3"
  },
  "language_info": {
   "codemirror_mode": {
    "name": "ipython",
    "version": 3
   },
   "file_extension": ".py",
   "mimetype": "text/x-python",
   "name": "python",
   "nbconvert_exporter": "python",
   "pygments_lexer": "ipython3",
   "version": "3.10.9"
  },
  "orig_nbformat": 4
 },
 "nbformat": 4,
 "nbformat_minor": 2
}
