{
 "cells": [
  {
   "cell_type": "code",
   "execution_count": 1,
   "metadata": {},
   "outputs": [],
   "source": [
    "import os\n",
    "import sys\n",
    "sys.path.append(os.path.dirname(os.path.abspath(os.path.dirname(\"General\"))))"
   ]
  },
  {
   "cell_type": "code",
   "execution_count": 2,
   "metadata": {},
   "outputs": [],
   "source": [
    "import selenium\n",
    "from selenium.webdriver.common.by import By\n",
    "import pandas as pd\n",
    "from bs4 import BeautifulSoup\n"
   ]
  },
  {
   "cell_type": "code",
   "execution_count": 3,
   "metadata": {},
   "outputs": [],
   "source": [
    "from Collection.General import YELLOW as yl"
   ]
  },
  {
   "cell_type": "code",
   "execution_count": 4,
   "metadata": {},
   "outputs": [],
   "source": [
    "yls = yl.yellow_extract()"
   ]
  },
  {
   "cell_type": "code",
   "execution_count": 5,
   "metadata": {},
   "outputs": [
    {
     "data": {
      "text/plain": [
       "\n",
       "        The function is described below. \n",
       "\n",
       "        The main class in the library is opencorporates_extract. \n",
       "\n",
       "        DriverSettings() is a function that sets the driver. \n",
       "\n",
       "        "
      ]
     },
     "execution_count": 5,
     "metadata": {},
     "output_type": "execute_result"
    }
   ],
   "source": [
    "yl.information()"
   ]
  },
  {
   "cell_type": "code",
   "execution_count": 6,
   "metadata": {},
   "outputs": [],
   "source": [
    "country_lst = ['파키스탄', '아르헨티나', '칠레', '브라질', '카자흐스탄', '벨라루스', '르완다', '탄자니아', '우간다', '남아공', '일본', '홍콩', '말레이시아', '싱가포르', '태국', '베트남', '인도네시아', '인도', '멕시코', '네덜란드', '호주', '스위스']"
   ]
  },
  {
   "cell_type": "code",
   "execution_count": 7,
   "metadata": {},
   "outputs": [
    {
     "name": "stderr",
     "output_type": "stream",
     "text": [
      " 17%|█▋        | 1/6 [01:17<06:28, 77.68s/it]\n"
     ]
    },
    {
     "ename": "InvalidArgumentException",
     "evalue": "Message: invalid argument\n  (Session info: chrome=114.0.5735.134)\nStacktrace:\nBacktrace:\n\tGetHandleVerifier [0x00B0A813+48355]\n\t(No symbol) [0x00A9C4B1]\n\t(No symbol) [0x009A5220]\n\t(No symbol) [0x009988E2]\n\t(No symbol) [0x00997138]\n\t(No symbol) [0x00997688]\n\t(No symbol) [0x009A6B52]\n\t(No symbol) [0x009FCF01]\n\t(No symbol) [0x009EA73C]\n\t(No symbol) [0x009FC922]\n\t(No symbol) [0x009EA536]\n\t(No symbol) [0x009C82DC]\n\t(No symbol) [0x009C93DD]\n\tGetHandleVerifier [0x00D6AABD+2539405]\n\tGetHandleVerifier [0x00DAA78F+2800735]\n\tGetHandleVerifier [0x00DA456C+2775612]\n\tGetHandleVerifier [0x00B951E0+616112]\n\t(No symbol) [0x00AA5F8C]\n\t(No symbol) [0x00AA2328]\n\t(No symbol) [0x00AA240B]\n\t(No symbol) [0x00A94FF7]\n\tBaseThreadInitThunk [0x75FB7D59+25]\n\tRtlInitializeExceptionChain [0x77A7B74B+107]\n\tRtlClearBits [0x77A7B6CF+191]\n",
     "output_type": "error",
     "traceback": [
      "\u001b[1;31m---------------------------------------------------------------------------\u001b[0m",
      "\u001b[1;31mInvalidArgumentException\u001b[0m                  Traceback (most recent call last)",
      "Cell \u001b[1;32mIn[7], line 3\u001b[0m\n\u001b[0;32m      1\u001b[0m \u001b[39mfor\u001b[39;00m idx \u001b[39min\u001b[39;00m country_lst:\n\u001b[0;32m      2\u001b[0m     yls\u001b[39m.\u001b[39mDriverSettings()\n\u001b[1;32m----> 3\u001b[0m     yls\u001b[39m.\u001b[39;49mextract(idx)\n",
      "File \u001b[1;32mc:\\Users\\user\\Desktop\\yoo\\개발관련\\BDC\\Digital-Industry-Innovation\\DataCollection\\Collection\\General\\YELLOW.py:99\u001b[0m, in \u001b[0;36myellow_extract.extract\u001b[1;34m(self, country_name, moment_stop)\u001b[0m\n\u001b[0;32m     97\u001b[0m \u001b[39mfor\u001b[39;00m idx \u001b[39min\u001b[39;00m tqdm(\u001b[39mrange\u001b[39m(\u001b[39m1\u001b[39m, max_page_number \u001b[39m+\u001b[39m \u001b[39m1\u001b[39m)):\n\u001b[0;32m     98\u001b[0m     \u001b[39mif\u001b[39;00m idx \u001b[39m>\u001b[39m \u001b[39m1\u001b[39m: \n\u001b[1;32m---> 99\u001b[0m         \u001b[39mself\u001b[39;49m\u001b[39m.\u001b[39;49mdriver\u001b[39m.\u001b[39;49mget(\u001b[39mf\u001b[39;49m\u001b[39m\"\u001b[39;49m\u001b[39m{\u001b[39;49;00m\u001b[39mself\u001b[39;49m\u001b[39m.\u001b[39;49murl\u001b[39m}\u001b[39;49;00m\u001b[39m/\u001b[39;49m\u001b[39m{\u001b[39;49;00midx\u001b[39m}\u001b[39;49;00m\u001b[39m\"\u001b[39;49m)\n\u001b[0;32m    101\u001b[0m     \u001b[39mif\u001b[39;00m moment_stop \u001b[39m==\u001b[39m \u001b[39mTrue\u001b[39;00m \u001b[39mand\u001b[39;00m idx \u001b[39m%\u001b[39m \u001b[39m100\u001b[39m:\n\u001b[0;32m    102\u001b[0m         \u001b[39mself\u001b[39m\u001b[39m.\u001b[39mmoment_save(idx, country_name)\n",
      "File \u001b[1;32mc:\\Users\\user\\anaconda3\\envs\\BDC\\lib\\site-packages\\selenium\\webdriver\\remote\\webdriver.py:449\u001b[0m, in \u001b[0;36mWebDriver.get\u001b[1;34m(self, url)\u001b[0m\n\u001b[0;32m    447\u001b[0m \u001b[39mdef\u001b[39;00m \u001b[39mget\u001b[39m(\u001b[39mself\u001b[39m, url: \u001b[39mstr\u001b[39m) \u001b[39m-\u001b[39m\u001b[39m>\u001b[39m \u001b[39mNone\u001b[39;00m:\n\u001b[0;32m    448\u001b[0m \u001b[39m    \u001b[39m\u001b[39m\"\"\"Loads a web page in the current browser session.\"\"\"\u001b[39;00m\n\u001b[1;32m--> 449\u001b[0m     \u001b[39mself\u001b[39;49m\u001b[39m.\u001b[39;49mexecute(Command\u001b[39m.\u001b[39;49mGET, {\u001b[39m\"\u001b[39;49m\u001b[39murl\u001b[39;49m\u001b[39m\"\u001b[39;49m: url})\n",
      "File \u001b[1;32mc:\\Users\\user\\anaconda3\\envs\\BDC\\lib\\site-packages\\selenium\\webdriver\\remote\\webdriver.py:440\u001b[0m, in \u001b[0;36mWebDriver.execute\u001b[1;34m(self, driver_command, params)\u001b[0m\n\u001b[0;32m    438\u001b[0m response \u001b[39m=\u001b[39m \u001b[39mself\u001b[39m\u001b[39m.\u001b[39mcommand_executor\u001b[39m.\u001b[39mexecute(driver_command, params)\n\u001b[0;32m    439\u001b[0m \u001b[39mif\u001b[39;00m response:\n\u001b[1;32m--> 440\u001b[0m     \u001b[39mself\u001b[39;49m\u001b[39m.\u001b[39;49merror_handler\u001b[39m.\u001b[39;49mcheck_response(response)\n\u001b[0;32m    441\u001b[0m     response[\u001b[39m\"\u001b[39m\u001b[39mvalue\u001b[39m\u001b[39m\"\u001b[39m] \u001b[39m=\u001b[39m \u001b[39mself\u001b[39m\u001b[39m.\u001b[39m_unwrap_value(response\u001b[39m.\u001b[39mget(\u001b[39m\"\u001b[39m\u001b[39mvalue\u001b[39m\u001b[39m\"\u001b[39m, \u001b[39mNone\u001b[39;00m))\n\u001b[0;32m    442\u001b[0m     \u001b[39mreturn\u001b[39;00m response\n",
      "File \u001b[1;32mc:\\Users\\user\\anaconda3\\envs\\BDC\\lib\\site-packages\\selenium\\webdriver\\remote\\errorhandler.py:245\u001b[0m, in \u001b[0;36mErrorHandler.check_response\u001b[1;34m(self, response)\u001b[0m\n\u001b[0;32m    243\u001b[0m         alert_text \u001b[39m=\u001b[39m value[\u001b[39m\"\u001b[39m\u001b[39malert\u001b[39m\u001b[39m\"\u001b[39m]\u001b[39m.\u001b[39mget(\u001b[39m\"\u001b[39m\u001b[39mtext\u001b[39m\u001b[39m\"\u001b[39m)\n\u001b[0;32m    244\u001b[0m     \u001b[39mraise\u001b[39;00m exception_class(message, screen, stacktrace, alert_text)  \u001b[39m# type: ignore[call-arg]  # mypy is not smart enough here\u001b[39;00m\n\u001b[1;32m--> 245\u001b[0m \u001b[39mraise\u001b[39;00m exception_class(message, screen, stacktrace)\n",
      "\u001b[1;31mInvalidArgumentException\u001b[0m: Message: invalid argument\n  (Session info: chrome=114.0.5735.134)\nStacktrace:\nBacktrace:\n\tGetHandleVerifier [0x00B0A813+48355]\n\t(No symbol) [0x00A9C4B1]\n\t(No symbol) [0x009A5220]\n\t(No symbol) [0x009988E2]\n\t(No symbol) [0x00997138]\n\t(No symbol) [0x00997688]\n\t(No symbol) [0x009A6B52]\n\t(No symbol) [0x009FCF01]\n\t(No symbol) [0x009EA73C]\n\t(No symbol) [0x009FC922]\n\t(No symbol) [0x009EA536]\n\t(No symbol) [0x009C82DC]\n\t(No symbol) [0x009C93DD]\n\tGetHandleVerifier [0x00D6AABD+2539405]\n\tGetHandleVerifier [0x00DAA78F+2800735]\n\tGetHandleVerifier [0x00DA456C+2775612]\n\tGetHandleVerifier [0x00B951E0+616112]\n\t(No symbol) [0x00AA5F8C]\n\t(No symbol) [0x00AA2328]\n\t(No symbol) [0x00AA240B]\n\t(No symbol) [0x00A94FF7]\n\tBaseThreadInitThunk [0x75FB7D59+25]\n\tRtlInitializeExceptionChain [0x77A7B74B+107]\n\tRtlClearBits [0x77A7B6CF+191]\n"
     ]
    }
   ],
   "source": [
    "for idx in country_lst:\n",
    "    yls.DriverSettings()\n",
    "    yls.extract(idx, True)"
   ]
  },
  {
   "cell_type": "code",
   "execution_count": null,
   "metadata": {},
   "outputs": [],
   "source": [
    "yls.DriverSettings()"
   ]
  },
  {
   "attachments": {},
   "cell_type": "markdown",
   "metadata": {},
   "source": [
    "        self.companies_info = pd.DataFrame()\n",
    "        self.driver.get(self.url(self.country_dict[country_name]))\n",
    "\n",
    "        location_list = self.driver.find_element(By.XPATH, '/html/body/section[2]/ul')\n",
    "        locations = location_list.find_elements(By.TAG_NAME, 'a')\n",
    "        location_links = [location.get_attribute(\"href\") for location in locations if \"location\" in location.get_attribute(\"href\")]\n",
    "\n",
    "        for link in set(location_links):\n",
    "            self.driver.get(link)\n",
    "            find_max_page_number = self.driver.find_element(By.XPATH, '//*[@id=\"listings\"]')\n",
    "            max_page_number = max(int(i.text) for i in find_max_page_number.find_elements(By.TAG_NAME, 'a') if i.get_attribute(\"class\") == \"pages_no\")\n",
    "            \n",
    "            for idx in tqdm(range(1, max_page_number + 1)):\n",
    "                if idx > 1: \n",
    "                    self.driver.get(f\"{self.url}/{idx}\")\n",
    "                \n",
    "                if moment_stop == True and idx % 100:\n",
    "                    self.moment_save(idx, country_name)\n",
    "                    break\n",
    "                    \n",
    "                href_list = self.driver.find_element(By.XPATH, '//*[@id=\"listings\"]')\n",
    "                company_links = [href.get_attribute(\"href\") for href in href_list.find_elements(By.TAG_NAME, \"a\") if \"company\" in href.get_attribute(\"href\") and \"reviews\" not in href.get_attribute(\"href\")]\n",
    "\n",
    "                for company_link in set(company_links):\n",
    "                    self.driver.get(company_link)\n",
    "                    div_list = self.driver.find_elements(By.TAG_NAME, \"div\")\n",
    "                    \n",
    "                    try:\n",
    "                        info_texts = [div.text for div in div_list if div.get_attribute('class') == 'info']\n",
    "                        if not info_texts:\n",
    "                            continue\n",
    "                        company_name = info_texts[0].split(\"\\n\")[1]\n",
    "                        append_df = pd.DataFrame({company_name: info_texts[1:]})\n",
    "                        self.companies_info = pd.concat([self.companies_info, append_df], axis=1)\n",
    "                        print(f\"appended {company_name}\")\n",
    "                    except Exception as e:\n",
    "                        print(f\"Error while processing {company_link}: {e}\")\n",
    "                        continue\n",
    "        self.driver.close()"
   ]
  },
  {
   "cell_type": "code",
   "execution_count": null,
   "metadata": {},
   "outputs": [],
   "source": [
    "try:\n",
    "    if idx == 1: pass\n",
    "    else: self.driver.get(self.url + f\"/{idx}\")\n",
    "    href_lst = self.driver.find_element(By.XPATH, '//*[@id=\"listings\"]')\n",
    "    company_link_lst = []\n",
    "    for hrefs in href_lst.find_elements(By.TAG_NAME, \"a\"):\n",
    "        href = hrefs.get_attribute(\"href\")\n",
    "        if \"company\" in href and \"reviews\" not in href and href not in company_link_lst: company_link_lst.append(href)\n",
    "    for company_link in company_link_lst:\n",
    "        self.driver.get(company_link)\n",
    "        div_lst = self.driver.find_elements(By.TAG_NAME, \"div\")\n",
    "        lst = []\n",
    "        for div in div_lst:\n",
    "            if div.get_attribute('class') == 'info': lst.append(div.text)\n",
    "        company_name = lst[0].split(\"\\n\")[1]\n",
    "        append_df = pd.DataFrame({company_name : lst[1:]})\n",
    "        CompaniesInformation = pd.concat([CompaniesInformation, append_df], axis=1)\n",
    "        print(f\"appended {company_name}\")\n",
    "except:\n",
    "    pass"
   ]
  },
  {
   "cell_type": "code",
   "execution_count": 8,
   "metadata": {},
   "outputs": [],
   "source": [
    "yls.companies_info = pd.DataFrame()\n",
    "yls.driver.get(yls.url(yls.country_dict[\"남아공\"]))"
   ]
  },
  {
   "cell_type": "code",
   "execution_count": 9,
   "metadata": {},
   "outputs": [],
   "source": [
    "location_list = yls.driver.find_element(By.XPATH, '/html/body/section[2]/ul')\n",
    "locations = location_list.find_elements(By.TAG_NAME, 'a')\n",
    "location_links = [location.get_attribute(\"href\") for location in locations if \"location\" in location.get_attribute(\"href\")]"
   ]
  },
  {
   "cell_type": "code",
   "execution_count": 10,
   "metadata": {},
   "outputs": [],
   "source": [
    "yls.driver.get(location_links[0])\n",
    "find_max_page_number = yls.driver.find_element(By.XPATH, '//*[@id=\"listings\"]')\n",
    "max_page_number = max(int(i.text) for i in find_max_page_number.find_elements(By.TAG_NAME, 'a') if i.get_attribute(\"class\") == \"pages_no\")\n"
   ]
  },
  {
   "cell_type": "code",
   "execution_count": 11,
   "metadata": {},
   "outputs": [],
   "source": [
    "href_list = yls.driver.find_element(By.XPATH, '//*[@id=\"listings\"]')\n",
    "company_links = [href.get_attribute(\"href\") for href in href_list.find_elements(By.TAG_NAME, \"a\") if \"company\" in href.get_attribute(\"href\") and \"reviews\" not in href.get_attribute(\"href\")]"
   ]
  },
  {
   "cell_type": "code",
   "execution_count": 12,
   "metadata": {},
   "outputs": [],
   "source": [
    "yls.driver.get(company_links[1])"
   ]
  },
  {
   "cell_type": "code",
   "execution_count": 77,
   "metadata": {},
   "outputs": [],
   "source": [
    "div_list = yls.driver.find_element(By.XPATH, '//*[@id=\"left\"]')"
   ]
  },
  {
   "cell_type": "code",
   "execution_count": 78,
   "metadata": {},
   "outputs": [
    {
     "name": "stdout",
     "output_type": "stream",
     "text": [
      "COMPANY NAME\n",
      "Geyser Repairs Centurion\n",
      "ADDRESS\n",
      "184 Panorama road , Rooihuiskraal, Pretoria, Gauteng, South Africa\n",
      "VIEW MAP\n",
      "PHONE NUMBER\n",
      "0714866959\n",
      "MOBILE PHONE\n",
      "0714866959\n",
      "WEBSITE\n",
      "https://goodelec1.wixsite.com/geyserexperts\n",
      "CONTACT PERSON\n",
      "Martin\n",
      "ESTABLISHMENT YEAR 2012\n",
      "EMPLOYEES 1-5\n",
      "REGISTRATION CODE 2015/424116/07\n",
      "COMPANY MANAGER Martin\n",
      "E-MAIL\n",
      "SEND ENQUIRY\n"
     ]
    }
   ],
   "source": [
    "for idx in div_list.find_elements(By.TAG_NAME, 'div'):\n",
    "    if idx.get_attribute('class') == 'info':\n",
    "        print(idx.text)"
   ]
  },
  {
   "cell_type": "code",
   "execution_count": 57,
   "metadata": {},
   "outputs": [
    {
     "data": {
      "text/plain": [
       "[]"
      ]
     },
     "execution_count": 57,
     "metadata": {},
     "output_type": "execute_result"
    }
   ],
   "source": [
    "info_texts"
   ]
  },
  {
   "cell_type": "code",
   "execution_count": 13,
   "metadata": {},
   "outputs": [],
   "source": [
    "soup = BeautifulSoup(yls.driver.page_source, 'html.parser')\n",
    "div_list = soup.find_all('div')"
   ]
  },
  {
   "cell_type": "code",
   "execution_count": 15,
   "metadata": {},
   "outputs": [],
   "source": [
    "from tqdm import tqdm"
   ]
  },
  {
   "cell_type": "code",
   "execution_count": 18,
   "metadata": {},
   "outputs": [
    {
     "name": "stderr",
     "output_type": "stream",
     "text": [
      "100%|██████████| 379/379 [00:00<00:00, 3060.86it/s]\n"
     ]
    }
   ],
   "source": [
    "for div in tqdm(div_list):\n",
    "    try:\n",
    "        info_texts = [div.text for div in div_list if div.get('class') == ['info']]\n",
    "    except: pass"
   ]
  },
  {
   "cell_type": "code",
   "execution_count": 19,
   "metadata": {},
   "outputs": [
    {
     "data": {
      "text/plain": [
       "['Company nameGeyser Repairs Centurion',\n",
       " 'Address184 Panorama road , Rooihuiskraal, Pretoria, Gauteng, South AfricaView Map ',\n",
       " 'Phone Number0714866959',\n",
       " 'Mobile phone0714866959',\n",
       " 'Websitehttps://goodelec1.wixsite.com/geyserexperts',\n",
       " 'Contact PersonMartin',\n",
       " 'Establishment year 2012',\n",
       " 'Employees 1-5',\n",
       " 'Registration code 2015/424116/07',\n",
       " 'Company manager Martin',\n",
       " 'E-mailSend Enquiry',\n",
       " 'DescriptionGEYSER INSTALLATIONS\\nWe offer the following:\\n- Expert and qualified personnel for the opening of drains\\n- Repairing or replacement of leaking or burst geysers\\n- Repairing of water leakages caused from leaking, cracked or burst pipes\\n- Unblocking of blocked drains\\n- Repair or replacement of leaking or broken Safety and Pressure valves\\n- Geyser tripping problems\\n- Repairs to leaking toilets\\n- Repairs or replacement of leaking or broken taps\\n- Repairs to geyser overflow problems\\n- Replacement of faulty geyser elements or thermostats\\n- Installation of Isolator Switches\\n- Repair to leaking or cracked baths\\n- Detecting and repairing of no hot water supply from the geyser\\n- Supply and fitment of Geyserwise energy control units to effectively reduce energy consumption\\n- Supply and fitment of Solar Geysers\\n- Services offered in accordance with South African National Standard (SANS 10254)\\n- Leak Detection\\n- geyser repairs\\n\\nPLUMBING SERVICES\\n24-Hour emergency plumbing services and repairs:\\n- We offer prompt service and immediate reaction;\\n- Our plumbers are equipped with cellular phones for efficient communication;\\n- We have qualified and trained personnel;\\n- We offer service 7 days a week, 24 hours per day;\\n- Our rates and tariffs are excellent;\\n- All our vehicles are in good working condition to ensure efficient, reliable and speedy service;\\n- We guarantee our workmanship;\\n- We offer quality materials and parts;\\n- We are operational in all areas of Pretoria, Centurion, Midrand and Johannesburg.\\n- geyser maintenance\\n\\nELECTRICAL SERVICES\\nWe offer a wide variety of electrical services like:\\n- Tracing of electrical wires, Fault finding.\\n- Installation of Lights, Fans, Isolators and Timer switches.\\n- Replacement of wires, circuit breakers and general switches.\\n- We can also assist with Load Scheduling inside your DB board.',\n",
       " 'Working HoursWeekdayTimeMonday:open 24 hoursTuesday:open 24 hoursWednesday:open 24 hoursThursday:open 24 hoursFriday:open 24 hoursSaturday:open 24 hoursSunday:open 24 hours',\n",
       " 'Products & Services\\n200 Litre GeyserGEYSER INSTALLATIONS\\nWe offer the following:\\n- Expert and qualified personnel for the opening of drains\\n- Repairing or replacement of leaking or burst geysers\\n- Repairing of water leakages caused ...\\n',\n",
       " '\\nListed in categories\\n\\nBusiness ServicesBusiness Services / General BusinessBusiness Services / Small BusinessBusiness Services / Small Business / Home BusinessTradesmen & ConstructionTradesmen & Construction / Construction ServicesTradesmen & Construction / HandymanTradesmen & Construction / Plumbing Services \\n',\n",
       " 'KeywordsGeyser installations & repairsGeyser maintenanceGeyser Plumbers in Centurion',\n",
       " \"Related Companies to Geyser Repairs CenturionYouth For Survival356 Proes St, Pretoria Central Pretoria, Pretoria, Gauteng \\xa0VerifiedPhoneMap5.02 Reviews\\nISP SolutionsFirwood Avenue, Hazelwood, Pretoria, Gauteng \\xa0Verified+11 \\xa0Years with usPhoneE-mailMapWebsite 4 Photos 3 Products4.01 Review\\nFrigipanPlot 251, Van Der Hoff,Zandfontein 317-JR, Pretoria \\xa0Verified+4 \\xa0Years with usPhoneE-mailMapWebsite 4 Photos 3 Products\\nBlinds, Curtaining and More123 Maryanne ave, Annlin, Pretoria, Gauteng \\xa0Verified+5 \\xa0Years with usPhoneE-mailMapWebsite 4 Photos 3 Products\\nBailey's Midrand Plumbers512 Johan Heyns street,Gezina ,Pretoria, Pretoria, Gauteng \\xa0Verified+5 \\xa0Years with usPhoneE-mailMapWebsite 4 Photos 1 Products\\nNad Packaging - Boxes, pallets, slip sheets15 Stefaan Viljoen str Rosslyn, Pretoria, Gauteng \\xa0Verified+7 \\xa0Years with usPhoneE-mailMapWebsite 4 Photos 1 Products\\nSANCA SOSHANGUVE REHABILITATION CENTREWaterbok St, Theresapark, Akasia, 0182, Pretoria, Gauteng \\xa0VerifiedPhoneE-mailMapWebsite 1 Photos4.01 Review\\nStamp It398 watsonia str sinoville 0182, Pretoria, Gauteng \\xa0Verified+4 \\xa0Years with usPhoneE-mailMapWebsite 4 Photos\\n\"]"
      ]
     },
     "execution_count": 19,
     "metadata": {},
     "output_type": "execute_result"
    }
   ],
   "source": [
    "info_texts"
   ]
  },
  {
   "cell_type": "code",
   "execution_count": 25,
   "metadata": {},
   "outputs": [],
   "source": [
    "word_lst = [\"Products & Services\", \"Employees\", \"Contact Person\", \"Mobile phone\", \"Phone Number\", \"Address\", \"Company name\", \"E-mail\", \"Description\", \"'Working Hours\", \"Keywords\", \"Related Companies\"]"
   ]
  },
  {
   "cell_type": "code",
   "execution_count": 52,
   "metadata": {},
   "outputs": [],
   "source": [
    "import re\n",
    "pattern_dict = {}\n",
    "\n",
    "for string in info_texts:\n",
    "    for pattern in word_lst:\n",
    "        if re.search(pattern, string):\n",
    "            # 딕셔너리에 키가 이미 있으면 값을 추가하고, 없으면 새 리스트를 만듭니다.\n",
    "            if pattern in pattern_dict:\n",
    "                split_string = re.split(pattern, string)\n",
    "                pattern_dict[pattern] = split_string[1]\n",
    "            else:\n",
    "                split_string = re.split(pattern, string)\n",
    "                pattern_dict[pattern] = [split_string[1]]\n",
    "\n",
    "pattern_dict"
   ]
  },
  {
   "cell_type": "code",
   "execution_count": 53,
   "metadata": {},
   "outputs": [
    {
     "data": {
      "text/plain": [
       "{'Company name': ['Geyser Repairs Centurion'],\n",
       " 'Address': ['184 Panorama road , Rooihuiskraal, Pretoria, Gauteng, South AfricaView Map '],\n",
       " 'Phone Number': ['0714866959'],\n",
       " 'Mobile phone': ['0714866959'],\n",
       " 'Contact Person': ['Martin'],\n",
       " 'Employees': [' 1-5'],\n",
       " 'E-mail': 'MapWebsite 4 Photos 3 Products4.01 Review\\nFrigipanPlot 251, Van Der Hoff,Zandfontein 317-JR, Pretoria \\xa0Verified+4 \\xa0Years with usPhone',\n",
       " 'Description': ['GEYSER INSTALLATIONS\\nWe offer the following:\\n- Expert and qualified personnel for the opening of drains\\n- Repairing or replacement of leaking or burst geysers\\n- Repairing of water leakages caused from leaking, cracked or burst pipes\\n- Unblocking of blocked drains\\n- Repair or replacement of leaking or broken Safety and Pressure valves\\n- Geyser tripping problems\\n- Repairs to leaking toilets\\n- Repairs or replacement of leaking or broken taps\\n- Repairs to geyser overflow problems\\n- Replacement of faulty geyser elements or thermostats\\n- Installation of Isolator Switches\\n- Repair to leaking or cracked baths\\n- Detecting and repairing of no hot water supply from the geyser\\n- Supply and fitment of Geyserwise energy control units to effectively reduce energy consumption\\n- Supply and fitment of Solar Geysers\\n- Services offered in accordance with South African National Standard (SANS 10254)\\n- Leak Detection\\n- geyser repairs\\n\\nPLUMBING SERVICES\\n24-Hour emergency plumbing services and repairs:\\n- We offer prompt service and immediate reaction;\\n- Our plumbers are equipped with cellular phones for efficient communication;\\n- We have qualified and trained personnel;\\n- We offer service 7 days a week, 24 hours per day;\\n- Our rates and tariffs are excellent;\\n- All our vehicles are in good working condition to ensure efficient, reliable and speedy service;\\n- We guarantee our workmanship;\\n- We offer quality materials and parts;\\n- We are operational in all areas of Pretoria, Centurion, Midrand and Johannesburg.\\n- geyser maintenance\\n\\nELECTRICAL SERVICES\\nWe offer a wide variety of electrical services like:\\n- Tracing of electrical wires, Fault finding.\\n- Installation of Lights, Fans, Isolators and Timer switches.\\n- Replacement of wires, circuit breakers and general switches.\\n- We can also assist with Load Scheduling inside your DB board.'],\n",
       " 'Products & Services': ['\\n200 Litre GeyserGEYSER INSTALLATIONS\\nWe offer the following:\\n- Expert and qualified personnel for the opening of drains\\n- Repairing or replacement of leaking or burst geysers\\n- Repairing of water leakages caused ...\\n'],\n",
       " 'Keywords': ['Geyser installations & repairsGeyser maintenanceGeyser Plumbers in Centurion'],\n",
       " 'Related Companies': [\" to Geyser Repairs CenturionYouth For Survival356 Proes St, Pretoria Central Pretoria, Pretoria, Gauteng \\xa0VerifiedPhoneMap5.02 Reviews\\nISP SolutionsFirwood Avenue, Hazelwood, Pretoria, Gauteng \\xa0Verified+11 \\xa0Years with usPhoneE-mailMapWebsite 4 Photos 3 Products4.01 Review\\nFrigipanPlot 251, Van Der Hoff,Zandfontein 317-JR, Pretoria \\xa0Verified+4 \\xa0Years with usPhoneE-mailMapWebsite 4 Photos 3 Products\\nBlinds, Curtaining and More123 Maryanne ave, Annlin, Pretoria, Gauteng \\xa0Verified+5 \\xa0Years with usPhoneE-mailMapWebsite 4 Photos 3 Products\\nBailey's Midrand Plumbers512 Johan Heyns street,Gezina ,Pretoria, Pretoria, Gauteng \\xa0Verified+5 \\xa0Years with usPhoneE-mailMapWebsite 4 Photos 1 Products\\nNad Packaging - Boxes, pallets, slip sheets15 Stefaan Viljoen str Rosslyn, Pretoria, Gauteng \\xa0Verified+7 \\xa0Years with usPhoneE-mailMapWebsite 4 Photos 1 Products\\nSANCA SOSHANGUVE REHABILITATION CENTREWaterbok St, Theresapark, Akasia, 0182, Pretoria, Gauteng \\xa0VerifiedPhoneE-mailMapWebsite 1 Photos4.01 Review\\nStamp It398 watsonia str sinoville 0182, Pretoria, Gauteng \\xa0Verified+4 \\xa0Years with usPhoneE-mailMapWebsite 4 Photos\\n\"]}"
      ]
     },
     "execution_count": 53,
     "metadata": {},
     "output_type": "execute_result"
    }
   ],
   "source": []
  },
  {
   "cell_type": "code",
   "execution_count": 34,
   "metadata": {},
   "outputs": [
    {
     "data": {
      "text/plain": [
       "[['Geyser Repairs Centurion'],\n",
       " ['184 Panorama road , Rooihuiskraal, Pretoria, Gauteng, South AfricaView Map '],\n",
       " ['0714866959'],\n",
       " ['0714866959'],\n",
       " ['Martin'],\n",
       " [' 1-5'],\n",
       " ['Send Enquiry'],\n",
       " ['GEYSER INSTALLATIONS\\nWe offer the following:\\n- Expert and qualified personnel for the opening of drains\\n- Repairing or replacement of leaking or burst geysers\\n- Repairing of water leakages caused from leaking, cracked or burst pipes\\n- Unblocking of blocked drains\\n- Repair or replacement of leaking or broken Safety and Pressure valves\\n- Geyser tripping problems\\n- Repairs to leaking toilets\\n- Repairs or replacement of leaking or broken taps\\n- Repairs to geyser overflow problems\\n- Replacement of faulty geyser elements or thermostats\\n- Installation of Isolator Switches\\n- Repair to leaking or cracked baths\\n- Detecting and repairing of no hot water supply from the geyser\\n- Supply and fitment of Geyserwise energy control units to effectively reduce energy consumption\\n- Supply and fitment of Solar Geysers\\n- Services offered in accordance with South African National Standard (SANS 10254)\\n- Leak Detection\\n- geyser repairs\\n\\nPLUMBING SERVICES\\n24-Hour emergency plumbing services and repairs:\\n- We offer prompt service and immediate reaction;\\n- Our plumbers are equipped with cellular phones for efficient communication;\\n- We have qualified and trained personnel;\\n- We offer service 7 days a week, 24 hours per day;\\n- Our rates and tariffs are excellent;\\n- All our vehicles are in good working condition to ensure efficient, reliable and speedy service;\\n- We guarantee our workmanship;\\n- We offer quality materials and parts;\\n- We are operational in all areas of Pretoria, Centurion, Midrand and Johannesburg.\\n- geyser maintenance\\n\\nELECTRICAL SERVICES\\nWe offer a wide variety of electrical services like:\\n- Tracing of electrical wires, Fault finding.\\n- Installation of Lights, Fans, Isolators and Timer switches.\\n- Replacement of wires, circuit breakers and general switches.\\n- We can also assist with Load Scheduling inside your DB board.'],\n",
       " ['\\n200 Litre GeyserGEYSER INSTALLATIONS\\nWe offer the following:\\n- Expert and qualified personnel for the opening of drains\\n- Repairing or replacement of leaking or burst geysers\\n- Repairing of water leakages caused ...\\n'],\n",
       " ['Geyser installations & repairsGeyser maintenanceGeyser Plumbers in Centurion'],\n",
       " ['Related Companies to Geyser Repairs CenturionYouth For Survival356 Proes St, Pretoria Central Pretoria, Pretoria, Gauteng \\xa0VerifiedPhoneMap5.02 Reviews\\nISP SolutionsFirwood Avenue, Hazelwood, Pretoria, Gauteng \\xa0Verified+11 \\xa0Years with usPhone',\n",
       "  'MapWebsite 4 Photos 3 Products4.01 Review\\nFrigipanPlot 251, Van Der Hoff,Zandfontein 317-JR, Pretoria \\xa0Verified+4 \\xa0Years with usPhone',\n",
       "  'MapWebsite 4 Photos 3 Products\\nBlinds, Curtaining and More123 Maryanne ave, Annlin, Pretoria, Gauteng \\xa0Verified+5 \\xa0Years with usPhone',\n",
       "  \"MapWebsite 4 Photos 3 Products\\nBailey's Midrand Plumbers512 Johan Heyns street,Gezina ,Pretoria, Pretoria, Gauteng \\xa0Verified+5 \\xa0Years with usPhone\",\n",
       "  'MapWebsite 4 Photos 1 Products\\nNad Packaging - Boxes, pallets, slip sheets15 Stefaan Viljoen str Rosslyn, Pretoria, Gauteng \\xa0Verified+7 \\xa0Years with usPhone',\n",
       "  'MapWebsite 4 Photos 1 Products\\nSANCA SOSHANGUVE REHABILITATION CENTREWaterbok St, Theresapark, Akasia, 0182, Pretoria, Gauteng \\xa0VerifiedPhone',\n",
       "  'MapWebsite 1 Photos4.01 Review\\nStamp It398 watsonia str sinoville 0182, Pretoria, Gauteng \\xa0Verified+4 \\xa0Years with usPhone',\n",
       "  'MapWebsite 4 Photos\\n'],\n",
       " [\" to Geyser Repairs CenturionYouth For Survival356 Proes St, Pretoria Central Pretoria, Pretoria, Gauteng \\xa0VerifiedPhoneMap5.02 Reviews\\nISP SolutionsFirwood Avenue, Hazelwood, Pretoria, Gauteng \\xa0Verified+11 \\xa0Years with usPhoneE-mailMapWebsite 4 Photos 3 Products4.01 Review\\nFrigipanPlot 251, Van Der Hoff,Zandfontein 317-JR, Pretoria \\xa0Verified+4 \\xa0Years with usPhoneE-mailMapWebsite 4 Photos 3 Products\\nBlinds, Curtaining and More123 Maryanne ave, Annlin, Pretoria, Gauteng \\xa0Verified+5 \\xa0Years with usPhoneE-mailMapWebsite 4 Photos 3 Products\\nBailey's Midrand Plumbers512 Johan Heyns street,Gezina ,Pretoria, Pretoria, Gauteng \\xa0Verified+5 \\xa0Years with usPhoneE-mailMapWebsite 4 Photos 1 Products\\nNad Packaging - Boxes, pallets, slip sheets15 Stefaan Viljoen str Rosslyn, Pretoria, Gauteng \\xa0Verified+7 \\xa0Years with usPhoneE-mailMapWebsite 4 Photos 1 Products\\nSANCA SOSHANGUVE REHABILITATION CENTREWaterbok St, Theresapark, Akasia, 0182, Pretoria, Gauteng \\xa0VerifiedPhoneE-mailMapWebsite 1 Photos4.01 Review\\nStamp It398 watsonia str sinoville 0182, Pretoria, Gauteng \\xa0Verified+4 \\xa0Years with usPhoneE-mailMapWebsite 4 Photos\\n\"]]"
      ]
     },
     "execution_count": 34,
     "metadata": {},
     "output_type": "execute_result"
    }
   ],
   "source": [
    "company_name"
   ]
  },
  {
   "cell_type": "code",
   "execution_count": null,
   "metadata": {},
   "outputs": [],
   "source": [
    "append_df = pd.DataFrame({company_name: info_texts[1:]})\n",
    "yls.companies_info = pd.concat([yls.companies_info, append_df], axis=1)"
   ]
  },
  {
   "cell_type": "code",
   "execution_count": 24,
   "metadata": {},
   "outputs": [
    {
     "name": "stdout",
     "output_type": "stream",
     "text": [
      "[['', 'woewrwqsqd'], ['', 'dfadwewqe']]\n"
     ]
    }
   ],
   "source": [
    "result = [re.split(pattern, string) for string in d for pattern in a if re.search(pattern, string)]"
   ]
  },
  {
   "cell_type": "code",
   "execution_count": null,
   "metadata": {},
   "outputs": [],
   "source": []
  }
 ],
 "metadata": {
  "kernelspec": {
   "display_name": "BDC",
   "language": "python",
   "name": "python3"
  },
  "language_info": {
   "codemirror_mode": {
    "name": "ipython",
    "version": 3
   },
   "file_extension": ".py",
   "mimetype": "text/x-python",
   "name": "python",
   "nbconvert_exporter": "python",
   "pygments_lexer": "ipython3",
   "version": "3.10.9"
  },
  "orig_nbformat": 4
 },
 "nbformat": 4,
 "nbformat_minor": 2
}
