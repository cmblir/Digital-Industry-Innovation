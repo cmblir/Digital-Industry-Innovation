{
 "cells": [
  {
   "cell_type": "code",
   "execution_count": 1,
   "metadata": {},
   "outputs": [],
   "source": [
    "from Collection.Financial import FMP as fp"
   ]
  },
  {
   "cell_type": "code",
   "execution_count": 2,
   "metadata": {},
   "outputs": [
    {
     "name": "stdout",
     "output_type": "stream",
     "text": [
      "\n",
      "        함수에 대한 설명은 아래와 같습니다. \n",
      "\n",
      "        라이브러리 내 주요 클래스는 fmp_extact입니다. \n",
      "\n",
      "        get_jsonparsed_data()는 데이터를 파싱하는 함수입니다. \n",
      "\n",
      "        extractor()은 데이터를 json형태로 가지고 오는 함수입니다. \n",
      "\n",
      "        url_generator()은 FMP 사이트에 접속하여 데이터를 분리하는 함수입니다. \n",
      "\n",
      "        ending_period_extact()는 날짜를 표준화하는 함수입니다. \n",
      "\n",
      "        report_type_extract()는 들어오는 값에 따라 연간인지 분기인지 구분하는 함수입니다. \n",
      "\n",
      "        GetExcel()은 추출한 데이터를 저장하는 함수입니다. \n",
      "\n",
      "        cleanse()는 데이터를 가공하는 함수입니다. \n",
      "\n",
      "        get_symbols()는 데이터를 사이트로부터 가져오는 함수입니다. \n",
      "\n",
      "        make_clean()은 위의 함수들을 순차적으로 실행하여 데이터를 추출 후 저장하는 함수입니다.\n",
      "        \n"
     ]
    },
    {
     "data": {
      "text/plain": [
       "<Collection.Financial.FMP.information at 0x259d8056320>"
      ]
     },
     "execution_count": 2,
     "metadata": {},
     "output_type": "execute_result"
    }
   ],
   "source": [
    "fp.information()"
   ]
  },
  {
   "cell_type": "code",
   "execution_count": 3,
   "metadata": {},
   "outputs": [],
   "source": [
    "fps = fp.fmp_extract()"
   ]
  },
  {
   "cell_type": "code",
   "execution_count": null,
   "metadata": {},
   "outputs": [],
   "source": []
  }
 ],
 "metadata": {
  "kernelspec": {
   "display_name": "BDC",
   "language": "python",
   "name": "python3"
  },
  "language_info": {
   "codemirror_mode": {
    "name": "ipython",
    "version": 3
   },
   "file_extension": ".py",
   "mimetype": "text/x-python",
   "name": "python",
   "nbconvert_exporter": "python",
   "pygments_lexer": "ipython3",
   "version": "3.10.9"
  },
  "orig_nbformat": 4
 },
 "nbformat": 4,
 "nbformat_minor": 2
}
