{
 "cells": [
  {
   "cell_type": "code",
   "execution_count": 1,
   "metadata": {},
   "outputs": [],
   "source": [
    "import os\n",
    "import sys\n",
    "sys.path.append(os.path.dirname(os.path.abspath(os.path.dirname(\"General\"))))"
   ]
  },
  {
   "cell_type": "code",
   "execution_count": 2,
   "metadata": {},
   "outputs": [],
   "source": [
    "from Collection.General import DATOS as dt"
   ]
  },
  {
   "cell_type": "code",
   "execution_count": 3,
   "metadata": {},
   "outputs": [
    {
     "name": "stdout",
     "output_type": "stream",
     "text": [
      "\n",
      "        함수에 대한 설명은 아래와 같습니다. \n",
      "\n",
      "        라이브러리 내 주요 클래스는 datos_extact입니다. \n",
      "\n",
      "        make()는 데이터를 가공하는 함수입니다. \n",
      "\n",
      "        load()은 데이터를 저장하는 함수입니다.\n",
      "        \n"
     ]
    },
    {
     "data": {
      "text/plain": [
       "<Collection.General.DATOS.information at 0x1d1a66bfc40>"
      ]
     },
     "execution_count": 3,
     "metadata": {},
     "output_type": "execute_result"
    }
   ],
   "source": [
    "dt.information()"
   ]
  },
  {
   "cell_type": "code",
   "execution_count": 4,
   "metadata": {},
   "outputs": [],
   "source": [
    "dts = dt.datos_extract(\"TableDefaultColumns.xlsx\")"
   ]
  },
  {
   "cell_type": "code",
   "execution_count": 5,
   "metadata": {},
   "outputs": [
    {
     "name": "stderr",
     "output_type": "stream",
     "text": [
      "c:\\Users\\user\\Desktop\\yoo\\개발관련\\BDC\\Digital-Industry-Innovation\\DataCollection\\Collection\\General\\DATOS.py:64: FutureWarning: The frame.append method is deprecated and will be removed from pandas in a future version. Use pandas.concat instead.\n",
      "  self.DefaultDataFrame = self.DefaultDataFrame.append(AppendDataFrame, ignore_index=True)\n"
     ]
    }
   ],
   "source": [
    "dts.make(\"datos.csv\")"
   ]
  },
  {
   "cell_type": "code",
   "execution_count": 3,
   "metadata": {},
   "outputs": [],
   "source": [
    "path = \"C:/Users/user/Desktop/폴더정리/BDC/1_BDC 데이터 정리/13_2023년 3분기/131_2023년 3분기 3차년도/1311_가공전/2023년 3분기 3차년도 일반정보/가공전/\"\n",
    "import os\n",
    "filepath = os.listdir(path)\n",
    "datos_lst = []\n",
    "for idx in filepath:\n",
    "    if \"datos\" in idx:\n",
    "        datos_lst.append(idx)"
   ]
  },
  {
   "cell_type": "code",
   "execution_count": 4,
   "metadata": {},
   "outputs": [
    {
     "data": {
      "text/plain": [
       "['콜롬비아(datos).csv']"
      ]
     },
     "execution_count": 4,
     "metadata": {},
     "output_type": "execute_result"
    }
   ],
   "source": [
    "datos_lst"
   ]
  },
  {
   "cell_type": "code",
   "execution_count": 5,
   "metadata": {},
   "outputs": [],
   "source": [
    "import pandas as pd\n",
    "df = pd.read_csv(path + datos_lst[0])"
   ]
  },
  {
   "cell_type": "code",
   "execution_count": null,
   "metadata": {},
   "outputs": [],
   "source": []
  }
 ],
 "metadata": {
  "kernelspec": {
   "display_name": "BDC",
   "language": "python",
   "name": "python3"
  },
  "language_info": {
   "codemirror_mode": {
    "name": "ipython",
    "version": 3
   },
   "file_extension": ".py",
   "mimetype": "text/x-python",
   "name": "python",
   "nbconvert_exporter": "python",
   "pygments_lexer": "ipython3",
   "version": "3.10.9"
  },
  "orig_nbformat": 4
 },
 "nbformat": 4,
 "nbformat_minor": 2
}
