{
 "cells": [
  {
   "cell_type": "code",
   "execution_count": 1,
   "metadata": {},
   "outputs": [],
   "source": [
    "import os\n",
    "import sys\n",
    "sys.path.append(os.path.dirname(os.path.abspath(os.path.dirname(\"General\"))))"
   ]
  },
  {
   "cell_type": "code",
   "execution_count": 2,
   "metadata": {},
   "outputs": [],
   "source": [
    "from Collection.General import BIZIN as bz"
   ]
  },
  {
   "cell_type": "code",
   "execution_count": 4,
   "metadata": {},
   "outputs": [
    {
     "name": "stdout",
     "output_type": "stream",
     "text": [
      "\n",
      "        name에 넣을 수 있는 국가에 대한 설명은 아래와 같습니다. \n",
      "\n",
      "        {'영국': 'gb', '독일': 'de', '스위스': 'ch', '호주': 'at', '이란': 'ie', '벨기에': 'be', '스페인': 'es', '포르투칼': 'pt', '프랑스': 'fr', '이탈리아': 'it', '덴마크': 'dk', '네덜란드': 'nl', '노르웨이': 'no', '핀란드': 'fi', '스웨덴': 'se', '라트비아': 'lv', '에스토니아': 'ee', '폴란드': 'pl', '벨라루스': 'by', '우크라이나': 'ua', '룩셈부르크': 'lu', '그리스': 'gr', '헝가리': 'hu', '중국': 'china', '인도': 'india', '인도네시아': 'indonesia', '대한민국': 'southkorea', '일본': 'japan', '싱가포르': 'singapore', '말레이시아': 'malaysia', '홍콩': 'hongkong', '태국': 'tahiland', '베트남': 'vietnam', '필리핀': 'philippines', '타이완': 'taiwan', '파키스탄': 'pakistan', '사우디': 'saudiarabia'}\n",
      "        \n"
     ]
    },
    {
     "data": {
      "text/plain": [
       "<Collection.General.BIZIN.country_name at 0x253cf854ac0>"
      ]
     },
     "execution_count": 4,
     "metadata": {},
     "output_type": "execute_result"
    }
   ],
   "source": [
    "bz.country_name()"
   ]
  },
  {
   "cell_type": "code",
   "execution_count": 25,
   "metadata": {},
   "outputs": [
    {
     "name": "stdout",
     "output_type": "stream",
     "text": [
      "fail \n",
      "fail \n"
     ]
    }
   ],
   "source": [
    "for idx in [\"it\", \"\"]\n",
    "bzn = bz.BIZIN(\"india\", asia=True)\n",
    "bzn.DriverSettings()\n",
    "bzn.area()"
   ]
  },
  {
   "cell_type": "code",
   "execution_count": 26,
   "metadata": {},
   "outputs": [],
   "source": [
    "bzn.driver.get(f\"{bzn.areas_href[bzn.max_area]}?p={2}\")"
   ]
  },
  {
   "cell_type": "code",
   "execution_count": 27,
   "metadata": {},
   "outputs": [],
   "source": [
    "from selenium.webdriver.common.by import By"
   ]
  },
  {
   "cell_type": "code",
   "execution_count": 28,
   "metadata": {},
   "outputs": [],
   "source": [
    "org_lst = bzn.driver.find_element(By.XPATH, \"/html/body/div/main/div/div[6]/div[1]\") "
   ]
  },
  {
   "cell_type": "code",
   "execution_count": 33,
   "metadata": {},
   "outputs": [],
   "source": [
    "bzn.href_lst = {}\n",
    "for href in org_lst.find_elements(By.TAG_NAME, \"div\"):\n",
    "    try:\n",
    "        bzn.href_lst[(href.find_element(By.TAG_NAME, \"a\").text)] = href.find_element(By.TAG_NAME, \"a\").get_attribute(\"href\")\n",
    "    except: pass"
   ]
  },
  {
   "cell_type": "code",
   "execution_count": 34,
   "metadata": {},
   "outputs": [
    {
     "data": {
      "text/plain": [
       "{'HANUMANTH RAO D': 'https://india.bizin.asia/eng/hanumanth-rao-d-11562',\n",
       " 'JUNGLE WATER WORLD': 'https://india.bizin.asia/eng/jungle-water-world-12863',\n",
       " 'INDUSTRIAL SERVICES INCORPORATION': 'https://india.bizin.asia/eng/industrial-services-incorporation-13805',\n",
       " 'MATEX INDIA INCORPORATON': 'https://india.bizin.asia/eng/matex-india-incorporaton-13837',\n",
       " 'RECKITT & COLMAN OF INDIA': 'https://india.bizin.asia/eng/reckitt-colman-of-india-13900',\n",
       " 'S V A INDUSTRIES': 'https://india.bizin.asia/eng/s-v-a-industries-13909',\n",
       " 'SHALAKS PHARMACEUTICALS PRIVATE LIMITED': 'https://india.bizin.asia/eng/shalaks-pharmaceuticals-private-limited-13922',\n",
       " 'UMENDRA EXPORTS PRIVATE LIMITED': 'https://india.bizin.asia/eng/umendra-exports-private-limited-13957',\n",
       " 'FOTO TONE STUDIO': 'https://india.bizin.asia/eng/foto-tone-studio-15255',\n",
       " 'AJANTA EXPORTS': 'https://india.bizin.asia/eng/ajanta-exports-15400',\n",
       " 'SABU STUDIO': 'https://india.bizin.asia/eng/sabu-studio-15649',\n",
       " 'PRITI PLASTICS PRIVATE LIMITED': 'https://india.bizin.asia/eng/priti-plastics-private-limited-15696',\n",
       " 'BHARATI CATERING EQUIPMENTS': 'https://india.bizin.asia/eng/bharati-catering-equipments-17395',\n",
       " 'HINDUSTHAN CATERING EQUIPMENTS': 'https://india.bizin.asia/eng/hindusthan-catering-equipments-17457',\n",
       " 'SAI BABA SUPPLIERS': 'https://india.bizin.asia/eng/sai-baba-suppliers-17543',\n",
       " 'SAI KRISHNA SUPPLIERS': 'https://india.bizin.asia/eng/sai-krishna-suppliers-17545',\n",
       " 'SRI NAIDU SUPPLIERS': 'https://india.bizin.asia/eng/sri-naidu-suppliers-17572',\n",
       " 'VENUS SUPPLIERS': 'https://india.bizin.asia/eng/venus-suppliers-17659',\n",
       " 'NATIONAL INDUSTRIAL TYPEWRITER COMPANY': 'https://india.bizin.asia/eng/national-industrial-typewriter-company-18934',\n",
       " '3S Industries': 'https://india.bizin.asia/eng/3s-industries-21472'}"
      ]
     },
     "execution_count": 34,
     "metadata": {},
     "output_type": "execute_result"
    }
   ],
   "source": [
    "bzn.href_lst"
   ]
  },
  {
   "cell_type": "code",
   "execution_count": 39,
   "metadata": {},
   "outputs": [],
   "source": [
    "from tqdm import tqdm"
   ]
  },
  {
   "cell_type": "code",
   "execution_count": 40,
   "metadata": {},
   "outputs": [],
   "source": [
    "first = 0"
   ]
  },
  {
   "cell_type": "code",
   "execution_count": 42,
   "metadata": {},
   "outputs": [],
   "source": [
    "from bs4 import BeautifulSoup\n",
    "import pandas as pd"
   ]
  },
  {
   "cell_type": "code",
   "execution_count": 43,
   "metadata": {},
   "outputs": [
    {
     "name": "stderr",
     "output_type": "stream",
     "text": [
      "  5%|▌         | 1/20 [00:02<00:45,  2.38s/it]C:\\Users\\user\\AppData\\Local\\Temp\\ipykernel_50776\\3219948469.py:22: FutureWarning: The frame.append method is deprecated and will be removed from pandas in a future version. Use pandas.concat instead.\n",
      "  bzn.df = bzn.df.append(bzn.append_df)\n",
      " 10%|█         | 2/20 [00:03<00:29,  1.63s/it]C:\\Users\\user\\AppData\\Local\\Temp\\ipykernel_50776\\3219948469.py:22: FutureWarning: The frame.append method is deprecated and will be removed from pandas in a future version. Use pandas.concat instead.\n",
      "  bzn.df = bzn.df.append(bzn.append_df)\n",
      " 15%|█▌        | 3/20 [00:08<00:56,  3.31s/it]C:\\Users\\user\\AppData\\Local\\Temp\\ipykernel_50776\\3219948469.py:22: FutureWarning: The frame.append method is deprecated and will be removed from pandas in a future version. Use pandas.concat instead.\n",
      "  bzn.df = bzn.df.append(bzn.append_df)\n",
      " 20%|██        | 4/20 [00:10<00:44,  2.80s/it]C:\\Users\\user\\AppData\\Local\\Temp\\ipykernel_50776\\3219948469.py:22: FutureWarning: The frame.append method is deprecated and will be removed from pandas in a future version. Use pandas.concat instead.\n",
      "  bzn.df = bzn.df.append(bzn.append_df)\n",
      " 25%|██▌       | 5/20 [00:16<00:54,  3.67s/it]C:\\Users\\user\\AppData\\Local\\Temp\\ipykernel_50776\\3219948469.py:22: FutureWarning: The frame.append method is deprecated and will be removed from pandas in a future version. Use pandas.concat instead.\n",
      "  bzn.df = bzn.df.append(bzn.append_df)\n",
      " 30%|███       | 6/20 [00:17<00:42,  3.05s/it]C:\\Users\\user\\AppData\\Local\\Temp\\ipykernel_50776\\3219948469.py:22: FutureWarning: The frame.append method is deprecated and will be removed from pandas in a future version. Use pandas.concat instead.\n",
      "  bzn.df = bzn.df.append(bzn.append_df)\n",
      " 35%|███▌      | 7/20 [00:28<01:13,  5.65s/it]C:\\Users\\user\\AppData\\Local\\Temp\\ipykernel_50776\\3219948469.py:22: FutureWarning: The frame.append method is deprecated and will be removed from pandas in a future version. Use pandas.concat instead.\n",
      "  bzn.df = bzn.df.append(bzn.append_df)\n",
      " 40%|████      | 8/20 [00:40<01:31,  7.60s/it]C:\\Users\\user\\AppData\\Local\\Temp\\ipykernel_50776\\3219948469.py:22: FutureWarning: The frame.append method is deprecated and will be removed from pandas in a future version. Use pandas.concat instead.\n",
      "  bzn.df = bzn.df.append(bzn.append_df)\n",
      " 45%|████▌     | 9/20 [00:41<01:01,  5.61s/it]C:\\Users\\user\\AppData\\Local\\Temp\\ipykernel_50776\\3219948469.py:22: FutureWarning: The frame.append method is deprecated and will be removed from pandas in a future version. Use pandas.concat instead.\n",
      "  bzn.df = bzn.df.append(bzn.append_df)\n",
      " 50%|█████     | 10/20 [00:43<00:42,  4.28s/it]C:\\Users\\user\\AppData\\Local\\Temp\\ipykernel_50776\\3219948469.py:22: FutureWarning: The frame.append method is deprecated and will be removed from pandas in a future version. Use pandas.concat instead.\n",
      "  bzn.df = bzn.df.append(bzn.append_df)\n",
      " 55%|█████▌    | 11/20 [00:55<01:01,  6.84s/it]C:\\Users\\user\\AppData\\Local\\Temp\\ipykernel_50776\\3219948469.py:22: FutureWarning: The frame.append method is deprecated and will be removed from pandas in a future version. Use pandas.concat instead.\n",
      "  bzn.df = bzn.df.append(bzn.append_df)\n",
      " 60%|██████    | 12/20 [00:59<00:47,  5.89s/it]C:\\Users\\user\\AppData\\Local\\Temp\\ipykernel_50776\\3219948469.py:22: FutureWarning: The frame.append method is deprecated and will be removed from pandas in a future version. Use pandas.concat instead.\n",
      "  bzn.df = bzn.df.append(bzn.append_df)\n",
      " 65%|██████▌   | 13/20 [01:00<00:31,  4.44s/it]C:\\Users\\user\\AppData\\Local\\Temp\\ipykernel_50776\\3219948469.py:22: FutureWarning: The frame.append method is deprecated and will be removed from pandas in a future version. Use pandas.concat instead.\n",
      "  bzn.df = bzn.df.append(bzn.append_df)\n",
      " 70%|███████   | 14/20 [01:01<00:20,  3.43s/it]C:\\Users\\user\\AppData\\Local\\Temp\\ipykernel_50776\\3219948469.py:22: FutureWarning: The frame.append method is deprecated and will be removed from pandas in a future version. Use pandas.concat instead.\n",
      "  bzn.df = bzn.df.append(bzn.append_df)\n",
      " 75%|███████▌  | 15/20 [01:02<00:13,  2.73s/it]C:\\Users\\user\\AppData\\Local\\Temp\\ipykernel_50776\\3219948469.py:22: FutureWarning: The frame.append method is deprecated and will be removed from pandas in a future version. Use pandas.concat instead.\n",
      "  bzn.df = bzn.df.append(bzn.append_df)\n",
      " 80%|████████  | 16/20 [01:04<00:09,  2.44s/it]C:\\Users\\user\\AppData\\Local\\Temp\\ipykernel_50776\\3219948469.py:22: FutureWarning: The frame.append method is deprecated and will be removed from pandas in a future version. Use pandas.concat instead.\n",
      "  bzn.df = bzn.df.append(bzn.append_df)\n",
      " 85%|████████▌ | 17/20 [01:07<00:07,  2.46s/it]C:\\Users\\user\\AppData\\Local\\Temp\\ipykernel_50776\\3219948469.py:22: FutureWarning: The frame.append method is deprecated and will be removed from pandas in a future version. Use pandas.concat instead.\n",
      "  bzn.df = bzn.df.append(bzn.append_df)\n",
      " 90%|█████████ | 18/20 [01:12<00:06,  3.33s/it]C:\\Users\\user\\AppData\\Local\\Temp\\ipykernel_50776\\3219948469.py:22: FutureWarning: The frame.append method is deprecated and will be removed from pandas in a future version. Use pandas.concat instead.\n",
      "  bzn.df = bzn.df.append(bzn.append_df)\n",
      " 95%|█████████▌| 19/20 [01:13<00:02,  2.75s/it]C:\\Users\\user\\AppData\\Local\\Temp\\ipykernel_50776\\3219948469.py:22: FutureWarning: The frame.append method is deprecated and will be removed from pandas in a future version. Use pandas.concat instead.\n",
      "  bzn.df = bzn.df.append(bzn.append_df)\n",
      "100%|██████████| 20/20 [01:18<00:00,  3.94s/it]\n"
     ]
    }
   ],
   "source": [
    "for name, idx in tqdm(bzn.href_lst.items()):\n",
    "    try:\n",
    "        bzn.driver.get(idx)\n",
    "        company_name = name\n",
    "        page = bzn.driver.page_source\n",
    "        soup = BeautifulSoup(page, 'html.parser')\n",
    "        if first == 0:\n",
    "            bzn.df = pd.read_html(str(soup.find('table')))[0]\n",
    "            columns = bzn.df.transpose().iloc[0]\n",
    "            bzn.df = bzn.df.T\n",
    "            bzn.df.columns = columns\n",
    "            bzn.df = bzn.df.drop(0, axis=0)\n",
    "            bzn.df[\"name\"] = company_name\n",
    "            first += 1\n",
    "        else:\n",
    "            bzn.append_df = pd.read_html(str(soup.find('table')))[0]\n",
    "            bzn.append_df_columns = bzn.append_df.transpose().iloc[0]\n",
    "            bzn.append_df = bzn.append_df.T\n",
    "            bzn.append_df.columns = list(bzn.append_df_columns)\n",
    "            bzn.append_df = bzn.append_df.drop(0, axis=0)\n",
    "            bzn.append_df[\"name\"] = company_name\n",
    "            bzn.df = bzn.df.append(bzn.append_df)\n",
    "    except: pass"
   ]
  },
  {
   "cell_type": "code",
   "execution_count": 1,
   "metadata": {},
   "outputs": [
    {
     "ename": "NameError",
     "evalue": "name 'bzn' is not defined",
     "output_type": "error",
     "traceback": [
      "\u001b[1;31m---------------------------------------------------------------------------\u001b[0m",
      "\u001b[1;31mNameError\u001b[0m                                 Traceback (most recent call last)",
      "Cell \u001b[1;32mIn[1], line 1\u001b[0m\n\u001b[1;32m----> 1\u001b[0m bzn\u001b[39m.\u001b[39mdf\u001b[39m.\u001b[39mcolumns\n",
      "\u001b[1;31mNameError\u001b[0m: name 'bzn' is not defined"
     ]
    }
   ],
   "source": [
    "bzn.df.columns"
   ]
  },
  {
   "cell_type": "code",
   "execution_count": 2,
   "metadata": {},
   "outputs": [],
   "source": [
    "country = {\n",
    "    \"Australia\" : \"aus\",\n",
    "    \"Cabada\" : \"can\",\n",
    "    \"United Kingdom\" : \"gbr\",\n",
    "    \"France\" : \"fra\",\n",
    "    \"Switzerland\" : \"che\",\n",
    "    \"Hong Kong\" : \"hkg\",\n",
    "    \"Malaysia\" : \"mys\",\n",
    "    \"Singapore\" : \"sgp\",\n",
    "    \"Spain\" : \"esp\",\n",
    "    \"Thailand\" : \"tha\",\n",
    "    \"Japan\" : \"jpn\",\n",
    "    \"Viet Nam\" : \"vnm\",\n",
    "    \"India\" : \"ind\",\n",
    "    \"United States\" : \"usa\",\n",
    "    \"Canada\" : \"can\",\n",
    "    \"Mexico\" : \"mex\",\n",
    "    \"Netherlands\" : \"nld\",\n",
    "    \"Germany\" : \"deu\"\n",
    "}\n",
    "stock_name = {\n",
    "\"aus\" : [\"Australian Securities Exchange\", \"ASX\", \"English\"],\n",
    "\"can\" : [\"Toronto Stock Exchange\", \"TSX\", \"English\"],\n",
    "\"che\" : [\"SIX Swiss Exchange\", \"SIX\", \"German\"],\n",
    "\"col\" : [\"Bolsa de Valores de Colombia\", \"BVC\", \"Spanish\"],\n",
    "\"deu\" : [\"Frankfurt Stock Exchange\", \"FSE\", \"German\"],\n",
    "\"esp\" : [\"Bolsa de Madrid\", \"BM\", \"Spanish\"],\n",
    "\"fra\" : [\"Euronext Paris\", \"EP\", \"French\"],\n",
    "\"gbr\" : [\"London Stock Exchange\", \"LSE\", \"English\"],\n",
    "\"hkg\" : [\"Hong Kong Stock Exchange\", \"HKEX\", \"Cantonese\"],\n",
    "\"idn\" : [\"Indonesia Stock Exchange\", \"IDX\", \"Indonesian\"],\n",
    "\"ind\" : [\"National Stock Exchange\", \"NSE\", \"Hindi\"],\n",
    "\"ita\" : [\"Borsa Italiana\", \"BI\", \"Italian\"],\n",
    "\"jpn\" : [\"Tokyo Stock Exchange\", \"TSE\", \"Japanese\"],\n",
    "\"kor\" : [\"Korea Exchange\", \"KRX\", \"Korean\"],\n",
    "\"mys\" : [\"Kuala Lumpur Stock Exchange\", \"KLSE\", \"Malay\"],\n",
    "\"mex\" : [\"Bolsa Mexicana de Valores\", \"BMV\", \"Spanish\"],\n",
    "\"nld\" : [\"Euronext Amsterdam\", \"BA\", \"Dutch\"],\n",
    "\"sgp\" : [\"Singapore Stock Exchange\", \"SGX\", \"English\"],\n",
    "\"tha\" : [\"Stock Exchange of Thailand\", \"SET\", \"Thai\"],\n",
    "\"usa\" : [\"New York Stock Exchange\", \"NYSE\", \"English\"],\n",
    "\"vnm\" : [\"Ho Chi Minh City Stock Exchange\", \"HSX\", \"Vietnamese\"]}\n",
    "\n",
    "name = idx.split(\"_\")[2]\n",
    "solution = lambda x: [k for k, v in country.items() if v == x]\n",
    "\n",
    "AppendDict = {\n",
    "            \"hb_ntn_cd\" : name,\n",
    "            \"acplc_lngg_ntn_nm\" : solution(name),\n",
    "            \"engls_ntn_nm\" : solution(name),\n",
    "            \"ntn_lngg_cd_val\" : name.upper(),\n",
    "            \"acplc_lngg_lngg_nm\" : stock_name[name][2],\n",
    "            \"engls_lngg_nm\" : stock_name[name][2],\n",
    "            \"acplc_lngg_entrp_nm\" : df[\"name\"][idx], # 기업명\n",
    "            \"engls_entrp_nm\" : df[\"name\"][idx], # 기업명\n",
    "            \"acplc_lngg_oln_intrd_cont\" : df[\"Sales\"][idx], # 한줄소개\n",
    "            \"acplc_lngg_entrp_intrd_cont\" : df[\"Sales\"][idx], # 기업소개\n",
    "            \"engls_oln_intrd_cont\" : df[\"Sales\"][idx], # 영문 한줄소개\n",
    "            \"engls_entrp_intrd_cont\" : df[\"Sales\"][idx], # 영문 기업소개\n",
    "            \"rprsn_email\" : df[\"E.mail\"][idx], # 이메일\n",
    "            \"acplc_lngg_entrp_addr\" : df[\"City\"][idx], # 기업 주소\n",
    "            \"acplc_lngg_entrp_dtadd\" : df[\"address\"][idx], # 기업 상세 주소\n",
    "            \"engls_entrp_addr\" : df[\"City\"][idx], # 기업 주소\n",
    "            \"engls_entrp_dtadd\" : df[\"address\"][idx], # 기업 상세 주소\n",
    "            \"acplc_lngg_ceo_nm\" : df[\"contact\"][idx], # 대표\n",
    "            \"entrp_post_no\" : df[\"Postal Code\"][idx], # 기업우편번호\n",
    "            \"entrp_emply_val\" : df[\"Employees\"][idx] # 종업원수\n",
    "        }"
   ]
  },
  {
   "cell_type": "code",
   "execution_count": 3,
   "metadata": {},
   "outputs": [],
   "source": [
    "idx = \"tb_hb_ind_egnin_m.xlsx\""
   ]
  },
  {
   "cell_type": "code",
   "execution_count": 6,
   "metadata": {},
   "outputs": [],
   "source": []
  },
  {
   "cell_type": "code",
   "execution_count": 14,
   "metadata": {},
   "outputs": [],
   "source": []
  },
  {
   "cell_type": "code",
   "execution_count": 16,
   "metadata": {},
   "outputs": [
    {
     "data": {
      "text/plain": [
       "['India']"
      ]
     },
     "execution_count": 16,
     "metadata": {},
     "output_type": "execute_result"
    }
   ],
   "source": [
    "solution(\"ind\")"
   ]
  },
  {
   "cell_type": "code",
   "execution_count": null,
   "metadata": {},
   "outputs": [],
   "source": []
  },
  {
   "cell_type": "code",
   "execution_count": null,
   "metadata": {},
   "outputs": [],
   "source": []
  }
 ],
 "metadata": {
  "kernelspec": {
   "display_name": "BDC",
   "language": "python",
   "name": "python3"
  },
  "language_info": {
   "codemirror_mode": {
    "name": "ipython",
    "version": 3
   },
   "file_extension": ".py",
   "mimetype": "text/x-python",
   "name": "python",
   "nbconvert_exporter": "python",
   "pygments_lexer": "ipython3",
   "version": "3.10.9"
  },
  "orig_nbformat": 4
 },
 "nbformat": 4,
 "nbformat_minor": 2
}
