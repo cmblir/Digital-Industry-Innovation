{
 "cells": [
  {
   "cell_type": "code",
   "execution_count": 3,
   "metadata": {},
   "outputs": [],
   "source": [
    "import os\n",
    "import sys\n",
    "sys.path.append(os.path.dirname(os.path.abspath(os.path.dirname(\"General\"))))"
   ]
  },
  {
   "cell_type": "code",
   "execution_count": 4,
   "metadata": {},
   "outputs": [
    {
     "name": "stdout",
     "output_type": "stream",
     "text": [
      "fail \n"
     ]
    },
    {
     "name": "stderr",
     "output_type": "stream",
     "text": [
      "  5%|▌         | 1/20 [00:05<01:49,  5.75s/it]c:\\Users\\user\\Desktop\\yoo\\개발관련\\BDC\\Digital-Industry-Innovation\\DataCollection\\Collection\\General\\BIZIN.py:152: FutureWarning: The frame.append method is deprecated and will be removed from pandas in a future version. Use pandas.concat instead.\n",
      "  self.df = self.df.append(self.append_df)\n",
      " 10%|█         | 2/20 [00:07<00:59,  3.33s/it]c:\\Users\\user\\Desktop\\yoo\\개발관련\\BDC\\Digital-Industry-Innovation\\DataCollection\\Collection\\General\\BIZIN.py:152: FutureWarning: The frame.append method is deprecated and will be removed from pandas in a future version. Use pandas.concat instead.\n",
      "  self.df = self.df.append(self.append_df)\n",
      " 15%|█▌        | 3/20 [00:10<00:56,  3.34s/it]c:\\Users\\user\\Desktop\\yoo\\개발관련\\BDC\\Digital-Industry-Innovation\\DataCollection\\Collection\\General\\BIZIN.py:152: FutureWarning: The frame.append method is deprecated and will be removed from pandas in a future version. Use pandas.concat instead.\n",
      "  self.df = self.df.append(self.append_df)\n",
      " 20%|██        | 4/20 [00:12<00:46,  2.91s/it]c:\\Users\\user\\Desktop\\yoo\\개발관련\\BDC\\Digital-Industry-Innovation\\DataCollection\\Collection\\General\\BIZIN.py:152: FutureWarning: The frame.append method is deprecated and will be removed from pandas in a future version. Use pandas.concat instead.\n",
      "  self.df = self.df.append(self.append_df)\n",
      " 25%|██▌       | 5/20 [00:14<00:37,  2.51s/it]c:\\Users\\user\\Desktop\\yoo\\개발관련\\BDC\\Digital-Industry-Innovation\\DataCollection\\Collection\\General\\BIZIN.py:152: FutureWarning: The frame.append method is deprecated and will be removed from pandas in a future version. Use pandas.concat instead.\n",
      "  self.df = self.df.append(self.append_df)\n",
      " 30%|███       | 6/20 [00:16<00:31,  2.28s/it]c:\\Users\\user\\Desktop\\yoo\\개발관련\\BDC\\Digital-Industry-Innovation\\DataCollection\\Collection\\General\\BIZIN.py:152: FutureWarning: The frame.append method is deprecated and will be removed from pandas in a future version. Use pandas.concat instead.\n",
      "  self.df = self.df.append(self.append_df)\n",
      " 35%|███▌      | 7/20 [00:21<00:39,  3.04s/it]"
     ]
    }
   ],
   "source": [
    "from Collection.General import BIZIN as bz\n",
    "bzn = bz.BIZIN(\"es\")\n",
    "bzn.DriverSettings()\n",
    "bzn.area()\n",
    "bzn.collect()"
   ]
  },
  {
   "cell_type": "code",
   "execution_count": 8,
   "metadata": {},
   "outputs": [],
   "source": [
    "bzn.df.to_excel(\"finished_uk_bizin.xlsx\", index=False)"
   ]
  },
  {
   "cell_type": "code",
   "execution_count": 4,
   "metadata": {},
   "outputs": [
    {
     "name": "stdout",
     "output_type": "stream",
     "text": [
      "\n",
      "        name에 넣을 수 있는 국가에 대한 설명은 아래와 같습니다. \n",
      "\n",
      "        {'영국': 'gb', '독일': 'de', '스위스': 'ch', '호주': 'at', '이란': 'ie', '벨기에': 'be', '스페인': 'es', '포르투칼': 'pt', '프랑스': 'fr', '이탈리아': 'it', '덴마크': 'dk', '네덜란드': 'nl', '노르웨이': 'no', '핀란드': 'fi', '스웨덴': 'se', '라트비아': 'lv', '에스토니아': 'ee', '폴란드': 'pl', '벨라루스': 'by', '우크라이나': 'ua', '룩셈부르크': 'lu', '그리스': 'gr', '헝가리': 'hu', '중국': 'china', '인도': 'india', '인도네시아': 'indonesia', '대한민국': 'southkorea', '일본': 'japan', '싱가포르': 'singapore', '말레이시아': 'malaysia', '홍콩': 'hongkong', '태국': 'tahiland', '베트남': 'vietnam', '필리핀': 'philippines', '타이완': 'taiwan', '파키스탄': 'pakistan', '사우디': 'saudiarabia'}\n",
      "        \n"
     ]
    },
    {
     "data": {
      "text/plain": [
       "<Collection.General.BIZIN.country_name at 0x27d93cd5c30>"
      ]
     },
     "execution_count": 4,
     "metadata": {},
     "output_type": "execute_result"
    }
   ],
   "source": [
    "bz.country_name()"
   ]
  },
  {
   "cell_type": "code",
   "execution_count": 1,
   "metadata": {},
   "outputs": [
    {
     "ename": "NameError",
     "evalue": "name 'bz' is not defined",
     "output_type": "error",
     "traceback": [
      "\u001b[1;31m---------------------------------------------------------------------------\u001b[0m",
      "\u001b[1;31mNameError\u001b[0m                                 Traceback (most recent call last)",
      "Cell \u001b[1;32mIn[1], line 1\u001b[0m\n\u001b[1;32m----> 1\u001b[0m bzn \u001b[39m=\u001b[39m bz\u001b[39m.\u001b[39mBIZIN(\u001b[39m\"\u001b[39m\u001b[39mgb\u001b[39m\u001b[39m\"\u001b[39m)\n\u001b[0;32m      2\u001b[0m bzn\u001b[39m.\u001b[39mDriverSettings()\n\u001b[0;32m      3\u001b[0m bzn\u001b[39m.\u001b[39marea()\n",
      "\u001b[1;31mNameError\u001b[0m: name 'bz' is not defined"
     ]
    }
   ],
   "source": [
    "bz."
   ]
  },
  {
   "cell_type": "code",
   "execution_count": null,
   "metadata": {},
   "outputs": [],
   "source": []
  }
 ],
 "metadata": {
  "kernelspec": {
   "display_name": "BDC",
   "language": "python",
   "name": "python3"
  },
  "language_info": {
   "codemirror_mode": {
    "name": "ipython",
    "version": 3
   },
   "file_extension": ".py",
   "mimetype": "text/x-python",
   "name": "python",
   "nbconvert_exporter": "python",
   "pygments_lexer": "ipython3",
   "version": "3.10.9"
  },
  "orig_nbformat": 4
 },
 "nbformat": 4,
 "nbformat_minor": 2
}
