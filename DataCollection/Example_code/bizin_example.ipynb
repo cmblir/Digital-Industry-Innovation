{
 "cells": [
  {
   "cell_type": "code",
   "execution_count": 1,
   "metadata": {},
   "outputs": [],
   "source": [
    "import os\n",
    "import sys\n",
    "sys.path.append(os.path.dirname(os.path.abspath(os.path.dirname(\"General\"))))"
   ]
  },
  {
   "cell_type": "code",
   "execution_count": 2,
   "metadata": {},
   "outputs": [],
   "source": [
    "from Collection.General import BIZIN as bz"
   ]
  },
  {
   "cell_type": "code",
   "execution_count": 4,
   "metadata": {},
   "outputs": [
    {
     "name": "stdout",
     "output_type": "stream",
     "text": [
      "\n",
      "        name에 넣을 수 있는 국가에 대한 설명은 아래와 같습니다. \n",
      "\n",
      "        {'영국': 'gb', '독일': 'de', '스위스': 'ch', '호주': 'at', '이란': 'ie', '벨기에': 'be', '스페인': 'es', '포르투칼': 'pt', '프랑스': 'fr', '이탈리아': 'it', '덴마크': 'dk', '네덜란드': 'nl', '노르웨이': 'no', '핀란드': 'fi', '스웨덴': 'se', '라트비아': 'lv', '에스토니아': 'ee', '폴란드': 'pl', '벨라루스': 'by', '우크라이나': 'ua', '룩셈부르크': 'lu', '그리스': 'gr', '헝가리': 'hu', '중국': 'china', '인도': 'india', '인도네시아': 'indonesia', '대한민국': 'southkorea', '일본': 'japan', '싱가포르': 'singapore', '말레이시아': 'malaysia', '홍콩': 'hongkong', '태국': 'tahiland', '베트남': 'vietnam', '필리핀': 'philippines', '타이완': 'taiwan', '파키스탄': 'pakistan', '사우디': 'saudiarabia'}\n",
      "        \n"
     ]
    },
    {
     "data": {
      "text/plain": [
       "<Collection.General.BIZIN.country_name at 0x253cf854ac0>"
      ]
     },
     "execution_count": 4,
     "metadata": {},
     "output_type": "execute_result"
    }
   ],
   "source": [
    "bz.country_name()"
   ]
  },
  {
   "cell_type": "code",
   "execution_count": 25,
   "metadata": {},
   "outputs": [
    {
     "name": "stdout",
     "output_type": "stream",
     "text": [
      "fail \n",
      "fail \n"
     ]
    }
   ],
   "source": [
    "for idx in [\"it\", \"\"]\n",
    "bzn = bz.BIZIN(\"india\", asia=True)\n",
    "bzn.DriverSettings()\n",
    "bzn.area()"
   ]
  },
  {
   "cell_type": "code",
   "execution_count": 26,
   "metadata": {},
   "outputs": [],
   "source": [
    "bzn.driver.get(f\"{bzn.areas_href[bzn.max_area]}?p={2}\")"
   ]
  },
  {
   "cell_type": "code",
   "execution_count": 27,
   "metadata": {},
   "outputs": [],
   "source": [
    "from selenium.webdriver.common.by import By"
   ]
  },
  {
   "cell_type": "code",
   "execution_count": 28,
   "metadata": {},
   "outputs": [],
   "source": [
    "org_lst = bzn.driver.find_element(By.XPATH, \"/html/body/div/main/div/div[6]/div[1]\") "
   ]
  },
  {
   "cell_type": "code",
   "execution_count": 33,
   "metadata": {},
   "outputs": [],
   "source": [
    "bzn.href_lst = {}\n",
    "for href in org_lst.find_elements(By.TAG_NAME, \"div\"):\n",
    "    try:\n",
    "        bzn.href_lst[(href.find_element(By.TAG_NAME, \"a\").text)] = href.find_element(By.TAG_NAME, \"a\").get_attribute(\"href\")\n",
    "    except: pass"
   ]
  },
  {
   "cell_type": "code",
   "execution_count": 34,
   "metadata": {},
   "outputs": [
    {
     "data": {
      "text/plain": [
       "{'HANUMANTH RAO D': 'https://india.bizin.asia/eng/hanumanth-rao-d-11562',\n",
       " 'JUNGLE WATER WORLD': 'https://india.bizin.asia/eng/jungle-water-world-12863',\n",
       " 'INDUSTRIAL SERVICES INCORPORATION': 'https://india.bizin.asia/eng/industrial-services-incorporation-13805',\n",
       " 'MATEX INDIA INCORPORATON': 'https://india.bizin.asia/eng/matex-india-incorporaton-13837',\n",
       " 'RECKITT & COLMAN OF INDIA': 'https://india.bizin.asia/eng/reckitt-colman-of-india-13900',\n",
       " 'S V A INDUSTRIES': 'https://india.bizin.asia/eng/s-v-a-industries-13909',\n",
       " 'SHALAKS PHARMACEUTICALS PRIVATE LIMITED': 'https://india.bizin.asia/eng/shalaks-pharmaceuticals-private-limited-13922',\n",
       " 'UMENDRA EXPORTS PRIVATE LIMITED': 'https://india.bizin.asia/eng/umendra-exports-private-limited-13957',\n",
       " 'FOTO TONE STUDIO': 'https://india.bizin.asia/eng/foto-tone-studio-15255',\n",
       " 'AJANTA EXPORTS': 'https://india.bizin.asia/eng/ajanta-exports-15400',\n",
       " 'SABU STUDIO': 'https://india.bizin.asia/eng/sabu-studio-15649',\n",
       " 'PRITI PLASTICS PRIVATE LIMITED': 'https://india.bizin.asia/eng/priti-plastics-private-limited-15696',\n",
       " 'BHARATI CATERING EQUIPMENTS': 'https://india.bizin.asia/eng/bharati-catering-equipments-17395',\n",
       " 'HINDUSTHAN CATERING EQUIPMENTS': 'https://india.bizin.asia/eng/hindusthan-catering-equipments-17457',\n",
       " 'SAI BABA SUPPLIERS': 'https://india.bizin.asia/eng/sai-baba-suppliers-17543',\n",
       " 'SAI KRISHNA SUPPLIERS': 'https://india.bizin.asia/eng/sai-krishna-suppliers-17545',\n",
       " 'SRI NAIDU SUPPLIERS': 'https://india.bizin.asia/eng/sri-naidu-suppliers-17572',\n",
       " 'VENUS SUPPLIERS': 'https://india.bizin.asia/eng/venus-suppliers-17659',\n",
       " 'NATIONAL INDUSTRIAL TYPEWRITER COMPANY': 'https://india.bizin.asia/eng/national-industrial-typewriter-company-18934',\n",
       " '3S Industries': 'https://india.bizin.asia/eng/3s-industries-21472'}"
      ]
     },
     "execution_count": 34,
     "metadata": {},
     "output_type": "execute_result"
    }
   ],
   "source": [
    "bzn.href_lst"
   ]
  },
  {
   "cell_type": "code",
   "execution_count": 39,
   "metadata": {},
   "outputs": [],
   "source": [
    "from tqdm import tqdm"
   ]
  },
  {
   "cell_type": "code",
   "execution_count": 40,
   "metadata": {},
   "outputs": [],
   "source": [
    "first = 0"
   ]
  },
  {
   "cell_type": "code",
   "execution_count": 42,
   "metadata": {},
   "outputs": [],
   "source": [
    "from bs4 import BeautifulSoup\n",
    "import pandas as pd"
   ]
  },
  {
   "cell_type": "code",
   "execution_count": null,
   "metadata": {},
   "outputs": [],
   "source": [
    "for name, idx in tqdm(bzn.href_lst.items()):\n",
    "    try:\n",
    "        bzn.driver.get(idx)\n",
    "        company_name = name\n",
    "        page = bzn.driver.page_source\n",
    "        soup = BeautifulSoup(page, 'html.parser')\n",
    "        if first == 0:\n",
    "            bzn.df = pd.read_html(str(soup.find('table')))[0]\n",
    "            columns = bzn.df.transpose().iloc[0]\n",
    "            bzn.df = bzn.df.T\n",
    "            bzn.df.columns = columns\n",
    "            bzn.df = bzn.df.drop(0, axis=0)\n",
    "            bzn.df[\"name\"] = company_name\n",
    "            first += 1\n",
    "        else:\n",
    "            bzn.append_df = pd.read_html(str(soup.find('table')))[0]\n",
    "            bzn.append_df_columns = bzn.append_df.transpose().iloc[0]\n",
    "            bzn.append_df = bzn.append_df.T\n",
    "            bzn.append_df.columns = list(bzn.append_df_columns)\n",
    "            bzn.append_df = bzn.append_df.drop(0, axis=0)\n",
    "            bzn.append_df[\"name\"] = company_name\n",
    "            bzn.df = bzn.df.append(bzn.append_df)\n",
    "    except: pass"
   ]
  },
  {
   "cell_type": "code",
   "execution_count": 3,
   "metadata": {},
   "outputs": [],
   "source": [
    "country = {\n",
    "    \"Australia\" : \"aus\",\n",
    "    \"Cabada\" : \"can\",\n",
    "    \"United Kingdom\" : \"gbr\",\n",
    "    \"France\" : \"fra\",\n",
    "    \"Switzerland\" : \"che\",\n",
    "    \"Hong Kong\" : \"hkg\",\n",
    "    \"Malaysia\" : \"mys\",\n",
    "    \"Singapore\" : \"sgp\",\n",
    "    \"Spain\" : \"esp\",\n",
    "    \"Thailand\" : \"tha\",\n",
    "    \"Japan\" : \"jpn\",\n",
    "    \"Viet Nam\" : \"vnm\",\n",
    "    \"India\" : \"ind\",\n",
    "    \"United States\" : \"usa\",\n",
    "    \"Canada\" : \"can\",\n",
    "    \"Mexico\" : \"mex\",\n",
    "    \"Netherlands\" : \"nld\",\n",
    "    \"Germany\" : \"deu\"\n",
    "}\n",
    "stock_name = {\n",
    "\"aus\" : [\"Australian Securities Exchange\", \"ASX\", \"English\"],\n",
    "\"can\" : [\"Toronto Stock Exchange\", \"TSX\", \"English\"],\n",
    "\"che\" : [\"SIX Swiss Exchange\", \"SIX\", \"German\"],\n",
    "\"col\" : [\"Bolsa de Valores de Colombia\", \"BVC\", \"Spanish\"],\n",
    "\"deu\" : [\"Frankfurt Stock Exchange\", \"FSE\", \"German\"],\n",
    "\"esp\" : [\"Bolsa de Madrid\", \"BM\", \"Spanish\"],\n",
    "\"fra\" : [\"Euronext Paris\", \"EP\", \"French\"],\n",
    "\"gbr\" : [\"London Stock Exchange\", \"LSE\", \"English\"],\n",
    "\"hkg\" : [\"Hong Kong Stock Exchange\", \"HKEX\", \"Cantonese\"],\n",
    "\"idn\" : [\"Indonesia Stock Exchange\", \"IDX\", \"Indonesian\"],\n",
    "\"ind\" : [\"National Stock Exchange\", \"NSE\", \"Hindi\"],\n",
    "\"ita\" : [\"Borsa Italiana\", \"BI\", \"Italian\"],\n",
    "\"jpn\" : [\"Tokyo Stock Exchange\", \"TSE\", \"Japanese\"],\n",
    "\"kor\" : [\"Korea Exchange\", \"KRX\", \"Korean\"],\n",
    "\"mys\" : [\"Kuala Lumpur Stock Exchange\", \"KLSE\", \"Malay\"],\n",
    "\"mex\" : [\"Bolsa Mexicana de Valores\", \"BMV\", \"Spanish\"],\n",
    "\"nld\" : [\"Euronext Amsterdam\", \"BA\", \"Dutch\"],\n",
    "\"sgp\" : [\"Singapore Stock Exchange\", \"SGX\", \"English\"],\n",
    "\"tha\" : [\"Stock Exchange of Thailand\", \"SET\", \"Thai\"],\n",
    "\"usa\" : [\"New York Stock Exchange\", \"NYSE\", \"English\"],\n",
    "\"vnm\" : [\"Ho Chi Minh City Stock Exchange\", \"HSX\", \"Vietnamese\"]}"
   ]
  },
  {
   "cell_type": "code",
   "execution_count": 9,
   "metadata": {},
   "outputs": [],
   "source": [
    "country = {\"australia\" : \"aus\",\n",
    "\"canada\" : \"can\",\n",
    "\"switzerlands\" : \"che\",\n",
    "\"colombia\" : \"col\",\n",
    "\"germany\" : \"deu\",\n",
    "\"spain\" : \"esp\",\n",
    "\"france\" : \"fra\",\n",
    "\"united-kingdom\" : \"gbr\",\n",
    "\"hong-kong\" : \"hkg\",\n",
    "\"indonesia\" : \"idn\",\n",
    "\"india\" : \"ind\",\n",
    "\"italy\" : \"ita\",\n",
    "\"japan\" : \"jpn\",\n",
    "\"south-korea\" : \"kor\",\n",
    "\"malaysia\" : \"mys\",\n",
    "\"mexico\" : \"mex\",\n",
    "\"netherlands\" : \"nld\",\n",
    "\"singapore\" : \"sgp\",\n",
    "\"thailand\" : \"tha\",\n",
    "\"united-states\" : \"usa\",\n",
    "\"vietnam\" : \"vnm\",\n",
    "\"호주\" : \"aus\",\n",
    "\"캐나다\" : \"can\",\n",
    "\"스위스\" : \"che\",\n",
    "\"콜롬비아\" : \"col\",\n",
    "\"독일\" : \"deu\",\n",
    "\"스페인\" : \"esp\",\n",
    "\"프랑스\" : \"fra\",\n",
    "\"영국\" : \"gbr\",\n",
    "\"홍콩\" : \"hkg\",\n",
    "\"인도네시아\" : \"idn\",\n",
    "\"인도\" : \"ind\",\n",
    "\"이탈리아\" : \"ita\",\n",
    "\"일본\" : \"jpn\",\n",
    "\"대한민국\" : \"kor\",\n",
    "\"말레이시아\" : \"mys\",\n",
    "\"멕시코\" : \"mex\",\n",
    "\"네덜란드\" : \"nld\",\n",
    "\"싱가포르\" : \"sgp\",\n",
    "\"태국\" : \"tha\",\n",
    "\"미국\" : \"usa\",\n",
    "\"베트남\" : \"vnm\"}"
   ]
  },
  {
   "cell_type": "code",
   "execution_count": 5,
   "metadata": {},
   "outputs": [],
   "source": [
    "import pandas as pd"
   ]
  },
  {
   "cell_type": "code",
   "execution_count": 16,
   "metadata": {},
   "outputs": [],
   "source": [
    "path = \"C:/Users/user/Desktop/폴더정리/BDC/1_BDC 데이터 정리/13_2023년 3분기/131_2023년 3분기 3차년도/1311_가공전/2023년 3분기 3차년도 일반정보/가공전/\"\n",
    "import os\n",
    "filepath = os.listdir(path)\n",
    "bizin_lst = []\n",
    "for idx in filepath:\n",
    "    if \"bizin\" in idx:\n",
    "        bizin_lst.append(idx)"
   ]
  },
  {
   "cell_type": "code",
   "execution_count": 17,
   "metadata": {},
   "outputs": [
    {
     "data": {
      "text/plain": [
       "['독일(bizin).csv',\n",
       " '미국(bizin).csv',\n",
       " '스페인(bizin).csv',\n",
       " '영국(bizin).csv',\n",
       " '이탈리아(bizin).csv',\n",
       " '프랑스(bizin).csv',\n",
       " '호주(bizin).csv']"
      ]
     },
     "execution_count": 17,
     "metadata": {},
     "output_type": "execute_result"
    }
   ],
   "source": [
    "bizin_lst"
   ]
  },
  {
   "cell_type": "code",
   "execution_count": 23,
   "metadata": {},
   "outputs": [],
   "source": [
    "from tqdm import tqdm"
   ]
  },
  {
   "cell_type": "code",
   "execution_count": 29,
   "metadata": {},
   "outputs": [],
   "source": [
    "TableDefaultColumns = pd.read_excel(\"TableDefaultColumns.xlsx\", sheet_name=2)"
   ]
  },
  {
   "cell_type": "code",
   "execution_count": 48,
   "metadata": {},
   "outputs": [],
   "source": [
    "dict_lst = {\n",
    "\"acplc_lngg_entrp_nm\" : \"name\", # 기업명\n",
    "\"engls_entrp_nm\" : \"name\", # 기업명\n",
    "\"acplc_lngg_oln_intrd_cont\" : \"Sales\", # 한줄소개\n",
    "\"acplc_lngg_entrp_intrd_cont\" : \"Sales\", # 기업소개\n",
    "\"engls_oln_intrd_cont\" : \"Sales\", # 영문 한줄소개\n",
    "\"engls_entrp_intrd_cont\" : \"Sales\", # 영문 기업소개\n",
    "\"rprsn_email\" : \"E.mail\", # 이메일\n",
    "\"acplc_lngg_entrp_addr\" : \"City\", # 기업 주소\n",
    "\"acplc_lngg_entrp_dtadd\" : \"address\", # 기업 상세 주소\n",
    "\"engls_entrp_addr\" : \"City\", # 기업 주소\n",
    "\"engls_entrp_dtadd\" : \"address\", # 기업 상세 주소\n",
    "\"acplc_lngg_ceo_nm\" : \"contact\", # 대표\n",
    "\"entrp_post_no\" : \"Postal Code\", # 기업우편번호\n",
    "\"entrp_emply_val\" : \"Employees\"\n",
    "}"
   ]
  },
  {
   "cell_type": "code",
   "execution_count": 50,
   "metadata": {},
   "outputs": [],
   "source": [
    "import warnings\n",
    "\n",
    "# FutureWarning 경고 무시\n",
    "warnings.filterwarnings(\"ignore\", category=FutureWarning)"
   ]
  },
  {
   "cell_type": "code",
   "execution_count": 51,
   "metadata": {},
   "outputs": [
    {
     "name": "stderr",
     "output_type": "stream",
     "text": [
      "100%|██████████| 6200/6200 [14:11<00:00,  7.28it/s]\n",
      "100%|██████████| 1976/1976 [01:41<00:00, 19.42it/s]\n",
      "100%|██████████| 2287/2287 [01:52<00:00, 20.37it/s]\n",
      "100%|██████████| 1948/1948 [01:29<00:00, 21.79it/s]\n",
      "100%|██████████| 1149/1149 [00:33<00:00, 34.46it/s]\n",
      "100%|██████████| 439/439 [00:05<00:00, 74.93it/s] \n",
      "100%|██████████| 4868/4868 [07:54<00:00, 10.26it/s]\n"
     ]
    }
   ],
   "source": [
    "for jdx in bizin_lst:\n",
    "    finished_df = pd.DataFrame(columns=list(TableDefaultColumns[\"표준_영문컬럼명\"]))\n",
    "    df = pd.read_csv(path + jdx)\n",
    "    name = jdx.split(\"(\")[0]\n",
    "    name = country[name]\n",
    "    solution = lambda x: [k for k, v in country.items() if v == x]\n",
    "    for idx in tqdm(range(len(df))):\n",
    "        AppendDict = {\n",
    "                \"hb_ntn_cd\" : name.upper(),\n",
    "                \"acplc_lngg_ntn_nm\" : name.upper(),\n",
    "                \"engls_ntn_nm\" : name.upper(),\n",
    "                \"ntn_lngg_cd_val\" : name.upper(),\n",
    "                \"acplc_lngg_lngg_nm\" : stock_name[name][2],\n",
    "                \"engls_lngg_nm\" : stock_name[name][2]}\n",
    "        columns = [\"name\", \"Sales\", \"E.mail\", \"City\", \"address\", \"contact\", \"Postal Code\", \"Employees\"]\n",
    "        for column in columns:\n",
    "            try:\n",
    "                keys = [key for key in dict_lst if dict_lst[key] == column]\n",
    "                for key in keys: AppendDict[key] = df[column][idx]\n",
    "            except KeyError:\n",
    "                pass\n",
    "        finished_df = finished_df.append(AppendDict, ignore_index=True)\n",
    "    finished_df.to_excel(f\"{jdx}.xlsx\", index=False)"
   ]
  },
  {
   "cell_type": "code",
   "execution_count": null,
   "metadata": {},
   "outputs": [],
   "source": []
  }
 ],
 "metadata": {
  "kernelspec": {
   "display_name": "BDC",
   "language": "python",
   "name": "python3"
  },
  "language_info": {
   "codemirror_mode": {
    "name": "ipython",
    "version": 3
   },
   "file_extension": ".py",
   "mimetype": "text/x-python",
   "name": "python",
   "nbconvert_exporter": "python",
   "pygments_lexer": "ipython3",
   "version": "3.10.9"
  },
  "orig_nbformat": 4
 },
 "nbformat": 4,
 "nbformat_minor": 2
}
