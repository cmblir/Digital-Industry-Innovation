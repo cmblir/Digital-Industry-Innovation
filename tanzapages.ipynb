{
 "cells": [
  {
   "cell_type": "code",
   "execution_count": 1,
   "metadata": {},
   "outputs": [],
   "source": [
    "import pandas as pd\n",
    "import numpy as np\n",
    "import chromedriver_autoinstaller\n",
    "import re\n",
    "import time\n",
    "from bs4 import BeautifulSoup\n",
    "from selenium import webdriver\n",
    "from tqdm import tqdm\n",
    "from selenium.webdriver.common.by import By\n",
    "from selenium.webdriver.chrome.service import Service\n",
    "from selenium.common.exceptions import NoSuchElementException\n",
    "from selenium.webdriver import ActionChains\n",
    "from webdriver_manager.chrome import ChromeDriverManager\n",
    "from selenium.webdriver.support.ui import Select\n",
    "from selenium import webdriver\n",
    "from selenium.webdriver.support.ui import WebDriverWait\n",
    "from selenium.webdriver.support import expected_conditions as EC"
   ]
  },
  {
   "cell_type": "code",
   "execution_count": 2,
   "metadata": {},
   "outputs": [
    {
     "name": "stderr",
     "output_type": "stream",
     "text": [
      "[WDM] - Downloading: 100%|██████████| 6.30M/6.30M [00:00<00:00, 108MB/s]\n"
     ]
    }
   ],
   "source": [
    "url = f\"https://www.tanzapages.com/location/Dar_Es_Salaam\"\n",
    "            \n",
    "chrome_ver = chromedriver_autoinstaller.get_chrome_version().split('.')[0]  #크롬드라이버 버전 확인\n",
    "chrome_options = webdriver.ChromeOptions()\n",
    "chrome_options.add_argument(\"--incognito\") # 시크릿 모드\n",
    "chrome_options.add_argument(\"--no-sandbox\") # 리소스에 대한 엑서스 방지\n",
    "chrome_options.add_argument(\"--disable-setuid-sandbox\") # 크롬 충돌 방지\n",
    "chrome_options.add_argument(\"--disable-dev-shm-usage\") # 메모리 부족 에러 방지\n",
    "chrome_options.add_experimental_option('excludeSwitches', ['enable-logging'])\n",
    "try: # 크롬 드라이버\n",
    "    driver = webdriver.Chrome(service=Service(ChromeDriverManager().install()), options=chrome_options)   \n",
    "except:\n",
    "    chromedriver_autoinstaller.install(True)\n",
    "    driver = webdriver.Chrome(service=Service(ChromeDriverManager().install()), options=chrome_options)\n",
    "        # WebDruverException Error 방지 기존의 드라이버 버젼으로 지정\n",
    "        # driver = webdriver.Chrome(executable_path='/Users/cmblir/Python/Musinsa-Analysis/100/chromedriver')\n"
   ]
  },
  {
   "cell_type": "code",
   "execution_count": 3,
   "metadata": {},
   "outputs": [
    {
     "name": "stderr",
     "output_type": "stream",
     "text": [
      "  0%|          | 0/255 [00:00<?, ?it/s]"
     ]
    },
    {
     "name": "stdout",
     "output_type": "stream",
     "text": [
      "appended Tindwa Medical and Health Services\n",
      "appended Brontide Interiors\n",
      "appended SHACMAN TRUCK TANZANIA LIMITED\n",
      "appended JONES LOGISTICS LIMITED\n",
      "appended Assad Financial Services\n",
      "appended FAHARIHOST COMPANY\n",
      "appended Cloudy 360 Technologies\n",
      "appended Kara Traders Ltd\n",
      "appended Labedan Insurance Brokers\n",
      "appended Moflow - The Flower shop\n"
     ]
    },
    {
     "name": "stderr",
     "output_type": "stream",
     "text": [
      "  0%|          | 1/255 [00:47<3:19:41, 47.17s/it]"
     ]
    },
    {
     "name": "stdout",
     "output_type": "stream",
     "text": [
      "Nahh\n",
      "appended Hong Kong Restaurant\n",
      "appended Light Corner Ltd\n",
      "appended Durban Hotel\n",
      "appended InCo Technologies (T) Limited\n",
      "appended Howard Humphreys Consulting Engineers\n",
      "appended Q-Sourcing\n"
     ]
    },
    {
     "name": "stderr",
     "output_type": "stream",
     "text": [
      "  1%|          | 2/255 [01:13<2:26:32, 34.75s/it]"
     ]
    },
    {
     "name": "stdout",
     "output_type": "stream",
     "text": [
      "Nahh\n",
      "appended Jobs in Tanzania - JobHouse Tanzania\n",
      "appended Mansoori Truck Parts\n",
      "appended WENSON LOGISTICS CO. LTD\n",
      "appended Cornwell Tanzania Naturopathic Clinic\n",
      "appended FINEAST African Resources\n",
      "appended Metro Steel Mills Ltd.\n",
      "appended Oceania Tanzania\n",
      "appended ARDEAN Law Chambers\n",
      "appended Eman Mic Production\n",
      "appended Fynhacker Hosting\n",
      "appended Polypet Industries ltd\n",
      "appended 21st Century Textile Morogoro\n",
      "appended ABSOLUTE PRINTING SERVICES LTD\n",
      "appended Adams Digicom Animation Company\n",
      "appended CELINE DECORATION & CATERING SERVICES\n",
      "appended Data Recovery Tanzania\n",
      "appended HARVEST TANZANIA LTD\n",
      "appended Kamaka Company Ltd\n",
      "appended Kishen Enterprises Toyo Motorcycles\n",
      "appended Kishen Enterprises Limited\n",
      "appended LUESA GROUPS LIMITED\n",
      "appended Nox Tanzania Group Limited\n",
      "appended Parota Pest Control\n",
      "appended Piben Studio\n",
      "appended Tibaz Productions\n"
     ]
    },
    {
     "name": "stderr",
     "output_type": "stream",
     "text": [
      "  1%|          | 3/255 [03:02<4:48:14, 68.63s/it]"
     ]
    },
    {
     "name": "stdout",
     "output_type": "stream",
     "text": [
      "Nahh\n",
      "appended Babysitters and House Maid in Dar es Salaam\n",
      "appended Bridging Technologies Limited\n",
      "appended Burhani Infosys\n",
      "appended Chino Asset Tracker\n",
      "appended CLEANEX CLEANING & MAINTENANCE\n",
      "appended Danbeth Solutions Limited\n",
      "appended DENTOMEDICAL(T)RESOURCES\n",
      "appended Dreamchasers Technologies\n",
      "appended DTS LOGISTICS COMPANY LIMITED\n",
      "appended Dudumizi Solutions\n",
      "appended EMPTY CONTAINER DEPOT\n",
      "appended EroLink - Recruitment Specialist\n",
      "appended ETON INTERNATIONAL TANZANIA LIMITED\n",
      "appended Exmpor Engineering Tanzania Limited\n",
      "appended Happy Kids Puzzles\n",
      "appended HELMIC GROUP COMPANY LIMITED\n",
      "appended HouseTech Investment & General Supply LTD\n",
      "appended ICTPACK SOLUTIONS LTD\n",
      "appended IMIT,CATS TANZANIA LIMITED\n",
      "appended JV Biotech Enterprises Co Ltd\n",
      "appended Kulaya Language School\n",
      "appended Labspot Tanzania LTD\n",
      "appended Maperuk\n",
      "appended Markim company ltd\n",
      "appended Massage For Women - Mobile\n",
      "appended Masaji Kwa wanawake Dar es Salaam\n",
      "appended Mobile Massage in Dar es Salaam\n",
      "appended 5NET IT SOLUTION\n",
      "appended NICE Tanzania\n"
     ]
    },
    {
     "name": "stderr",
     "output_type": "stream",
     "text": [
      "  2%|▏         | 4/255 [05:14<6:31:31, 93.59s/it]"
     ]
    },
    {
     "name": "stdout",
     "output_type": "stream",
     "text": [
      "appended Ocean Breeze Cleaning Company\n",
      "appended OfficeSpace\n",
      "appended PRAMUKH STEEL INDUSTRIES\n",
      "appended SantaPrint\n",
      "appended Suzana Mabula Fashion\n",
      "appended Tai Safaris Ltd\n",
      "appended Tanzania Water Equipment Supply Company\n",
      "appended Teroda Africa Limited\n",
      "appended Travel Hype Adventures\n",
      "appended TruMark Company Limited\n",
      "appended Verge Holdings Ltd\n",
      "appended VG Media\n",
      "appended Vitech Group Co. Ltd\n",
      "appended Waxing Service in Dar es Salaam\n",
      "appended Xfrey\n",
      "appended ZACK FINANCE\n",
      "appended Africab\n",
      "appended Bike Point\n",
      "appended BlinkView Tanzania\n",
      "appended Deep Image Studio\n",
      "appended DEMA DENTAL PRODUCT COMPANY\n",
      "appended Dk Link Design Company\n",
      "appended Dolson Interiors\n",
      "appended ELEGANCE FURNITURE LIMITED\n",
      "appended Kaymu Tanzania\n",
      "appended KIWALEIS INVESTMENT CO LTD\n",
      "appended Makazi Lodges Ltd\n",
      "appended Ndola Engineering Works Ltd\n",
      "appended Ukumbitz\n",
      "appended P&D TWINS DISTRIBUTORS LTD\n"
     ]
    },
    {
     "name": "stderr",
     "output_type": "stream",
     "text": [
      "  2%|▏         | 5/255 [07:21<7:20:18, 105.68s/it]"
     ]
    },
    {
     "name": "stdout",
     "output_type": "stream",
     "text": [
      "Nahh\n",
      "appended sea rock investments company\n",
      "appended Selous explorer\n",
      "appended Sparta Gym\n",
      "appended STREAMLINE CONSULTING LIMITED\n",
      "appended Tanzania Fixer\n",
      "appended Toyota Hilux Tanzania\n",
      "appended WANSLU & E-GOUWU TANZANIA\n",
      "appended Africa Batteries Ltd\n",
      "appended Afrotalia International Limited\n",
      "appended Alvic Builders (T) Ltd\n",
      "appended Baridi Baridi Tanzania Limited\n",
      "appended Bencus Marketing Solutions\n",
      "appended Best Western Coral Beach Hotel\n",
      "appended Bright Cooling & Services Centre(BCSC)\n",
      "appended CATS-NET LIMITED\n",
      "appended Cityweb Technologies\n",
      "appended Climate Air Limited Tanzania\n",
      "appended CONVEYANCE CONTAINER TANZANIA COMPANY LTD\n",
      "appended DAYA PREMJI LTD\n",
      "appended DELMAT GLOBAL LTD\n",
      "appended EQUIPLAMA AFRICA\n",
      "appended ESSENCE CONSULT LIMITED\n",
      "appended FAKHRU AND BROTHERS GEN SUPPLIES\n",
      "appended FURMIGATION AND PETS\n",
      "appended HARLOS COMP LIMITED\n",
      "appended JINAN WAYTEKO (T) LIMITED\n",
      "appended KASPA TECHNOLOGIES LIMITED\n",
      "appended Livingstone Hotel\n",
      "appended MOHAMED MEDICAL SUPPLIES LTD\n"
     ]
    },
    {
     "name": "stderr",
     "output_type": "stream",
     "text": [
      "  2%|▏         | 6/255 [09:24<7:43:57, 111.80s/it]"
     ]
    },
    {
     "name": "stdout",
     "output_type": "stream",
     "text": [
      "appended Phoenix rubber rollers\n",
      "appended Raguel Company Ltd\n",
      "appended Reco Engineering Company Ltd\n",
      "appended FIRST RENTAL CONSTRUCTION EQUIPMENT\n",
      "appended Simba Digital Marketing Agency\n",
      "appended Tanzanite Bliss/ EZ- Group\n",
      "appended The Rub | Beauty Salon and Day Spa\n",
      "appended Tinovision Designs and Prints\n",
      "appended TTT Worldwide Ltd. ( Tanzania Travel & Tours )\n",
      "appended Armor Security Limited\n",
      "appended Arwa Pharmacy\n",
      "appended Asar Limited since 1953\n",
      "appended Auric Air Services Ltd\n",
      "appended Buku Tano ~ Easy Hosting\n",
      "appended Car Junction Tanzania\n",
      "appended Cosmos Group (T) Ltd\n",
      "appended DoubleTree by Hilton Dar es Salaam - Oyster Bay\n",
      "appended E-Tech Solutions\n",
      "appended JOSIMA GROUP LIMITED\n",
      "appended MNC Insight\n",
      "appended Nida Textile Mills (t), Ltd\n",
      "appended PRAMUKH STEEL INDUSTRIES\n",
      "appended Priority Property Ltd\n",
      "appended Priority Property\n",
      "appended SEYANI BROTHERS & CO. (T) LIMITED\n",
      "appended Simba Web Design\n",
      "appended Tausi Smart\n",
      "appended Winestle Digital\n",
      "appended Zenith Security Services Ltd\n",
      "appended ActiveMail - Bulk Email Marketing\n"
     ]
    },
    {
     "name": "stderr",
     "output_type": "stream",
     "text": [
      "  3%|▎         | 7/255 [11:27<7:57:18, 115.48s/it]"
     ]
    },
    {
     "name": "stdout",
     "output_type": "stream",
     "text": [
      "appended Actual Media\n",
      "appended Ally Edha Awadh’s Lake group\n",
      "appended Alubond Africa\n",
      "appended Derma International Limited\n",
      "appended EA Jobs Co. Ltd\n",
      "appended Eye Emporium\n",
      "appended Funspot Limited\n",
      "appended GBC RADIATORS SERVICES\n",
      "appended IYAN GROUP LTD\n",
      "appended Jamana Printers Ltd\n",
      "appended KRB FREIGHT CO. LTD.\n",
      "appended Labedan Company Ltd\n",
      "appended Light Point Ltd.\n",
      "appended MAKUCHA YA SIMBA TOURS\n",
      "appended Mambo Ads\n",
      "appended Manji Key Master\n",
      "appended Massey Ferguson Tanzania\n",
      "appended Monalisa Commercial Cleaning & Landscaping Co Ltd\n",
      "appended Natron Company Limited\n",
      "appended NorthGateAutos\n",
      "appended PATS CONSULTING GROUP LIMITED\n",
      "appended Pest Shutters tz\n",
      "appended REPUTABLE HOLDINGS LIMITED\n",
      "appended Saki-5 Honey Company Limited\n",
      "appended SCAFFOLDING FORMWORKS RENTAL\n",
      "appended TiME Tickets\n",
      "appended UNIFIED AFRICA LTD\n",
      "appended Ahmad Traders\n",
      "appended Almaniah Heavy Equipment (East Africa) Ltd\n",
      "appended Bongo Live\n"
     ]
    },
    {
     "name": "stderr",
     "output_type": "stream",
     "text": [
      "  3%|▎         | 8/255 [13:28<8:01:47, 117.04s/it]"
     ]
    },
    {
     "name": "stdout",
     "output_type": "stream",
     "text": [
      "appended CFAO DT Dobie Tanzania Ltd\n",
      "appended Corona Funeral Home and Chapel\n",
      "appended Cotecna Tanzania Limited\n",
      "appended DeSiaMore Company Ltd\n",
      "appended DGL\n",
      "appended EBMC Management Consultants\n",
      "appended Eco Services Tanzania Limited\n",
      "appended Event Planners Tanzania\n",
      "appended FARAJA EXPRESS CARGO LTD\n",
      "appended GIGATEC DISTRIBUTORS LIMITED\n",
      "appended Gleam Company Limited\n",
      "appended Holiday Inn Dar Es Salaam City Centre\n",
      "appended Hub Networks Ltd\n",
      "appended Internet Solutions Tanzania\n",
      "appended KILIHOST LTD\n",
      "appended Larry In Digital\n",
      "appended MedPoint Limited\n",
      "appended REPUTABLE HOLDINGS LIMITED\n",
      "appended 24 SECURITY (T) LIMITED\n",
      "appended Steps Solar ltd\n",
      "appended TALEMWA Investiment Consulting Co., Ltd\n",
      "appended TANAFRICA GREEN COMPANY LTD\n",
      "appended Tractor Corner\n",
      "appended Unwind- The beautyspot\n",
      "appended VISION 360\n",
      "appended Woodmont & T.Bonaz Grill\n",
      "appended AFRICAN LANDSCAPING COMPANY\n",
      "appended African Village Apartments\n",
      "appended ALECO GROUP\n",
      "appended Alin Law Care\n"
     ]
    },
    {
     "name": "stderr",
     "output_type": "stream",
     "text": [
      "  4%|▎         | 9/255 [15:30<8:07:11, 118.83s/it]"
     ]
    },
    {
     "name": "stdout",
     "output_type": "stream",
     "text": [
      "appended Bahari Technologies\n",
      "appended BHLADWA LTD (MAIN BRANCH)\n",
      "appended CAMCO EQUIPMENT TANZANIA LTD\n",
      "appended Computer Sales & Services\n",
      "appended Deep Tech Hub\n",
      "appended Dworks Corner\n",
      "appended EA BROTHERS CONTRACTORS CO.LTD\n",
      "appended EMS-GLOBAL LIMITED\n",
      "appended Fabonic\n",
      "appended Fedex Dar Es Salaam Tanzania\n",
      "appended GERPAT Solutions\n",
      "appended Goldstar Branch (t) Limited\n",
      "appended HJ Electric Company Limited\n",
      "appended inLOBU International Network Ltd\n",
      "appended IT Desk Limited\n",
      "appended JOBERS TECHNOLOGIES\n",
      "appended Kayecon Limited\n"
     ]
    },
    {
     "name": "stderr",
     "output_type": "stream",
     "text": [
      "  4%|▍         | 10/255 [16:40<7:02:27, 103.46s/it]"
     ]
    },
    {
     "name": "stdout",
     "output_type": "stream",
     "text": [
      "Nahh\n",
      "appended Oneflet Solution Co Limited\n",
      "appended Osprey Insurance Brokers Limited\n",
      "appended Peagas\n",
      "appended Pstanzania company limited\n",
      "appended Quadrant Consultancy\n",
      "appended RGS Group of Companies\n",
      "appended Routefinder Human Capital Consultancy\n",
      "appended SAS Logistics LTD\n",
      "appended Selcom\n",
      "appended Sepra Systems Limited\n",
      "appended Serengeti Bytes\n",
      "appended SIRIONE COMPANY LIMITED\n",
      "appended SkyVee Tanzania\n",
      "appended Specialised I.T Solution LTD\n",
      "appended S.T CONSTRUCTION COMPANY\n",
      "appended Swift Deliveries Tanzania\n",
      "appended Tanza Technologies And Engineering Limited.\n",
      "appended TechLegend\n",
      "appended Tembosoft Limited\n",
      "appended Travel & Beyond\n",
      "appended Trio Trackers GPS car Tracking services\n",
      "appended Twistar Printing\n",
      "appended Usha Liner (Shapar) Private Limited\n",
      "appended Vipaji Inc Corporate Limited\n",
      "appended VIVA PRINTWAYS AND STATIONERS\n",
      "appended XBASIC EMPLOYMENT AND LABOUR RELATION SOLUTIONS\n",
      "appended XeBusiness Partner\n",
      "appended Zip N Zap Courier\n",
      "appended Ami Tanzania\n"
     ]
    },
    {
     "name": "stderr",
     "output_type": "stream",
     "text": [
      "  4%|▍         | 11/255 [18:41<7:22:44, 108.87s/it]"
     ]
    },
    {
     "name": "stdout",
     "output_type": "stream",
     "text": [
      "appended Amrut Filtration\n",
      "appended ARDEAN Law Chambers\n",
      "appended Areacode Creative Minds Limited\n",
      "appended Astraline Logistics\n",
      "appended Bandari College\n",
      "appended BEST WESTERN PLUS Peninsula Hotel\n",
      "appended BrainBongo Media Network\n",
      "appended Caspian Limited\n",
      "appended Cello Industries Tanzania Limited\n",
      "appended Clouds Media Group\n",
      "appended Coca Cola\n",
      "appended Coca-Cola Kwanza Bottlers Ltd\n",
      "appended Coca-Cola Company\n",
      "appended CONSTRUCTION CHEMICALS LTD.\n",
      "appended COSWIL Consult Ltd\n",
      "appended CPM Business Consultants\n",
      "appended Cuticles & Curves\n",
      "appended DABAGA CYBER SOLUTIONS LIMITED\n",
      "appended Dalock Tanzania Limited\n",
      "appended Delta Emap Co.Ltd\n",
      "appended Dudumizi Technologies LTD\n",
      "appended Earnity Consultants\n",
      "appended East Africa Hi Tech Solutions\n",
      "appended ECAM\n",
      "appended Eden Law Chambers\n",
      "appended EGBLAW FIRM\n",
      "appended Ellertek Solutions\n",
      "appended Empower Recruitment & Training\n",
      "appended Empowerment Business Consult Ltd\n",
      "appended Equity Aviation\n"
     ]
    },
    {
     "name": "stderr",
     "output_type": "stream",
     "text": [
      "  5%|▍         | 12/255 [20:47<7:42:41, 114.25s/it]"
     ]
    },
    {
     "name": "stdout",
     "output_type": "stream",
     "text": [
      "appended ESSENCE CREATIVE SOLUTIONS\n",
      "appended Everholistic Consulting Group\n",
      "appended Finest Image Company Limited\n",
      "appended Goman Auction Mart Company Ltd\n",
      "appended Habari Corporation Limited\n",
      "appended Hopstop AC company\n",
      "appended InnoveMarketing Co Ltd\n",
      "appended iPF Softwares\n",
      "appended ITM Tanzania Ltd\n",
      "appended Jayjor Cleaning & Fumigation Services\n",
      "appended JSK Tools & Machinery Limited\n",
      "appended Kijiweni Productions\n",
      "appended Kiwango Security Guards (T) Ltd\n",
      "appended Kiwi Media Solutions\n",
      "appended K15 Photos\n",
      "appended Lab Equip\n",
      "appended LUESA Cleaning & Fumigation Services\n",
      "appended Maje Digital Group\n",
      "appended Medical Stores Department (MSD)\n",
      "appended NFT Consult\n",
      "appended Open Sanit Enterprises\n",
      "appended OPEXft Consulting Ltd\n",
      "appended PamDeco Limited\n",
      "appended Pran Pen Corner Ltd\n",
      "appended Primer Solutions (T) LTD\n",
      "appended Push Digital\n",
      "appended Quality Motors Honda Motorcycle Dealer\n",
      "appended Quick Horizon SEO\n",
      "appended Rednet Technologies\n",
      "appended REN TAX AND FINANCIAL CONSULTING LIMITED\n"
     ]
    },
    {
     "name": "stderr",
     "output_type": "stream",
     "text": [
      "  5%|▌         | 13/255 [22:52<7:53:07, 117.31s/it]"
     ]
    },
    {
     "name": "stdout",
     "output_type": "stream",
     "text": [
      "appended Softnet Solutions Ltd\n",
      "appended S&S Services Company\n",
      "appended St. Joseph College Of Engineering And Technology\n",
      "appended Sunrise Communications (T) Ltd\n",
      "appended Systemax (T) Limited\n",
      "appended Tai Plus Company Ltd\n",
      "appended Tanzania Railways Corporation (Trc)\n",
      "appended Tanira Holdings & Trading Co. Ltd\n",
      "appended TBG FREIGHTERS COMPANY LIMITED\n",
      "appended Teddy Junior Clearing & Forwarding\n",
      "appended THE COMPUTER TRAINING (COMSKILLS Ltd)\n",
      "appended TRAVEL TANZANIA\n",
      "appended Tunakopesha Limited\n",
      "appended Wapewape\n",
      "appended WeAreSpinPR\n",
      "appended Z-smartech Solutions\n",
      "appended Olla Technologies\n",
      "appended Active Tot's Zone\n",
      "appended ANCESTOR MOVERS CO LTD\n",
      "appended Andrews GemStone Ltd\n",
      "appended Anudha Limited\n",
      "appended Arcis\n",
      "appended Ashton Media Limited\n",
      "appended Bahari Bakery Ltd\n",
      "appended Beetle Motors Ltd\n",
      "appended Blue Pearl Apartments\n",
      "appended Car & General Trading Limited\n",
      "appended Channel Ten\n",
      "appended Churchy Codes\n",
      "appended Citibank Tanzania Limited\n"
     ]
    },
    {
     "name": "stderr",
     "output_type": "stream",
     "text": [
      "  5%|▌         | 14/255 [24:55<7:58:35, 119.15s/it]"
     ]
    },
    {
     "name": "stdout",
     "output_type": "stream",
     "text": [
      "appended Computech Ics (Tz) Ltd\n",
      "appended Crescent Client Solution Limited\n",
      "appended DANVAST CAREER SEARCH\n",
      "appended DEN Consult Limited\n",
      "appended Easy Solution\n",
      "appended Empire ICT Solutions Co. Ltd\n",
      "appended EMS Tanzania (United Rep.)\n",
      "appended Falcon Industries Limited\n",
      "appended Fuad Production\n",
      "appended Fun-Lugha (Language Services)\n",
      "appended Furia Consulting Ltd\n",
      "appended Gecko Adventure Tanzania\n",
      "appended Generics & Specialities Ltd\n",
      "appended GEORGETOWN GROUP COMPANY LIMITED\n",
      "appended Gimco Africa Property Management Limited\n",
      "appended Global Boaz Tanzania\n",
      "appended GRAND CONFECTIONARY BAKERY LIMITED\n",
      "appended Guinness\n",
      "appended HB GLASS LTD\n",
      "appended Huper Tanzania Limited\n",
      "appended I&M Bank\n",
      "appended Infosys IPS (T) Ltd\n",
      "appended Infobip Tanzania Limited\n",
      "appended Institute Of Social Work (chuo Cha Ustawi Wa Jamii)\n",
      "appended Ital Shoe Ltd\n",
      "appended J&Enviroconsult (T) Ltd\n",
      "appended Kili.la\n",
      "appended Kishan Enterprises Ltd\n",
      "appended Kupatana\n",
      "appended Lonagro Tanzania Ltd.\n"
     ]
    },
    {
     "name": "stderr",
     "output_type": "stream",
     "text": [
      "  6%|▌         | 15/255 [26:58<8:01:28, 120.37s/it]"
     ]
    },
    {
     "name": "stdout",
     "output_type": "stream",
     "text": [
      "appended Loyola High School\n",
      "appended Mansun investment limited\n",
      "appended Maning International Ltd\n",
      "appended Massa Consultants Tanzania\n",
      "appended Maximum Agro Resources Limited\n",
      "appended Medical Electives Tanzania\n",
      "appended Membastores\n",
      "appended Mitsumi Computer Garage Ltd.\n",
      "appended MobiShastra Tanzanina Private Limited\n",
      "appended MWF TANZANIA\n",
      "appended Mzumbe University\n",
      "appended Obrigado Safaris Limited\n",
      "appended Oinwan Builders Limited\n",
      "appended Organic Chemicals LTD.\n",
      "appended Powerweb Tanzania Limited\n",
      "appended Printouts Printing Press Ltd\n",
      "appended Professional Photo Lab\n",
      "appended QUINCHER FREIGHT FORWARDERS T LIMITED\n",
      "appended Qutbi Oilfield Equipment Trading\n",
      "appended Racking and Shelving Solutions Ltd\n",
      "appended Radi Service Ltd\n",
      "appended REPUTABLE HOLDINGS LIMITED\n",
      "appended Rex Energy – Quality Solar Solutions\n",
      "appended RGtech, Tanzania\n",
      "appended Salama Bearing Center\n",
      "appended Salpa Arts\n",
      "appended Savannah Tours Limited\n",
      "appended Shayo Enterprises\n",
      "appended Sino Logistics Co Ltd\n",
      "appended Spareparts for Trucks and Trailers\n"
     ]
    },
    {
     "name": "stderr",
     "output_type": "stream",
     "text": [
      "  6%|▋         | 16/255 [29:04<8:06:13, 122.06s/it]"
     ]
    },
    {
     "name": "stdout",
     "output_type": "stream",
     "text": [
      "appended Spanner Tanzania\n",
      "appended Specialised Hauliers (T) Ltd\n",
      "appended Starton Engineering Company Limited\n",
      "appended STEEL TANK AFRICA LTD\n",
      "appended Storewid Technologies\n",
      "appended Strabag International (t) Ltd\n",
      "appended SUBKEY GLOBAL AGENCY LIMITED\n",
      "appended Super Meals Limited\n",
      "appended Taha Ceramics\n",
      "appended TAHFIF STATIONERY SHOPPE LTD\n",
      "appended TANZANIA RENEWABLE ENERGY BUSINESS INCUBATOR (TAREBI)\n",
      "appended Tanzaone Protection And Comfort Systems\n",
      "appended Tanzua Express\n",
      "appended Technotion Ltd\n",
      "appended The Slipway\n",
      "appended The Recycler\n",
      "appended UPS Dar Es Salaam (United Parcel Service)\n",
      "appended WebGuru Tanzania Limited\n",
      "appended Winacom Ltd\n",
      "appended Window design\n",
      "appended Wondrous Technologies\n",
      "appended Zamzam Stationery Supermarket\n",
      "appended ZASH Commercial Services Africa Ltd\n",
      "appended ZyNOX Company Limited\n",
      "appended ABB Distributors Tanzania\n",
      "appended AdsFOX Marketing\n",
      "appended Africarriers Ltd\n",
      "appended Africa Media Group limited\n",
      "appended Allied Transport Agent Ltd\n",
      "appended Alltz Digital\n"
     ]
    },
    {
     "name": "stderr",
     "output_type": "stream",
     "text": [
      "  7%|▋         | 17/255 [31:03<8:00:39, 121.17s/it]"
     ]
    },
    {
     "name": "stdout",
     "output_type": "stream",
     "text": [
      "appended Al Masood Auto Parts\n",
      "appended Alpha Secondary School\n",
      "appended Alphakrust Aquaculture\n",
      "appended AMD Solutions Limited\n",
      "appended Ardean Attorneys\n",
      "appended ASV Import and Export Limited\n",
      "appended Auto Rover\n",
      "appended Bahari Pharmacy\n",
      "appended Belo Engineering and Logistic Solutions Ltd\n",
      "appended B.N. Company Limited\n",
      "appended Brigth Car Hire\n",
      "appended CAD Securities Limited\n",
      "appended Cars For Diplomats\n",
      "appended Clouds TV\n",
      "appended Computer Aided Design Technology - CADTECH Ltd\n",
      "appended Computronix Centre\n",
      "appended Coseke Tanzania Ltd\n",
      "appended CREDIT AND DEBT MASTERS COMPANY LIMITED\n",
      "appended CTCL\n",
      "appended Datie's Cakes\n",
      "appended Davis & Shirtliff\n",
      "appended Davis & Shirtliff (T) Limited\n",
      "appended DEDITA COMMUNICATIONS CO.LTD\n",
      "appended DEEP MEDIA TANZANIA\n",
      "appended Deep FM\n",
      "appended Del Monte (T) Ltd\n",
      "appended DeskTop Productions Ltd. DTP\n",
      "appended Desbro Tanzania Ltd.\n",
      "appended Diamond Shipping Services Pty Ltd\n",
      "appended D.light Solar Specialists\n"
     ]
    },
    {
     "name": "stderr",
     "output_type": "stream",
     "text": [
      "  7%|▋         | 18/255 [32:59<7:52:20, 119.58s/it]"
     ]
    },
    {
     "name": "stdout",
     "output_type": "stream",
     "text": [
      "appended D&M Technical Services\n",
      "appended Duxte Limited\n",
      "appended Ecobank\n",
      "appended Elixir Financial Services\n",
      "appended Emerson Education\n",
      "appended Event Planners Tanzania\n",
      "appended Favorite HR Services\n",
      "appended Flashnet\n",
      "appended Fuji Heavy Garages\n",
      "appended GAMING AFRICA\n",
      "appended Grace Nursery & Primary School\n",
      "appended GS POWER INSTALLATION LTD\n",
      "appended G4S Security Services (T) Ltd\n",
      "appended Henkel Polymer Co. Ltd\n",
      "appended Herocean Enterprise(Tanzania) LTD\n",
      "appended Heshima Funeral Services\n",
      "appended Holiday Inn Gym Membership\n",
      "appended HS COMPUTERS LTD\n",
      "appended Inets Company Limited\n",
      "appended iSP - Internet Solutions\n",
      "appended Jobmakini Link (T) Limited\n",
      "appended Kiangazi Properties Ltd.\n",
      "appended Kitalu Bunifu Advisory\n",
      "appended Kobil Tanzania\n",
      "appended Kwanza International School\n",
      "appended Laureate International School\n",
      "appended Laurent & Augustine Ltd\n",
      "appended LEVSON TRAILERS & TANKS\n",
      "appended LORDEYS Tanzania Web Agency\n",
      "appended Maco Technologies\n"
     ]
    },
    {
     "name": "stderr",
     "output_type": "stream",
     "text": [
      "  7%|▋         | 19/255 [34:55<7:46:18, 118.55s/it]"
     ]
    },
    {
     "name": "stdout",
     "output_type": "stream",
     "text": [
      "appended Maersk Line\n",
      "appended Magic FM\n",
      "appended Mainline Carriers Ltd\n",
      "appended Malaika Media\n",
      "appended Mansoor Daya Chemicals\n",
      "appended MAN Magazine\n",
      "appended Manjis Lock and Key Centre\n",
      "appended Mdau Furniture Gallery\n",
      "appended Mediterranean Shipping Co. (T) Ltd (MSC)\n",
      "appended Mega Woodcraft Products (T) Ltd.\n",
      "appended Microtelecomms Limited\n",
      "appended Mkuza Chicks Limited\n",
      "appended Mohammed Enterprises (T) Limited\n",
      "appended Mollel Electrical Contractors\n",
      "appended MR.BOWBOW FREELANCING (IT)\n",
      "appended M.r. & Sons\n",
      "appended Mukela stationery\n",
      "appended MultiChoice Tanzania\n",
      "appended Multi Cables Limited\n",
      "appended Mwananchi Communication Ltd\n",
      "appended Nanak Body Builders Ltd\n",
      "appended National Health Insurance Fund NKIF Head Office Dar Es Salaam, Address\n",
      "appended Nordic Construction Company LTD\n",
      "appended Nutmeg Auctioneers & Property Managers Co.ltd\n",
      "appended Nyimbo Mpya\n"
     ]
    },
    {
     "name": "stderr",
     "output_type": "stream",
     "text": [
      "  8%|▊         | 20/255 [36:37<7:25:03, 113.63s/it]"
     ]
    },
    {
     "name": "stdout",
     "output_type": "stream",
     "text": [
      "Nahh\n",
      "appended Panafrica Enterprises Ltd\n",
      "appended Pegasys\n",
      "appended Poppins Marketing Agency\n",
      "appended Power Tools Limited - Hilti\n",
      "appended Protea\n",
      "appended Proactive Employment Solutions (PES)\n",
      "appended PROMOCOM TANZANIA\n",
      "appended QUINN LAW CHAMBERS\n",
      "appended Raddy Fiber Manufacturing Tanzania Ltd\n",
      "appended Red Dot Distribution Limited\n",
      "appended Research Experts of Tanzania Ltd\n",
      "appended safari planners and adventure ltd\n",
      "appended Sahara Desert Freighters ltd\n",
      "appended SASCOM TECHNOLOGIES LIMITED\n",
      "appended Sea Cliff Hotel\n",
      "appended SelTech Ltd\n",
      "appended Sgs Tanzania\n",
      "appended Sharetrade Artificial Plant and Tree Manufacturer\n",
      "appended Shoponline\n",
      "appended Shugulika Africa Limited\n",
      "appended Simply Computers Ltd\n",
      "appended SiSi eSolutions\n",
      "appended SMEC International of Australia\n",
      "appended Sort Solution Company Limited\n",
      "appended Spearhead Africa\n",
      "appended SSTL Group\n",
      "appended St. Ann`s Girls Secondary School\n",
      "appended 21st Century Food & Packaging\n",
      "appended STREAMLINE CONSULTING LIMITED\n"
     ]
    },
    {
     "name": "stderr",
     "output_type": "stream",
     "text": [
      "  8%|▊         | 21/255 [38:36<7:28:29, 115.00s/it]"
     ]
    },
    {
     "name": "stdout",
     "output_type": "stream",
     "text": [
      "appended Sussane L. COE LTD\n",
      "appended Synovate - Market Research & Media Monitoring\n",
      "appended Tanzania Road Haulage (1980) Ltd (TRH)\n",
      "appended Tanzania Broadcasting Corporation\n",
      "appended Tanzania Gold & Stones ltd\n",
      "appended Tanzania Website Experts\n",
      "appended Tanzania Tech\n",
      "appended Tanzanite Elites Languages And Consultants\n",
      "appended Tarim restaurant\n",
      "appended Tera Technologies and Engineering Limited\n",
      "appended Tractor Provider\n",
      "appended True Vision Tanzania (TVTA)\n",
      "appended TUFF SPARE PARTS\n",
      "appended Ultimate Security\n",
      "appended United Bank for Africa UBA Bank Tanzania\n",
      "appended Unilever Tanzania Ltd\n",
      "appended Vital Supplies Ltd\n",
      "appended Viva Legacy (T) Limited\n",
      "appended Waxbill Company Limited\n",
      "appended Way Track Solutions Limited\n",
      "appended WUNDERKIDS\n",
      "appended Yellow Printing Co Ltd\n",
      "appended ZSM AFRICA COMPANY\n",
      "appended Ads4african.com free classified ads in Tanzania\n",
      "appended Afriq Engineering & Construction Company Ltd\n",
      "appended African Risk Mitigation Services Ltd\n",
      "appended Agape Television Network\n",
      "appended Air Wing Secondary School\n",
      "appended Apollo Medical Centre\n",
      "appended BEITO INTERNATIONAL\n"
     ]
    },
    {
     "name": "stderr",
     "output_type": "stream",
     "text": [
      "  9%|▊         | 22/255 [40:37<7:33:37, 116.81s/it]"
     ]
    },
    {
     "name": "stdout",
     "output_type": "stream",
     "text": [
      "appended BIGBEE TECHNOLOGY LTD\n",
      "appended Bongoplan\n",
      "appended Bumaco Insurance Brokers\n",
      "appended CarHunt Japan\n"
     ]
    },
    {
     "name": "stderr",
     "output_type": "stream",
     "text": [
      "  9%|▉         | 23/255 [40:53<5:34:44, 86.57s/it] "
     ]
    },
    {
     "name": "stdout",
     "output_type": "stream",
     "text": [
      "Nahh\n",
      "appended Harsh Pharmaceuticals\n",
      "appended Henkel Chemicals\n",
      "appended Host Tree\n",
      "appended Ideal Standard Ltd\n",
      "appended Indian School Dar Es Salaam\n",
      "appended Innovadore\n",
      "appended Innove Business Consultants\n",
      "appended InStudio Ltd.\n",
      "appended iTRAK Fleet Management\n",
      "appended J.D. Pharmacy Ltd\n",
      "appended JS ELECTROMEC LTD\n",
      "appended Jubilee Life Insurance\n",
      "appended Kas Medics Ltd\n",
      "appended Kays Hygiene Products Limited\n",
      "appended Keko Pharmaceutical Industries Ltd\n",
      "appended Kisangani General Enterprises\n",
      "appended Kuehne Nagel Ltd\n",
      "appended LBE LOGISTICS COMPANY LIMITED\n",
      "appended MAAS Computers & Networks Ltd.\n",
      "appended Mansoor Industries Ltd\n",
      "appended Maverick Creative Solutions\n",
      "appended Mbezi Beach Secondary School\n",
      "appended Melian Software Company\n",
      "appended Mfi Office Solutions\n",
      "appended Mission Mikocheni Hospital\n",
      "appended Mona For Impact\n",
      "appended Msimbazi Centre\n",
      "appended Namera Group Of Industries\n",
      "appended Nam Enterprises Ltd\n"
     ]
    },
    {
     "name": "stderr",
     "output_type": "stream",
     "text": [
      "  9%|▉         | 24/255 [42:47<6:05:46, 95.01s/it]"
     ]
    },
    {
     "name": "stdout",
     "output_type": "stream",
     "text": [
      "appended National Engineering Co. Ltd\n",
      "appended National Institute For Productivity\n",
      "appended Nduvini Auto Works\n",
      "appended Neha Batteries Ltd\n",
      "appended Nyumban Real Estate & Consultancy\n",
      "appended Omar Packaging Industries Limited\n",
      "appended Pan Oceanic Insurance Brokers Ltd\n",
      "appended PECULIAR AFRICA LIMITED\n",
      "appended Photo Point\n",
      "appended Pil (tanzania) Ltd\n",
      "appended Propertyfinder.co.tz\n",
      "appended Proactive Employment Solutions\n",
      "appended Quality Center Mall\n",
      "appended Radar Recruitment\n"
     ]
    },
    {
     "name": "stderr",
     "output_type": "stream",
     "text": [
      " 10%|▉         | 25/255 [43:41<5:16:05, 82.46s/it]"
     ]
    },
    {
     "name": "stdout",
     "output_type": "stream",
     "text": [
      "Nahh\n",
      "appended Studio 19\n",
      "appended SUNLIGHT SOLUTIONS TANZANIA LTD\n",
      "appended SWITCH TRADE LIMITED\n",
      "appended Tanzania Petroleum Services Ltd\n",
      "appended Tanzania Red Cross Society\n",
      "appended Tanpack Tissues Ltd\n",
      "appended TANROUTE LIMITED\n",
      "appended Tarmal Industries Ltd\n",
      "appended Techno Image Ltd\n",
      "appended The Living Room Ltd\n",
      "appended Torya Machinery\n",
      "appended Transpaper (t), Ltd\n",
      "appended Treadstone Consulting Limited\n",
      "appended Tridea Cosmetics Ltd\n",
      "appended Tripper Graphics Designer Ltd\n",
      "appended UNIQUE FAVORS TZ\n",
      "appended Valour Consulting Group Ltd\n",
      "appended Wazoefu Technology\n",
      "appended Weighing Equipment & Supply Co. (WESCO)\n",
      "appended Xpert Digital Agency\n",
      "appended ZINGA\n",
      "appended Aidtax Africa Consultants\n",
      "appended AMD Academy (DSM, Tanzania)\n",
      "appended ASK Technologies\n",
      "appended Atlas Consultancy Services Limited\n",
      "appended B&B INSURANCE BROKERS LIMITED\n",
      "appended B2B-Tanzania\n",
      "appended BEST ASSOCIATES CO.\n",
      "appended Bizy Consult Limited\n"
     ]
    },
    {
     "name": "stderr",
     "output_type": "stream",
     "text": [
      " 10%|█         | 26/255 [45:34<5:49:41, 91.62s/it]"
     ]
    },
    {
     "name": "stdout",
     "output_type": "stream",
     "text": [
      "appended Bongotoonz Animation studio\n",
      "appended CapitalOne Company LTD\n",
      "appended Comfort Zone Real Estate\n",
      "appended DOM PROPERTIES INTERNATIONAL LIMITED\n",
      "appended D.R.D AGRICULTURAL COMPANY LIMITED\n",
      "appended Eagle Recoveries Limited\n",
      "appended Events Lab Ltd\n",
      "appended Fabonic\n",
      "appended Fantasic Cards International\n",
      "appended FauluHOST\n",
      "appended Flexus Logistics (T) Ltd\n",
      "appended Fleet Track\n",
      "appended foundation international school\n",
      "appended GLASSWIN LIMITED\n",
      "appended Imperial Attorneys\n",
      "appended INTERNATIONAL RECRUITERS\n",
      "appended Itas Company\n",
      "appended Jamii Integrated Development Initiative (JIDI)\n",
      "appended JobHouse Tanzania\n",
      "appended KARMELI Agribusines Tanzania Ltd\n",
      "appended KAYS LOGISTICS COMPANY LIMITED\n",
      "appended Kingbet\n",
      "appended Sakurahost Network & IT Solutions\n",
      "appended Marshall Fowler (T) Ltd\n",
      "appended MerKab Logistics Company Limited\n",
      "appended MI-NAJ CLEANERS\n",
      "appended NATHANI ASSOCIATES LIMITED\n",
      "appended NEW SOKODAR ADVERTISING Co.\n",
      "appended NITI Disttibution Ltd\n",
      "appended ONEGROUP ENTERPRISES LIMITED\n"
     ]
    },
    {
     "name": "stderr",
     "output_type": "stream",
     "text": [
      " 11%|█         | 27/255 [47:27<6:12:59, 98.16s/it]"
     ]
    },
    {
     "name": "stdout",
     "output_type": "stream",
     "text": [
      "appended Prime Advertising\n",
      "appended Primeware\n",
      "appended SEPCO DEBT COLLECTION & AUCTIONEERING COMPANY LTD\n",
      "appended Shandong JianghaiYuan Water Treatments Co.,Ltd\n",
      "appended SMART CODES\n",
      "appended SPEEDY PRINT- You think it- We ink it !!!\n",
      "appended Specialised IT Solutions Ltd.\n",
      "appended Tahfif Office & School Supplies Ltd Ltd\n",
      "appended TEKTURE BUILDING ART\n",
      "appended TheCEO Online Magazine\n",
      "appended The Wedding Planners Company\n",
      "appended TOTAL MED-LAB SOLUTIONS LIMITED\n",
      "appended Trinity Promotions Ltd\n",
      "appended True Security Consultant Ltd\n",
      "appended TUJENGE TECHNOLOGIES LIMITED\n",
      "appended Vision Machinery Rental Co LTD\n",
      "appended 360 Watersports Jet Boating Dar es Salaam\n",
      "appended Wedding Guide\n",
      "appended Zoom Tanzania\n",
      "appended Zzoikos Tanzania Limited\n",
      "appended AFRICAN GARDENING COMPANY\n",
      "appended Agile Business Solutions\n",
      "appended Amazon Paints Tz\n",
      "appended Bin Masters Limited\n",
      "appended British American Tobacco\n",
      "appended Clean Sweep Limited\n",
      "appended Datamanics\n",
      "appended 19 Events Limited\n",
      "appended Ewich Group Co Ltd\n",
      "appended Faunda Group\n"
     ]
    },
    {
     "name": "stderr",
     "output_type": "stream",
     "text": [
      " 11%|█         | 28/255 [49:30<6:39:52, 105.69s/it]"
     ]
    },
    {
     "name": "stdout",
     "output_type": "stream",
     "text": [
      "appended First Step Fashion (T) Limited\n",
      "appended FSM Systems\n",
      "appended HEINZ MANAGEMENT CONSULTING\n",
      "appended Mimii Cosmetics\n",
      "appended Mkuki na Nyota Publishers\n",
      "appended Monalisa Furniture Ltd\n",
      "appended Online Booking Tanzania\n",
      "appended Overseas Connect Limited\n",
      "appended ROOK CONSULTANTS LIMITED\n",
      "appended RVedart International Ltd.\n",
      "appended Safari Big 5\n",
      "appended Secure 7 System Limited\n",
      "appended Shella Beach Investment Co. Ltd.\n",
      "appended Shoppers Plaza\n",
      "appended SILO AFRICA LIMITED\n",
      "appended Stage Traders\n",
      "appended Tanzania Wildlife Protection Fund\n",
      "appended Tanskillz Media\n",
      "appended Thirdeye Production\n",
      "appended Time 4 Afrika\n",
      "appended Vian Group Company Limited\n",
      "appended Amana District Hospital\n",
      "appended Iragena Limited\n",
      "appended Bazed Animal Feeds\n",
      "appended Bryte Sky Links\n",
      "appended Choice FM\n",
      "appended Cons Africa Ltd (Cal)\n",
      "appended Crown Healthcare (t) Ltd\n",
      "appended Custom Woodworks Tz Co Ltd\n",
      "appended 3d Power\n"
     ]
    },
    {
     "name": "stderr",
     "output_type": "stream",
     "text": [
      " 11%|█▏        | 29/255 [51:29<6:53:03, 109.66s/it]"
     ]
    },
    {
     "name": "stdout",
     "output_type": "stream",
     "text": [
      "appended Enjoy Mj Investment & Company Ltd\n",
      "appended Fastcon Company Limited\n",
      "appended GIMETI SECURITY COMPANY LTD\n",
      "appended HYBRID PROJECT MANAGEMENT CONSULTANCY AND TRAINING\n",
      "appended Jemaco Containers Limited\n",
      "appended KBC JAPAN LTD\n",
      "appended KD LINGUISTICS\n",
      "appended MM Signs Limited\n",
      "appended Phimona Fashions\n",
      "appended REPUTABLE HOLDINGS LIMITED\n",
      "appended Revenue Assurance Tanzania Limited\n",
      "appended Sikapex Limited\n",
      "appended Special Mark Enterprise\n",
      "appended STARPIX BRAND\n",
      "appended Steel Masters Ltd\n",
      "appended Tanzania Rubber Stamp Works\n",
      "appended Tushtech\n",
      "appended Wamalink cleaning service\n",
      "appended Warrior Security\n"
     ]
    },
    {
     "name": "stderr",
     "output_type": "stream",
     "text": [
      " 12%|█▏        | 30/255 [57:44<11:49:34, 189.22s/it]"
     ]
    },
    {
     "name": "stdout",
     "output_type": "stream",
     "text": [
      "Nahh\n"
     ]
    },
    {
     "name": "stderr",
     "output_type": "stream",
     "text": [
      " 12%|█▏        | 31/255 [1:02:44<13:50:30, 222.46s/it]"
     ]
    },
    {
     "name": "stdout",
     "output_type": "stream",
     "text": [
      "Nahh\n"
     ]
    },
    {
     "name": "stderr",
     "output_type": "stream",
     "text": [
      " 13%|█▎        | 32/255 [1:07:44<15:13:16, 245.72s/it]"
     ]
    },
    {
     "name": "stdout",
     "output_type": "stream",
     "text": [
      "Nahh\n"
     ]
    },
    {
     "name": "stderr",
     "output_type": "stream",
     "text": [
      " 13%|█▎        | 33/255 [1:12:44<16:09:26, 262.01s/it]"
     ]
    },
    {
     "name": "stdout",
     "output_type": "stream",
     "text": [
      "Nahh\n"
     ]
    },
    {
     "name": "stderr",
     "output_type": "stream",
     "text": [
      " 13%|█▎        | 34/255 [1:17:44<16:47:03, 273.41s/it]"
     ]
    },
    {
     "name": "stdout",
     "output_type": "stream",
     "text": [
      "Nahh\n"
     ]
    },
    {
     "name": "stderr",
     "output_type": "stream",
     "text": [
      " 14%|█▎        | 35/255 [1:22:44<17:11:45, 281.39s/it]"
     ]
    },
    {
     "name": "stdout",
     "output_type": "stream",
     "text": [
      "Nahh\n"
     ]
    },
    {
     "name": "stderr",
     "output_type": "stream",
     "text": [
      " 14%|█▍        | 36/255 [1:27:44<17:27:28, 286.98s/it]"
     ]
    },
    {
     "name": "stdout",
     "output_type": "stream",
     "text": [
      "Nahh\n"
     ]
    },
    {
     "name": "stderr",
     "output_type": "stream",
     "text": [
      " 15%|█▍        | 37/255 [1:32:44<17:36:53, 290.89s/it]"
     ]
    },
    {
     "name": "stdout",
     "output_type": "stream",
     "text": [
      "Nahh\n"
     ]
    },
    {
     "name": "stderr",
     "output_type": "stream",
     "text": [
      " 15%|█▍        | 38/255 [1:37:44<17:41:56, 293.62s/it]"
     ]
    },
    {
     "name": "stdout",
     "output_type": "stream",
     "text": [
      "Nahh\n"
     ]
    },
    {
     "name": "stderr",
     "output_type": "stream",
     "text": [
      " 15%|█▌        | 39/255 [1:42:44<17:43:56, 295.54s/it]"
     ]
    },
    {
     "name": "stdout",
     "output_type": "stream",
     "text": [
      "Nahh\n"
     ]
    },
    {
     "name": "stderr",
     "output_type": "stream",
     "text": [
      " 16%|█▌        | 40/255 [1:47:44<17:43:49, 296.88s/it]"
     ]
    },
    {
     "name": "stdout",
     "output_type": "stream",
     "text": [
      "Nahh\n"
     ]
    },
    {
     "name": "stderr",
     "output_type": "stream",
     "text": [
      " 16%|█▌        | 41/255 [1:52:44<17:42:13, 297.82s/it]"
     ]
    },
    {
     "name": "stdout",
     "output_type": "stream",
     "text": [
      "Nahh\n"
     ]
    },
    {
     "name": "stderr",
     "output_type": "stream",
     "text": [
      " 16%|█▋        | 42/255 [1:57:44<17:39:35, 298.48s/it]"
     ]
    },
    {
     "name": "stdout",
     "output_type": "stream",
     "text": [
      "Nahh\n"
     ]
    },
    {
     "name": "stderr",
     "output_type": "stream",
     "text": [
      " 17%|█▋        | 43/255 [2:02:44<17:36:15, 298.94s/it]"
     ]
    },
    {
     "name": "stdout",
     "output_type": "stream",
     "text": [
      "Nahh\n"
     ]
    },
    {
     "name": "stderr",
     "output_type": "stream",
     "text": [
      " 17%|█▋        | 44/255 [2:07:44<17:32:24, 299.26s/it]"
     ]
    },
    {
     "name": "stdout",
     "output_type": "stream",
     "text": [
      "Nahh\n"
     ]
    },
    {
     "name": "stderr",
     "output_type": "stream",
     "text": [
      " 18%|█▊        | 45/255 [2:12:44<17:28:12, 299.49s/it]"
     ]
    },
    {
     "name": "stdout",
     "output_type": "stream",
     "text": [
      "Nahh\n"
     ]
    },
    {
     "name": "stderr",
     "output_type": "stream",
     "text": [
      " 18%|█▊        | 46/255 [2:17:44<17:23:45, 299.64s/it]"
     ]
    },
    {
     "name": "stdout",
     "output_type": "stream",
     "text": [
      "Nahh\n"
     ]
    },
    {
     "name": "stderr",
     "output_type": "stream",
     "text": [
      " 18%|█▊        | 47/255 [2:22:44<17:19:08, 299.75s/it]"
     ]
    },
    {
     "name": "stdout",
     "output_type": "stream",
     "text": [
      "Nahh\n"
     ]
    },
    {
     "name": "stderr",
     "output_type": "stream",
     "text": [
      " 19%|█▉        | 48/255 [2:27:44<17:14:24, 299.83s/it]"
     ]
    },
    {
     "name": "stdout",
     "output_type": "stream",
     "text": [
      "Nahh\n"
     ]
    },
    {
     "name": "stderr",
     "output_type": "stream",
     "text": [
      " 19%|█▉        | 49/255 [2:32:44<17:09:36, 299.89s/it]"
     ]
    },
    {
     "name": "stdout",
     "output_type": "stream",
     "text": [
      "Nahh\n"
     ]
    },
    {
     "name": "stderr",
     "output_type": "stream",
     "text": [
      " 20%|█▉        | 50/255 [2:37:44<17:04:43, 299.92s/it]"
     ]
    },
    {
     "name": "stdout",
     "output_type": "stream",
     "text": [
      "Nahh\n"
     ]
    },
    {
     "name": "stderr",
     "output_type": "stream",
     "text": [
      " 20%|██        | 51/255 [2:42:44<16:59:49, 299.95s/it]"
     ]
    },
    {
     "name": "stdout",
     "output_type": "stream",
     "text": [
      "Nahh\n"
     ]
    }
   ],
   "source": [
    "df = pd.DataFrame()\n",
    "for idx in tqdm(range(1, 256)):\n",
    "    try:\n",
    "        if idx == 1:\n",
    "            driver.get(url)\n",
    "        else: driver.get(url + f\"/{idx}\")\n",
    "        href_lst = driver.find_element(By.XPATH, '//*[@id=\"listings\"]')\n",
    "        company_link_lst = []\n",
    "        for hrefs in href_lst.find_elements(By.TAG_NAME, \"a\"):\n",
    "            href = hrefs.get_attribute(\"href\")\n",
    "            if \"company\" in href and \"reviews\" not in href and href not in company_link_lst:\n",
    "                company_link_lst.append(href)\n",
    "        for company_link in company_link_lst:\n",
    "            driver.get(company_link)\n",
    "            div_lst = driver.find_elements(By.TAG_NAME, \"div\")\n",
    "            lst = []\n",
    "            for div in div_lst:\n",
    "                if div.get_attribute('class') == 'info': lst.append(div.text)\n",
    "            company_name = lst[0].split(\"\\n\")[1]\n",
    "            append_df = pd.DataFrame({company_name : lst[1:]})\n",
    "            df = pd.concat([df, append_df], axis=1)\n",
    "            print(f\"appended {company_name}\")\n",
    "    except:\n",
    "        print(\"Nahh\")"
   ]
  },
  {
   "cell_type": "code",
   "execution_count": null,
   "metadata": {},
   "outputs": [],
   "source": [
    "df.to_csv(\"탄자니아.csv\", index=False)"
   ]
  },
  {
   "cell_type": "code",
   "execution_count": null,
   "metadata": {},
   "outputs": [],
   "source": [
    "company_lst = list(df.columns)\n",
    "new_df = pd.DataFrame()\n",
    "fail_lst = []\n",
    "for row in company_lst:\n",
    "    column_dict = {}\n",
    "    for idx in range(len(df[row])):\n",
    "        column_dict[\"COMPANY NAME\"] = row\n",
    "        try:\n",
    "            if \"ADDRESS\\n\" in df[row][idx]: column_dict[\"ADDRESS\"] = df[row][idx].replace(\"ADDRESS\\n\", \"\")\n",
    "            elif \"PHONE NUMBER\\n\" in df[row][idx]: column_dict[\"PHONE NUMBER\"] = df[row][idx].replace(\"PHONE NUMBER\\n\", \"\")\n",
    "            elif \"MOBILE PHONE\\n\" in df[row][idx]: column_dict[\"MOBILE PHONE\"] = df[row][idx].replace(\"MOBILE PHONE\\n\", \"\")\n",
    "            elif \"WEBSITE\\n\" in df[row][idx]: column_dict[\"WEBSITE\"] = df[row][idx].replace(\"WEBSITE\\n\", \"\")\n",
    "            elif \"ESTABLISHMENT YEAR\" in df[row][idx]: column_dict[\"ESTABLISHMENT YEAR\"] = df[row][idx].split()[-1]\n",
    "            elif \"EMPLOYEES\" in df[row][idx]: column_dict[\"EMPLOYEES\"] = df[row][idx].split()[-1]\n",
    "            elif \"COMPANY MANAGER\" in df[row][idx]: column_dict[\"COMPANY MANAGER\"] = \"\".join(df[row][idx].split()[2:])\n",
    "            elif \"EMAIL\" in df[row][idx]: column_dict[\"EMAIL\"] = df[row][idx].replace(\"EMAIL\\n\", \"\")\n",
    "            elif \"DESCRIPTION\\n\" in df[row][idx]: column_dict[\"DESCRIPTION\"] = df[row][idx].replace(\"DESCRIPTION\\n\", \"\")\n",
    "            elif \"WORKING HOURS\\n\" in df[row][idx]: column_dict[\"WORKING HOURS\"] = df[row][idx].replace(\"WORKING HOURS\\n\", \"\")\n",
    "            elif \"PRODUCTS & SERVICES\\n\" in df[row][idx]: column_dict[\"PRODUCTS & SERVICES\"] = df[row][idx].replace(\"PRODUCTS & SERVICES\\n\", \"\")\n",
    "            elif \"LISTED IN CATEGORIES\\n\" in df[row][idx]: column_dict[\"LISTED IN CATEGORIES\"] = df[row][idx].replace(\"LISTED IN CATEGORIES\\n\", \"\")\n",
    "            elif \"KEYWORDS\\n\" in df[row][idx]: column_dict[\"KEYWORDS\"] = df[row][idx].replace(\"KEYWORDS\\n\", \"\")\n",
    "            elif \"Related Companies to\" in df[row][idx]: column_dict[\"Related Companies\"] = df[row][idx].split()[2:]\n",
    "            elif \"CONTACT PERSON\\n\" in df[row][idx]: column_dict[\"CONTACT PERSON\"] = df[row][idx].replace(\"CONTACT PERSON\\n\", \"\")\n",
    "            elif \"FAX\\n\" in df[row][idx]: column_dict[\"FAX\"] = df[row][idx].replace(\"FAX\\n\", \"\")\n",
    "            elif \"REGISTRATION CODE\" in df[row][idx]: column_dict[\"REGISTRATION CODE\"] = df[row][idx].split()[-1]\n",
    "            elif \"VAT REGISTRATION\" in df[row][idx]: column_dict[\"VAT REGISTRATION\"] = df[row][idx].split()[-1]\n",
    "            else: \n",
    "                if \"nan\" not in df[row][idx]:\n",
    "                    print(df[row][idx])\n",
    "        except:\n",
    "            pass\n",
    "    new_df = new_df.append(column_dict, ignore_index=True)"
   ]
  },
  {
   "cell_type": "code",
   "execution_count": null,
   "metadata": {},
   "outputs": [],
   "source": [
    "new_df.to_csv(\"3차년도\")"
   ]
  }
 ],
 "metadata": {
  "kernelspec": {
   "display_name": "BDC",
   "language": "python",
   "name": "python3"
  },
  "language_info": {
   "codemirror_mode": {
    "name": "ipython",
    "version": 3
   },
   "file_extension": ".py",
   "mimetype": "text/x-python",
   "name": "python",
   "nbconvert_exporter": "python",
   "pygments_lexer": "ipython3",
   "version": "3.10.9"
  },
  "orig_nbformat": 4
 },
 "nbformat": 4,
 "nbformat_minor": 2
}
