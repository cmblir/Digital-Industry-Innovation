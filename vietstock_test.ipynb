{
 "cells": [
  {
   "cell_type": "code",
   "execution_count": 103,
   "metadata": {},
   "outputs": [],
   "source": [
    "import pandas as pd\n",
    "import numpy as np\n",
    "import chromedriver_autoinstaller\n",
    "import re\n",
    "import time\n",
    "from bs4 import BeautifulSoup\n",
    "from selenium import webdriver\n",
    "from tqdm import tqdm\n",
    "from selenium.webdriver.common.by import By\n",
    "from selenium.webdriver.chrome.service import Service\n",
    "from selenium.common.exceptions import NoSuchElementException\n",
    "from selenium.webdriver import ActionChains\n",
    "from webdriver_manager.chrome import ChromeDriverManager\n",
    "from selenium.webdriver.support.ui import Select\n",
    "from selenium import webdriver\n",
    "from selenium.webdriver.support.ui import WebDriverWait\n",
    "from selenium.webdriver.support import expected_conditions as EC"
   ]
  },
  {
   "cell_type": "code",
   "execution_count": 2,
   "metadata": {},
   "outputs": [],
   "source": [
    "url = f\"https://finance.vietstock.vn/ket-qua-giao-dich?languageid=2\"\n",
    "            \n",
    "chrome_ver = chromedriver_autoinstaller.get_chrome_version().split('.')[0]  #크롬드라이버 버전 확인\n",
    "chrome_options = webdriver.ChromeOptions()\n",
    "chrome_options.add_argument(\"--incognito\") # 시크릿 모드\n",
    "chrome_options.add_argument(\"--no-sandbox\") # 리소스에 대한 엑서스 방지\n",
    "chrome_options.add_argument(\"--disable-setuid-sandbox\") # 크롬 충돌 방지\n",
    "chrome_options.add_argument(\"--disable-dev-shm-usage\") # 메모리 부족 에러 방지\n",
    "chrome_options.add_experimental_option('excludeSwitches', ['enable-logging'])\n",
    "try: # 크롬 드라이버\n",
    "    driver = webdriver.Chrome(service=Service(ChromeDriverManager().install()), options=chrome_options)   \n",
    "except:\n",
    "    chromedriver_autoinstaller.install(True)\n",
    "    driver = webdriver.Chrome(service=Service(ChromeDriverManager().install()), options=chrome_options)\n",
    "        # WebDruverException Error 방지 기존의 드라이버 버젼으로 지정\n",
    "        # driver = webdriver.Chrome(executable_path='/Users/cmblir/Python/Musinsa-Analysis/100/chromedriver')\n"
   ]
  },
  {
   "cell_type": "code",
   "execution_count": 3,
   "metadata": {},
   "outputs": [],
   "source": [
    "driver.get(url)"
   ]
  },
  {
   "cell_type": "code",
   "execution_count": 4,
   "metadata": {},
   "outputs": [],
   "source": [
    "driver.maximize_window()"
   ]
  },
  {
   "cell_type": "code",
   "execution_count": 5,
   "metadata": {},
   "outputs": [],
   "source": [
    "driver.find_element(By.XPATH, \"/html/body/div[2]/div[6]/div[1]/div[1]/div/a[2]\").click()"
   ]
  },
  {
   "cell_type": "code",
   "execution_count": 6,
   "metadata": {},
   "outputs": [],
   "source": [
    "Login_id = driver.find_element(By.XPATH, '//*[@id=\"txtEmailLogin\"]')\n",
    "Login_pw = driver.find_element(By.XPATH, '//*[@id=\"txtPassword\"]')"
   ]
  },
  {
   "cell_type": "code",
   "execution_count": 7,
   "metadata": {},
   "outputs": [],
   "source": [
    "Login_id.clear()\n",
    "Login_pw.clear()"
   ]
  },
  {
   "cell_type": "code",
   "execution_count": 8,
   "metadata": {},
   "outputs": [],
   "source": [
    "Login_id.send_keys(\"infograpia@hebronstar.com\")\n",
    "Login_pw.send_keys(\"hebron9322!@\")"
   ]
  },
  {
   "cell_type": "code",
   "execution_count": 9,
   "metadata": {},
   "outputs": [],
   "source": [
    "Login_bt = driver.find_element(By.XPATH, '//*[@id=\"btnLoginAccount\"]').click()"
   ]
  },
  {
   "cell_type": "code",
   "execution_count": 97,
   "metadata": {},
   "outputs": [],
   "source": [
    "Start_date = driver.find_element(By.XPATH, '//*[@id=\"txtFromDate\"]/input')\n",
    "Start_date.clear()\n",
    "Start_date.send_keys(\"01/01/2022\")"
   ]
  },
  {
   "cell_type": "code",
   "execution_count": 98,
   "metadata": {},
   "outputs": [],
   "source": [
    "view = driver.find_element(By.XPATH, '//*[@id=\"trading-result\"]/div/div[1]/div[1]/div/div[2]/button').click()"
   ]
  },
  {
   "cell_type": "code",
   "execution_count": 99,
   "metadata": {},
   "outputs": [],
   "source": [
    "select_element = Select(driver.find_element(By.XPATH, '//*[@id=\"ddlStocks\"]'))"
   ]
  },
  {
   "cell_type": "code",
   "execution_count": 100,
   "metadata": {},
   "outputs": [],
   "source": [
    "options = select_element.options\n",
    "stock_dict = {}\n",
    "for option in options:\n",
    "    if len(option.text) == 3:\n",
    "        value = option.get_attribute('value')\n",
    "        stock_dict[option.text] = str(value)"
   ]
  },
  {
   "cell_type": "code",
   "execution_count": null,
   "metadata": {},
   "outputs": [],
   "source": []
  },
  {
   "cell_type": "code",
   "execution_count": 15,
   "metadata": {},
   "outputs": [
    {
     "name": "stdout",
     "output_type": "stream",
     "text": [
      "397\n"
     ]
    }
   ],
   "source": [
    "print(len(stock_dict))"
   ]
  },
  {
   "cell_type": "code",
   "execution_count": 108,
   "metadata": {},
   "outputs": [],
   "source": [
    "cnt = 0\n",
    "while True:\n",
    "    try:\n",
    "        WebDriverWait(driver, 3).until(EC.presence_of_element_located((By.XPATH, '//*[@id=\"trading-result\"]/div/div[1]/div[1]/div/div[1]/div/div[2]/div/span/span[1]/span')))\n",
    "        stock_index = driver.find_element(By.XPATH, '//*[@id=\"trading-result\"]/div/div[1]/div[1]/div/div[1]/div/div[2]/div/span/span[1]/span').click()\n",
    "        select_lst = driver.find_element(By.XPATH, '/html/body/span/span/span[2]')\n",
    "        idx_lst = select_lst.find_elements(By.TAG_NAME, 'li')\n",
    "        idx_lst[cnt].click()\n",
    "        view = driver.find_element(By.XPATH, '//*[@id=\"trading-result\"]/div/div[1]/div[1]/div/div[2]/button').click()\n",
    "        download_excel = driver.find_element(By.XPATH, '//*[@id=\"trading-result\"]/div/div[1]/div[1]/div/div[2]/a').click()        \n",
    "        cnt +=1 \n",
    "    except: pass"
   ]
  },
  {
   "cell_type": "code",
   "execution_count": 88,
   "metadata": {},
   "outputs": [],
   "source": []
  }
 ],
 "metadata": {
  "kernelspec": {
   "display_name": "BDC",
   "language": "python",
   "name": "python3"
  },
  "language_info": {
   "codemirror_mode": {
    "name": "ipython",
    "version": 3
   },
   "file_extension": ".py",
   "mimetype": "text/x-python",
   "name": "python",
   "nbconvert_exporter": "python",
   "pygments_lexer": "ipython3",
   "version": "3.10.9"
  },
  "orig_nbformat": 4
 },
 "nbformat": 4,
 "nbformat_minor": 2
}
